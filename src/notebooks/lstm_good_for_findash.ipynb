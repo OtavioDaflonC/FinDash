{
 "cells": [
  {
   "cell_type": "code",
   "execution_count": null,
   "metadata": {
    "colab": {
     "base_uri": "https://localhost:8080/",
     "height": 424
    },
    "executionInfo": {
     "elapsed": 336,
     "status": "ok",
     "timestamp": 1648245342773,
     "user": {
      "displayName": "Greg Hogg",
      "photoUrl": "https://lh3.googleusercontent.com/a-/AOh14Gh-9rCxeo7dJmZPzu2qbaHNbh1eiG1Y3yHc8dZAV1k=s64",
      "userId": "00528211315683878441"
     },
     "user_tz": 240
    },
    "id": "PSIHfWL23fBi",
    "outputId": "548a8b03-225f-4833-f543-c8956ec27c19"
   },
   "outputs": [
    {
     "data": {
      "text/html": [
       "<div>\n",
       "<style scoped>\n",
       "    .dataframe tbody tr th:only-of-type {\n",
       "        vertical-align: middle;\n",
       "    }\n",
       "\n",
       "    .dataframe tbody tr th {\n",
       "        vertical-align: top;\n",
       "    }\n",
       "\n",
       "    .dataframe thead th {\n",
       "        text-align: right;\n",
       "    }\n",
       "</style>\n",
       "<table border=\"1\" class=\"dataframe\">\n",
       "  <thead>\n",
       "    <tr style=\"text-align: right;\">\n",
       "      <th></th>\n",
       "      <th>Date</th>\n",
       "      <th>Open</th>\n",
       "      <th>High</th>\n",
       "      <th>Low</th>\n",
       "      <th>Close</th>\n",
       "      <th>Adj Close</th>\n",
       "      <th>Volume</th>\n",
       "    </tr>\n",
       "  </thead>\n",
       "  <tbody>\n",
       "    <tr>\n",
       "      <th>0</th>\n",
       "      <td>2000-01-19</td>\n",
       "      <td>3.290000</td>\n",
       "      <td>3.290000</td>\n",
       "      <td>2.530773</td>\n",
       "      <td>2.530773</td>\n",
       "      <td>1.025119</td>\n",
       "      <td>0.0</td>\n",
       "    </tr>\n",
       "    <tr>\n",
       "      <th>1</th>\n",
       "      <td>2000-01-20</td>\n",
       "      <td>3.290000</td>\n",
       "      <td>3.290000</td>\n",
       "      <td>2.530773</td>\n",
       "      <td>2.530773</td>\n",
       "      <td>1.025119</td>\n",
       "      <td>0.0</td>\n",
       "    </tr>\n",
       "    <tr>\n",
       "      <th>2</th>\n",
       "      <td>2000-01-21</td>\n",
       "      <td>3.290000</td>\n",
       "      <td>3.290000</td>\n",
       "      <td>2.733273</td>\n",
       "      <td>2.733273</td>\n",
       "      <td>1.107144</td>\n",
       "      <td>0.0</td>\n",
       "    </tr>\n",
       "    <tr>\n",
       "      <th>3</th>\n",
       "      <td>2000-01-24</td>\n",
       "      <td>3.290000</td>\n",
       "      <td>3.290000</td>\n",
       "      <td>2.530773</td>\n",
       "      <td>2.530773</td>\n",
       "      <td>1.025119</td>\n",
       "      <td>0.0</td>\n",
       "    </tr>\n",
       "    <tr>\n",
       "      <th>4</th>\n",
       "      <td>2000-01-25</td>\n",
       "      <td>2.530773</td>\n",
       "      <td>2.530773</td>\n",
       "      <td>2.530773</td>\n",
       "      <td>2.530773</td>\n",
       "      <td>1.025119</td>\n",
       "      <td>0.0</td>\n",
       "    </tr>\n",
       "    <tr>\n",
       "      <th>...</th>\n",
       "      <td>...</td>\n",
       "      <td>...</td>\n",
       "      <td>...</td>\n",
       "      <td>...</td>\n",
       "      <td>...</td>\n",
       "      <td>...</td>\n",
       "      <td>...</td>\n",
       "    </tr>\n",
       "    <tr>\n",
       "      <th>5812</th>\n",
       "      <td>2023-03-08</td>\n",
       "      <td>75.000000</td>\n",
       "      <td>75.980003</td>\n",
       "      <td>74.699997</td>\n",
       "      <td>75.599998</td>\n",
       "      <td>75.599998</td>\n",
       "      <td>10500.0</td>\n",
       "    </tr>\n",
       "    <tr>\n",
       "      <th>5813</th>\n",
       "      <td>2023-03-09</td>\n",
       "      <td>75.500000</td>\n",
       "      <td>75.610001</td>\n",
       "      <td>75.059998</td>\n",
       "      <td>75.199997</td>\n",
       "      <td>75.199997</td>\n",
       "      <td>8800.0</td>\n",
       "    </tr>\n",
       "    <tr>\n",
       "      <th>5814</th>\n",
       "      <td>2023-03-10</td>\n",
       "      <td>75.199997</td>\n",
       "      <td>75.330002</td>\n",
       "      <td>73.500000</td>\n",
       "      <td>74.510002</td>\n",
       "      <td>74.510002</td>\n",
       "      <td>25600.0</td>\n",
       "    </tr>\n",
       "    <tr>\n",
       "      <th>5815</th>\n",
       "      <td>2023-03-13</td>\n",
       "      <td>74.510002</td>\n",
       "      <td>74.510002</td>\n",
       "      <td>72.519997</td>\n",
       "      <td>73.000000</td>\n",
       "      <td>73.000000</td>\n",
       "      <td>26700.0</td>\n",
       "    </tr>\n",
       "    <tr>\n",
       "      <th>5816</th>\n",
       "      <td>2023-03-14</td>\n",
       "      <td>73.650002</td>\n",
       "      <td>73.650002</td>\n",
       "      <td>71.110001</td>\n",
       "      <td>71.400002</td>\n",
       "      <td>71.400002</td>\n",
       "      <td>31300.0</td>\n",
       "    </tr>\n",
       "  </tbody>\n",
       "</table>\n",
       "<p>5817 rows × 7 columns</p>\n",
       "</div>"
      ],
      "text/plain": [
       "            Date       Open       High        Low      Close  Adj Close  \\\n",
       "0     2000-01-19   3.290000   3.290000   2.530773   2.530773   1.025119   \n",
       "1     2000-01-20   3.290000   3.290000   2.530773   2.530773   1.025119   \n",
       "2     2000-01-21   3.290000   3.290000   2.733273   2.733273   1.107144   \n",
       "3     2000-01-24   3.290000   3.290000   2.530773   2.530773   1.025119   \n",
       "4     2000-01-25   2.530773   2.530773   2.530773   2.530773   1.025119   \n",
       "...          ...        ...        ...        ...        ...        ...   \n",
       "5812  2023-03-08  75.000000  75.980003  74.699997  75.599998  75.599998   \n",
       "5813  2023-03-09  75.500000  75.610001  75.059998  75.199997  75.199997   \n",
       "5814  2023-03-10  75.199997  75.330002  73.500000  74.510002  74.510002   \n",
       "5815  2023-03-13  74.510002  74.510002  72.519997  73.000000  73.000000   \n",
       "5816  2023-03-14  73.650002  73.650002  71.110001  71.400002  71.400002   \n",
       "\n",
       "       Volume  \n",
       "0         0.0  \n",
       "1         0.0  \n",
       "2         0.0  \n",
       "3         0.0  \n",
       "4         0.0  \n",
       "...       ...  \n",
       "5812  10500.0  \n",
       "5813   8800.0  \n",
       "5814  25600.0  \n",
       "5815  26700.0  \n",
       "5816  31300.0  \n",
       "\n",
       "[5817 rows x 7 columns]"
      ]
     },
     "execution_count": 1,
     "metadata": {},
     "output_type": "execute_result"
    }
   ],
   "source": [
    "import pandas as pd\n",
    "\n",
    "df = pd.read_csv('data/stock/UNIP3.SA.csv')\n",
    "\n",
    "df = df[['Date', 'Close']]\n",
    "\n",
    "import datetime\n",
    "\n",
    "def str_to_datetime(s):\n",
    "  split = s.split('-')\n",
    "  year, month, day = int(split[0]), int(split[1]), int(split[2])\n",
    "  return datetime.datetime(year=year, month=month, day=day)\n",
    "\n",
    "datetime_object = str_to_datetime('1986-03-19')\n",
    "datetime_object\n",
    "\n",
    "df['Date'] = df['Date'].apply(str_to_datetime)\n",
    "\n",
    "df.index = df.pop('Date')\n",
    "\n",
    "import matplotlib.pyplot as plt\n",
    "\n",
    "plt.plot(df.index, df['Close'])\n",
    "import numpy as np\n",
    "# a variavel clse vai ser o consumo !!!!!!!!!!\n",
    "window_size = 1 # quantos dias anteriores serão usados para prever o próximo dia\n",
    "def df_to_windowed_df(dataframe, first_date_str, last_date_str, n):\n",
    "  first_date = str_to_datetime(first_date_str)\n",
    "  last_date  = str_to_datetime(last_date_str)\n",
    "\n",
    "  target_date = first_date\n",
    "  \n",
    "  dates = []\n",
    "  X, Y = [], [] # variaveis independentes X  e dependentes Y\n",
    "#\n",
    "  last_time = False\n",
    "  while True:\n",
    "    df_subset = dataframe.loc[:target_date].tail(n+1)\n",
    "    \n",
    "    if len(df_subset) != n+1:\n",
    "      print(f'Error: Window of size {n} is too large for date {target_date}')\n",
    "      return\n",
    "\n",
    "    values = df_subset['Close'].to_numpy() # vai ser o consumo\n",
    "    x, y = values[:-1], values[-1]\n",
    "\n",
    "    dates.append(target_date)\n",
    "    X.append(x)\n",
    "    Y.append(y)\n",
    "\n",
    "    next_week = dataframe.loc[target_date:target_date+datetime.timedelta(days=7)]\n",
    "    next_datetime_str = str(next_week.head(2).tail(1).index.values[0])\n",
    "    next_date_str = next_datetime_str.split('T')[0]\n",
    "    year_month_day = next_date_str.split('-')\n",
    "    year, month, day = year_month_day\n",
    "    next_date = datetime.datetime(day=int(day), month=int(month), year=int(year))\n",
    "    \n",
    "    if last_time:\n",
    "      break\n",
    "    \n",
    "    target_date = next_date\n",
    "\n",
    "    if target_date == last_date:\n",
    "      last_time = True\n",
    "    \n",
    "  ret_df = pd.DataFrame({})\n",
    "  ret_df['Target Date'] = dates\n",
    "  \n",
    "  X = np.array(X)\n",
    "  for i in range(0, n):\n",
    "    X[:, i]\n",
    "    ret_df[f'Target-{n-i}'] = X[:, i]\n",
    "  \n",
    "  ret_df['Target'] = Y\n",
    "\n",
    "  return ret_df\n",
    "\n",
    "# Start day second time around: '2021-03-25'\n",
    "windowed_df = df_to_windowed_df(df, \n",
    "                                '2021-03-25', \n",
    "                                '2022-03-23', \n",
    "                                n=window_size)\n",
    "windowed_df\n",
    "def windowed_df_to_date_X_y(windowed_dataframe):\n",
    "  df_as_np = windowed_dataframe.to_numpy()\n",
    "\n",
    "  dates = df_as_np[:, 0]\n",
    "\n",
    "  middle_matrix = df_as_np[:, 1:-1]\n",
    "  X = middle_matrix.reshape((len(dates), middle_matrix.shape[1], 1))\n",
    "\n",
    "  Y = df_as_np[:, -1]\n",
    "\n",
    "  return dates, X.astype(np.float32), Y.astype(np.float32)\n",
    "\n",
    "dates, X, y = windowed_df_to_date_X_y(windowed_df)\n",
    "\n",
    "dates.shape, X.shape, y.shape\n",
    "q_80 = int(len(dates) * .8)\n",
    "q_90 = int(len(dates) * .9)\n",
    "\n",
    "dates_train, X_train, y_train = dates[:q_80], X[:q_80], y[:q_80]\n",
    "\n",
    "dates_val, X_val, y_val = dates[q_80:q_90], X[q_80:q_90], y[q_80:q_90]\n",
    "dates_test, X_test, y_test = dates[q_90:], X[q_90:], y[q_90:]\n",
    "\n",
    "plt.plot(dates_train, y_train)\n",
    "plt.plot(dates_val, y_val)\n",
    "plt.plot(dates_test, y_test)\n",
    "\n",
    "plt.legend(['Train', 'Validation', 'Test'])\n",
    "from tensorflow.keras.models import Sequential\n",
    "from tensorflow.keras.optimizers import Adam\n",
    "from tensorflow.keras import layers\n",
    "windowed_df = df_to_windowed_df(df, \n",
    "                                '2021-03-25', \n",
    "                                '2022-03-23', \n",
    "                                n=window_size)\n",
    "dates, X, y = windowed_df_to_date_X_y(windowed_df)\n",
    "model = Sequential([layers.Input((window_size, 1)),\n",
    "                    layers.LSTM(70),\n",
    "                    layers.Dense(32, activation='relu'),\n",
    "                    layers.Dense(32, activation='relu'),\n",
    "                    layers.Dense(1)])\n",
    "\n",
    "q_80 = int(len(dates) * .8)\n",
    "q_90 = int(len(dates) * .9)\n",
    "\n",
    "dates_train, X_train, y_train = dates[:q_80], X[:q_80], y[:q_80]\n",
    "\n",
    "dates_val, X_val, y_val = dates[q_80:q_90], X[q_80:q_90], y[q_80:q_90]\n",
    "dates_test, X_test, y_test = dates[q_90:], X[q_90:], y[q_90:]\n",
    "\n",
    "model.compile(loss='mse', \n",
    "              optimizer=Adam(learning_rate=0.001),\n",
    "              metrics=['mean_absolute_error'])\n",
    "\n",
    "model.fit(X_train, y_train, validation_data=(X_val, y_val), epochs=65)\n",
    "train_predictions = model.predict(X_train).flatten()\n",
    "\n",
    "plt.plot(dates_train, train_predictions)\n",
    "plt.plot(dates_train, y_train)\n",
    "plt.legend(['Training Predictions', 'Training Observations'])"
   ]
  },
  {
   "cell_type": "code",
   "execution_count": 14,
   "metadata": {
    "colab": {
     "base_uri": "https://localhost:8080/",
     "height": 283
    },
    "executionInfo": {
     "elapsed": 723,
     "status": "ok",
     "timestamp": 1648250698100,
     "user": {
      "displayName": "Greg Hogg",
      "photoUrl": "https://lh3.googleusercontent.com/a-/AOh14Gh-9rCxeo7dJmZPzu2qbaHNbh1eiG1Y3yHc8dZAV1k=s64",
      "userId": "00528211315683878441"
     },
     "user_tz": 240
    },
    "id": "UrRaAUbnWBhE",
    "outputId": "ddb80173-dfd5-485d-e1fd-ab643b7b6433"
   },
   "outputs": [
    {
     "name": "stdout",
     "output_type": "stream",
     "text": [
      "1/1 [==============================] - 0s 67ms/step\n"
     ]
    },
    {
     "data": {
      "text/plain": [
       "<matplotlib.legend.Legend at 0x24b181f6730>"
      ]
     },
     "execution_count": 14,
     "metadata": {},
     "output_type": "execute_result"
    },
    {
     "data": {
      "image/png": "[encoded data removed]",
      "text/plain": [
       "<Figure size 432x288 with 1 Axes>"
      ]
     },
     "metadata": {
      "needs_background": "light"
     },
     "output_type": "display_data"
    }
   ],
   "source": [
    "val_predictions = model.predict(X_val).flatten()\n",
    "\n",
    "plt.plot(dates_val, val_predictions)\n",
    "plt.plot(dates_val, y_val)\n",
    "plt.legend(['Validation Predictions', 'Validation Observations'])"
   ]
  },
  {
   "cell_type": "code",
   "execution_count": 15,
   "metadata": {
    "colab": {
     "base_uri": "https://localhost:8080/",
     "height": 284
    },
    "executionInfo": {
     "elapsed": 1842,
     "status": "ok",
     "timestamp": 1648250710333,
     "user": {
      "displayName": "Greg Hogg",
      "photoUrl": "https://lh3.googleusercontent.com/a-/AOh14Gh-9rCxeo7dJmZPzu2qbaHNbh1eiG1Y3yHc8dZAV1k=s64",
      "userId": "00528211315683878441"
     },
     "user_tz": 240
    },
    "id": "wF5sDSxVWLFd",
    "outputId": "cf54dd02-18b9-4666-8cd0-c8f2320e80b9"
   },
   "outputs": [
    {
     "name": "stdout",
     "output_type": "stream",
     "text": [
      "1/1 [==============================] - 0s 59ms/step\n"
     ]
    },
    {
     "data": {
      "text/plain": [
       "<matplotlib.legend.Legend at 0x24b181acb80>"
      ]
     },
     "execution_count": 15,
     "metadata": {},
     "output_type": "execute_result"
    },
    {
     "data": {
      "image/png": "[encoded data removed]",
      "text/plain": [
       "<Figure size 432x288 with 1 Axes>"
      ]
     },
     "metadata": {
      "needs_background": "light"
     },
     "output_type": "display_data"
    }
   ],
   "source": [
    "test_predictions = model.predict(X_test).flatten()\n",
    "\n",
    "plt.plot(dates_test, test_predictions)\n",
    "plt.plot(dates_test, y_test)\n",
    "plt.legend(['Testing Predictions', 'Testing Observations'])"
   ]
  },
  {
   "cell_type": "code",
   "execution_count": 17,
   "metadata": {
    "colab": {
     "base_uri": "https://localhost:8080/",
     "height": 283
    },
    "executionInfo": {
     "elapsed": 2082,
     "status": "ok",
     "timestamp": 1648250719681,
     "user": {
      "displayName": "Greg Hogg",
      "photoUrl": "https://lh3.googleusercontent.com/a-/AOh14Gh-9rCxeo7dJmZPzu2qbaHNbh1eiG1Y3yHc8dZAV1k=s64",
      "userId": "00528211315683878441"
     },
     "user_tz": 240
    },
    "id": "8b-JsTvEWfAm",
    "outputId": "169e03e9-020b-4062-fc23-6d1bc37792a3"
   },
   "outputs": [
    {
     "data": {
      "text/plain": [
       "<matplotlib.legend.Legend at 0x24b171281c0>"
      ]
     },
     "execution_count": 17,
     "metadata": {},
     "output_type": "execute_result"
    },
    {
     "data": {
      "image/png": "[encoded data removed]",
      "text/plain": [
       "<Figure size 432x288 with 1 Axes>"
      ]
     },
     "metadata": {
      "needs_background": "light"
     },
     "output_type": "display_data"
    }
   ],
   "source": [
    "plt.plot(dates_train, train_predictions)\n",
    "plt.plot(dates_train, y_train)\n",
    "plt.plot(dates_val, val_predictions)\n",
    "plt.plot(dates_val, y_val)\n",
    "plt.plot(dates_test, test_predictions)\n",
    "plt.plot(dates_test, y_test)\n",
    "plt.legend(['Training Predictions', \n",
    "            'Training Observations',\n",
    "            'Validation Predictions', \n",
    "            'Validation Observations',\n",
    "            'Testing Predictions', \n",
    "            'Testing Observations'])"
   ]
  },
  {
   "cell_type": "code",
   "execution_count": 18,
   "metadata": {
    "id": "qb0ryudqWwkf"
   },
   "outputs": [
    {
     "name": "stdout",
     "output_type": "stream",
     "text": [
      "1/1 [==============================] - 0s 124ms/step\n",
      "1/1 [==============================] - 0s 135ms/step\n",
      "1/1 [==============================] - 0s 97ms/step\n",
      "1/1 [==============================] - 0s 67ms/step\n",
      "1/1 [==============================] - 0s 57ms/step\n",
      "1/1 [==============================] - 0s 113ms/step\n",
      "1/1 [==============================] - 0s 129ms/step\n",
      "1/1 [==============================] - 0s 112ms/step\n",
      "1/1 [==============================] - 0s 102ms/step\n",
      "1/1 [==============================] - 0s 96ms/step\n",
      "1/1 [==============================] - 0s 132ms/step\n",
      "1/1 [==============================] - 0s 49ms/step\n",
      "1/1 [==============================] - 0s 41ms/step\n",
      "1/1 [==============================] - 0s 47ms/step\n",
      "1/1 [==============================] - 0s 45ms/step\n",
      "1/1 [==============================] - 0s 53ms/step\n",
      "1/1 [==============================] - 0s 51ms/step\n",
      "1/1 [==============================] - 0s 46ms/step\n",
      "1/1 [==============================] - 0s 56ms/step\n",
      "1/1 [==============================] - 0s 62ms/step\n",
      "1/1 [==============================] - 0s 40ms/step\n",
      "1/1 [==============================] - 0s 48ms/step\n",
      "1/1 [==============================] - 0s 48ms/step\n",
      "1/1 [==============================] - 0s 54ms/step\n",
      "1/1 [==============================] - 0s 67ms/step\n",
      "1/1 [==============================] - 0s 68ms/step\n",
      "1/1 [==============================] - 0s 82ms/step\n",
      "1/1 [==============================] - 0s 67ms/step\n",
      "1/1 [==============================] - 0s 115ms/step\n",
      "1/1 [==============================] - 0s 72ms/step\n",
      "1/1 [==============================] - 0s 86ms/step\n",
      "1/1 [==============================] - 0s 52ms/step\n",
      "1/1 [==============================] - 0s 84ms/step\n",
      "1/1 [==============================] - 0s 63ms/step\n",
      "1/1 [==============================] - 0s 59ms/step\n",
      "1/1 [==============================] - 0s 60ms/step\n",
      "1/1 [==============================] - 0s 45ms/step\n",
      "1/1 [==============================] - 0s 57ms/step\n",
      "1/1 [==============================] - 0s 62ms/step\n",
      "1/1 [==============================] - 0s 43ms/step\n",
      "1/1 [==============================] - 0s 50ms/step\n",
      "1/1 [==============================] - 0s 89ms/step\n",
      "1/1 [==============================] - 0s 115ms/step\n",
      "1/1 [==============================] - 0s 98ms/step\n",
      "1/1 [==============================] - 0s 62ms/step\n",
      "1/1 [==============================] - 0s 89ms/step\n",
      "1/1 [==============================] - 0s 89ms/step\n",
      "1/1 [==============================] - 0s 101ms/step\n",
      "1/1 [==============================] - 0s 116ms/step\n",
      "1/1 [==============================] - 0s 112ms/step\n"
     ]
    }
   ],
   "source": [
    "from copy import deepcopy\n",
    "\n",
    "recursive_predictions = []\n",
    "recursive_dates = np.concatenate([dates_val, dates_test])\n",
    "\n",
    "for target_date in recursive_dates:\n",
    "  last_window = deepcopy(X_train[-1])\n",
    "  next_prediction = model.predict(np.array([last_window])).flatten()\n",
    "  recursive_predictions.append(next_prediction)\n",
    "  last_window[-1] = next_prediction"
   ]
  },
  {
   "cell_type": "code",
   "execution_count": 22,
   "metadata": {},
   "outputs": [
    {
     "data": {
      "text/plain": [
       "array([[[56.80909 ]],\n",
       "\n",
       "       [[57.53636 ]],\n",
       "\n",
       "       [[57.272728]],\n",
       "\n",
       "       [[58.81818 ]],\n",
       "\n",
       "       [[58.627274]],\n",
       "\n",
       "       [[57.97273 ]],\n",
       "\n",
       "       [[58.99091 ]],\n",
       "\n",
       "       [[58.845455]],\n",
       "\n",
       "       [[58.80909 ]],\n",
       "\n",
       "       [[59.954544]],\n",
       "\n",
       "       [[62.5     ]],\n",
       "\n",
       "       [[63.636364]],\n",
       "\n",
       "       [[63.80909 ]],\n",
       "\n",
       "       [[64.545456]],\n",
       "\n",
       "       [[65.      ]],\n",
       "\n",
       "       [[65.      ]],\n",
       "\n",
       "       [[65.681816]],\n",
       "\n",
       "       [[66.36363 ]],\n",
       "\n",
       "       [[67.34545 ]],\n",
       "\n",
       "       [[66.63636 ]],\n",
       "\n",
       "       [[67.163635]],\n",
       "\n",
       "       [[66.86363 ]],\n",
       "\n",
       "       [[67.61818 ]],\n",
       "\n",
       "       [[67.89091 ]],\n",
       "\n",
       "       [[66.818184]],\n",
       "\n",
       "       [[66.527275]],\n",
       "\n",
       "       [[64.545456]],\n",
       "\n",
       "       [[64.527275]],\n",
       "\n",
       "       [[65.454544]],\n",
       "\n",
       "       [[66.25455 ]],\n",
       "\n",
       "       [[67.27273 ]],\n",
       "\n",
       "       [[67.27273 ]],\n",
       "\n",
       "       [[66.77273 ]],\n",
       "\n",
       "       [[66.70909 ]],\n",
       "\n",
       "       [[67.62727 ]],\n",
       "\n",
       "       [[67.045456]],\n",
       "\n",
       "       [[69.06364 ]],\n",
       "\n",
       "       [[70.163635]],\n",
       "\n",
       "       [[71.80909 ]],\n",
       "\n",
       "       [[71.79091 ]],\n",
       "\n",
       "       [[71.36363 ]],\n",
       "\n",
       "       [[71.94546 ]],\n",
       "\n",
       "       [[70.87273 ]],\n",
       "\n",
       "       [[70.42727 ]],\n",
       "\n",
       "       [[72.08182 ]],\n",
       "\n",
       "       [[76.545456]],\n",
       "\n",
       "       [[84.53636 ]],\n",
       "\n",
       "       [[83.63636 ]],\n",
       "\n",
       "       [[89.545456]],\n",
       "\n",
       "       [[89.77273 ]],\n",
       "\n",
       "       [[91.36363 ]],\n",
       "\n",
       "       [[89.69091 ]],\n",
       "\n",
       "       [[88.5     ]],\n",
       "\n",
       "       [[94.545456]],\n",
       "\n",
       "       [[92.72727 ]],\n",
       "\n",
       "       [[90.9     ]],\n",
       "\n",
       "       [[90.80909 ]],\n",
       "\n",
       "       [[91.07272 ]],\n",
       "\n",
       "       [[86.7     ]],\n",
       "\n",
       "       [[90.67273 ]],\n",
       "\n",
       "       [[90.41818 ]],\n",
       "\n",
       "       [[91.23637 ]],\n",
       "\n",
       "       [[92.05454 ]],\n",
       "\n",
       "       [[93.51818 ]],\n",
       "\n",
       "       [[91.76363 ]],\n",
       "\n",
       "       [[92.44546 ]],\n",
       "\n",
       "       [[93.62727 ]],\n",
       "\n",
       "       [[94.53636 ]],\n",
       "\n",
       "       [[89.990906]],\n",
       "\n",
       "       [[89.25455 ]],\n",
       "\n",
       "       [[88.00909 ]],\n",
       "\n",
       "       [[85.32727 ]],\n",
       "\n",
       "       [[84.57272 ]],\n",
       "\n",
       "       [[84.545456]],\n",
       "\n",
       "       [[84.77273 ]],\n",
       "\n",
       "       [[84.74545 ]],\n",
       "\n",
       "       [[85.40909 ]],\n",
       "\n",
       "       [[86.25455 ]],\n",
       "\n",
       "       [[85.854546]],\n",
       "\n",
       "       [[83.84545 ]],\n",
       "\n",
       "       [[86.10909 ]],\n",
       "\n",
       "       [[86.06364 ]],\n",
       "\n",
       "       [[85.781815]],\n",
       "\n",
       "       [[85.25455 ]],\n",
       "\n",
       "       [[85.      ]],\n",
       "\n",
       "       [[84.30909 ]],\n",
       "\n",
       "       [[85.22727 ]],\n",
       "\n",
       "       [[86.36363 ]],\n",
       "\n",
       "       [[88.181816]],\n",
       "\n",
       "       [[89.07272 ]],\n",
       "\n",
       "       [[89.36363 ]],\n",
       "\n",
       "       [[89.98182 ]],\n",
       "\n",
       "       [[90.87273 ]],\n",
       "\n",
       "       [[90.9     ]],\n",
       "\n",
       "       [[90.90909 ]],\n",
       "\n",
       "       [[90.972725]],\n",
       "\n",
       "       [[91.818184]],\n",
       "\n",
       "       [[91.72727 ]],\n",
       "\n",
       "       [[91.80909 ]],\n",
       "\n",
       "       [[89.07272 ]],\n",
       "\n",
       "       [[86.34545 ]],\n",
       "\n",
       "       [[84.09091 ]],\n",
       "\n",
       "       [[85.17273 ]],\n",
       "\n",
       "       [[84.990906]],\n",
       "\n",
       "       [[85.51818 ]],\n",
       "\n",
       "       [[88.181816]],\n",
       "\n",
       "       [[89.      ]],\n",
       "\n",
       "       [[89.01818 ]],\n",
       "\n",
       "       [[89.48182 ]],\n",
       "\n",
       "       [[89.53636 ]],\n",
       "\n",
       "       [[89.08182 ]],\n",
       "\n",
       "       [[88.17273 ]],\n",
       "\n",
       "       [[88.181816]],\n",
       "\n",
       "       [[88.09091 ]],\n",
       "\n",
       "       [[88.19091 ]],\n",
       "\n",
       "       [[87.55454 ]],\n",
       "\n",
       "       [[86.8     ]],\n",
       "\n",
       "       [[87.24545 ]],\n",
       "\n",
       "       [[87.98182 ]],\n",
       "\n",
       "       [[88.9     ]],\n",
       "\n",
       "       [[87.27273 ]],\n",
       "\n",
       "       [[86.70909 ]],\n",
       "\n",
       "       [[86.80909 ]],\n",
       "\n",
       "       [[78.67273 ]],\n",
       "\n",
       "       [[77.44546 ]],\n",
       "\n",
       "       [[77.46364 ]],\n",
       "\n",
       "       [[78.36363 ]],\n",
       "\n",
       "       [[78.181816]],\n",
       "\n",
       "       [[79.09091 ]],\n",
       "\n",
       "       [[76.22727 ]],\n",
       "\n",
       "       [[78.25455 ]],\n",
       "\n",
       "       [[77.972725]],\n",
       "\n",
       "       [[78.00909 ]],\n",
       "\n",
       "       [[75.5     ]],\n",
       "\n",
       "       [[74.90909 ]],\n",
       "\n",
       "       [[75.354546]],\n",
       "\n",
       "       [[74.05454 ]],\n",
       "\n",
       "       [[75.90909 ]],\n",
       "\n",
       "       [[74.3     ]],\n",
       "\n",
       "       [[77.80909 ]],\n",
       "\n",
       "       [[76.80909 ]],\n",
       "\n",
       "       [[77.73637 ]],\n",
       "\n",
       "       [[80.454544]],\n",
       "\n",
       "       [[77.92727 ]],\n",
       "\n",
       "       [[77.454544]],\n",
       "\n",
       "       [[76.354546]],\n",
       "\n",
       "       [[73.63636 ]],\n",
       "\n",
       "       [[79.163635]],\n",
       "\n",
       "       [[79.12727 ]],\n",
       "\n",
       "       [[74.545456]],\n",
       "\n",
       "       [[74.26363 ]],\n",
       "\n",
       "       [[73.40909 ]],\n",
       "\n",
       "       [[73.61818 ]],\n",
       "\n",
       "       [[72.21818 ]],\n",
       "\n",
       "       [[70.90909 ]],\n",
       "\n",
       "       [[72.96364 ]],\n",
       "\n",
       "       [[73.818184]],\n",
       "\n",
       "       [[76.336365]],\n",
       "\n",
       "       [[76.354546]],\n",
       "\n",
       "       [[79.53636 ]],\n",
       "\n",
       "       [[83.818184]],\n",
       "\n",
       "       [[84.44546 ]],\n",
       "\n",
       "       [[83.645454]],\n",
       "\n",
       "       [[78.354546]],\n",
       "\n",
       "       [[82.98182 ]],\n",
       "\n",
       "       [[84.545456]],\n",
       "\n",
       "       [[86.27273 ]],\n",
       "\n",
       "       [[84.545456]],\n",
       "\n",
       "       [[84.818184]],\n",
       "\n",
       "       [[84.527275]],\n",
       "\n",
       "       [[84.990906]],\n",
       "\n",
       "       [[85.36363 ]],\n",
       "\n",
       "       [[84.67273 ]],\n",
       "\n",
       "       [[85.26363 ]],\n",
       "\n",
       "       [[85.44546 ]],\n",
       "\n",
       "       [[86.92727 ]],\n",
       "\n",
       "       [[89.53636 ]],\n",
       "\n",
       "       [[88.92727 ]],\n",
       "\n",
       "       [[87.25455 ]],\n",
       "\n",
       "       [[88.63636 ]],\n",
       "\n",
       "       [[88.65455 ]],\n",
       "\n",
       "       [[88.63636 ]],\n",
       "\n",
       "       [[89.09091 ]],\n",
       "\n",
       "       [[90.11818 ]],\n",
       "\n",
       "       [[92.163635]],\n",
       "\n",
       "       [[93.63636 ]],\n",
       "\n",
       "       [[90.63636 ]],\n",
       "\n",
       "       [[84.70909 ]],\n",
       "\n",
       "       [[86.84545 ]],\n",
       "\n",
       "       [[87.990906]],\n",
       "\n",
       "       [[89.10909 ]],\n",
       "\n",
       "       [[92.89091 ]],\n",
       "\n",
       "       [[93.818184]],\n",
       "\n",
       "       [[90.      ]],\n",
       "\n",
       "       [[91.045456]],\n",
       "\n",
       "       [[87.7     ]],\n",
       "\n",
       "       [[86.26363 ]],\n",
       "\n",
       "       [[86.36363 ]]], dtype=float32)"
      ]
     },
     "execution_count": 22,
     "metadata": {},
     "output_type": "execute_result"
    }
   ],
   "source": []
  },
  {
   "cell_type": "code",
   "execution_count": 19,
   "metadata": {
    "colab": {
     "base_uri": "https://localhost:8080/",
     "height": 283
    },
    "executionInfo": {
     "elapsed": 898,
     "status": "ok",
     "timestamp": 1648251341665,
     "user": {
      "displayName": "Greg Hogg",
      "photoUrl": "https://lh3.googleusercontent.com/a-/AOh14Gh-9rCxeo7dJmZPzu2qbaHNbh1eiG1Y3yHc8dZAV1k=s64",
      "userId": "00528211315683878441"
     },
     "user_tz": 240
    },
    "id": "6BEMkYmtbwkg",
    "outputId": "60ae2fad-f47c-415e-f72f-df6629d270ec"
   },
   "outputs": [
    {
     "data": {
      "text/plain": [
       "<matplotlib.legend.Legend at 0x24b1d9fa730>"
      ]
     },
     "execution_count": 19,
     "metadata": {},
     "output_type": "execute_result"
    },
    {
     "data": {
      "image/png": "[encoded data removed]",
      "text/plain": [
       "<Figure size 432x288 with 1 Axes>"
      ]
     },
     "metadata": {
      "needs_background": "light"
     },
     "output_type": "display_data"
    }
   ],
   "source": [
    "plt.plot(dates_train, train_predictions)\n",
    "plt.plot(dates_train, y_train)\n",
    "plt.plot(dates_val, val_predictions)\n",
    "plt.plot(dates_val, y_val)\n",
    "plt.plot(dates_test, test_predictions)\n",
    "plt.plot(dates_test, y_test)\n",
    "plt.plot(recursive_dates, recursive_predictions)\n",
    "plt.legend(['Training Predictions', \n",
    "            'Training Observations',\n",
    "            'Validation Predictions', \n",
    "            'Validation Observations',\n",
    "            'Testing Predictions', \n",
    "            'Testing Observations',\n",
    "            'Recursive Predictions'])"
   ]
  },
  {
   "cell_type": "code",
   "execution_count": 20,
   "metadata": {
    "id": "zhWT0Pd-b4ab"
   },
   "outputs": [
    {
     "data": {
      "application/vnd.plotly.v1+json": {
       "config": {
        "plotlyServerURL": "https://plot.ly"
       },
       "data": [
        {
         "hovertemplate": "variable=pred<br>index=%{x}<br>value=%{y}<extra></extra>",
         "legendgroup": "pred",
         "line": {
          "color": "#636efa",
          "dash": "solid"
         },
         "marker": {
          "symbol": "circle"
         },
         "mode": "lines",
         "name": "pred",
         "orientation": "v",
         "showlegend": true,
         "type": "scatter",
         "x": [
          "2022-02-15T00:00:00",
          "2022-02-16T00:00:00",
          "2022-02-17T00:00:00",
          "2022-02-18T00:00:00",
          "2022-02-21T00:00:00",
          "2022-02-22T00:00:00",
          "2022-02-23T00:00:00",
          "2022-02-24T00:00:00",
          "2022-02-25T00:00:00",
          "2022-03-02T00:00:00",
          "2022-03-03T00:00:00",
          "2022-03-04T00:00:00",
          "2022-03-07T00:00:00",
          "2022-03-08T00:00:00",
          "2022-03-09T00:00:00",
          "2022-03-10T00:00:00",
          "2022-03-11T00:00:00",
          "2022-03-14T00:00:00",
          "2022-03-15T00:00:00",
          "2022-03-16T00:00:00",
          "2022-03-17T00:00:00",
          "2022-03-18T00:00:00",
          "2022-03-21T00:00:00",
          "2022-03-22T00:00:00",
          "2022-03-23T00:00:00"
         ],
         "xaxis": "x",
         "y": [
          84.86976623535156,
          83.85658264160156,
          83.8786849975586,
          82.73886108398438,
          82.4549560546875,
          82.3089828491211,
          83.1109619140625,
          83.11665344238281,
          83.51161193847656,
          84.33843994140625,
          84.75267791748047,
          84.87507629394531,
          85.03382873535156,
          83.78463745117188,
          83.9228286743164,
          84.22972106933594,
          85.65859985351562,
          85.29612731933594,
          85.65859985351562,
          85.69966888427734,
          86.3621826171875,
          87.08329772949219,
          88.08743286132812,
          87.4422836303711,
          86.65933227539062
         ],
         "yaxis": "y"
        },
        {
         "hovertemplate": "variable=real<br>index=%{x}<br>value=%{y}<extra></extra>",
         "legendgroup": "real",
         "line": {
          "color": "#EF553B",
          "dash": "solid"
         },
         "marker": {
          "symbol": "circle"
         },
         "mode": "lines",
         "name": "real",
         "orientation": "v",
         "showlegend": true,
         "type": "scatter",
         "x": [
          "2022-02-15T00:00:00",
          "2022-02-16T00:00:00",
          "2022-02-17T00:00:00",
          "2022-02-18T00:00:00",
          "2022-02-21T00:00:00",
          "2022-02-22T00:00:00",
          "2022-02-23T00:00:00",
          "2022-02-24T00:00:00",
          "2022-02-25T00:00:00",
          "2022-03-02T00:00:00",
          "2022-03-03T00:00:00",
          "2022-03-04T00:00:00",
          "2022-03-07T00:00:00",
          "2022-03-08T00:00:00",
          "2022-03-09T00:00:00",
          "2022-03-10T00:00:00",
          "2022-03-11T00:00:00",
          "2022-03-14T00:00:00",
          "2022-03-15T00:00:00",
          "2022-03-16T00:00:00",
          "2022-03-17T00:00:00",
          "2022-03-18T00:00:00",
          "2022-03-21T00:00:00",
          "2022-03-22T00:00:00",
          "2022-03-23T00:00:00"
         ],
         "xaxis": "x",
         "y": [
          86.47272491455078,
          86.50908660888672,
          84.6727294921875,
          84.2272720336914,
          84,
          85.26363372802734,
          85.2727279663086,
          85.90908813476562,
          87.2727279663086,
          87.97272491455078,
          88.18181610107422,
          88.45454406738281,
          86.35454559326172,
          86.58181762695312,
          87.09091186523438,
          89.54545593261719,
          88.90908813476562,
          89.54545593261719,
          89.61817932128906,
          90.80908966064453,
          92.14545440673828,
          94.08181762695312,
          92.8272705078125,
          91.35454559326172,
          91.64545440673828
         ],
         "yaxis": "y"
        }
       ],
       "layout": {
        "legend": {
         "title": {
          "text": "variable"
         },
         "tracegroupgap": 0
        },
        "margin": {
         "t": 60
        },
        "template": {
         "data": {
          "bar": [
           {
            "error_x": {
             "color": "#2a3f5f"
            },
            "error_y": {
             "color": "#2a3f5f"
            },
            "marker": {
             "line": {
              "color": "#E5ECF6",
              "width": 0.5
             },
             "pattern": {
              "fillmode": "overlay",
              "size": 10,
              "solidity": 0.2
             }
            },
            "type": "bar"
           }
          ],
          "barpolar": [
           {
            "marker": {
             "line": {
              "color": "#E5ECF6",
              "width": 0.5
             },
             "pattern": {
              "fillmode": "overlay",
              "size": 10,
              "solidity": 0.2
             }
            },
            "type": "barpolar"
           }
          ],
          "carpet": [
           {
            "aaxis": {
             "endlinecolor": "#2a3f5f",
             "gridcolor": "white",
             "linecolor": "white",
             "minorgridcolor": "white",
             "startlinecolor": "#2a3f5f"
            },
            "baxis": {
             "endlinecolor": "#2a3f5f",
             "gridcolor": "white",
             "linecolor": "white",
             "minorgridcolor": "white",
             "startlinecolor": "#2a3f5f"
            },
            "type": "carpet"
           }
          ],
          "choropleth": [
           {
            "colorbar": {
             "outlinewidth": 0,
             "ticks": ""
            },
            "type": "choropleth"
           }
          ],
          "contour": [
           {
            "colorbar": {
             "outlinewidth": 0,
             "ticks": ""
            },
            "colorscale": [
             [
              0,
              "#0d0887"
             ],
             [
              0.1111111111111111,
              "#46039f"
             ],
             [
              0.2222222222222222,
              "#7201a8"
             ],
             [
              0.3333333333333333,
              "#9c179e"
             ],
             [
              0.4444444444444444,
              "#bd3786"
             ],
             [
              0.5555555555555556,
              "#d8576b"
             ],
             [
              0.6666666666666666,
              "#ed7953"
             ],
             [
              0.7777777777777778,
              "#fb9f3a"
             ],
             [
              0.8888888888888888,
              "#fdca26"
             ],
             [
              1,
              "#f0f921"
             ]
            ],
            "type": "contour"
           }
          ],
          "contourcarpet": [
           {
            "colorbar": {
             "outlinewidth": 0,
             "ticks": ""
            },
            "type": "contourcarpet"
           }
          ],
          "heatmap": [
           {
            "colorbar": {
             "outlinewidth": 0,
             "ticks": ""
            },
            "colorscale": [
             [
              0,
              "#0d0887"
             ],
             [
              0.1111111111111111,
              "#46039f"
             ],
             [
              0.2222222222222222,
              "#7201a8"
             ],
             [
              0.3333333333333333,
              "#9c179e"
             ],
             [
              0.4444444444444444,
              "#bd3786"
             ],
             [
              0.5555555555555556,
              "#d8576b"
             ],
             [
              0.6666666666666666,
              "#ed7953"
             ],
             [
              0.7777777777777778,
              "#fb9f3a"
             ],
             [
              0.8888888888888888,
              "#fdca26"
             ],
             [
              1,
              "#f0f921"
             ]
            ],
            "type": "heatmap"
           }
          ],
          "heatmapgl": [
           {
            "colorbar": {
             "outlinewidth": 0,
             "ticks": ""
            },
            "colorscale": [
             [
              0,
              "#0d0887"
             ],
             [
              0.1111111111111111,
              "#46039f"
             ],
             [
              0.2222222222222222,
              "#7201a8"
             ],
             [
              0.3333333333333333,
              "#9c179e"
             ],
             [
              0.4444444444444444,
              "#bd3786"
             ],
             [
              0.5555555555555556,
              "#d8576b"
             ],
             [
              0.6666666666666666,
              "#ed7953"
             ],
             [
              0.7777777777777778,
              "#fb9f3a"
             ],
             [
              0.8888888888888888,
              "#fdca26"
             ],
             [
              1,
              "#f0f921"
             ]
            ],
            "type": "heatmapgl"
           }
          ],
          "histogram": [
           {
            "marker": {
             "pattern": {
              "fillmode": "overlay",
              "size": 10,
              "solidity": 0.2
             }
            },
            "type": "histogram"
           }
          ],
          "histogram2d": [
           {
            "colorbar": {
             "outlinewidth": 0,
             "ticks": ""
            },
            "colorscale": [
             [
              0,
              "#0d0887"
             ],
             [
              0.1111111111111111,
              "#46039f"
             ],
             [
              0.2222222222222222,
              "#7201a8"
             ],
             [
              0.3333333333333333,
              "#9c179e"
             ],
             [
              0.4444444444444444,
              "#bd3786"
             ],
             [
              0.5555555555555556,
              "#d8576b"
             ],
             [
              0.6666666666666666,
              "#ed7953"
             ],
             [
              0.7777777777777778,
              "#fb9f3a"
             ],
             [
              0.8888888888888888,
              "#fdca26"
             ],
             [
              1,
              "#f0f921"
             ]
            ],
            "type": "histogram2d"
           }
          ],
          "histogram2dcontour": [
           {
            "colorbar": {
             "outlinewidth": 0,
             "ticks": ""
            },
            "colorscale": [
             [
              0,
              "#0d0887"
             ],
             [
              0.1111111111111111,
              "#46039f"
             ],
             [
              0.2222222222222222,
              "#7201a8"
             ],
             [
              0.3333333333333333,
              "#9c179e"
             ],
             [
              0.4444444444444444,
              "#bd3786"
             ],
             [
              0.5555555555555556,
              "#d8576b"
             ],
             [
              0.6666666666666666,
              "#ed7953"
             ],
             [
              0.7777777777777778,
              "#fb9f3a"
             ],
             [
              0.8888888888888888,
              "#fdca26"
             ],
             [
              1,
              "#f0f921"
             ]
            ],
            "type": "histogram2dcontour"
           }
          ],
          "mesh3d": [
           {
            "colorbar": {
             "outlinewidth": 0,
             "ticks": ""
            },
            "type": "mesh3d"
           }
          ],
          "parcoords": [
           {
            "line": {
             "colorbar": {
              "outlinewidth": 0,
              "ticks": ""
             }
            },
            "type": "parcoords"
           }
          ],
          "pie": [
           {
            "automargin": true,
            "type": "pie"
           }
          ],
          "scatter": [
           {
            "fillpattern": {
             "fillmode": "overlay",
             "size": 10,
             "solidity": 0.2
            },
            "type": "scatter"
           }
          ],
          "scatter3d": [
           {
            "line": {
             "colorbar": {
              "outlinewidth": 0,
              "ticks": ""
             }
            },
            "marker": {
             "colorbar": {
              "outlinewidth": 0,
              "ticks": ""
             }
            },
            "type": "scatter3d"
           }
          ],
          "scattercarpet": [
           {
            "marker": {
             "colorbar": {
              "outlinewidth": 0,
              "ticks": ""
             }
            },
            "type": "scattercarpet"
           }
          ],
          "scattergeo": [
           {
            "marker": {
             "colorbar": {
              "outlinewidth": 0,
              "ticks": ""
             }
            },
            "type": "scattergeo"
           }
          ],
          "scattergl": [
           {
            "marker": {
             "colorbar": {
              "outlinewidth": 0,
              "ticks": ""
             }
            },
            "type": "scattergl"
           }
          ],
          "scattermapbox": [
           {
            "marker": {
             "colorbar": {
              "outlinewidth": 0,
              "ticks": ""
             }
            },
            "type": "scattermapbox"
           }
          ],
          "scatterpolar": [
           {
            "marker": {
             "colorbar": {
              "outlinewidth": 0,
              "ticks": ""
             }
            },
            "type": "scatterpolar"
           }
          ],
          "scatterpolargl": [
           {
            "marker": {
             "colorbar": {
              "outlinewidth": 0,
              "ticks": ""
             }
            },
            "type": "scatterpolargl"
           }
          ],
          "scatterternary": [
           {
            "marker": {
             "colorbar": {
              "outlinewidth": 0,
              "ticks": ""
             }
            },
            "type": "scatterternary"
           }
          ],
          "surface": [
           {
            "colorbar": {
             "outlinewidth": 0,
             "ticks": ""
            },
            "colorscale": [
             [
              0,
              "#0d0887"
             ],
             [
              0.1111111111111111,
              "#46039f"
             ],
             [
              0.2222222222222222,
              "#7201a8"
             ],
             [
              0.3333333333333333,
              "#9c179e"
             ],
             [
              0.4444444444444444,
              "#bd3786"
             ],
             [
              0.5555555555555556,
              "#d8576b"
             ],
             [
              0.6666666666666666,
              "#ed7953"
             ],
             [
              0.7777777777777778,
              "#fb9f3a"
             ],
             [
              0.8888888888888888,
              "#fdca26"
             ],
             [
              1,
              "#f0f921"
             ]
            ],
            "type": "surface"
           }
          ],
          "table": [
           {
            "cells": {
             "fill": {
              "color": "#EBF0F8"
             },
             "line": {
              "color": "white"
             }
            },
            "header": {
             "fill": {
              "color": "#C8D4E3"
             },
             "line": {
              "color": "white"
             }
            },
            "type": "table"
           }
          ]
         },
         "layout": {
          "annotationdefaults": {
           "arrowcolor": "#2a3f5f",
           "arrowhead": 0,
           "arrowwidth": 1
          },
          "autotypenumbers": "strict",
          "coloraxis": {
           "colorbar": {
            "outlinewidth": 0,
            "ticks": ""
           }
          },
          "colorscale": {
           "diverging": [
            [
             0,
             "#8e0152"
            ],
            [
             0.1,
             "#c51b7d"
            ],
            [
             0.2,
             "#de77ae"
            ],
            [
             0.3,
             "#f1b6da"
            ],
            [
             0.4,
             "#fde0ef"
            ],
            [
             0.5,
             "#f7f7f7"
            ],
            [
             0.6,
             "#e6f5d0"
            ],
            [
             0.7,
             "#b8e186"
            ],
            [
             0.8,
             "#7fbc41"
            ],
            [
             0.9,
             "#4d9221"
            ],
            [
             1,
             "#276419"
            ]
           ],
           "sequential": [
            [
             0,
             "#0d0887"
            ],
            [
             0.1111111111111111,
             "#46039f"
            ],
            [
             0.2222222222222222,
             "#7201a8"
            ],
            [
             0.3333333333333333,
             "#9c179e"
            ],
            [
             0.4444444444444444,
             "#bd3786"
            ],
            [
             0.5555555555555556,
             "#d8576b"
            ],
            [
             0.6666666666666666,
             "#ed7953"
            ],
            [
             0.7777777777777778,
             "#fb9f3a"
            ],
            [
             0.8888888888888888,
             "#fdca26"
            ],
            [
             1,
             "#f0f921"
            ]
           ],
           "sequentialminus": [
            [
             0,
             "#0d0887"
            ],
            [
             0.1111111111111111,
             "#46039f"
            ],
            [
             0.2222222222222222,
             "#7201a8"
            ],
            [
             0.3333333333333333,
             "#9c179e"
            ],
            [
             0.4444444444444444,
             "#bd3786"
            ],
            [
             0.5555555555555556,
             "#d8576b"
            ],
            [
             0.6666666666666666,
             "#ed7953"
            ],
            [
             0.7777777777777778,
             "#fb9f3a"
            ],
            [
             0.8888888888888888,
             "#fdca26"
            ],
            [
             1,
             "#f0f921"
            ]
           ]
          },
          "colorway": [
           "#636efa",
           "#EF553B",
           "#00cc96",
           "#ab63fa",
           "#FFA15A",
           "#19d3f3",
           "#FF6692",
           "#B6E880",
           "#FF97FF",
           "#FECB52"
          ],
          "font": {
           "color": "#2a3f5f"
          },
          "geo": {
           "bgcolor": "white",
           "lakecolor": "white",
           "landcolor": "#E5ECF6",
           "showlakes": true,
           "showland": true,
           "subunitcolor": "white"
          },
          "hoverlabel": {
           "align": "left"
          },
          "hovermode": "closest",
          "mapbox": {
           "style": "light"
          },
          "paper_bgcolor": "white",
          "plot_bgcolor": "#E5ECF6",
          "polar": {
           "angularaxis": {
            "gridcolor": "white",
            "linecolor": "white",
            "ticks": ""
           },
           "bgcolor": "#E5ECF6",
           "radialaxis": {
            "gridcolor": "white",
            "linecolor": "white",
            "ticks": ""
           }
          },
          "scene": {
           "xaxis": {
            "backgroundcolor": "#E5ECF6",
            "gridcolor": "white",
            "gridwidth": 2,
            "linecolor": "white",
            "showbackground": true,
            "ticks": "",
            "zerolinecolor": "white"
           },
           "yaxis": {
            "backgroundcolor": "#E5ECF6",
            "gridcolor": "white",
            "gridwidth": 2,
            "linecolor": "white",
            "showbackground": true,
            "ticks": "",
            "zerolinecolor": "white"
           },
           "zaxis": {
            "backgroundcolor": "#E5ECF6",
            "gridcolor": "white",
            "gridwidth": 2,
            "linecolor": "white",
            "showbackground": true,
            "ticks": "",
            "zerolinecolor": "white"
           }
          },
          "shapedefaults": {
           "line": {
            "color": "#2a3f5f"
           }
          },
          "ternary": {
           "aaxis": {
            "gridcolor": "white",
            "linecolor": "white",
            "ticks": ""
           },
           "baxis": {
            "gridcolor": "white",
            "linecolor": "white",
            "ticks": ""
           },
           "bgcolor": "#E5ECF6",
           "caxis": {
            "gridcolor": "white",
            "linecolor": "white",
            "ticks": ""
           }
          },
          "title": {
           "x": 0.05
          },
          "xaxis": {
           "automargin": true,
           "gridcolor": "white",
           "linecolor": "white",
           "ticks": "",
           "title": {
            "standoff": 15
           },
           "zerolinecolor": "white",
           "zerolinewidth": 2
          },
          "yaxis": {
           "automargin": true,
           "gridcolor": "white",
           "linecolor": "white",
           "ticks": "",
           "title": {
            "standoff": 15
           },
           "zerolinecolor": "white",
           "zerolinewidth": 2
          }
         }
        },
        "xaxis": {
         "anchor": "y",
         "domain": [
          0,
          1
         ],
         "title": {
          "text": "index"
         }
        },
        "yaxis": {
         "anchor": "x",
         "domain": [
          0,
          1
         ],
         "title": {
          "text": "value"
         }
        }
       }
      }
     },
     "metadata": {},
     "output_type": "display_data"
    }
   ],
   "source": [
    "import plotly.express as px\n",
    "df_fig = pd.DataFrame({'pred':test_predictions,'real':y_test})\n",
    "df_fig.index = dates_test\n",
    "\n",
    "fig = px.line(df_fig,x=df_fig.index,y=['pred','real'])\n",
    "fig.show()"
   ]
  },
  {
   "cell_type": "code",
   "execution_count": 190,
   "metadata": {},
   "outputs": [
    {
     "data": {
      "text/html": [
       "<div>\n",
       "<style scoped>\n",
       "    .dataframe tbody tr th:only-of-type {\n",
       "        vertical-align: middle;\n",
       "    }\n",
       "\n",
       "    .dataframe tbody tr th {\n",
       "        vertical-align: top;\n",
       "    }\n",
       "\n",
       "    .dataframe thead th {\n",
       "        text-align: right;\n",
       "    }\n",
       "</style>\n",
       "<table border=\"1\" class=\"dataframe\">\n",
       "  <thead>\n",
       "    <tr style=\"text-align: right;\">\n",
       "      <th></th>\n",
       "      <th>pred</th>\n",
       "      <th>real</th>\n",
       "    </tr>\n",
       "  </thead>\n",
       "  <tbody>\n",
       "    <tr>\n",
       "      <th>2022-02-15</th>\n",
       "      <td>28.225185</td>\n",
       "      <td>26.400000</td>\n",
       "    </tr>\n",
       "    <tr>\n",
       "      <th>2022-02-16</th>\n",
       "      <td>26.581497</td>\n",
       "      <td>26.510000</td>\n",
       "    </tr>\n",
       "    <tr>\n",
       "      <th>2022-02-17</th>\n",
       "      <td>26.717655</td>\n",
       "      <td>24.959999</td>\n",
       "    </tr>\n",
       "    <tr>\n",
       "      <th>2022-02-18</th>\n",
       "      <td>24.781639</td>\n",
       "      <td>24.639999</td>\n",
       "    </tr>\n",
       "    <tr>\n",
       "      <th>2022-02-21</th>\n",
       "      <td>24.377808</td>\n",
       "      <td>24.740000</td>\n",
       "    </tr>\n",
       "    <tr>\n",
       "      <th>2022-02-22</th>\n",
       "      <td>24.504135</td>\n",
       "      <td>24.910000</td>\n",
       "    </tr>\n",
       "    <tr>\n",
       "      <th>2022-02-23</th>\n",
       "      <td>24.718624</td>\n",
       "      <td>23.700001</td>\n",
       "    </tr>\n",
       "    <tr>\n",
       "      <th>2022-02-24</th>\n",
       "      <td>23.185137</td>\n",
       "      <td>23.500000</td>\n",
       "    </tr>\n",
       "    <tr>\n",
       "      <th>2022-02-25</th>\n",
       "      <td>22.930334</td>\n",
       "      <td>25.100000</td>\n",
       "    </tr>\n",
       "    <tr>\n",
       "      <th>2022-03-02</th>\n",
       "      <td>24.957920</td>\n",
       "      <td>27.129999</td>\n",
       "    </tr>\n",
       "    <tr>\n",
       "      <th>2022-03-03</th>\n",
       "      <td>27.481108</td>\n",
       "      <td>28.490000</td>\n",
       "    </tr>\n",
       "    <tr>\n",
       "      <th>2022-03-04</th>\n",
       "      <td>29.129620</td>\n",
       "      <td>29.000000</td>\n",
       "    </tr>\n",
       "    <tr>\n",
       "      <th>2022-03-07</th>\n",
       "      <td>29.737610</td>\n",
       "      <td>28.940001</td>\n",
       "    </tr>\n",
       "    <tr>\n",
       "      <th>2022-03-08</th>\n",
       "      <td>29.666386</td>\n",
       "      <td>27.549999</td>\n",
       "    </tr>\n",
       "    <tr>\n",
       "      <th>2022-03-09</th>\n",
       "      <td>27.994209</td>\n",
       "      <td>27.969999</td>\n",
       "    </tr>\n",
       "    <tr>\n",
       "      <th>2022-03-10</th>\n",
       "      <td>28.503805</td>\n",
       "      <td>27.500000</td>\n",
       "    </tr>\n",
       "    <tr>\n",
       "      <th>2022-03-11</th>\n",
       "      <td>27.933304</td>\n",
       "      <td>25.879999</td>\n",
       "    </tr>\n",
       "    <tr>\n",
       "      <th>2022-03-14</th>\n",
       "      <td>25.935131</td>\n",
       "      <td>24.370001</td>\n",
       "    </tr>\n",
       "    <tr>\n",
       "      <th>2022-03-15</th>\n",
       "      <td>24.036152</td>\n",
       "      <td>23.350000</td>\n",
       "    </tr>\n",
       "    <tr>\n",
       "      <th>2022-03-16</th>\n",
       "      <td>22.739029</td>\n",
       "      <td>23.900000</td>\n",
       "    </tr>\n",
       "    <tr>\n",
       "      <th>2022-03-17</th>\n",
       "      <td>23.439610</td>\n",
       "      <td>25.799999</td>\n",
       "    </tr>\n",
       "    <tr>\n",
       "      <th>2022-03-18</th>\n",
       "      <td>25.835312</td>\n",
       "      <td>25.680000</td>\n",
       "    </tr>\n",
       "    <tr>\n",
       "      <th>2022-03-21</th>\n",
       "      <td>25.685402</td>\n",
       "      <td>26.340000</td>\n",
       "    </tr>\n",
       "    <tr>\n",
       "      <th>2022-03-22</th>\n",
       "      <td>26.507145</td>\n",
       "      <td>25.990000</td>\n",
       "    </tr>\n",
       "    <tr>\n",
       "      <th>2022-03-23</th>\n",
       "      <td>26.072224</td>\n",
       "      <td>26.230000</td>\n",
       "    </tr>\n",
       "  </tbody>\n",
       "</table>\n",
       "</div>"
      ],
      "text/plain": [
       "                 pred       real\n",
       "2022-02-15  28.225185  26.400000\n",
       "2022-02-16  26.581497  26.510000\n",
       "2022-02-17  26.717655  24.959999\n",
       "2022-02-18  24.781639  24.639999\n",
       "2022-02-21  24.377808  24.740000\n",
       "2022-02-22  24.504135  24.910000\n",
       "2022-02-23  24.718624  23.700001\n",
       "2022-02-24  23.185137  23.500000\n",
       "2022-02-25  22.930334  25.100000\n",
       "2022-03-02  24.957920  27.129999\n",
       "2022-03-03  27.481108  28.490000\n",
       "2022-03-04  29.129620  29.000000\n",
       "2022-03-07  29.737610  28.940001\n",
       "2022-03-08  29.666386  27.549999\n",
       "2022-03-09  27.994209  27.969999\n",
       "2022-03-10  28.503805  27.500000\n",
       "2022-03-11  27.933304  25.879999\n",
       "2022-03-14  25.935131  24.370001\n",
       "2022-03-15  24.036152  23.350000\n",
       "2022-03-16  22.739029  23.900000\n",
       "2022-03-17  23.439610  25.799999\n",
       "2022-03-18  25.835312  25.680000\n",
       "2022-03-21  25.685402  26.340000\n",
       "2022-03-22  26.507145  25.990000\n",
       "2022-03-23  26.072224  26.230000"
      ]
     },
     "execution_count": 190,
     "metadata": {},
     "output_type": "execute_result"
    }
   ],
   "source": [
    "df_fig"
   ]
  },
  {
   "cell_type": "markdown",
   "metadata": {},
   "source": [
    "# Production"
   ]
  },
  {
   "cell_type": "code",
   "execution_count": null,
   "metadata": {},
   "outputs": [
    {
     "name": "stdout",
     "output_type": "stream",
     "text": [
      "1/1 [==============================] - 0s 68ms/step\n"
     ]
    },
    {
     "data": {
      "text/plain": [
       "array([[75.183136],\n",
       "       [75.966934],\n",
       "       [68.1463  ]], dtype=float32)"
      ]
     },
     "execution_count": 54,
     "metadata": {},
     "output_type": "execute_result"
    }
   ],
   "source": [
    "model.predict(np.array([[[74.11]],[[75.1]],[[66]]])) #prod structure\n",
    "\n"
   ]
  },
  {
   "cell_type": "code",
   "execution_count": null,
   "metadata": {},
   "outputs": [
    {
     "name": "stdout",
     "output_type": "stream",
     "text": [
      "Epoch 1/65\n",
      "\u001b[1m6/6\u001b[0m \u001b[32m━━━━━━━━━━━━━━━━━━━━\u001b[0m\u001b[37m\u001b[0m \u001b[1m3s\u001b[0m 97ms/step - loss: 172.8739 - mean_absolute_error: 13.0180 - val_loss: 126.5966 - val_mean_absolute_error: 11.2362\n",
      "Epoch 2/65\n",
      "\u001b[1m6/6\u001b[0m \u001b[32m━━━━━━━━━━━━━━━━━━━━\u001b[0m\u001b[37m\u001b[0m \u001b[1m0s\u001b[0m 22ms/step - loss: 164.5342 - mean_absolute_error: 12.7004 - val_loss: 116.7411 - val_mean_absolute_error: 10.7889\n",
      "Epoch 3/65\n",
      "\u001b[1m6/6\u001b[0m \u001b[32m━━━━━━━━━━━━━━━━━━━━\u001b[0m\u001b[37m\u001b[0m \u001b[1m0s\u001b[0m 23ms/step - loss: 151.6520 - mean_absolute_error: 12.1777 - val_loss: 103.3030 - val_mean_absolute_error: 10.1469\n",
      "Epoch 4/65\n",
      "\u001b[1m6/6\u001b[0m \u001b[32m━━━━━━━━━━━━━━━━━━━━\u001b[0m\u001b[37m\u001b[0m \u001b[1m0s\u001b[0m 23ms/step - loss: 135.0952 - mean_absolute_error: 11.4787 - val_loss: 85.6811 - val_mean_absolute_error: 9.2378\n",
      "Epoch 5/65\n",
      "\u001b[1m6/6\u001b[0m \u001b[32m━━━━━━━━━━━━━━━━━━━━\u001b[0m\u001b[37m\u001b[0m \u001b[1m0s\u001b[0m 22ms/step - loss: 108.5939 - mean_absolute_error: 10.2759 - val_loss: 63.9443 - val_mean_absolute_error: 7.9748\n",
      "Epoch 6/65\n",
      "\u001b[1m6/6\u001b[0m \u001b[32m━━━━━━━━━━━━━━━━━━━━\u001b[0m\u001b[37m\u001b[0m \u001b[1m0s\u001b[0m 22ms/step - loss: 86.6361 - mean_absolute_error: 9.1106 - val_loss: 40.5721 - val_mean_absolute_error: 6.3420\n",
      "Epoch 7/65\n",
      "\u001b[1m6/6\u001b[0m \u001b[32m━━━━━━━━━━━━━━━━━━━━\u001b[0m\u001b[37m\u001b[0m \u001b[1m0s\u001b[0m 21ms/step - loss: 56.8346 - mean_absolute_error: 7.3128 - val_loss: 18.6728 - val_mean_absolute_error: 4.2800\n",
      "Epoch 8/65\n",
      "\u001b[1m6/6\u001b[0m \u001b[32m━━━━━━━━━━━━━━━━━━━━\u001b[0m\u001b[37m\u001b[0m \u001b[1m0s\u001b[0m 24ms/step - loss: 32.3209 - mean_absolute_error: 5.3157 - val_loss: 3.7217 - val_mean_absolute_error: 1.8342\n",
      "Epoch 9/65\n",
      "\u001b[1m6/6\u001b[0m \u001b[32m━━━━━━━━━━━━━━━━━━━━\u001b[0m\u001b[37m\u001b[0m \u001b[1m0s\u001b[0m 24ms/step - loss: 11.2721 - mean_absolute_error: 2.7902 - val_loss: 0.8324 - val_mean_absolute_error: 0.7840\n",
      "Epoch 10/65\n",
      "\u001b[1m6/6\u001b[0m \u001b[32m━━━━━━━━━━━━━━━━━━━━\u001b[0m\u001b[37m\u001b[0m \u001b[1m0s\u001b[0m 28ms/step - loss: 3.5703 - mean_absolute_error: 1.5167 - val_loss: 6.9656 - val_mean_absolute_error: 2.5713\n",
      "Epoch 11/65\n",
      "\u001b[1m6/6\u001b[0m \u001b[32m━━━━━━━━━━━━━━━━━━━━\u001b[0m\u001b[37m\u001b[0m \u001b[1m0s\u001b[0m 26ms/step - loss: 4.7780 - mean_absolute_error: 1.9135 - val_loss: 9.7900 - val_mean_absolute_error: 3.0722\n",
      "Epoch 12/65\n",
      "\u001b[1m6/6\u001b[0m \u001b[32m━━━━━━━━━━━━━━━━━━━━\u001b[0m\u001b[37m\u001b[0m \u001b[1m0s\u001b[0m 22ms/step - loss: 5.1953 - mean_absolute_error: 2.0378 - val_loss: 6.5831 - val_mean_absolute_error: 2.4965\n",
      "Epoch 13/65\n",
      "\u001b[1m6/6\u001b[0m \u001b[32m━━━━━━━━━━━━━━━━━━━━\u001b[0m\u001b[37m\u001b[0m \u001b[1m0s\u001b[0m 31ms/step - loss: 4.1169 - mean_absolute_error: 1.8259 - val_loss: 3.2427 - val_mean_absolute_error: 1.7010\n",
      "Epoch 14/65\n",
      "\u001b[1m6/6\u001b[0m \u001b[32m━━━━━━━━━━━━━━━━━━━━\u001b[0m\u001b[37m\u001b[0m \u001b[1m0s\u001b[0m 30ms/step - loss: 3.6496 - mean_absolute_error: 1.6511 - val_loss: 1.7656 - val_mean_absolute_error: 1.1905\n",
      "Epoch 15/65\n",
      "\u001b[1m6/6\u001b[0m \u001b[32m━━━━━━━━━━━━━━━━━━━━\u001b[0m\u001b[37m\u001b[0m \u001b[1m0s\u001b[0m 29ms/step - loss: 3.4082 - mean_absolute_error: 1.4494 - val_loss: 1.3861 - val_mean_absolute_error: 1.0201\n",
      "Epoch 16/65\n",
      "\u001b[1m6/6\u001b[0m \u001b[32m━━━━━━━━━━━━━━━━━━━━\u001b[0m\u001b[37m\u001b[0m \u001b[1m0s\u001b[0m 29ms/step - loss: 3.7859 - mean_absolute_error: 1.4961 - val_loss: 1.7114 - val_mean_absolute_error: 1.1684\n",
      "Epoch 17/65\n",
      "\u001b[1m6/6\u001b[0m \u001b[32m━━━━━━━━━━━━━━━━━━━━\u001b[0m\u001b[37m\u001b[0m \u001b[1m0s\u001b[0m 33ms/step - loss: 3.6489 - mean_absolute_error: 1.5560 - val_loss: 2.3618 - val_mean_absolute_error: 1.4200\n",
      "Epoch 18/65\n",
      "\u001b[1m6/6\u001b[0m \u001b[32m━━━━━━━━━━━━━━━━━━━━\u001b[0m\u001b[37m\u001b[0m \u001b[1m0s\u001b[0m 28ms/step - loss: 3.3964 - mean_absolute_error: 1.5630 - val_loss: 2.9897 - val_mean_absolute_error: 1.6264\n",
      "Epoch 19/65\n",
      "\u001b[1m6/6\u001b[0m \u001b[32m━━━━━━━━━━━━━━━━━━━━\u001b[0m\u001b[37m\u001b[0m \u001b[1m0s\u001b[0m 27ms/step - loss: 3.2863 - mean_absolute_error: 1.5707 - val_loss: 3.0279 - val_mean_absolute_error: 1.6384\n",
      "Epoch 20/65\n",
      "\u001b[1m6/6\u001b[0m \u001b[32m━━━━━━━━━━━━━━━━━━━━\u001b[0m\u001b[37m\u001b[0m \u001b[1m0s\u001b[0m 27ms/step - loss: 3.1576 - mean_absolute_error: 1.5454 - val_loss: 2.7975 - val_mean_absolute_error: 1.5668\n",
      "Epoch 21/65\n",
      "\u001b[1m6/6\u001b[0m \u001b[32m━━━━━━━━━━━━━━━━━━━━\u001b[0m\u001b[37m\u001b[0m \u001b[1m0s\u001b[0m 25ms/step - loss: 3.1835 - mean_absolute_error: 1.5235 - val_loss: 2.6527 - val_mean_absolute_error: 1.5202\n",
      "Epoch 22/65\n",
      "\u001b[1m6/6\u001b[0m \u001b[32m━━━━━━━━━━━━━━━━━━━━\u001b[0m\u001b[37m\u001b[0m \u001b[1m0s\u001b[0m 25ms/step - loss: 3.0693 - mean_absolute_error: 1.4868 - val_loss: 2.5750 - val_mean_absolute_error: 1.4948\n",
      "Epoch 23/65\n",
      "\u001b[1m6/6\u001b[0m \u001b[32m━━━━━━━━━━━━━━━━━━━━\u001b[0m\u001b[37m\u001b[0m \u001b[1m0s\u001b[0m 26ms/step - loss: 3.4913 - mean_absolute_error: 1.5840 - val_loss: 2.5407 - val_mean_absolute_error: 1.4836\n",
      "Epoch 24/65\n",
      "\u001b[1m6/6\u001b[0m \u001b[32m━━━━━━━━━━━━━━━━━━━━\u001b[0m\u001b[37m\u001b[0m \u001b[1m0s\u001b[0m 24ms/step - loss: 2.9117 - mean_absolute_error: 1.4407 - val_loss: 2.2545 - val_mean_absolute_error: 1.3844\n",
      "Epoch 25/65\n",
      "\u001b[1m6/6\u001b[0m \u001b[32m━━━━━━━━━━━━━━━━━━━━\u001b[0m\u001b[37m\u001b[0m \u001b[1m0s\u001b[0m 25ms/step - loss: 3.3495 - mean_absolute_error: 1.5247 - val_loss: 2.3825 - val_mean_absolute_error: 1.4305\n",
      "Epoch 26/65\n",
      "\u001b[1m6/6\u001b[0m \u001b[32m━━━━━━━━━━━━━━━━━━━━\u001b[0m\u001b[37m\u001b[0m \u001b[1m0s\u001b[0m 24ms/step - loss: 3.2894 - mean_absolute_error: 1.5414 - val_loss: 2.5730 - val_mean_absolute_error: 1.4958\n",
      "Epoch 27/65\n",
      "\u001b[1m6/6\u001b[0m \u001b[32m━━━━━━━━━━━━━━━━━━━━\u001b[0m\u001b[37m\u001b[0m \u001b[1m0s\u001b[0m 29ms/step - loss: 3.2825 - mean_absolute_error: 1.5564 - val_loss: 2.5996 - val_mean_absolute_error: 1.5052\n",
      "Epoch 28/65\n",
      "\u001b[1m6/6\u001b[0m \u001b[32m━━━━━━━━━━━━━━━━━━━━\u001b[0m\u001b[37m\u001b[0m \u001b[1m0s\u001b[0m 32ms/step - loss: 3.2112 - mean_absolute_error: 1.5471 - val_loss: 2.6276 - val_mean_absolute_error: 1.5154\n",
      "Epoch 29/65\n",
      "\u001b[1m6/6\u001b[0m \u001b[32m━━━━━━━━━━━━━━━━━━━━\u001b[0m\u001b[37m\u001b[0m \u001b[1m0s\u001b[0m 25ms/step - loss: 3.3667 - mean_absolute_error: 1.5710 - val_loss: 2.3503 - val_mean_absolute_error: 1.4209\n",
      "Epoch 30/65\n",
      "\u001b[1m6/6\u001b[0m \u001b[32m━━━━━━━━━━━━━━━━━━━━\u001b[0m\u001b[37m\u001b[0m \u001b[1m0s\u001b[0m 26ms/step - loss: 3.0215 - mean_absolute_error: 1.4671 - val_loss: 2.2993 - val_mean_absolute_error: 1.4048\n",
      "Epoch 31/65\n",
      "\u001b[1m6/6\u001b[0m \u001b[32m━━━━━━━━━━━━━━━━━━━━\u001b[0m\u001b[37m\u001b[0m \u001b[1m0s\u001b[0m 24ms/step - loss: 2.9075 - mean_absolute_error: 1.4366 - val_loss: 2.2921 - val_mean_absolute_error: 1.4027\n",
      "Epoch 32/65\n",
      "\u001b[1m6/6\u001b[0m \u001b[32m━━━━━━━━━━━━━━━━━━━━\u001b[0m\u001b[37m\u001b[0m \u001b[1m0s\u001b[0m 23ms/step - loss: 2.9507 - mean_absolute_error: 1.4514 - val_loss: 2.2681 - val_mean_absolute_error: 1.3951\n",
      "Epoch 33/65\n",
      "\u001b[1m6/6\u001b[0m \u001b[32m━━━━━━━━━━━━━━━━━━━━\u001b[0m\u001b[37m\u001b[0m \u001b[1m0s\u001b[0m 23ms/step - loss: 2.8998 - mean_absolute_error: 1.4295 - val_loss: 2.2224 - val_mean_absolute_error: 1.3800\n",
      "Epoch 34/65\n",
      "\u001b[1m6/6\u001b[0m \u001b[32m━━━━━━━━━━━━━━━━━━━━\u001b[0m\u001b[37m\u001b[0m \u001b[1m0s\u001b[0m 28ms/step - loss: 2.9514 - mean_absolute_error: 1.4577 - val_loss: 2.2060 - val_mean_absolute_error: 1.3755\n",
      "Epoch 35/65\n",
      "\u001b[1m6/6\u001b[0m \u001b[32m━━━━━━━━━━━━━━━━━━━━\u001b[0m\u001b[37m\u001b[0m \u001b[1m0s\u001b[0m 27ms/step - loss: 2.7232 - mean_absolute_error: 1.3711 - val_loss: 1.9560 - val_mean_absolute_error: 1.2849\n",
      "Epoch 36/65\n",
      "\u001b[1m6/6\u001b[0m \u001b[32m━━━━━━━━━━━━━━━━━━━━\u001b[0m\u001b[37m\u001b[0m \u001b[1m0s\u001b[0m 27ms/step - loss: 2.7479 - mean_absolute_error: 1.4072 - val_loss: 1.8399 - val_mean_absolute_error: 1.2421\n",
      "Epoch 37/65\n",
      "\u001b[1m6/6\u001b[0m \u001b[32m━━━━━━━━━━━━━━━━━━━━\u001b[0m\u001b[37m\u001b[0m \u001b[1m0s\u001b[0m 27ms/step - loss: 2.4589 - mean_absolute_error: 1.2942 - val_loss: 1.9795 - val_mean_absolute_error: 1.3006\n",
      "Epoch 38/65\n",
      "\u001b[1m6/6\u001b[0m \u001b[32m━━━━━━━━━━━━━━━━━━━━\u001b[0m\u001b[37m\u001b[0m \u001b[1m0s\u001b[0m 26ms/step - loss: 2.4356 - mean_absolute_error: 1.3299 - val_loss: 1.5187 - val_mean_absolute_error: 1.1114\n",
      "Epoch 39/65\n",
      "\u001b[1m6/6\u001b[0m \u001b[32m━━━━━━━━━━━━━━━━━━━━\u001b[0m\u001b[37m\u001b[0m \u001b[1m0s\u001b[0m 25ms/step - loss: 2.2360 - mean_absolute_error: 1.2405 - val_loss: 1.5746 - val_mean_absolute_error: 1.1447\n",
      "Epoch 40/65\n",
      "\u001b[1m6/6\u001b[0m \u001b[32m━━━━━━━━━━━━━━━━━━━━\u001b[0m\u001b[37m\u001b[0m \u001b[1m0s\u001b[0m 25ms/step - loss: 2.0051 - mean_absolute_error: 1.1683 - val_loss: 1.2831 - val_mean_absolute_error: 1.0240\n",
      "Epoch 41/65\n",
      "\u001b[1m6/6\u001b[0m \u001b[32m━━━━━━━━━━━━━━━━━━━━\u001b[0m\u001b[37m\u001b[0m \u001b[1m0s\u001b[0m 27ms/step - loss: 1.9877 - mean_absolute_error: 1.1654 - val_loss: 1.0814 - val_mean_absolute_error: 0.9343\n",
      "Epoch 42/65\n",
      "\u001b[1m6/6\u001b[0m \u001b[32m━━━━━━━━━━━━━━━━━━━━\u001b[0m\u001b[37m\u001b[0m \u001b[1m0s\u001b[0m 25ms/step - loss: 1.6002 - mean_absolute_error: 1.0349 - val_loss: 0.9784 - val_mean_absolute_error: 0.8987\n",
      "Epoch 43/65\n",
      "\u001b[1m6/6\u001b[0m \u001b[32m━━━━━━━━━━━━━━━━━━━━\u001b[0m\u001b[37m\u001b[0m \u001b[1m0s\u001b[0m 27ms/step - loss: 1.2442 - mean_absolute_error: 0.9020 - val_loss: 0.7558 - val_mean_absolute_error: 0.7937\n",
      "Epoch 44/65\n",
      "\u001b[1m6/6\u001b[0m \u001b[32m━━━━━━━━━━━━━━━━━━━━\u001b[0m\u001b[37m\u001b[0m \u001b[1m0s\u001b[0m 31ms/step - loss: 1.0501 - mean_absolute_error: 0.8332 - val_loss: 0.4597 - val_mean_absolute_error: 0.6142\n",
      "Epoch 45/65\n",
      "\u001b[1m6/6\u001b[0m \u001b[32m━━━━━━━━━━━━━━━━━━━━\u001b[0m\u001b[37m\u001b[0m \u001b[1m0s\u001b[0m 31ms/step - loss: 0.6682 - mean_absolute_error: 0.6140 - val_loss: 0.2830 - val_mean_absolute_error: 0.4686\n",
      "Epoch 46/65\n",
      "\u001b[1m6/6\u001b[0m \u001b[32m━━━━━━━━━━━━━━━━━━━━\u001b[0m\u001b[37m\u001b[0m \u001b[1m0s\u001b[0m 29ms/step - loss: 0.5351 - mean_absolute_error: 0.5743 - val_loss: 0.2500 - val_mean_absolute_error: 0.4342\n",
      "Epoch 47/65\n",
      "\u001b[1m6/6\u001b[0m \u001b[32m━━━━━━━━━━━━━━━━━━━━\u001b[0m\u001b[37m\u001b[0m \u001b[1m0s\u001b[0m 30ms/step - loss: 0.2990 - mean_absolute_error: 0.4118 - val_loss: 0.1844 - val_mean_absolute_error: 0.3080\n",
      "Epoch 48/65\n",
      "\u001b[1m6/6\u001b[0m \u001b[32m━━━━━━━━━━━━━━━━━━━━\u001b[0m\u001b[37m\u001b[0m \u001b[1m0s\u001b[0m 30ms/step - loss: 0.2384 - mean_absolute_error: 0.3679 - val_loss: 0.2287 - val_mean_absolute_error: 0.2992\n",
      "Epoch 49/65\n",
      "\u001b[1m6/6\u001b[0m \u001b[32m━━━━━━━━━━━━━━━━━━━━\u001b[0m\u001b[37m\u001b[0m \u001b[1m0s\u001b[0m 28ms/step - loss: 0.1778 - mean_absolute_error: 0.3385 - val_loss: 0.2085 - val_mean_absolute_error: 0.2938\n",
      "Epoch 50/65\n",
      "\u001b[1m6/6\u001b[0m \u001b[32m━━━━━━━━━━━━━━━━━━━━\u001b[0m\u001b[37m\u001b[0m \u001b[1m0s\u001b[0m 24ms/step - loss: 0.1133 - mean_absolute_error: 0.2614 - val_loss: 0.2030 - val_mean_absolute_error: 0.3489\n",
      "Epoch 51/65\n",
      "\u001b[1m6/6\u001b[0m \u001b[32m━━━━━━━━━━━━━━━━━━━━\u001b[0m\u001b[37m\u001b[0m \u001b[1m0s\u001b[0m 25ms/step - loss: 0.1230 - mean_absolute_error: 0.2731 - val_loss: 0.1914 - val_mean_absolute_error: 0.3267\n",
      "Epoch 52/65\n",
      "\u001b[1m6/6\u001b[0m \u001b[32m━━━━━━━━━━━━━━━━━━━━\u001b[0m\u001b[37m\u001b[0m \u001b[1m0s\u001b[0m 28ms/step - loss: 0.1193 - mean_absolute_error: 0.2608 - val_loss: 0.1908 - val_mean_absolute_error: 0.2996\n",
      "Epoch 53/65\n",
      "\u001b[1m6/6\u001b[0m \u001b[32m━━━━━━━━━━━━━━━━━━━━\u001b[0m\u001b[37m\u001b[0m \u001b[1m0s\u001b[0m 25ms/step - loss: 0.1297 - mean_absolute_error: 0.2788 - val_loss: 0.1952 - val_mean_absolute_error: 0.2961\n",
      "Epoch 54/65\n",
      "\u001b[1m6/6\u001b[0m \u001b[32m━━━━━━━━━━━━━━━━━━━━\u001b[0m\u001b[37m\u001b[0m \u001b[1m0s\u001b[0m 28ms/step - loss: 0.1192 - mean_absolute_error: 0.2727 - val_loss: 0.1873 - val_mean_absolute_error: 0.3198\n",
      "Epoch 55/65\n",
      "\u001b[1m6/6\u001b[0m \u001b[32m━━━━━━━━━━━━━━━━━━━━\u001b[0m\u001b[37m\u001b[0m \u001b[1m0s\u001b[0m 29ms/step - loss: 0.1292 - mean_absolute_error: 0.2816 - val_loss: 0.1848 - val_mean_absolute_error: 0.3117\n",
      "Epoch 56/65\n",
      "\u001b[1m6/6\u001b[0m \u001b[32m━━━━━━━━━━━━━━━━━━━━\u001b[0m\u001b[37m\u001b[0m \u001b[1m0s\u001b[0m 27ms/step - loss: 0.1598 - mean_absolute_error: 0.3143 - val_loss: 0.1846 - val_mean_absolute_error: 0.3006\n",
      "Epoch 57/65\n",
      "\u001b[1m6/6\u001b[0m \u001b[32m━━━━━━━━━━━━━━━━━━━━\u001b[0m\u001b[37m\u001b[0m \u001b[1m0s\u001b[0m 35ms/step - loss: 0.1201 - mean_absolute_error: 0.2738 - val_loss: 0.2051 - val_mean_absolute_error: 0.2945\n",
      "Epoch 58/65\n",
      "\u001b[1m6/6\u001b[0m \u001b[32m━━━━━━━━━━━━━━━━━━━━\u001b[0m\u001b[37m\u001b[0m \u001b[1m0s\u001b[0m 26ms/step - loss: 0.1313 - mean_absolute_error: 0.2860 - val_loss: 0.1894 - val_mean_absolute_error: 0.2923\n",
      "Epoch 59/65\n",
      "\u001b[1m6/6\u001b[0m \u001b[32m━━━━━━━━━━━━━━━━━━━━\u001b[0m\u001b[37m\u001b[0m \u001b[1m0s\u001b[0m 30ms/step - loss: 0.1063 - mean_absolute_error: 0.2520 - val_loss: 0.2160 - val_mean_absolute_error: 0.2917\n",
      "Epoch 60/65\n",
      "\u001b[1m6/6\u001b[0m \u001b[32m━━━━━━━━━━━━━━━━━━━━\u001b[0m\u001b[37m\u001b[0m \u001b[1m0s\u001b[0m 29ms/step - loss: 0.1156 - mean_absolute_error: 0.2610 - val_loss: 0.2116 - val_mean_absolute_error: 0.2906\n",
      "Epoch 61/65\n",
      "\u001b[1m6/6\u001b[0m \u001b[32m━━━━━━━━━━━━━━━━━━━━\u001b[0m\u001b[37m\u001b[0m \u001b[1m0s\u001b[0m 28ms/step - loss: 0.1225 - mean_absolute_error: 0.2818 - val_loss: 0.1934 - val_mean_absolute_error: 0.3485\n",
      "Epoch 62/65\n",
      "\u001b[1m6/6\u001b[0m \u001b[32m━━━━━━━━━━━━━━━━━━━━\u001b[0m\u001b[37m\u001b[0m \u001b[1m0s\u001b[0m 26ms/step - loss: 0.1137 - mean_absolute_error: 0.2636 - val_loss: 0.1836 - val_mean_absolute_error: 0.3201\n",
      "Epoch 63/65\n",
      "\u001b[1m6/6\u001b[0m \u001b[32m━━━━━━━━━━━━━━━━━━━━\u001b[0m\u001b[37m\u001b[0m \u001b[1m0s\u001b[0m 27ms/step - loss: 0.1201 - mean_absolute_error: 0.2709 - val_loss: 0.1854 - val_mean_absolute_error: 0.2884\n",
      "Epoch 64/65\n",
      "\u001b[1m6/6\u001b[0m \u001b[32m━━━━━━━━━━━━━━━━━━━━\u001b[0m\u001b[37m\u001b[0m \u001b[1m0s\u001b[0m 25ms/step - loss: 0.1118 - mean_absolute_error: 0.2584 - val_loss: 0.1845 - val_mean_absolute_error: 0.2880\n",
      "Epoch 65/65\n",
      "\u001b[1m6/6\u001b[0m \u001b[32m━━━━━━━━━━━━━━━━━━━━\u001b[0m\u001b[37m\u001b[0m \u001b[1m0s\u001b[0m 26ms/step - loss: 0.1198 - mean_absolute_error: 0.2727 - val_loss: 0.1785 - val_mean_absolute_error: 0.2960\n",
      "\u001b[1m1/1\u001b[0m \u001b[32m━━━━━━━━━━━━━━━━━━━━\u001b[0m\u001b[37m\u001b[0m \u001b[1m0s\u001b[0m 207ms/step\n"
     ]
    },
    {
     "data": {
      "image/png": "[encoded data removed]",
      "text/plain": [
       "<Figure size 1200x600 with 1 Axes>"
      ]
     },
     "metadata": {},
     "output_type": "display_data"
    },
    {
     "data": {
      "application/vnd.plotly.v1+json": {
       "config": {
        "plotlyServerURL": "https://plot.ly"
       },
       "data": [
        {
         "line": {
          "color": "orange"
         },
         "mode": "lines",
         "name": "Future Predictions",
         "type": "scatter",
         "x": [
          "2024-10-28T00:00:00",
          "2024-10-29T00:00:00",
          "2024-10-30T00:00:00",
          "2024-10-31T00:00:00",
          "2024-11-01T00:00:00",
          "2024-11-04T00:00:00",
          "2024-11-05T00:00:00",
          "2024-11-06T00:00:00",
          "2024-11-07T00:00:00",
          "2024-11-08T00:00:00",
          "2024-11-11T00:00:00",
          "2024-11-12T00:00:00",
          "2024-11-13T00:00:00",
          "2024-11-14T00:00:00",
          "2024-11-18T00:00:00",
          "2024-11-19T00:00:00",
          "2024-11-21T00:00:00",
          "2024-11-22T00:00:00",
          "2024-11-25T00:00:00",
          "2024-11-26T00:00:00",
          "2024-11-27T00:00:00",
          "2024-11-28T00:00:00",
          "2024-11-29T00:00:00"
         ],
         "y": [
          11.17640209197998,
          11.302754402160645,
          11.332115173339844,
          11.331252098083496,
          11.294465065002441,
          11.239367485046387,
          11.284184455871582,
          11.399103164672852,
          11.437041282653809,
          11.54483699798584,
          11.449091911315918,
          11.266942024230957,
          11.062399864196777,
          10.803281784057617,
          10.663732528686523,
          10.772612571716309,
          10.918425559997559,
          11.075997352600098,
          11.172769546508789,
          11.19139289855957,
          11.210027694702148,
          11.249859809875488,
          11.18001651763916
         ]
        },
        {
         "line": {
          "color": "blue"
         },
         "mode": "lines",
         "name": "Actual Prices",
         "type": "scatter",
         "x": [
          "2024-01-08T00:00:00-03:00",
          "2024-01-09T00:00:00-03:00",
          "2024-01-10T00:00:00-03:00",
          "2024-01-11T00:00:00-03:00",
          "2024-01-12T00:00:00-03:00",
          "2024-01-15T00:00:00-03:00",
          "2024-01-16T00:00:00-03:00",
          "2024-01-17T00:00:00-03:00",
          "2024-01-18T00:00:00-03:00",
          "2024-01-19T00:00:00-03:00",
          "2024-01-22T00:00:00-03:00",
          "2024-01-23T00:00:00-03:00",
          "2024-01-24T00:00:00-03:00",
          "2024-01-25T00:00:00-03:00",
          "2024-01-26T00:00:00-03:00",
          "2024-01-29T00:00:00-03:00",
          "2024-01-30T00:00:00-03:00",
          "2024-01-31T00:00:00-03:00",
          "2024-02-01T00:00:00-03:00",
          "2024-02-02T00:00:00-03:00",
          "2024-02-05T00:00:00-03:00",
          "2024-02-06T00:00:00-03:00",
          "2024-02-07T00:00:00-03:00",
          "2024-02-08T00:00:00-03:00",
          "2024-02-09T00:00:00-03:00",
          "2024-02-14T00:00:00-03:00",
          "2024-02-15T00:00:00-03:00",
          "2024-02-16T00:00:00-03:00",
          "2024-02-19T00:00:00-03:00",
          "2024-02-20T00:00:00-03:00",
          "2024-02-21T00:00:00-03:00",
          "2024-02-22T00:00:00-03:00",
          "2024-02-23T00:00:00-03:00",
          "2024-02-26T00:00:00-03:00",
          "2024-02-27T00:00:00-03:00",
          "2024-02-28T00:00:00-03:00",
          "2024-02-29T00:00:00-03:00",
          "2024-03-01T00:00:00-03:00",
          "2024-03-04T00:00:00-03:00",
          "2024-03-05T00:00:00-03:00",
          "2024-03-06T00:00:00-03:00",
          "2024-03-07T00:00:00-03:00",
          "2024-03-08T00:00:00-03:00",
          "2024-03-11T00:00:00-03:00",
          "2024-03-12T00:00:00-03:00",
          "2024-03-13T00:00:00-03:00",
          "2024-03-14T00:00:00-03:00",
          "2024-03-15T00:00:00-03:00",
          "2024-03-18T00:00:00-03:00",
          "2024-03-19T00:00:00-03:00",
          "2024-03-20T00:00:00-03:00",
          "2024-03-21T00:00:00-03:00",
          "2024-03-22T00:00:00-03:00",
          "2024-03-25T00:00:00-03:00",
          "2024-03-26T00:00:00-03:00",
          "2024-03-27T00:00:00-03:00",
          "2024-03-28T00:00:00-03:00",
          "2024-04-01T00:00:00-03:00",
          "2024-04-02T00:00:00-03:00",
          "2024-04-03T00:00:00-03:00",
          "2024-04-04T00:00:00-03:00",
          "2024-04-05T00:00:00-03:00",
          "2024-04-08T00:00:00-03:00",
          "2024-04-09T00:00:00-03:00",
          "2024-04-10T00:00:00-03:00",
          "2024-04-11T00:00:00-03:00",
          "2024-04-12T00:00:00-03:00",
          "2024-04-15T00:00:00-03:00",
          "2024-04-16T00:00:00-03:00",
          "2024-04-17T00:00:00-03:00",
          "2024-04-18T00:00:00-03:00",
          "2024-04-19T00:00:00-03:00",
          "2024-04-22T00:00:00-03:00",
          "2024-04-23T00:00:00-03:00",
          "2024-04-24T00:00:00-03:00",
          "2024-04-25T00:00:00-03:00",
          "2024-04-26T00:00:00-03:00",
          "2024-04-29T00:00:00-03:00",
          "2024-04-30T00:00:00-03:00",
          "2024-05-02T00:00:00-03:00",
          "2024-05-03T00:00:00-03:00",
          "2024-05-06T00:00:00-03:00",
          "2024-05-07T00:00:00-03:00",
          "2024-05-08T00:00:00-03:00",
          "2024-05-09T00:00:00-03:00",
          "2024-05-10T00:00:00-03:00",
          "2024-05-13T00:00:00-03:00",
          "2024-05-14T00:00:00-03:00",
          "2024-05-15T00:00:00-03:00",
          "2024-05-16T00:00:00-03:00",
          "2024-05-17T00:00:00-03:00",
          "2024-05-20T00:00:00-03:00",
          "2024-05-21T00:00:00-03:00",
          "2024-05-22T00:00:00-03:00",
          "2024-05-23T00:00:00-03:00",
          "2024-05-24T00:00:00-03:00",
          "2024-05-27T00:00:00-03:00",
          "2024-05-28T00:00:00-03:00",
          "2024-05-29T00:00:00-03:00",
          "2024-05-31T00:00:00-03:00",
          "2024-06-03T00:00:00-03:00",
          "2024-06-04T00:00:00-03:00",
          "2024-06-05T00:00:00-03:00",
          "2024-06-06T00:00:00-03:00",
          "2024-06-07T00:00:00-03:00",
          "2024-06-10T00:00:00-03:00",
          "2024-06-11T00:00:00-03:00",
          "2024-06-12T00:00:00-03:00",
          "2024-06-13T00:00:00-03:00",
          "2024-06-14T00:00:00-03:00",
          "2024-06-17T00:00:00-03:00",
          "2024-06-18T00:00:00-03:00",
          "2024-06-19T00:00:00-03:00",
          "2024-06-20T00:00:00-03:00",
          "2024-06-21T00:00:00-03:00",
          "2024-06-24T00:00:00-03:00",
          "2024-06-25T00:00:00-03:00",
          "2024-06-26T00:00:00-03:00",
          "2024-06-27T00:00:00-03:00",
          "2024-06-28T00:00:00-03:00",
          "2024-07-01T00:00:00-03:00",
          "2024-07-02T00:00:00-03:00",
          "2024-07-03T00:00:00-03:00",
          "2024-07-04T00:00:00-03:00",
          "2024-07-05T00:00:00-03:00",
          "2024-07-08T00:00:00-03:00",
          "2024-07-09T00:00:00-03:00",
          "2024-07-10T00:00:00-03:00",
          "2024-07-11T00:00:00-03:00",
          "2024-07-12T00:00:00-03:00",
          "2024-07-15T00:00:00-03:00",
          "2024-07-16T00:00:00-03:00",
          "2024-07-17T00:00:00-03:00",
          "2024-07-18T00:00:00-03:00",
          "2024-07-19T00:00:00-03:00",
          "2024-07-22T00:00:00-03:00",
          "2024-07-23T00:00:00-03:00",
          "2024-07-24T00:00:00-03:00",
          "2024-07-25T00:00:00-03:00",
          "2024-07-26T00:00:00-03:00",
          "2024-07-29T00:00:00-03:00",
          "2024-07-30T00:00:00-03:00",
          "2024-07-31T00:00:00-03:00",
          "2024-08-01T00:00:00-03:00",
          "2024-08-02T00:00:00-03:00",
          "2024-08-05T00:00:00-03:00",
          "2024-08-06T00:00:00-03:00",
          "2024-08-07T00:00:00-03:00",
          "2024-08-08T00:00:00-03:00",
          "2024-08-09T00:00:00-03:00",
          "2024-08-12T00:00:00-03:00",
          "2024-08-13T00:00:00-03:00",
          "2024-08-14T00:00:00-03:00",
          "2024-08-15T00:00:00-03:00",
          "2024-08-16T00:00:00-03:00",
          "2024-08-19T00:00:00-03:00",
          "2024-08-20T00:00:00-03:00",
          "2024-08-21T00:00:00-03:00",
          "2024-08-22T00:00:00-03:00",
          "2024-08-23T00:00:00-03:00",
          "2024-08-26T00:00:00-03:00",
          "2024-08-27T00:00:00-03:00",
          "2024-08-28T00:00:00-03:00",
          "2024-08-29T00:00:00-03:00",
          "2024-08-30T00:00:00-03:00",
          "2024-09-02T00:00:00-03:00",
          "2024-09-03T00:00:00-03:00",
          "2024-09-04T00:00:00-03:00",
          "2024-09-05T00:00:00-03:00",
          "2024-09-06T00:00:00-03:00",
          "2024-09-09T00:00:00-03:00",
          "2024-09-10T00:00:00-03:00",
          "2024-09-11T00:00:00-03:00",
          "2024-09-12T00:00:00-03:00",
          "2024-09-13T00:00:00-03:00",
          "2024-09-16T00:00:00-03:00",
          "2024-09-17T00:00:00-03:00",
          "2024-09-18T00:00:00-03:00",
          "2024-09-19T00:00:00-03:00",
          "2024-09-20T00:00:00-03:00",
          "2024-09-23T00:00:00-03:00",
          "2024-09-24T00:00:00-03:00",
          "2024-09-25T00:00:00-03:00",
          "2024-09-26T00:00:00-03:00",
          "2024-09-27T00:00:00-03:00",
          "2024-09-30T00:00:00-03:00",
          "2024-10-01T00:00:00-03:00",
          "2024-10-02T00:00:00-03:00",
          "2024-10-03T00:00:00-03:00",
          "2024-10-04T00:00:00-03:00",
          "2024-10-07T00:00:00-03:00",
          "2024-10-08T00:00:00-03:00",
          "2024-10-09T00:00:00-03:00",
          "2024-10-10T00:00:00-03:00",
          "2024-10-11T00:00:00-03:00",
          "2024-10-14T00:00:00-03:00",
          "2024-10-15T00:00:00-03:00",
          "2024-10-16T00:00:00-03:00",
          "2024-10-17T00:00:00-03:00",
          "2024-10-18T00:00:00-03:00",
          "2024-10-21T00:00:00-03:00",
          "2024-10-22T00:00:00-03:00",
          "2024-10-23T00:00:00-03:00",
          "2024-10-24T00:00:00-03:00",
          "2024-10-25T00:00:00-03:00",
          "2024-10-28T00:00:00-03:00",
          "2024-10-29T00:00:00-03:00",
          "2024-10-30T00:00:00-03:00",
          "2024-10-31T00:00:00-03:00",
          "2024-11-01T00:00:00-03:00",
          "2024-11-04T00:00:00-03:00",
          "2024-11-05T00:00:00-03:00",
          "2024-11-06T00:00:00-03:00",
          "2024-11-07T00:00:00-03:00",
          "2024-11-08T00:00:00-03:00",
          "2024-11-11T00:00:00-03:00",
          "2024-11-12T00:00:00-03:00",
          "2024-11-13T00:00:00-03:00",
          "2024-11-14T00:00:00-03:00",
          "2024-11-18T00:00:00-03:00",
          "2024-11-19T00:00:00-03:00",
          "2024-11-21T00:00:00-03:00",
          "2024-11-22T00:00:00-03:00",
          "2024-11-25T00:00:00-03:00",
          "2024-11-26T00:00:00-03:00",
          "2024-11-27T00:00:00-03:00",
          "2024-11-28T00:00:00-03:00"
         ],
         "y": [
          17.380847930908203,
          16.604351043701172,
          16.17095947265625,
          16.134843826293945,
          16.16193199157715,
          16.107757568359375,
          15.520872116088867,
          15.06942081451416,
          15.41252326965332,
          15.64727783203125,
          15.466696739196777,
          15.728538513183594,
          16.089698791503906,
          16.179988861083984,
          16.396686553955078,
          16.324453353881836,
          16.17095947265625,
          16.008438110351562,
          15.863974571228027,
          15.457669258117676,
          15.683395385742188,
          16.243192672729492,
          16.550180435180664,
          16.306394577026367,
          16.071640014648438,
          16.134843826293945,
          16.64046859741211,
          17.191240310668945,
          17.0828914642334,
          16.252220153808594,
          15.773682594299316,
          15.755626678466797,
          16.008438110351562,
          15.502814292907715,
          15.64727783203125,
          15.403493881225586,
          15.186797142028809,
          15.41252326965332,
          15.060392379760742,
          14.970101356506348,
          15.033304214477539,
          14.310983657836914,
          14.726318359375,
          14.4644775390625,
          14.626999855041504,
          14.690202713012695,
          14.139431953430176,
          13.77827262878418,
          14.184577941894531,
          14.437390327453613,
          14.726318359375,
          14.708261489868164,
          14.329041481018066,
          14.175548553466797,
          14.031085014343262,
          14.12137508392334,
          14.175548553466797,
          14.19360637664795,
          13.841475486755371,
          13.850504875183105,
          13.687981605529785,
          13.498373031616211,
          13.850504875183105,
          13.633808135986328,
          12.956632614135742,
          12.929544448852539,
          12.956632614135742,
          12.992748260498047,
          12.794109344482422,
          12.929544448852539,
          12.830225944519043,
          13.254590034484863,
          13.344879150390625,
          13.019835472106934,
          12.902458190917969,
          12.712848663330078,
          12.7489652633667,
          12.830225944519043,
          12.568385124206543,
          12.658675193786621,
          12.866342544555664,
          12.839255332946777,
          12.667703628540039,
          12.694790840148926,
          12.532268524169922,
          12.496152877807617,
          12.767023086547852,
          12.550326347351074,
          12.451693534851074,
          12.651605606079102,
          12.756321907043457,
          12.822959899902344,
          12.93719482421875,
          12.680164337158203,
          12.470732688903809,
          12.775361061096191,
          12.718242645263672,
          12.670645713806152,
          12.594487190246582,
          12.451693534851074,
          12.080427169799805,
          11.899554252624512,
          11.87099552154541,
          12.070907592773438,
          11.842435836791992,
          11.756759643554688,
          11.699641227722168,
          11.337894439697266,
          11.328374862670898,
          11.452130317687988,
          11.337894439697266,
          12.366016387939453,
          12.137544631958008,
          12.37553596496582,
          12.04234790802002,
          12.099466323852539,
          11.966191291809082,
          11.93763256072998,
          12.280339241027832,
          12.2898588180542,
          12.2898588180542,
          12.366016387939453,
          12.518330574035645,
          12.651605606079102,
          12.394576072692871,
          12.346977233886719,
          12.394576072692871,
          12.270820617675781,
          12.470732688903809,
          12.708724021911621,
          12.81343936920166,
          12.470732688903809,
          12.546890258789062,
          12.032829284667969,
          12.032829284667969,
          12.070907592773438,
          11.461649894714355,
          11.41405200958252,
          11.385493278503418,
          11.452130317687988,
          11.34741497039795,
          11.157022476196289,
          11.29029655456543,
          10.890471458435059,
          10.804795265197754,
          10.804795265197754,
          10.728638648986816,
          10.766716957092285,
          10.85239315032959,
          11.128462791442871,
          11.118943214416504,
          11.60444450378418,
          11.137982368469238,
          10.966629028320312,
          10.766716957092285,
          11.43309211730957,
          11.318856239318848,
          11.737719535827637,
          11.547327041625977,
          11.6615629196167,
          11.633004188537598,
          11.699641227722168,
          11.337894439697266,
          11.356934547424316,
          11.29029655456543,
          11.18558120727539,
          10.78575611114502,
          10.85239315032959,
          10.97614860534668,
          11.042786598205566,
          10.919031143188477,
          10.709598541259766,
          11.0332670211792,
          10.97614860534668,
          11.328374862670898,
          11.337894439697266,
          11.442611694335938,
          11.318856239318848,
          11.471170425415039,
          10.595362663269043,
          10.547764778137207,
          11.53780746459961,
          11.594925880432129,
          12.632567405700684,
          12.613527297973633,
          12.270820617675781,
          12.423134803771973,
          12.661125183105469,
          12.299379348754883,
          12.032829284667969,
          12.147065162658691,
          11.575885772705078,
          11.55684757232666,
          11.271257400512695,
          11.299816131591797,
          11.271257400512695,
          11.118943214416504,
          11.366453170776367,
          11.109423637390137,
          11.109423637390137,
          11.118943214416504,
          10.938069343566895,
          10.90951156616211,
          11.128462791442871,
          11.233179092407227,
          11.480690002441406,
          11.195100784301758,
          11.214138984680176,
          11.204620361328125,
          11.090383529663086,
          11.366453170776367,
          11.699641227722168,
          11.34741497039795,
          11.699641227722168,
          11.18558120727539,
          10.747676849365234,
          10.547764778137207,
          10.128900527954102,
          10.128900527954102,
          11.061824798583984,
          11.090383529663086,
          10.90951156616211,
          11.109999656677246,
          11.25,
          11.100000381469727,
          11.1899995803833,
          10.899999618530273
         ]
        }
       ],
       "layout": {
        "height": 600,
        "hovermode": "x unified",
        "legend": {
         "x": 0,
         "y": 1
        },
        "template": {
         "data": {
          "bar": [
           {
            "error_x": {
             "color": "#f2f5fa"
            },
            "error_y": {
             "color": "#f2f5fa"
            },
            "marker": {
             "line": {
              "color": "rgb(17,17,17)",
              "width": 0.5
             },
             "pattern": {
              "fillmode": "overlay",
              "size": 10,
              "solidity": 0.2
             }
            },
            "type": "bar"
           }
          ],
          "barpolar": [
           {
            "marker": {
             "line": {
              "color": "rgb(17,17,17)",
              "width": 0.5
             },
             "pattern": {
              "fillmode": "overlay",
              "size": 10,
              "solidity": 0.2
             }
            },
            "type": "barpolar"
           }
          ],
          "carpet": [
           {
            "aaxis": {
             "endlinecolor": "#A2B1C6",
             "gridcolor": "#506784",
             "linecolor": "#506784",
             "minorgridcolor": "#506784",
             "startlinecolor": "#A2B1C6"
            },
            "baxis": {
             "endlinecolor": "#A2B1C6",
             "gridcolor": "#506784",
             "linecolor": "#506784",
             "minorgridcolor": "#506784",
             "startlinecolor": "#A2B1C6"
            },
            "type": "carpet"
           }
          ],
          "choropleth": [
           {
            "colorbar": {
             "outlinewidth": 0,
             "ticks": ""
            },
            "type": "choropleth"
           }
          ],
          "contour": [
           {
            "colorbar": {
             "outlinewidth": 0,
             "ticks": ""
            },
            "colorscale": [
             [
              0,
              "#0d0887"
             ],
             [
              0.1111111111111111,
              "#46039f"
             ],
             [
              0.2222222222222222,
              "#7201a8"
             ],
             [
              0.3333333333333333,
              "#9c179e"
             ],
             [
              0.4444444444444444,
              "#bd3786"
             ],
             [
              0.5555555555555556,
              "#d8576b"
             ],
             [
              0.6666666666666666,
              "#ed7953"
             ],
             [
              0.7777777777777778,
              "#fb9f3a"
             ],
             [
              0.8888888888888888,
              "#fdca26"
             ],
             [
              1,
              "#f0f921"
             ]
            ],
            "type": "contour"
           }
          ],
          "contourcarpet": [
           {
            "colorbar": {
             "outlinewidth": 0,
             "ticks": ""
            },
            "type": "contourcarpet"
           }
          ],
          "heatmap": [
           {
            "colorbar": {
             "outlinewidth": 0,
             "ticks": ""
            },
            "colorscale": [
             [
              0,
              "#0d0887"
             ],
             [
              0.1111111111111111,
              "#46039f"
             ],
             [
              0.2222222222222222,
              "#7201a8"
             ],
             [
              0.3333333333333333,
              "#9c179e"
             ],
             [
              0.4444444444444444,
              "#bd3786"
             ],
             [
              0.5555555555555556,
              "#d8576b"
             ],
             [
              0.6666666666666666,
              "#ed7953"
             ],
             [
              0.7777777777777778,
              "#fb9f3a"
             ],
             [
              0.8888888888888888,
              "#fdca26"
             ],
             [
              1,
              "#f0f921"
             ]
            ],
            "type": "heatmap"
           }
          ],
          "heatmapgl": [
           {
            "colorbar": {
             "outlinewidth": 0,
             "ticks": ""
            },
            "colorscale": [
             [
              0,
              "#0d0887"
             ],
             [
              0.1111111111111111,
              "#46039f"
             ],
             [
              0.2222222222222222,
              "#7201a8"
             ],
             [
              0.3333333333333333,
              "#9c179e"
             ],
             [
              0.4444444444444444,
              "#bd3786"
             ],
             [
              0.5555555555555556,
              "#d8576b"
             ],
             [
              0.6666666666666666,
              "#ed7953"
             ],
             [
              0.7777777777777778,
              "#fb9f3a"
             ],
             [
              0.8888888888888888,
              "#fdca26"
             ],
             [
              1,
              "#f0f921"
             ]
            ],
            "type": "heatmapgl"
           }
          ],
          "histogram": [
           {
            "marker": {
             "pattern": {
              "fillmode": "overlay",
              "size": 10,
              "solidity": 0.2
             }
            },
            "type": "histogram"
           }
          ],
          "histogram2d": [
           {
            "colorbar": {
             "outlinewidth": 0,
             "ticks": ""
            },
            "colorscale": [
             [
              0,
              "#0d0887"
             ],
             [
              0.1111111111111111,
              "#46039f"
             ],
             [
              0.2222222222222222,
              "#7201a8"
             ],
             [
              0.3333333333333333,
              "#9c179e"
             ],
             [
              0.4444444444444444,
              "#bd3786"
             ],
             [
              0.5555555555555556,
              "#d8576b"
             ],
             [
              0.6666666666666666,
              "#ed7953"
             ],
             [
              0.7777777777777778,
              "#fb9f3a"
             ],
             [
              0.8888888888888888,
              "#fdca26"
             ],
             [
              1,
              "#f0f921"
             ]
            ],
            "type": "histogram2d"
           }
          ],
          "histogram2dcontour": [
           {
            "colorbar": {
             "outlinewidth": 0,
             "ticks": ""
            },
            "colorscale": [
             [
              0,
              "#0d0887"
             ],
             [
              0.1111111111111111,
              "#46039f"
             ],
             [
              0.2222222222222222,
              "#7201a8"
             ],
             [
              0.3333333333333333,
              "#9c179e"
             ],
             [
              0.4444444444444444,
              "#bd3786"
             ],
             [
              0.5555555555555556,
              "#d8576b"
             ],
             [
              0.6666666666666666,
              "#ed7953"
             ],
             [
              0.7777777777777778,
              "#fb9f3a"
             ],
             [
              0.8888888888888888,
              "#fdca26"
             ],
             [
              1,
              "#f0f921"
             ]
            ],
            "type": "histogram2dcontour"
           }
          ],
          "mesh3d": [
           {
            "colorbar": {
             "outlinewidth": 0,
             "ticks": ""
            },
            "type": "mesh3d"
           }
          ],
          "parcoords": [
           {
            "line": {
             "colorbar": {
              "outlinewidth": 0,
              "ticks": ""
             }
            },
            "type": "parcoords"
           }
          ],
          "pie": [
           {
            "automargin": true,
            "type": "pie"
           }
          ],
          "scatter": [
           {
            "marker": {
             "line": {
              "color": "#283442"
             }
            },
            "type": "scatter"
           }
          ],
          "scatter3d": [
           {
            "line": {
             "colorbar": {
              "outlinewidth": 0,
              "ticks": ""
             }
            },
            "marker": {
             "colorbar": {
              "outlinewidth": 0,
              "ticks": ""
             }
            },
            "type": "scatter3d"
           }
          ],
          "scattercarpet": [
           {
            "marker": {
             "colorbar": {
              "outlinewidth": 0,
              "ticks": ""
             }
            },
            "type": "scattercarpet"
           }
          ],
          "scattergeo": [
           {
            "marker": {
             "colorbar": {
              "outlinewidth": 0,
              "ticks": ""
             }
            },
            "type": "scattergeo"
           }
          ],
          "scattergl": [
           {
            "marker": {
             "line": {
              "color": "#283442"
             }
            },
            "type": "scattergl"
           }
          ],
          "scattermapbox": [
           {
            "marker": {
             "colorbar": {
              "outlinewidth": 0,
              "ticks": ""
             }
            },
            "type": "scattermapbox"
           }
          ],
          "scatterpolar": [
           {
            "marker": {
             "colorbar": {
              "outlinewidth": 0,
              "ticks": ""
             }
            },
            "type": "scatterpolar"
           }
          ],
          "scatterpolargl": [
           {
            "marker": {
             "colorbar": {
              "outlinewidth": 0,
              "ticks": ""
             }
            },
            "type": "scatterpolargl"
           }
          ],
          "scatterternary": [
           {
            "marker": {
             "colorbar": {
              "outlinewidth": 0,
              "ticks": ""
             }
            },
            "type": "scatterternary"
           }
          ],
          "surface": [
           {
            "colorbar": {
             "outlinewidth": 0,
             "ticks": ""
            },
            "colorscale": [
             [
              0,
              "#0d0887"
             ],
             [
              0.1111111111111111,
              "#46039f"
             ],
             [
              0.2222222222222222,
              "#7201a8"
             ],
             [
              0.3333333333333333,
              "#9c179e"
             ],
             [
              0.4444444444444444,
              "#bd3786"
             ],
             [
              0.5555555555555556,
              "#d8576b"
             ],
             [
              0.6666666666666666,
              "#ed7953"
             ],
             [
              0.7777777777777778,
              "#fb9f3a"
             ],
             [
              0.8888888888888888,
              "#fdca26"
             ],
             [
              1,
              "#f0f921"
             ]
            ],
            "type": "surface"
           }
          ],
          "table": [
           {
            "cells": {
             "fill": {
              "color": "#506784"
             },
             "line": {
              "color": "rgb(17,17,17)"
             }
            },
            "header": {
             "fill": {
              "color": "#2a3f5f"
             },
             "line": {
              "color": "rgb(17,17,17)"
             }
            },
            "type": "table"
           }
          ]
         },
         "layout": {
          "annotationdefaults": {
           "arrowcolor": "#f2f5fa",
           "arrowhead": 0,
           "arrowwidth": 1
          },
          "autotypenumbers": "strict",
          "coloraxis": {
           "colorbar": {
            "outlinewidth": 0,
            "ticks": ""
           }
          },
          "colorscale": {
           "diverging": [
            [
             0,
             "#8e0152"
            ],
            [
             0.1,
             "#c51b7d"
            ],
            [
             0.2,
             "#de77ae"
            ],
            [
             0.3,
             "#f1b6da"
            ],
            [
             0.4,
             "#fde0ef"
            ],
            [
             0.5,
             "#f7f7f7"
            ],
            [
             0.6,
             "#e6f5d0"
            ],
            [
             0.7,
             "#b8e186"
            ],
            [
             0.8,
             "#7fbc41"
            ],
            [
             0.9,
             "#4d9221"
            ],
            [
             1,
             "#276419"
            ]
           ],
           "sequential": [
            [
             0,
             "#0d0887"
            ],
            [
             0.1111111111111111,
             "#46039f"
            ],
            [
             0.2222222222222222,
             "#7201a8"
            ],
            [
             0.3333333333333333,
             "#9c179e"
            ],
            [
             0.4444444444444444,
             "#bd3786"
            ],
            [
             0.5555555555555556,
             "#d8576b"
            ],
            [
             0.6666666666666666,
             "#ed7953"
            ],
            [
             0.7777777777777778,
             "#fb9f3a"
            ],
            [
             0.8888888888888888,
             "#fdca26"
            ],
            [
             1,
             "#f0f921"
            ]
           ],
           "sequentialminus": [
            [
             0,
             "#0d0887"
            ],
            [
             0.1111111111111111,
             "#46039f"
            ],
            [
             0.2222222222222222,
             "#7201a8"
            ],
            [
             0.3333333333333333,
             "#9c179e"
            ],
            [
             0.4444444444444444,
             "#bd3786"
            ],
            [
             0.5555555555555556,
             "#d8576b"
            ],
            [
             0.6666666666666666,
             "#ed7953"
            ],
            [
             0.7777777777777778,
             "#fb9f3a"
            ],
            [
             0.8888888888888888,
             "#fdca26"
            ],
            [
             1,
             "#f0f921"
            ]
           ]
          },
          "colorway": [
           "#636efa",
           "#EF553B",
           "#00cc96",
           "#ab63fa",
           "#FFA15A",
           "#19d3f3",
           "#FF6692",
           "#B6E880",
           "#FF97FF",
           "#FECB52"
          ],
          "font": {
           "color": "#f2f5fa"
          },
          "geo": {
           "bgcolor": "rgb(17,17,17)",
           "lakecolor": "rgb(17,17,17)",
           "landcolor": "rgb(17,17,17)",
           "showlakes": true,
           "showland": true,
           "subunitcolor": "#506784"
          },
          "hoverlabel": {
           "align": "left"
          },
          "hovermode": "closest",
          "mapbox": {
           "style": "dark"
          },
          "paper_bgcolor": "rgb(17,17,17)",
          "plot_bgcolor": "rgb(17,17,17)",
          "polar": {
           "angularaxis": {
            "gridcolor": "#506784",
            "linecolor": "#506784",
            "ticks": ""
           },
           "bgcolor": "rgb(17,17,17)",
           "radialaxis": {
            "gridcolor": "#506784",
            "linecolor": "#506784",
            "ticks": ""
           }
          },
          "scene": {
           "xaxis": {
            "backgroundcolor": "rgb(17,17,17)",
            "gridcolor": "#506784",
            "gridwidth": 2,
            "linecolor": "#506784",
            "showbackground": true,
            "ticks": "",
            "zerolinecolor": "#C8D4E3"
           },
           "yaxis": {
            "backgroundcolor": "rgb(17,17,17)",
            "gridcolor": "#506784",
            "gridwidth": 2,
            "linecolor": "#506784",
            "showbackground": true,
            "ticks": "",
            "zerolinecolor": "#C8D4E3"
           },
           "zaxis": {
            "backgroundcolor": "rgb(17,17,17)",
            "gridcolor": "#506784",
            "gridwidth": 2,
            "linecolor": "#506784",
            "showbackground": true,
            "ticks": "",
            "zerolinecolor": "#C8D4E3"
           }
          },
          "shapedefaults": {
           "line": {
            "color": "#f2f5fa"
           }
          },
          "sliderdefaults": {
           "bgcolor": "#C8D4E3",
           "bordercolor": "rgb(17,17,17)",
           "borderwidth": 1,
           "tickwidth": 0
          },
          "ternary": {
           "aaxis": {
            "gridcolor": "#506784",
            "linecolor": "#506784",
            "ticks": ""
           },
           "baxis": {
            "gridcolor": "#506784",
            "linecolor": "#506784",
            "ticks": ""
           },
           "bgcolor": "rgb(17,17,17)",
           "caxis": {
            "gridcolor": "#506784",
            "linecolor": "#506784",
            "ticks": ""
           }
          },
          "title": {
           "x": 0.05
          },
          "updatemenudefaults": {
           "bgcolor": "#506784",
           "borderwidth": 0
          },
          "xaxis": {
           "automargin": true,
           "gridcolor": "#283442",
           "linecolor": "#506784",
           "ticks": "",
           "title": {
            "standoff": 15
           },
           "zerolinecolor": "#283442",
           "zerolinewidth": 2
          },
          "yaxis": {
           "automargin": true,
           "gridcolor": "#283442",
           "linecolor": "#506784",
           "ticks": "",
           "title": {
            "standoff": 15
           },
           "zerolinecolor": "#283442",
           "zerolinewidth": 2
          }
         }
        },
        "title": {
         "text": "Comparação entre Previsões e Preços Reais"
        },
        "width": 1000,
        "xaxis": {
         "title": {
          "text": "Data"
         }
        },
        "yaxis": {
         "title": {
          "text": "Preço Fechamento"
         }
        }
       }
      }
     },
     "metadata": {},
     "output_type": "display_data"
    }
   ],
   "source": [
    "import pandas as pd\n",
    "import numpy as np\n",
    "import datetime\n",
    "import yfinance as yf\n",
    "import matplotlib.pyplot as plt\n",
    "from tensorflow.keras.models import Sequential\n",
    "from tensorflow.keras.optimizers import Adam\n",
    "from tensorflow.keras import layers\n",
    "# Buscar preços reais\n",
    "import plotly.graph_objects as go\n",
    "\n",
    "\n",
    "\n",
    "def str_to_datetime(s):\n",
    "    split = s.split('-')\n",
    "    year, month, day = int(split[0]), int(split[1]), int(split[2])\n",
    "    return datetime.datetime(year=year, month=month, day=day)\n",
    "\n",
    "\n",
    "\n",
    "def df_to_windowed_df(dataframe, first_date_str, last_date_str, n):\n",
    "    first_date = str_to_datetime(first_date_str)\n",
    "    last_date = str_to_datetime(last_date_str)\n",
    "\n",
    "    target_date = first_date\n",
    "    dates = []\n",
    "    X, Y = [], []\n",
    "\n",
    "    last_time = False\n",
    "    while True:\n",
    "        df_subset = dataframe.loc[:target_date].tail(n + 1)\n",
    "\n",
    "        if len(df_subset) != n + 1:\n",
    "            print(f'Erro: Janela de tamanho {n} é muito grande para a data {target_date}')\n",
    "            return None\n",
    "\n",
    "        values = df_subset['Close'].to_numpy()\n",
    "        x, y = values[:-1], values[-1]\n",
    "\n",
    "        dates.append(target_date)\n",
    "        X.append(x)\n",
    "        Y.append(y)\n",
    "\n",
    "        next_week = dataframe.loc[target_date:target_date + datetime.timedelta(days=7)]\n",
    "        if len(next_week) < 2:\n",
    "            break\n",
    "\n",
    "        next_datetime_str = str(next_week.head(2).tail(1).index.values[0])\n",
    "        next_date_str = next_datetime_str.split('T')[0]\n",
    "        year, month, day = map(int, next_date_str.split('-'))\n",
    "        next_date = datetime.datetime(year=year, month=month, day=day)\n",
    "\n",
    "        if last_time:\n",
    "            break\n",
    "\n",
    "        target_date = next_date\n",
    "        if target_date == last_date:\n",
    "            last_time = True\n",
    "\n",
    "    ret_df = pd.DataFrame({})\n",
    "    ret_df['Target Date'] = dates\n",
    "\n",
    "    X = np.array(X)\n",
    "    for i in range(n):\n",
    "        ret_df[f'Target-{n-i}'] = X[:, i]\n",
    "\n",
    "    ret_df['Target'] = Y\n",
    "\n",
    "    return ret_df\n",
    "\n",
    "def adjust_dates_to_available(df, start_date, end_date):\n",
    "    if start_date not in df.index:\n",
    "        start_date = df.index[df.index.get_indexer([start_date], method='nearest')[0]]\n",
    "        print(f'Data inicial ajustada para {start_date}')\n",
    "\n",
    "    if end_date not in df.index:\n",
    "        end_date = df.index[df.index.get_indexer([end_date], method='nearest')[0]]\n",
    "        print(f'Data final ajustada para {end_date}')\n",
    "    \n",
    "    return start_date, end_date\n",
    "\n",
    "\n",
    "def windowed_df_to_date_X_y(windowed_dataframe):\n",
    "    if windowed_dataframe is None or windowed_dataframe.empty:\n",
    "        raise ValueError(\"O DataFrame de janela está vazio ou é None. Verifique as entradas.\")\n",
    "\n",
    "    df_as_np = windowed_dataframe.to_numpy()\n",
    "    dates = df_as_np[:, 0]\n",
    "    middle_matrix = df_as_np[:, 1:-1]\n",
    "    X = middle_matrix.reshape((len(dates), middle_matrix.shape[1], 1))\n",
    "    Y = df_as_np[:, -1]\n",
    "\n",
    "    return dates, X.astype(np.float32), Y.astype(np.float32)\n",
    "\n",
    "\n",
    "\n",
    "def train_model(ticker, start_date, end_date, window_size):\n",
    "    df = yf.Ticker(ticker).history(period='max')\n",
    "    df = df[['Close']]\n",
    "    \n",
    "\n",
    "    df.index = pd.to_datetime(df.index).tz_convert(None).normalize()\n",
    "\n",
    "\n",
    "    start_date = pd.to_datetime(start_date).normalize()\n",
    "    end_date = pd.to_datetime(end_date).normalize()\n",
    "\n",
    "    start_date, end_date = adjust_dates_to_available(df, start_date, end_date)\n",
    "\n",
    "    windowed_df = df_to_windowed_df(df, start_date.strftime('%Y-%m-%d'), end_date.strftime('%Y-%m-%d'), n=window_size)\n",
    "\n",
    "    if windowed_df is None or windowed_df.empty:\n",
    "        raise ValueError(\"Erro: df_to_windowed_df retornou um DataFrame vazio ou None.\")\n",
    "\n",
    "    dates, X, y = windowed_df_to_date_X_y(windowed_df)\n",
    "\n",
    "    q_80 = int(len(dates) * .8)\n",
    "    q_90 = int(len(dates) * .9)\n",
    "\n",
    "    dates_train, X_train, y_train = dates[:q_80], X[:q_80], y[:q_80]\n",
    "    dates_val, X_val, y_val = dates[q_80:q_90], X[q_80:q_90], y[q_80:q_90]\n",
    "    dates_test, X_test, y_test = dates[q_90:], X[q_90:], y[q_90:]\n",
    "\n",
    "    model = Sequential([\n",
    "        layers.Input((window_size, 1)),\n",
    "        layers.LSTM(70),\n",
    "        layers.Dense(32, activation='relu'),\n",
    "        layers.Dense(32, activation='relu'),\n",
    "        layers.Dense(1)\n",
    "    ])\n",
    "\n",
    "    model.compile(loss='mse',\n",
    "                  optimizer=Adam(learning_rate=0.001),\n",
    "                  metrics=['mean_absolute_error'])\n",
    "\n",
    "    model.fit(X_train, y_train, validation_data=(X_val, y_val), epochs=65)\n",
    "\n",
    "    return model, dates_test, X_test\n",
    "\n",
    "\n",
    "ticker = 'CSNA3.SA'\n",
    "start_date = '2024-01-08'\n",
    "end_date = '2024-11-29'\n",
    "window_size = 5\n",
    "\n",
    "model, dates_test, X_test = train_model(ticker, start_date, end_date, window_size)\n",
    "\n",
    "\n",
    "future_predictions = model.predict(X_test).flatten()\n",
    "\n",
    "\n",
    "plt.figure(figsize=(12, 6))\n",
    "plt.plot(dates_test, future_predictions, label='Future Predictions', color='orange')\n",
    "plt.title('Previsões Futuras do Modelo')\n",
    "plt.xlabel('Data')\n",
    "plt.ylabel('Preço Fechamento Previsto')\n",
    "plt.legend()\n",
    "plt.show()\n",
    "#=============== in case you have the data\n",
    "def get_actual_prices(ticker, start_date, end_date):\n",
    "    df = yf.Ticker(ticker).history(start=start_date, end=end_date)\n",
    "    df = df[['Close']]\n",
    "    df.index = pd.to_datetime(df.index).normalize()\n",
    "    return df\n",
    "\n",
    "\n",
    "# Buscar preços reais\n",
    "actual_prices_df = get_actual_prices(ticker, start_date, end_date)\n",
    "actual_dates = actual_prices_df.index\n",
    "actual_prices = actual_prices_df['Close'].to_numpy()\n",
    "\n",
    "fig = go.Figure()\n",
    "\n",
    "\n",
    "fig.add_trace(go.Scatter(\n",
    "    x=dates_test,\n",
    "    y=future_predictions,\n",
    "    mode='lines',\n",
    "    name='Future Predictions',\n",
    "    line=dict(color='orange')\n",
    "))\n",
    "\n",
    "\n",
    "fig.add_trace(go.Scatter(\n",
    "    x=actual_dates,\n",
    "    y=actual_prices,\n",
    "    mode='lines',\n",
    "    name='Actual Prices',\n",
    "    line=dict(color='blue')\n",
    "))\n",
    "\n",
    "\n",
    "fig.update_layout(\n",
    "    title='Comparação entre Previsões e Preços Reais',\n",
    "    xaxis_title='Data',\n",
    "    yaxis_title='Preço Fechamento',\n",
    "    legend=dict(x=0, y=1),\n",
    "    template='plotly_dark',\n",
    "    hovermode='x unified',\n",
    "    width=1000,\n",
    "    height=600\n",
    ")\n",
    "\n",
    "\n",
    "fig.show()\n"
   ]
  },
  {
   "cell_type": "markdown",
   "metadata": {},
   "source": [
    "Working as feeding loop state"
   ]
  },
  {
   "cell_type": "code",
   "execution_count": 116,
   "metadata": {},
   "outputs": [
    {
     "name": "stdout",
     "output_type": "stream",
     "text": [
      "Data final ajustada para 2024-10-28 00:00:00\n",
      "Epoch 1/65\n",
      "\u001b[1m23/23\u001b[0m \u001b[32m━━━━━━━━━━━━━━━━━━━━\u001b[0m\u001b[37m\u001b[0m \u001b[1m3s\u001b[0m 5ms/step - loss: 4.3007 - mean_absolute_error: 1.8762\n",
      "Epoch 2/65\n",
      "\u001b[1m23/23\u001b[0m \u001b[32m━━━━━━━━━━━━━━━━━━━━\u001b[0m\u001b[37m\u001b[0m \u001b[1m0s\u001b[0m 5ms/step - loss: 0.1450 - mean_absolute_error: 0.3203\n",
      "Epoch 3/65\n",
      "\u001b[1m23/23\u001b[0m \u001b[32m━━━━━━━━━━━━━━━━━━━━\u001b[0m\u001b[37m\u001b[0m \u001b[1m0s\u001b[0m 5ms/step - loss: 0.0325 - mean_absolute_error: 0.1488\n",
      "Epoch 4/65\n",
      "\u001b[1m23/23\u001b[0m \u001b[32m━━━━━━━━━━━━━━━━━━━━\u001b[0m\u001b[37m\u001b[0m \u001b[1m0s\u001b[0m 4ms/step - loss: 0.0259 - mean_absolute_error: 0.1347\n",
      "Epoch 5/65\n",
      "\u001b[1m23/23\u001b[0m \u001b[32m━━━━━━━━━━━━━━━━━━━━\u001b[0m\u001b[37m\u001b[0m \u001b[1m0s\u001b[0m 4ms/step - loss: 0.0233 - mean_absolute_error: 0.1316\n",
      "Epoch 6/65\n",
      "\u001b[1m23/23\u001b[0m \u001b[32m━━━━━━━━━━━━━━━━━━━━\u001b[0m\u001b[37m\u001b[0m \u001b[1m0s\u001b[0m 5ms/step - loss: 0.0215 - mean_absolute_error: 0.1242\n",
      "Epoch 7/65\n",
      "\u001b[1m23/23\u001b[0m \u001b[32m━━━━━━━━━━━━━━━━━━━━\u001b[0m\u001b[37m\u001b[0m \u001b[1m0s\u001b[0m 5ms/step - loss: 0.0172 - mean_absolute_error: 0.1107\n",
      "Epoch 8/65\n",
      "\u001b[1m23/23\u001b[0m \u001b[32m━━━━━━━━━━━━━━━━━━━━\u001b[0m\u001b[37m\u001b[0m \u001b[1m0s\u001b[0m 5ms/step - loss: 0.0159 - mean_absolute_error: 0.1072\n",
      "Epoch 9/65\n",
      "\u001b[1m23/23\u001b[0m \u001b[32m━━━━━━━━━━━━━━━━━━━━\u001b[0m\u001b[37m\u001b[0m \u001b[1m0s\u001b[0m 4ms/step - loss: 0.0138 - mean_absolute_error: 0.0982\n",
      "Epoch 10/65\n",
      "\u001b[1m23/23\u001b[0m \u001b[32m━━━━━━━━━━━━━━━━━━━━\u001b[0m\u001b[37m\u001b[0m \u001b[1m0s\u001b[0m 5ms/step - loss: 0.0123 - mean_absolute_error: 0.0925\n",
      "Epoch 11/65\n",
      "\u001b[1m23/23\u001b[0m \u001b[32m━━━━━━━━━━━━━━━━━━━━\u001b[0m\u001b[37m\u001b[0m \u001b[1m0s\u001b[0m 5ms/step - loss: 0.0104 - mean_absolute_error: 0.0858\n",
      "Epoch 12/65\n",
      "\u001b[1m23/23\u001b[0m \u001b[32m━━━━━━━━━━━━━━━━━━━━\u001b[0m\u001b[37m\u001b[0m \u001b[1m0s\u001b[0m 4ms/step - loss: 0.0092 - mean_absolute_error: 0.0788\n",
      "Epoch 13/65\n",
      "\u001b[1m23/23\u001b[0m \u001b[32m━━━━━━━━━━━━━━━━━━━━\u001b[0m\u001b[37m\u001b[0m \u001b[1m0s\u001b[0m 6ms/step - loss: 0.0086 - mean_absolute_error: 0.0747\n",
      "Epoch 14/65\n",
      "\u001b[1m23/23\u001b[0m \u001b[32m━━━━━━━━━━━━━━━━━━━━\u001b[0m\u001b[37m\u001b[0m \u001b[1m0s\u001b[0m 6ms/step - loss: 0.0072 - mean_absolute_error: 0.0680\n",
      "Epoch 15/65\n",
      "\u001b[1m23/23\u001b[0m \u001b[32m━━━━━━━━━━━━━━━━━━━━\u001b[0m\u001b[37m\u001b[0m \u001b[1m0s\u001b[0m 6ms/step - loss: 0.0062 - mean_absolute_error: 0.0640\n",
      "Epoch 16/65\n",
      "\u001b[1m23/23\u001b[0m \u001b[32m━━━━━━━━━━━━━━━━━━━━\u001b[0m\u001b[37m\u001b[0m \u001b[1m0s\u001b[0m 4ms/step - loss: 0.0064 - mean_absolute_error: 0.0646\n",
      "Epoch 17/65\n",
      "\u001b[1m23/23\u001b[0m \u001b[32m━━━━━━━━━━━━━━━━━━━━\u001b[0m\u001b[37m\u001b[0m \u001b[1m0s\u001b[0m 5ms/step - loss: 0.0057 - mean_absolute_error: 0.0599\n",
      "Epoch 18/65\n",
      "\u001b[1m23/23\u001b[0m \u001b[32m━━━━━━━━━━━━━━━━━━━━\u001b[0m\u001b[37m\u001b[0m \u001b[1m0s\u001b[0m 5ms/step - loss: 0.0060 - mean_absolute_error: 0.0616\n",
      "Epoch 19/65\n",
      "\u001b[1m23/23\u001b[0m \u001b[32m━━━━━━━━━━━━━━━━━━━━\u001b[0m\u001b[37m\u001b[0m \u001b[1m0s\u001b[0m 5ms/step - loss: 0.0053 - mean_absolute_error: 0.0583\n",
      "Epoch 20/65\n",
      "\u001b[1m23/23\u001b[0m \u001b[32m━━━━━━━━━━━━━━━━━━━━\u001b[0m\u001b[37m\u001b[0m \u001b[1m0s\u001b[0m 5ms/step - loss: 0.0054 - mean_absolute_error: 0.0583\n",
      "Epoch 21/65\n",
      "\u001b[1m23/23\u001b[0m \u001b[32m━━━━━━━━━━━━━━━━━━━━\u001b[0m\u001b[37m\u001b[0m \u001b[1m0s\u001b[0m 5ms/step - loss: 0.0054 - mean_absolute_error: 0.0589\n",
      "Epoch 22/65\n",
      "\u001b[1m23/23\u001b[0m \u001b[32m━━━━━━━━━━━━━━━━━━━━\u001b[0m\u001b[37m\u001b[0m \u001b[1m0s\u001b[0m 4ms/step - loss: 0.0049 - mean_absolute_error: 0.0558\n",
      "Epoch 23/65\n",
      "\u001b[1m23/23\u001b[0m \u001b[32m━━━━━━━━━━━━━━━━━━━━\u001b[0m\u001b[37m\u001b[0m \u001b[1m0s\u001b[0m 5ms/step - loss: 0.0049 - mean_absolute_error: 0.0555\n",
      "Epoch 24/65\n",
      "\u001b[1m23/23\u001b[0m \u001b[32m━━━━━━━━━━━━━━━━━━━━\u001b[0m\u001b[37m\u001b[0m \u001b[1m0s\u001b[0m 5ms/step - loss: 0.0054 - mean_absolute_error: 0.0588\n",
      "Epoch 25/65\n",
      "\u001b[1m23/23\u001b[0m \u001b[32m━━━━━━━━━━━━━━━━━━━━\u001b[0m\u001b[37m\u001b[0m \u001b[1m0s\u001b[0m 5ms/step - loss: 0.0053 - mean_absolute_error: 0.0571\n",
      "Epoch 26/65\n",
      "\u001b[1m23/23\u001b[0m \u001b[32m━━━━━━━━━━━━━━━━━━━━\u001b[0m\u001b[37m\u001b[0m \u001b[1m0s\u001b[0m 5ms/step - loss: 0.0051 - mean_absolute_error: 0.0565\n",
      "Epoch 27/65\n",
      "\u001b[1m23/23\u001b[0m \u001b[32m━━━━━━━━━━━━━━━━━━━━\u001b[0m\u001b[37m\u001b[0m \u001b[1m0s\u001b[0m 5ms/step - loss: 0.0062 - mean_absolute_error: 0.0624\n",
      "Epoch 28/65\n",
      "\u001b[1m23/23\u001b[0m \u001b[32m━━━━━━━━━━━━━━━━━━━━\u001b[0m\u001b[37m\u001b[0m \u001b[1m0s\u001b[0m 5ms/step - loss: 0.0058 - mean_absolute_error: 0.0585\n",
      "Epoch 29/65\n",
      "\u001b[1m23/23\u001b[0m \u001b[32m━━━━━━━━━━━━━━━━━━━━\u001b[0m\u001b[37m\u001b[0m \u001b[1m0s\u001b[0m 5ms/step - loss: 0.0053 - mean_absolute_error: 0.0571\n",
      "Epoch 30/65\n",
      "\u001b[1m23/23\u001b[0m \u001b[32m━━━━━━━━━━━━━━━━━━━━\u001b[0m\u001b[37m\u001b[0m \u001b[1m0s\u001b[0m 5ms/step - loss: 0.0054 - mean_absolute_error: 0.0579\n",
      "Epoch 31/65\n",
      "\u001b[1m23/23\u001b[0m \u001b[32m━━━━━━━━━━━━━━━━━━━━\u001b[0m\u001b[37m\u001b[0m \u001b[1m0s\u001b[0m 5ms/step - loss: 0.0050 - mean_absolute_error: 0.0556\n",
      "Epoch 32/65\n",
      "\u001b[1m23/23\u001b[0m \u001b[32m━━━━━━━━━━━━━━━━━━━━\u001b[0m\u001b[37m\u001b[0m \u001b[1m0s\u001b[0m 5ms/step - loss: 0.0053 - mean_absolute_error: 0.0566\n",
      "Epoch 33/65\n",
      "\u001b[1m23/23\u001b[0m \u001b[32m━━━━━━━━━━━━━━━━━━━━\u001b[0m\u001b[37m\u001b[0m \u001b[1m0s\u001b[0m 5ms/step - loss: 0.0055 - mean_absolute_error: 0.0580\n",
      "Epoch 34/65\n",
      "\u001b[1m23/23\u001b[0m \u001b[32m━━━━━━━━━━━━━━━━━━━━\u001b[0m\u001b[37m\u001b[0m \u001b[1m0s\u001b[0m 4ms/step - loss: 0.0054 - mean_absolute_error: 0.0593\n",
      "Epoch 35/65\n",
      "\u001b[1m23/23\u001b[0m \u001b[32m━━━━━━━━━━━━━━━━━━━━\u001b[0m\u001b[37m\u001b[0m \u001b[1m0s\u001b[0m 4ms/step - loss: 0.0052 - mean_absolute_error: 0.0571\n",
      "Epoch 36/65\n",
      "\u001b[1m23/23\u001b[0m \u001b[32m━━━━━━━━━━━━━━━━━━━━\u001b[0m\u001b[37m\u001b[0m \u001b[1m0s\u001b[0m 5ms/step - loss: 0.0053 - mean_absolute_error: 0.0583\n",
      "Epoch 37/65\n",
      "\u001b[1m23/23\u001b[0m \u001b[32m━━━━━━━━━━━━━━━━━━━━\u001b[0m\u001b[37m\u001b[0m \u001b[1m0s\u001b[0m 5ms/step - loss: 0.0051 - mean_absolute_error: 0.0580\n",
      "Epoch 38/65\n",
      "\u001b[1m23/23\u001b[0m \u001b[32m━━━━━━━━━━━━━━━━━━━━\u001b[0m\u001b[37m\u001b[0m \u001b[1m0s\u001b[0m 4ms/step - loss: 0.0050 - mean_absolute_error: 0.0564\n",
      "Epoch 39/65\n",
      "\u001b[1m23/23\u001b[0m \u001b[32m━━━━━━━━━━━━━━━━━━━━\u001b[0m\u001b[37m\u001b[0m \u001b[1m0s\u001b[0m 6ms/step - loss: 0.0047 - mean_absolute_error: 0.0543\n",
      "Epoch 40/65\n",
      "\u001b[1m23/23\u001b[0m \u001b[32m━━━━━━━━━━━━━━━━━━━━\u001b[0m\u001b[37m\u001b[0m \u001b[1m0s\u001b[0m 6ms/step - loss: 0.0047 - mean_absolute_error: 0.0539\n",
      "Epoch 41/65\n",
      "\u001b[1m23/23\u001b[0m \u001b[32m━━━━━━━━━━━━━━━━━━━━\u001b[0m\u001b[37m\u001b[0m \u001b[1m0s\u001b[0m 6ms/step - loss: 0.0048 - mean_absolute_error: 0.0552\n",
      "Epoch 42/65\n",
      "\u001b[1m23/23\u001b[0m \u001b[32m━━━━━━━━━━━━━━━━━━━━\u001b[0m\u001b[37m\u001b[0m \u001b[1m0s\u001b[0m 6ms/step - loss: 0.0057 - mean_absolute_error: 0.0585\n",
      "Epoch 43/65\n",
      "\u001b[1m23/23\u001b[0m \u001b[32m━━━━━━━━━━━━━━━━━━━━\u001b[0m\u001b[37m\u001b[0m \u001b[1m0s\u001b[0m 7ms/step - loss: 0.0047 - mean_absolute_error: 0.0541\n",
      "Epoch 44/65\n",
      "\u001b[1m23/23\u001b[0m \u001b[32m━━━━━━━━━━━━━━━━━━━━\u001b[0m\u001b[37m\u001b[0m \u001b[1m0s\u001b[0m 7ms/step - loss: 0.0054 - mean_absolute_error: 0.0584\n",
      "Epoch 45/65\n",
      "\u001b[1m23/23\u001b[0m \u001b[32m━━━━━━━━━━━━━━━━━━━━\u001b[0m\u001b[37m\u001b[0m \u001b[1m0s\u001b[0m 6ms/step - loss: 0.0048 - mean_absolute_error: 0.0555\n",
      "Epoch 46/65\n",
      "\u001b[1m23/23\u001b[0m \u001b[32m━━━━━━━━━━━━━━━━━━━━\u001b[0m\u001b[37m\u001b[0m \u001b[1m0s\u001b[0m 7ms/step - loss: 0.0050 - mean_absolute_error: 0.0561\n",
      "Epoch 47/65\n",
      "\u001b[1m23/23\u001b[0m \u001b[32m━━━━━━━━━━━━━━━━━━━━\u001b[0m\u001b[37m\u001b[0m \u001b[1m0s\u001b[0m 6ms/step - loss: 0.0052 - mean_absolute_error: 0.0570\n",
      "Epoch 48/65\n",
      "\u001b[1m23/23\u001b[0m \u001b[32m━━━━━━━━━━━━━━━━━━━━\u001b[0m\u001b[37m\u001b[0m \u001b[1m0s\u001b[0m 5ms/step - loss: 0.0050 - mean_absolute_error: 0.0567\n",
      "Epoch 49/65\n",
      "\u001b[1m23/23\u001b[0m \u001b[32m━━━━━━━━━━━━━━━━━━━━\u001b[0m\u001b[37m\u001b[0m \u001b[1m0s\u001b[0m 5ms/step - loss: 0.0044 - mean_absolute_error: 0.0521\n",
      "Epoch 50/65\n",
      "\u001b[1m23/23\u001b[0m \u001b[32m━━━━━━━━━━━━━━━━━━━━\u001b[0m\u001b[37m\u001b[0m \u001b[1m0s\u001b[0m 4ms/step - loss: 0.0046 - mean_absolute_error: 0.0538\n",
      "Epoch 51/65\n",
      "\u001b[1m23/23\u001b[0m \u001b[32m━━━━━━━━━━━━━━━━━━━━\u001b[0m\u001b[37m\u001b[0m \u001b[1m0s\u001b[0m 5ms/step - loss: 0.0049 - mean_absolute_error: 0.0557\n",
      "Epoch 52/65\n",
      "\u001b[1m23/23\u001b[0m \u001b[32m━━━━━━━━━━━━━━━━━━━━\u001b[0m\u001b[37m\u001b[0m \u001b[1m0s\u001b[0m 5ms/step - loss: 0.0055 - mean_absolute_error: 0.0595\n",
      "Epoch 53/65\n",
      "\u001b[1m23/23\u001b[0m \u001b[32m━━━━━━━━━━━━━━━━━━━━\u001b[0m\u001b[37m\u001b[0m \u001b[1m0s\u001b[0m 5ms/step - loss: 0.0047 - mean_absolute_error: 0.0555\n",
      "Epoch 54/65\n",
      "\u001b[1m23/23\u001b[0m \u001b[32m━━━━━━━━━━━━━━━━━━━━\u001b[0m\u001b[37m\u001b[0m \u001b[1m0s\u001b[0m 5ms/step - loss: 0.0049 - mean_absolute_error: 0.0555\n",
      "Epoch 55/65\n",
      "\u001b[1m23/23\u001b[0m \u001b[32m━━━━━━━━━━━━━━━━━━━━\u001b[0m\u001b[37m\u001b[0m \u001b[1m0s\u001b[0m 5ms/step - loss: 0.0048 - mean_absolute_error: 0.0557\n",
      "Epoch 56/65\n",
      "\u001b[1m23/23\u001b[0m \u001b[32m━━━━━━━━━━━━━━━━━━━━\u001b[0m\u001b[37m\u001b[0m \u001b[1m0s\u001b[0m 5ms/step - loss: 0.0049 - mean_absolute_error: 0.0553\n",
      "Epoch 57/65\n",
      "\u001b[1m23/23\u001b[0m \u001b[32m━━━━━━━━━━━━━━━━━━━━\u001b[0m\u001b[37m\u001b[0m \u001b[1m0s\u001b[0m 4ms/step - loss: 0.0052 - mean_absolute_error: 0.0570\n",
      "Epoch 58/65\n",
      "\u001b[1m23/23\u001b[0m \u001b[32m━━━━━━━━━━━━━━━━━━━━\u001b[0m\u001b[37m\u001b[0m \u001b[1m0s\u001b[0m 5ms/step - loss: 0.0052 - mean_absolute_error: 0.0570\n",
      "Epoch 59/65\n",
      "\u001b[1m23/23\u001b[0m \u001b[32m━━━━━━━━━━━━━━━━━━━━\u001b[0m\u001b[37m\u001b[0m \u001b[1m0s\u001b[0m 5ms/step - loss: 0.0044 - mean_absolute_error: 0.0524\n",
      "Epoch 60/65\n",
      "\u001b[1m23/23\u001b[0m \u001b[32m━━━━━━━━━━━━━━━━━━━━\u001b[0m\u001b[37m\u001b[0m \u001b[1m0s\u001b[0m 4ms/step - loss: 0.0047 - mean_absolute_error: 0.0557\n",
      "Epoch 61/65\n",
      "\u001b[1m23/23\u001b[0m \u001b[32m━━━━━━━━━━━━━━━━━━━━\u001b[0m\u001b[37m\u001b[0m \u001b[1m0s\u001b[0m 5ms/step - loss: 0.0044 - mean_absolute_error: 0.0528\n",
      "Epoch 62/65\n",
      "\u001b[1m23/23\u001b[0m \u001b[32m━━━━━━━━━━━━━━━━━━━━\u001b[0m\u001b[37m\u001b[0m \u001b[1m0s\u001b[0m 6ms/step - loss: 0.0051 - mean_absolute_error: 0.0569\n",
      "Epoch 63/65\n",
      "\u001b[1m23/23\u001b[0m \u001b[32m━━━━━━━━━━━━━━━━━━━━\u001b[0m\u001b[37m\u001b[0m \u001b[1m0s\u001b[0m 6ms/step - loss: 0.0050 - mean_absolute_error: 0.0563\n",
      "Epoch 64/65\n",
      "\u001b[1m23/23\u001b[0m \u001b[32m━━━━━━━━━━━━━━━━━━━━\u001b[0m\u001b[37m\u001b[0m \u001b[1m0s\u001b[0m 5ms/step - loss: 0.0049 - mean_absolute_error: 0.0560\n",
      "Epoch 65/65\n",
      "\u001b[1m23/23\u001b[0m \u001b[32m━━━━━━━━━━━━━━━━━━━━\u001b[0m\u001b[37m\u001b[0m \u001b[1m0s\u001b[0m 5ms/step - loss: 0.0047 - mean_absolute_error: 0.0541\n",
      "\u001b[1m1/1\u001b[0m \u001b[32m━━━━━━━━━━━━━━━━━━━━\u001b[0m\u001b[37m\u001b[0m \u001b[1m0s\u001b[0m 192ms/step\n",
      "\u001b[1m1/1\u001b[0m \u001b[32m━━━━━━━━━━━━━━━━━━━━\u001b[0m\u001b[37m\u001b[0m \u001b[1m0s\u001b[0m 45ms/step\n",
      "\u001b[1m1/1\u001b[0m \u001b[32m━━━━━━━━━━━━━━━━━━━━\u001b[0m\u001b[37m\u001b[0m \u001b[1m0s\u001b[0m 37ms/step\n",
      "\u001b[1m1/1\u001b[0m \u001b[32m━━━━━━━━━━━━━━━━━━━━\u001b[0m\u001b[37m\u001b[0m \u001b[1m0s\u001b[0m 38ms/step\n",
      "\u001b[1m1/1\u001b[0m \u001b[32m━━━━━━━━━━━━━━━━━━━━\u001b[0m\u001b[37m\u001b[0m \u001b[1m0s\u001b[0m 40ms/step\n",
      "\u001b[1m1/1\u001b[0m \u001b[32m━━━━━━━━━━━━━━━━━━━━\u001b[0m\u001b[37m\u001b[0m \u001b[1m0s\u001b[0m 41ms/step\n",
      "\u001b[1m1/1\u001b[0m \u001b[32m━━━━━━━━━━━━━━━━━━━━\u001b[0m\u001b[37m\u001b[0m \u001b[1m0s\u001b[0m 38ms/step\n",
      "\u001b[1m1/1\u001b[0m \u001b[32m━━━━━━━━━━━━━━━━━━━━\u001b[0m\u001b[37m\u001b[0m \u001b[1m0s\u001b[0m 36ms/step\n",
      "\u001b[1m1/1\u001b[0m \u001b[32m━━━━━━━━━━━━━━━━━━━━\u001b[0m\u001b[37m\u001b[0m \u001b[1m0s\u001b[0m 42ms/step\n",
      "\u001b[1m1/1\u001b[0m \u001b[32m━━━━━━━━━━━━━━━━━━━━\u001b[0m\u001b[37m\u001b[0m \u001b[1m0s\u001b[0m 41ms/step\n"
     ]
    },
    {
     "data": {
      "application/vnd.plotly.v1+json": {
       "config": {
        "plotlyServerURL": "https://plot.ly"
       },
       "data": [
        {
         "line": {
          "color": "blue"
         },
         "mode": "lines",
         "name": "Dados Históricos",
         "type": "scatter",
         "x": [
          "2021-11-22T00:00:00",
          "2021-11-23T00:00:00",
          "2021-11-24T00:00:00",
          "2021-11-25T00:00:00",
          "2021-11-26T00:00:00",
          "2021-11-29T00:00:00",
          "2021-11-30T00:00:00",
          "2021-12-01T00:00:00",
          "2021-12-02T00:00:00",
          "2021-12-03T00:00:00",
          "2021-12-06T00:00:00",
          "2021-12-07T00:00:00",
          "2021-12-08T00:00:00",
          "2021-12-09T00:00:00",
          "2021-12-10T00:00:00",
          "2021-12-13T00:00:00",
          "2021-12-14T00:00:00",
          "2021-12-15T00:00:00",
          "2021-12-16T00:00:00",
          "2021-12-17T00:00:00",
          "2021-12-20T00:00:00",
          "2021-12-21T00:00:00",
          "2021-12-22T00:00:00",
          "2021-12-23T00:00:00",
          "2021-12-27T00:00:00",
          "2021-12-28T00:00:00",
          "2021-12-29T00:00:00",
          "2021-12-30T00:00:00",
          "2022-01-03T00:00:00",
          "2022-01-04T00:00:00",
          "2022-01-05T00:00:00",
          "2022-01-06T00:00:00",
          "2022-01-07T00:00:00",
          "2022-01-10T00:00:00",
          "2022-01-11T00:00:00",
          "2022-01-12T00:00:00",
          "2022-01-13T00:00:00",
          "2022-01-14T00:00:00",
          "2022-01-17T00:00:00",
          "2022-01-18T00:00:00",
          "2022-01-19T00:00:00",
          "2022-01-20T00:00:00",
          "2022-01-21T00:00:00",
          "2022-01-24T00:00:00",
          "2022-01-25T00:00:00",
          "2022-01-26T00:00:00",
          "2022-01-27T00:00:00",
          "2022-01-28T00:00:00",
          "2022-01-31T00:00:00",
          "2022-02-01T00:00:00",
          "2022-02-02T00:00:00",
          "2022-02-03T00:00:00",
          "2022-02-04T00:00:00",
          "2022-02-07T00:00:00",
          "2022-02-08T00:00:00",
          "2022-02-09T00:00:00",
          "2022-02-10T00:00:00",
          "2022-02-11T00:00:00",
          "2022-02-14T00:00:00",
          "2022-02-15T00:00:00",
          "2022-02-16T00:00:00",
          "2022-02-17T00:00:00",
          "2022-02-18T00:00:00",
          "2022-02-21T00:00:00",
          "2022-02-22T00:00:00",
          "2022-02-23T00:00:00",
          "2022-02-24T00:00:00",
          "2022-02-25T00:00:00",
          "2022-03-02T00:00:00",
          "2022-03-03T00:00:00",
          "2022-03-04T00:00:00",
          "2022-03-07T00:00:00",
          "2022-03-08T00:00:00",
          "2022-03-09T00:00:00",
          "2022-03-10T00:00:00",
          "2022-03-11T00:00:00",
          "2022-03-14T00:00:00",
          "2022-03-15T00:00:00",
          "2022-03-16T00:00:00",
          "2022-03-17T00:00:00",
          "2022-03-18T00:00:00",
          "2022-03-21T00:00:00",
          "2022-03-22T00:00:00",
          "2022-03-23T00:00:00",
          "2022-03-24T00:00:00",
          "2022-03-25T00:00:00",
          "2022-03-28T00:00:00",
          "2022-03-29T00:00:00",
          "2022-03-30T00:00:00",
          "2022-03-31T00:00:00",
          "2022-04-01T00:00:00",
          "2022-04-04T00:00:00",
          "2022-04-05T00:00:00",
          "2022-04-06T00:00:00",
          "2022-04-07T00:00:00",
          "2022-04-08T00:00:00",
          "2022-04-11T00:00:00",
          "2022-04-12T00:00:00",
          "2022-04-13T00:00:00",
          "2022-04-14T00:00:00",
          "2022-04-18T00:00:00",
          "2022-04-19T00:00:00",
          "2022-04-20T00:00:00",
          "2022-04-22T00:00:00",
          "2022-04-25T00:00:00",
          "2022-04-26T00:00:00",
          "2022-04-27T00:00:00",
          "2022-04-28T00:00:00",
          "2022-04-29T00:00:00",
          "2022-05-02T00:00:00",
          "2022-05-03T00:00:00",
          "2022-05-04T00:00:00",
          "2022-05-05T00:00:00",
          "2022-05-06T00:00:00",
          "2022-05-09T00:00:00",
          "2022-05-10T00:00:00",
          "2022-05-11T00:00:00",
          "2022-05-12T00:00:00",
          "2022-05-13T00:00:00",
          "2022-05-16T00:00:00",
          "2022-05-17T00:00:00",
          "2022-05-18T00:00:00",
          "2022-05-19T00:00:00",
          "2022-05-20T00:00:00",
          "2022-05-23T00:00:00",
          "2022-05-24T00:00:00",
          "2022-05-25T00:00:00",
          "2022-05-26T00:00:00",
          "2022-05-27T00:00:00",
          "2022-05-30T00:00:00",
          "2022-05-31T00:00:00",
          "2022-06-01T00:00:00",
          "2022-06-02T00:00:00",
          "2022-06-03T00:00:00",
          "2022-06-06T00:00:00",
          "2022-06-07T00:00:00",
          "2022-06-08T00:00:00",
          "2022-06-09T00:00:00",
          "2022-06-10T00:00:00",
          "2022-06-13T00:00:00",
          "2022-06-14T00:00:00",
          "2022-06-15T00:00:00",
          "2022-06-17T00:00:00",
          "2022-06-20T00:00:00",
          "2022-06-21T00:00:00",
          "2022-06-22T00:00:00",
          "2022-06-23T00:00:00",
          "2022-06-24T00:00:00",
          "2022-06-27T00:00:00",
          "2022-06-28T00:00:00",
          "2022-06-29T00:00:00",
          "2022-06-30T00:00:00",
          "2022-07-01T00:00:00",
          "2022-07-04T00:00:00",
          "2022-07-05T00:00:00",
          "2022-07-06T00:00:00",
          "2022-07-07T00:00:00",
          "2022-07-08T00:00:00",
          "2022-07-11T00:00:00",
          "2022-07-12T00:00:00",
          "2022-07-13T00:00:00",
          "2022-07-14T00:00:00",
          "2022-07-15T00:00:00",
          "2022-07-18T00:00:00",
          "2022-07-19T00:00:00",
          "2022-07-20T00:00:00",
          "2022-07-21T00:00:00",
          "2022-07-22T00:00:00",
          "2022-07-25T00:00:00",
          "2022-07-26T00:00:00",
          "2022-07-27T00:00:00",
          "2022-07-28T00:00:00",
          "2022-07-29T00:00:00",
          "2022-08-01T00:00:00",
          "2022-08-02T00:00:00",
          "2022-08-03T00:00:00",
          "2022-08-04T00:00:00",
          "2022-08-05T00:00:00",
          "2022-08-08T00:00:00",
          "2022-08-09T00:00:00",
          "2022-08-10T00:00:00",
          "2022-08-11T00:00:00",
          "2022-08-12T00:00:00",
          "2022-08-15T00:00:00",
          "2022-08-16T00:00:00",
          "2022-08-17T00:00:00",
          "2022-08-18T00:00:00",
          "2022-08-19T00:00:00",
          "2022-08-22T00:00:00",
          "2022-08-23T00:00:00",
          "2022-08-24T00:00:00",
          "2022-08-25T00:00:00",
          "2022-08-26T00:00:00",
          "2022-08-29T00:00:00",
          "2022-08-30T00:00:00",
          "2022-08-31T00:00:00",
          "2022-09-01T00:00:00",
          "2022-09-02T00:00:00",
          "2022-09-05T00:00:00",
          "2022-09-06T00:00:00",
          "2022-09-08T00:00:00",
          "2022-09-09T00:00:00",
          "2022-09-12T00:00:00",
          "2022-09-13T00:00:00",
          "2022-09-14T00:00:00",
          "2022-09-15T00:00:00",
          "2022-09-16T00:00:00",
          "2022-09-19T00:00:00",
          "2022-09-20T00:00:00",
          "2022-09-21T00:00:00",
          "2022-09-22T00:00:00",
          "2022-09-23T00:00:00",
          "2022-09-26T00:00:00",
          "2022-09-27T00:00:00",
          "2022-09-28T00:00:00",
          "2022-09-29T00:00:00",
          "2022-09-30T00:00:00",
          "2022-10-03T00:00:00",
          "2022-10-04T00:00:00",
          "2022-10-05T00:00:00",
          "2022-10-06T00:00:00",
          "2022-10-07T00:00:00",
          "2022-10-10T00:00:00",
          "2022-10-11T00:00:00",
          "2022-10-13T00:00:00",
          "2022-10-14T00:00:00",
          "2022-10-17T00:00:00",
          "2022-10-18T00:00:00",
          "2022-10-19T00:00:00",
          "2022-10-20T00:00:00",
          "2022-10-21T00:00:00",
          "2022-10-24T00:00:00",
          "2022-10-25T00:00:00",
          "2022-10-26T00:00:00",
          "2022-10-27T00:00:00",
          "2022-10-28T00:00:00",
          "2022-10-31T00:00:00",
          "2022-11-01T00:00:00",
          "2022-11-03T00:00:00",
          "2022-11-04T00:00:00",
          "2022-11-07T00:00:00",
          "2022-11-08T00:00:00",
          "2022-11-09T00:00:00",
          "2022-11-10T00:00:00",
          "2022-11-11T00:00:00",
          "2022-11-14T00:00:00",
          "2022-11-16T00:00:00",
          "2022-11-17T00:00:00",
          "2022-11-18T00:00:00",
          "2022-11-21T00:00:00",
          "2022-11-22T00:00:00",
          "2022-11-23T00:00:00",
          "2022-11-24T00:00:00",
          "2022-11-25T00:00:00",
          "2022-11-28T00:00:00",
          "2022-11-29T00:00:00",
          "2022-11-30T00:00:00",
          "2022-12-01T00:00:00",
          "2022-12-02T00:00:00",
          "2022-12-05T00:00:00",
          "2022-12-06T00:00:00",
          "2022-12-07T00:00:00",
          "2022-12-08T00:00:00",
          "2022-12-09T00:00:00",
          "2022-12-12T00:00:00",
          "2022-12-13T00:00:00",
          "2022-12-14T00:00:00",
          "2022-12-15T00:00:00",
          "2022-12-16T00:00:00",
          "2022-12-19T00:00:00",
          "2022-12-20T00:00:00",
          "2022-12-21T00:00:00",
          "2022-12-22T00:00:00",
          "2022-12-23T00:00:00",
          "2022-12-26T00:00:00",
          "2022-12-27T00:00:00",
          "2022-12-28T00:00:00",
          "2022-12-29T00:00:00",
          "2023-01-02T00:00:00",
          "2023-01-03T00:00:00",
          "2023-01-04T00:00:00",
          "2023-01-05T00:00:00",
          "2023-01-06T00:00:00",
          "2023-01-09T00:00:00",
          "2023-01-10T00:00:00",
          "2023-01-11T00:00:00",
          "2023-01-12T00:00:00",
          "2023-01-13T00:00:00",
          "2023-01-16T00:00:00",
          "2023-01-17T00:00:00",
          "2023-01-18T00:00:00",
          "2023-01-19T00:00:00",
          "2023-01-20T00:00:00",
          "2023-01-23T00:00:00",
          "2023-01-24T00:00:00",
          "2023-01-25T00:00:00",
          "2023-01-26T00:00:00",
          "2023-01-27T00:00:00",
          "2023-01-30T00:00:00",
          "2023-01-31T00:00:00",
          "2023-02-01T00:00:00",
          "2023-02-02T00:00:00",
          "2023-02-03T00:00:00",
          "2023-02-06T00:00:00",
          "2023-02-07T00:00:00",
          "2023-02-08T00:00:00",
          "2023-02-09T00:00:00",
          "2023-02-10T00:00:00",
          "2023-02-13T00:00:00",
          "2023-02-14T00:00:00",
          "2023-02-15T00:00:00",
          "2023-02-16T00:00:00",
          "2023-02-17T00:00:00",
          "2023-02-22T00:00:00",
          "2023-02-23T00:00:00",
          "2023-02-24T00:00:00",
          "2023-02-27T00:00:00",
          "2023-02-28T00:00:00",
          "2023-03-01T00:00:00",
          "2023-03-02T00:00:00",
          "2023-03-03T00:00:00",
          "2023-03-06T00:00:00",
          "2023-03-07T00:00:00",
          "2023-03-08T00:00:00",
          "2023-03-09T00:00:00",
          "2023-03-10T00:00:00",
          "2023-03-13T00:00:00",
          "2023-03-14T00:00:00",
          "2023-03-15T00:00:00",
          "2023-03-16T00:00:00",
          "2023-03-17T00:00:00",
          "2023-03-20T00:00:00",
          "2023-03-21T00:00:00",
          "2023-03-22T00:00:00",
          "2023-03-23T00:00:00",
          "2023-03-24T00:00:00",
          "2023-03-27T00:00:00",
          "2023-03-28T00:00:00",
          "2023-03-29T00:00:00",
          "2023-03-30T00:00:00",
          "2023-03-31T00:00:00",
          "2023-04-03T00:00:00",
          "2023-04-04T00:00:00",
          "2023-04-05T00:00:00",
          "2023-04-06T00:00:00",
          "2023-04-10T00:00:00",
          "2023-04-11T00:00:00",
          "2023-04-12T00:00:00",
          "2023-04-13T00:00:00",
          "2023-04-14T00:00:00",
          "2023-04-17T00:00:00",
          "2023-04-18T00:00:00",
          "2023-04-19T00:00:00",
          "2023-04-20T00:00:00",
          "2023-04-24T00:00:00",
          "2023-04-25T00:00:00",
          "2023-04-26T00:00:00",
          "2023-04-27T00:00:00",
          "2023-04-28T00:00:00",
          "2023-05-02T00:00:00",
          "2023-05-03T00:00:00",
          "2023-05-04T00:00:00",
          "2023-05-05T00:00:00",
          "2023-05-08T00:00:00",
          "2023-05-09T00:00:00",
          "2023-05-10T00:00:00",
          "2023-05-11T00:00:00",
          "2023-05-12T00:00:00",
          "2023-05-15T00:00:00",
          "2023-05-16T00:00:00",
          "2023-05-17T00:00:00",
          "2023-05-18T00:00:00",
          "2023-05-19T00:00:00",
          "2023-05-22T00:00:00",
          "2023-05-23T00:00:00",
          "2023-05-24T00:00:00",
          "2023-05-25T00:00:00",
          "2023-05-26T00:00:00",
          "2023-05-29T00:00:00",
          "2023-05-30T00:00:00",
          "2023-05-31T00:00:00",
          "2023-06-01T00:00:00",
          "2023-06-02T00:00:00",
          "2023-06-05T00:00:00",
          "2023-06-06T00:00:00",
          "2023-06-07T00:00:00",
          "2023-06-09T00:00:00",
          "2023-06-12T00:00:00",
          "2023-06-13T00:00:00",
          "2023-06-14T00:00:00",
          "2023-06-15T00:00:00",
          "2023-06-16T00:00:00",
          "2023-06-19T00:00:00",
          "2023-06-20T00:00:00",
          "2023-06-21T00:00:00",
          "2023-06-22T00:00:00",
          "2023-06-23T00:00:00",
          "2023-06-26T00:00:00",
          "2023-06-27T00:00:00",
          "2023-06-28T00:00:00",
          "2023-06-29T00:00:00",
          "2023-06-30T00:00:00",
          "2023-07-03T00:00:00",
          "2023-07-04T00:00:00",
          "2023-07-05T00:00:00",
          "2023-07-06T00:00:00",
          "2023-07-07T00:00:00",
          "2023-07-10T00:00:00",
          "2023-07-11T00:00:00",
          "2023-07-12T00:00:00",
          "2023-07-13T00:00:00",
          "2023-07-14T00:00:00",
          "2023-07-17T00:00:00",
          "2023-07-18T00:00:00",
          "2023-07-19T00:00:00",
          "2023-07-20T00:00:00",
          "2023-07-21T00:00:00",
          "2023-07-24T00:00:00",
          "2023-07-25T00:00:00",
          "2023-07-26T00:00:00",
          "2023-07-27T00:00:00",
          "2023-07-28T00:00:00",
          "2023-07-31T00:00:00",
          "2023-08-01T00:00:00",
          "2023-08-02T00:00:00",
          "2023-08-03T00:00:00",
          "2023-08-04T00:00:00",
          "2023-08-07T00:00:00",
          "2023-08-08T00:00:00",
          "2023-08-09T00:00:00",
          "2023-08-10T00:00:00",
          "2023-08-11T00:00:00",
          "2023-08-14T00:00:00",
          "2023-08-15T00:00:00",
          "2023-08-16T00:00:00",
          "2023-08-17T00:00:00",
          "2023-08-18T00:00:00",
          "2023-08-21T00:00:00",
          "2023-08-22T00:00:00",
          "2023-08-23T00:00:00",
          "2023-08-24T00:00:00",
          "2023-08-25T00:00:00",
          "2023-08-28T00:00:00",
          "2023-08-29T00:00:00",
          "2023-08-30T00:00:00",
          "2023-08-31T00:00:00",
          "2023-09-01T00:00:00",
          "2023-09-04T00:00:00",
          "2023-09-05T00:00:00",
          "2023-09-06T00:00:00",
          "2023-09-08T00:00:00",
          "2023-09-11T00:00:00",
          "2023-09-12T00:00:00",
          "2023-09-13T00:00:00",
          "2023-09-14T00:00:00",
          "2023-09-15T00:00:00",
          "2023-09-18T00:00:00",
          "2023-09-19T00:00:00",
          "2023-09-20T00:00:00",
          "2023-09-21T00:00:00",
          "2023-09-22T00:00:00",
          "2023-09-25T00:00:00",
          "2023-09-26T00:00:00",
          "2023-09-27T00:00:00",
          "2023-09-28T00:00:00",
          "2023-09-29T00:00:00",
          "2023-10-02T00:00:00",
          "2023-10-03T00:00:00",
          "2023-10-04T00:00:00",
          "2023-10-05T00:00:00",
          "2023-10-06T00:00:00",
          "2023-10-09T00:00:00",
          "2023-10-10T00:00:00",
          "2023-10-11T00:00:00",
          "2023-10-13T00:00:00",
          "2023-10-16T00:00:00",
          "2023-10-17T00:00:00",
          "2023-10-18T00:00:00",
          "2023-10-19T00:00:00",
          "2023-10-20T00:00:00",
          "2023-10-23T00:00:00",
          "2023-10-24T00:00:00",
          "2023-10-25T00:00:00",
          "2023-10-26T00:00:00",
          "2023-10-27T00:00:00",
          "2023-10-30T00:00:00",
          "2023-10-31T00:00:00",
          "2023-11-01T00:00:00",
          "2023-11-03T00:00:00",
          "2023-11-06T00:00:00",
          "2023-11-07T00:00:00",
          "2023-11-08T00:00:00",
          "2023-11-09T00:00:00",
          "2023-11-10T00:00:00",
          "2023-11-13T00:00:00",
          "2023-11-14T00:00:00",
          "2023-11-16T00:00:00",
          "2023-11-17T00:00:00",
          "2023-11-20T00:00:00",
          "2023-11-21T00:00:00",
          "2023-11-22T00:00:00",
          "2023-11-23T00:00:00",
          "2023-11-24T00:00:00",
          "2023-11-27T00:00:00",
          "2023-11-28T00:00:00",
          "2023-11-29T00:00:00",
          "2023-11-30T00:00:00",
          "2023-12-01T00:00:00",
          "2023-12-04T00:00:00",
          "2023-12-05T00:00:00",
          "2023-12-06T00:00:00",
          "2023-12-07T00:00:00",
          "2023-12-08T00:00:00",
          "2023-12-11T00:00:00",
          "2023-12-12T00:00:00",
          "2023-12-13T00:00:00",
          "2023-12-14T00:00:00",
          "2023-12-15T00:00:00",
          "2023-12-18T00:00:00",
          "2023-12-19T00:00:00",
          "2023-12-20T00:00:00",
          "2023-12-21T00:00:00",
          "2023-12-22T00:00:00",
          "2023-12-26T00:00:00",
          "2023-12-27T00:00:00",
          "2023-12-28T00:00:00",
          "2024-01-02T00:00:00",
          "2024-01-03T00:00:00",
          "2024-01-04T00:00:00",
          "2024-01-05T00:00:00",
          "2024-01-08T00:00:00",
          "2024-01-09T00:00:00",
          "2024-01-10T00:00:00",
          "2024-01-11T00:00:00",
          "2024-01-12T00:00:00",
          "2024-01-15T00:00:00",
          "2024-01-16T00:00:00",
          "2024-01-17T00:00:00",
          "2024-01-18T00:00:00",
          "2024-01-19T00:00:00",
          "2024-01-22T00:00:00",
          "2024-01-23T00:00:00",
          "2024-01-24T00:00:00",
          "2024-01-25T00:00:00",
          "2024-01-26T00:00:00",
          "2024-01-29T00:00:00",
          "2024-01-30T00:00:00",
          "2024-01-31T00:00:00",
          "2024-02-01T00:00:00",
          "2024-02-02T00:00:00",
          "2024-02-05T00:00:00",
          "2024-02-06T00:00:00",
          "2024-02-07T00:00:00",
          "2024-02-08T00:00:00",
          "2024-02-09T00:00:00",
          "2024-02-14T00:00:00",
          "2024-02-15T00:00:00",
          "2024-02-16T00:00:00",
          "2024-02-19T00:00:00",
          "2024-02-20T00:00:00",
          "2024-02-21T00:00:00",
          "2024-02-22T00:00:00",
          "2024-02-23T00:00:00",
          "2024-02-26T00:00:00",
          "2024-02-27T00:00:00",
          "2024-02-28T00:00:00",
          "2024-02-29T00:00:00",
          "2024-03-01T00:00:00",
          "2024-03-04T00:00:00",
          "2024-03-05T00:00:00",
          "2024-03-06T00:00:00",
          "2024-03-07T00:00:00",
          "2024-03-08T00:00:00",
          "2024-03-11T00:00:00",
          "2024-03-12T00:00:00",
          "2024-03-13T00:00:00",
          "2024-03-14T00:00:00",
          "2024-03-15T00:00:00",
          "2024-03-18T00:00:00",
          "2024-03-19T00:00:00",
          "2024-03-20T00:00:00",
          "2024-03-21T00:00:00",
          "2024-03-22T00:00:00",
          "2024-03-25T00:00:00",
          "2024-03-26T00:00:00",
          "2024-03-27T00:00:00",
          "2024-03-28T00:00:00",
          "2024-04-01T00:00:00",
          "2024-04-02T00:00:00",
          "2024-04-03T00:00:00",
          "2024-04-04T00:00:00",
          "2024-04-05T00:00:00",
          "2024-04-08T00:00:00",
          "2024-04-09T00:00:00",
          "2024-04-10T00:00:00",
          "2024-04-11T00:00:00",
          "2024-04-12T00:00:00",
          "2024-04-15T00:00:00",
          "2024-04-16T00:00:00",
          "2024-04-17T00:00:00",
          "2024-04-18T00:00:00",
          "2024-04-19T00:00:00",
          "2024-04-22T00:00:00",
          "2024-04-23T00:00:00",
          "2024-04-24T00:00:00",
          "2024-04-25T00:00:00",
          "2024-04-26T00:00:00",
          "2024-04-29T00:00:00",
          "2024-04-30T00:00:00",
          "2024-05-02T00:00:00",
          "2024-05-03T00:00:00",
          "2024-05-06T00:00:00",
          "2024-05-07T00:00:00",
          "2024-05-08T00:00:00",
          "2024-05-09T00:00:00",
          "2024-05-10T00:00:00",
          "2024-05-13T00:00:00",
          "2024-05-14T00:00:00",
          "2024-05-15T00:00:00",
          "2024-05-16T00:00:00",
          "2024-05-17T00:00:00",
          "2024-05-20T00:00:00",
          "2024-05-21T00:00:00",
          "2024-05-22T00:00:00",
          "2024-05-23T00:00:00",
          "2024-05-24T00:00:00",
          "2024-05-27T00:00:00",
          "2024-05-28T00:00:00",
          "2024-05-29T00:00:00",
          "2024-05-31T00:00:00",
          "2024-06-03T00:00:00",
          "2024-06-04T00:00:00",
          "2024-06-05T00:00:00",
          "2024-06-06T00:00:00",
          "2024-06-07T00:00:00",
          "2024-06-10T00:00:00",
          "2024-06-11T00:00:00",
          "2024-06-12T00:00:00",
          "2024-06-13T00:00:00",
          "2024-06-14T00:00:00",
          "2024-06-17T00:00:00",
          "2024-06-18T00:00:00",
          "2024-06-19T00:00:00",
          "2024-06-20T00:00:00",
          "2024-06-21T00:00:00",
          "2024-06-24T00:00:00",
          "2024-06-25T00:00:00",
          "2024-06-26T00:00:00",
          "2024-06-27T00:00:00",
          "2024-06-28T00:00:00",
          "2024-07-01T00:00:00",
          "2024-07-02T00:00:00",
          "2024-07-03T00:00:00",
          "2024-07-04T00:00:00",
          "2024-07-05T00:00:00",
          "2024-07-08T00:00:00",
          "2024-07-09T00:00:00",
          "2024-07-10T00:00:00",
          "2024-07-11T00:00:00",
          "2024-07-12T00:00:00",
          "2024-07-15T00:00:00",
          "2024-07-16T00:00:00",
          "2024-07-17T00:00:00",
          "2024-07-18T00:00:00",
          "2024-07-19T00:00:00",
          "2024-07-22T00:00:00",
          "2024-07-23T00:00:00",
          "2024-07-24T00:00:00",
          "2024-07-25T00:00:00",
          "2024-07-26T00:00:00",
          "2024-07-29T00:00:00",
          "2024-07-30T00:00:00",
          "2024-07-31T00:00:00",
          "2024-08-01T00:00:00",
          "2024-08-02T00:00:00",
          "2024-08-05T00:00:00",
          "2024-08-06T00:00:00",
          "2024-08-07T00:00:00",
          "2024-08-08T00:00:00",
          "2024-08-09T00:00:00",
          "2024-08-12T00:00:00",
          "2024-08-13T00:00:00",
          "2024-08-14T00:00:00",
          "2024-08-15T00:00:00",
          "2024-08-16T00:00:00",
          "2024-08-19T00:00:00",
          "2024-08-20T00:00:00",
          "2024-08-21T00:00:00",
          "2024-08-22T00:00:00",
          "2024-08-23T00:00:00",
          "2024-08-26T00:00:00",
          "2024-08-27T00:00:00",
          "2024-08-28T00:00:00",
          "2024-08-29T00:00:00",
          "2024-08-30T00:00:00",
          "2024-09-02T00:00:00",
          "2024-09-03T00:00:00",
          "2024-09-04T00:00:00",
          "2024-09-05T00:00:00",
          "2024-09-06T00:00:00",
          "2024-09-09T00:00:00",
          "2024-09-10T00:00:00",
          "2024-09-11T00:00:00",
          "2024-09-12T00:00:00",
          "2024-09-13T00:00:00",
          "2024-09-16T00:00:00",
          "2024-09-17T00:00:00",
          "2024-09-18T00:00:00",
          "2024-09-19T00:00:00",
          "2024-09-20T00:00:00",
          "2024-09-23T00:00:00",
          "2024-09-24T00:00:00",
          "2024-09-25T00:00:00",
          "2024-09-26T00:00:00",
          "2024-09-27T00:00:00",
          "2024-09-30T00:00:00",
          "2024-10-01T00:00:00",
          "2024-10-02T00:00:00",
          "2024-10-03T00:00:00",
          "2024-10-04T00:00:00",
          "2024-10-07T00:00:00",
          "2024-10-08T00:00:00",
          "2024-10-09T00:00:00",
          "2024-10-10T00:00:00",
          "2024-10-11T00:00:00",
          "2024-10-14T00:00:00",
          "2024-10-15T00:00:00",
          "2024-10-16T00:00:00",
          "2024-10-17T00:00:00",
          "2024-10-18T00:00:00",
          "2024-10-21T00:00:00",
          "2024-10-22T00:00:00",
          "2024-10-23T00:00:00",
          "2024-10-24T00:00:00",
          "2024-10-25T00:00:00",
          "2024-10-28T00:00:00"
         ],
         "y": [
          2.939723253250122,
          2.946575164794922,
          2.9945430755615234,
          3.0219528675079346,
          2.9808380603790283,
          3.0425097942352295,
          3.0425097942352295,
          3.0904781818389893,
          3.1315929889678955,
          3.1178882122039795,
          3.2412333488464355,
          3.2343807220458984,
          3.2412333488464355,
          3.2343807220458984,
          3.309758186340332,
          3.309758186340332,
          3.323462724685669,
          3.3166112899780273,
          3.330315351486206,
          3.39198899269104,
          3.357724905014038,
          3.364577531814575,
          3.3851358890533447,
          3.3782835006713867,
          3.412546396255493,
          3.3851358890533447,
          3.3851358890533447,
          3.4262499809265137,
          3.4399561882019043,
          3.4536609649658203,
          3.337167263031006,
          3.3782835006713867,
          3.296053171157837,
          3.3166112899780273,
          3.2823479175567627,
          3.3988404273986816,
          3.350872755050659,
          3.337167263031006,
          3.213822841644287,
          3.296053171157837,
          3.3782835006713867,
          3.364577531814575,
          3.2412333488464355,
          3.200117826461792,
          3.1727075576782227,
          3.1864125728607178,
          3.2480854988098145,
          3.2617900371551514,
          3.2617900371551514,
          3.2686424255371094,
          3.2343807220458984,
          3.2892005443573,
          3.330315351486206,
          3.302905797958374,
          3.323462724685669,
          3.337167263031006,
          3.2412333488464355,
          3.1315929889678955,
          3.159003257751465,
          3.102409601211548,
          3.0884971618652344,
          3.0954537391662598,
          3.109365701675415,
          3.102409601211548,
          3.137190580368042,
          3.0328495502471924,
          3.025892972946167,
          3.0954537391662598,
          3.074585199356079,
          3.0815415382385254,
          3.213707208633423,
          3.227619171142578,
          3.29022479057312,
          3.297179698944092,
          3.37369704246521,
          3.4084765911102295,
          3.366741180419922,
          3.2763116359710693,
          3.3528285026550293,
          3.422389268875122,
          3.5058631896972656,
          3.4502131938934326,
          3.52673077583313,
          3.4780373573303223,
          3.547597646713257,
          3.3180477619171143,
          3.311091661453247,
          3.304136037826538,
          3.2832682132720947,
          3.2415313720703125,
          3.171970844268799,
          3.144146203994751,
          3.102409601211548,
          3.1511025428771973,
          3.0884971618652344,
          3.109365701675415,
          3.067629337310791,
          3.0467615127563477,
          3.0467615127563477,
          3.0537173748016357,
          2.984156847000122,
          2.984156847000122,
          2.9702441692352295,
          2.9493765830993652,
          2.9354639053344727,
          2.8519909381866455,
          2.831123113632202,
          2.831123113632202,
          2.7615621089935303,
          2.803298234939575,
          2.8519909381866455,
          2.9980685710906982,
          3.0328495502471924,
          3.0537173748016357,
          2.956951379776001,
          2.893437385559082,
          2.8793227672576904,
          2.865208864212036,
          2.978123664855957,
          2.9710659980773926,
          3.0204668045043945,
          3.006352663040161,
          2.985180139541626,
          2.9992949962615967,
          3.027524471282959,
          2.9992949962615967,
          2.942837953567505,
          2.9992949962615967,
          3.0204668045043945,
          3.0134098529815674,
          3.0557520389556885,
          3.1051528453826904,
          3.091038465499878,
          3.034580707550049,
          3.034580707550049,
          3.0204668045043945,
          2.985180139541626,
          2.9640092849731445,
          2.942837953567505,
          2.914608955383301,
          2.858151912689209,
          2.8440372943878174,
          2.8228657245635986,
          2.829922914505005,
          2.829922914505005,
          2.8228657245635986,
          2.745236873626709,
          2.7805233001708984,
          2.8228657245635986,
          2.808751344680786,
          2.8158082962036133,
          2.836980104446411,
          2.836980104446411,
          2.8228657245635986,
          2.773465633392334,
          2.801694393157959,
          2.801694393157959,
          2.773465633392334,
          2.724065065383911,
          2.745236873626709,
          2.68172287940979,
          2.646436929702759,
          2.6111509799957275,
          2.5688071250915527,
          2.646436929702759,
          2.6746654510498047,
          2.5688071250915527,
          2.6111509799957275,
          2.5758650302886963,
          2.5758650302886963,
          2.724065065383911,
          2.709951639175415,
          2.8228657245635986,
          2.7805233001708984,
          2.7751429080963135,
          2.7751429080963135,
          2.782332420349121,
          2.7967116832733154,
          2.8398489952087402,
          2.8182804584503174,
          2.8326597213745117,
          2.847038745880127,
          2.9117438793182373,
          2.8542277812957764,
          2.9117438793182373,
          2.9620704650878906,
          2.96925950050354,
          2.96925950050354,
          2.9261231422424316,
          2.9620704650878906,
          2.9405014514923096,
          2.87579607963562,
          2.825469970703125,
          2.825469970703125,
          2.7679543495178223,
          2.7176270484924316,
          2.681680202484131,
          2.660111904144287,
          2.7248167991638184,
          2.6888699531555176,
          2.6457324028015137,
          2.6888699531555176,
          2.732006549835205,
          2.696058750152588,
          2.732006549835205,
          2.7104380130767822,
          2.6529223918914795,
          2.638543128967285,
          2.674490451812744,
          2.616973876953125,
          2.674490451812744,
          2.6025960445404053,
          2.5954060554504395,
          2.6025960445404053,
          2.609785556793213,
          2.566648244857788,
          2.616973876953125,
          2.6888699531555176,
          2.674490451812744,
          2.7032477855682373,
          2.696058750152588,
          2.696058750152588,
          2.7751429080963135,
          2.7679543495178223,
          2.8326597213745117,
          2.825469970703125,
          2.9261231422424316,
          2.9405014514923096,
          2.9405014514923096,
          2.9405014514923096,
          2.9620704650878906,
          3.0123958587646484,
          3.0123958587646484,
          3.026775360107422,
          3.026775360107422,
          3.134618043899536,
          3.113048791885376,
          3.1139590740203857,
          3.252530097961426,
          3.289743423461914,
          3.289743423461914,
          3.386500835418701,
          3.341844081878662,
          3.341844081878662,
          3.5130298137664795,
          3.4981443881988525,
          3.4237160682678223,
          3.3344016075134277,
          3.289743423461914,
          3.18554425239563,
          3.215315341949463,
          3.1706581115722656,
          3.1706581115722656,
          3.0887868404388428,
          3.0739006996154785,
          2.984586477279663,
          2.9324870109558105,
          2.969700574874878,
          2.969700574874878,
          3.0143580436706543,
          3.1185574531555176,
          3.0887868404388428,
          3.0366861820220947,
          3.163215160369873,
          3.163215160369873,
          3.0441293716430664,
          3.0887868404388428,
          3.0143580436706543,
          3.0292444229125977,
          2.939929962158203,
          2.969700574874878,
          2.9298479557037354,
          2.9298479557037354,
          2.8851170539855957,
          2.862752676010132,
          2.9223930835723877,
          2.9745781421661377,
          2.996943950653076,
          2.989488124847412,
          3.004399299621582,
          3.0416741371154785,
          3.064039468765259,
          3.034219741821289,
          3.064039468765259,
          3.0267646312713623,
          2.96712327003479,
          2.9820334911346436,
          2.996943950653076,
          2.9820334911346436,
          3.034219741821289,
          3.034219741821289,
          3.0118536949157715,
          2.9373035430908203,
          2.9149374961853027,
          2.9149374961853027,
          2.9000277519226074,
          2.877662181854248,
          2.8702080249786377,
          2.9522135257720947,
          2.8925721645355225,
          2.9298479557037354,
          2.8478426933288574,
          2.877662181854248,
          2.855297088623047,
          2.8851170539855957,
          2.8702080249786377,
          2.8925721645355225,
          2.9298479557037354,
          2.9223930835723877,
          2.9698996543884277,
          2.992628812789917,
          2.977476119995117,
          2.9168660640716553,
          2.8638312816619873,
          2.8789844512939453,
          2.8638312816619873,
          2.9017131328582764,
          2.954747200012207,
          2.977476119995117,
          2.9698996543884277,
          3.0002048015594482,
          2.9698996543884277,
          2.939594268798828,
          2.9850525856018066,
          2.9471707344055176,
          2.9168660640716553,
          2.8411026000976562,
          2.795645236968994,
          2.7426116466522217,
          2.7350356578826904,
          2.757763385772705,
          2.7350356578826904,
          2.7501885890960693,
          2.7426116466522217,
          2.7426116466522217,
          2.7804923057556152,
          2.7047297954559326,
          2.712306022644043,
          2.7501885890960693,
          2.7804923057556152,
          2.7501885890960693,
          2.772916555404663,
          2.7804923057556152,
          2.712306022644043,
          2.7198827266693115,
          2.7501885890960693,
          2.833527088165283,
          2.856255531311035,
          2.8411026000976562,
          2.810797929763794,
          2.8259501457214355,
          2.8411026000976562,
          2.871407985687256,
          2.8183741569519043,
          2.8183741569519043,
          2.7804923057556152,
          2.772916555404663,
          2.7804923057556152,
          2.8865604400634766,
          2.894137382507324,
          3.01535701751709,
          2.9471707344055176,
          3.0077805519104004,
          3.0776169300079346,
          3.0776169300079346,
          3.1084704399108887,
          3.0776169300079346,
          3.06990385055542,
          3.2164576053619385,
          3.1701769828796387,
          3.193317174911499,
          3.3244433403015137,
          3.3707237243652344,
          3.355297327041626,
          3.3398702144622803,
          3.2627367973327637,
          3.2627367973327637,
          3.293590545654297,
          3.255023717880249,
          3.247310161590576,
          3.2164576053619385,
          3.185603380203247,
          3.247310161590576,
          3.2627367973327637,
          3.3090176582336426,
          3.2858774662017822,
          3.2781639099121094,
          3.3784372806549072,
          3.4247169494628906,
          3.4632840156555176,
          3.5327036380767822,
          3.5712697505950928,
          3.540416955947876,
          3.5558435916900635,
          3.478710651397705,
          3.440143585205078,
          3.4941365718841553,
          3.4324305057525635,
          3.409289598464966,
          3.3398702144622803,
          3.3398702144622803,
          3.3784372806549072,
          3.3784372806549072,
          3.417003870010376,
          3.3938639163970947,
          3.3244433403015137,
          3.3707237243652344,
          3.3398702144622803,
          3.3244433403015137,
          3.293590545654297,
          3.3090176582336426,
          3.3090176582336426,
          3.2858774662017822,
          3.293590545654297,
          3.247310161590576,
          3.247310161590576,
          3.255023717880249,
          3.3630101680755615,
          3.3784372806549072,
          3.4247169494628906,
          3.478710651397705,
          3.5172765254974365,
          3.5712697505950928,
          3.501850128173828,
          3.5327036380767822,
          3.5944104194641113,
          3.663829803466797,
          3.6472744941711426,
          3.5615475177764893,
          3.5147881507873535,
          3.5069949626922607,
          3.522580623626709,
          3.5693411827087402,
          3.538167715072632,
          3.530374050140381,
          3.5147881507873535,
          3.5147881507873535,
          3.4680280685424805,
          3.5147881507873535,
          3.522580623626709,
          3.491408348083496,
          3.530374050140381,
          3.5693411827087402,
          3.608307361602783,
          3.5927212238311768,
          3.577134609222412,
          3.584928035736084,
          3.608307361602783,
          3.5927212238311768,
          3.491408348083496,
          3.4602346420288086,
          3.522580623626709,
          3.5459609031677246,
          3.5615475177764893,
          3.5537540912628174,
          3.5537540912628174,
          3.608307361602783,
          3.631687879562378,
          3.7485876083374023,
          3.7797603607177734,
          3.756381034851074,
          3.7407939434051514,
          3.6940338611602783,
          3.725207567214966,
          3.6784474849700928,
          3.7330007553100586,
          3.7330007553100586,
          3.7485876083374023,
          3.70182728767395,
          3.670654296875,
          3.670654296875,
          3.662860870361328,
          3.6550679206848145,
          3.623894214630127,
          3.6940338611602783,
          3.662860870361328,
          3.70182728767395,
          3.631687879562378,
          3.623894214630127,
          3.5459609031677246,
          3.491408348083496,
          3.4680280685424805,
          3.452441453933716,
          3.4758212566375732,
          3.436854124069214,
          3.3956525325775146,
          3.387756109237671,
          3.4272398948669434,
          3.474621534347534,
          3.514105796813965,
          3.5535902976989746,
          3.616765022277832,
          3.5614869594573975,
          3.569382905960083,
          3.53779673576355,
          3.593073844909668,
          3.6483523845672607,
          3.640455484390259,
          3.608867645263672,
          3.608867645263672,
          3.6799397468566895,
          3.6799397468566895,
          3.632558584213257,
          3.640455484390259,
          3.640455484390259,
          3.6957335472106934,
          3.569382905960083,
          3.356168270111084,
          3.332477569580078,
          3.316683530807495,
          3.340374231338501,
          3.237715005874634,
          3.2693028450012207,
          3.308786392211914,
          3.2929937839508057,
          3.364065408706665,
          3.4351372718811035,
          3.4430336952209473,
          3.332477569580078,
          3.348271369934082,
          3.387756109237671,
          3.4272398948669434,
          3.467801332473755,
          3.4916625022888184,
          3.4916625022888184,
          3.5075690746307373,
          3.467801332473755,
          3.5155227184295654,
          3.4996163845062256,
          3.5155227184295654,
          3.539384365081787,
          3.539384365081787,
          3.5473380088806152,
          3.539384365081787,
          3.579152822494507,
          3.5950591564178467,
          3.5155227184295654,
          3.531430721282959,
          3.4439399242401123,
          3.467801332473755,
          3.435986280441284,
          3.4518935680389404,
          3.4837088584899902,
          3.4916625022888184,
          3.4996163845062256,
          3.428032636642456,
          3.412126064300537,
          3.3962182998657227,
          3.3484959602355957,
          3.3405423164367676,
          3.3962182998657227,
          3.435986280441284,
          3.4439399242401123,
          3.428032636642456,
          3.435986280441284,
          3.3723573684692383,
          3.428032636642456,
          3.463958501815796,
          3.431885004043579,
          3.4719769954681396,
          3.463958501815796,
          3.520087957382202,
          3.463958501815796,
          3.544142246246338,
          3.584235191345215,
          3.63234543800354,
          3.6163089275360107,
          3.5922539234161377,
          3.5922539234161377,
          3.576216697692871,
          3.5681979656219482,
          3.63234543800354,
          3.544142246246338,
          3.5601797103881836,
          3.576216697692871,
          3.624326705932617,
          3.6483821868896484,
          3.744603157043457,
          3.8408243656158447,
          3.9049715995788574,
          3.961101531982422,
          3.9851558208465576,
          3.88893461227417,
          3.872899055480957,
          3.9370455741882324,
          4.00921106338501,
          4.033267021179199,
          4.001193046569824,
          4.0252485275268555,
          3.945064067840576,
          3.9851558208465576,
          3.953083038330078,
          3.9851558208465576,
          4.0653395652771,
          4.0252485275268555,
          4.0252485275268555,
          3.9931743144989014,
          3.953083038330078,
          3.9290273189544678,
          3.9129903316497803,
          3.88893461227417,
          3.953083038330078,
          3.864880084991455,
          3.8247876167297363,
          3.7686588764190674,
          3.7045114040374756,
          3.720548152923584,
          3.712529420852661,
          3.672437906265259,
          3.752622127532959,
          3.784695625305176,
          3.7438530921936035,
          3.8055741786956787,
          3.8413071632385254,
          3.8859734535217285,
          3.8681066036224365,
          3.877040147781372,
          3.8502402305603027,
          3.8681066036224365,
          3.8681066036224365,
          3.814507246017456,
          3.8681066036224365,
          3.8502402305603027,
          3.7698404788970947,
          3.7162411212921143,
          3.751974105834961,
          3.7609074115753174,
          3.7162411212921143,
          3.707308053970337,
          3.609041929244995,
          3.6179754734039307,
          3.6179754734039307,
          3.582242488861084,
          3.5911753177642822,
          3.5554423332214355,
          3.546509027481079,
          3.6358418464660645,
          3.6179754734039307,
          3.6358418464660645,
          3.6001088619232178,
          3.609041929244995,
          3.6358418464660645,
          3.6537084579467773,
          3.671574831008911,
          3.7251744270324707,
          3.6537084579467773,
          3.671574831008911,
          3.7162411212921143,
          3.7877073287963867,
          3.8055741786956787,
          3.8681066036224365,
          3.859173536300659,
          3.814507246017456,
          3.8413071632385254,
          3.751974105834961,
          3.7430410385131836,
          3.707308053970337,
          3.7162411212921143,
          3.734107494354248,
          3.734107494354248,
          3.8055741786956787,
          3.8055741786956787,
          3.8502402305603027,
          3.8055741786956787,
          3.8234407901763916,
          3.912773370742798,
          3.8413071632385254,
          3.8502402305603027,
          3.8234407901763916,
          3.7877073287963867,
          3.912773370742798,
          3.912773370742798,
          3.9306399822235107,
          3.9306399822235107,
          3.9038398265838623,
          3.8413071632385254,
          3.7936043739318848,
          3.7573020458221436,
          3.7663779258728027,
          3.802680253982544,
          3.7573020458221436,
          3.7663779258728027,
          3.7936043739318848,
          3.784528970718384,
          3.802680253982544,
          3.8571338653564453,
          3.9751169681549072,
          4.002343654632568,
          3.9751169681549072,
          3.9932682514190674,
          3.9932682514190674,
          3.9751169681549072,
          3.9751169681549072,
          3.9025120735168457,
          3.956965684890747,
          3.8934361934661865,
          3.9115874767303467,
          3.9932682514190674,
          3.966041088104248,
          3.9115874767303467,
          3.9025120735168457,
          3.9751169681549072,
          3.966041088104248,
          3.9297385215759277,
          3.956965684890747,
          3.9297385215759277,
          3.8843610286712646,
          3.8662097454071045,
          3.829906702041626,
          3.784528970718384,
          3.7754533290863037,
          3.820831298828125,
          3.7663779258728027,
          3.8480582237243652,
          3.811755657196045,
          3.811755657196045,
          3.811755657196045,
          3.8571338653564453,
          3.838982582092285,
          3.8752851486206055,
          3.8571338653564453,
          3.8571338653564453,
          3.802680253982544,
          3.7209994792938232,
          3.657470703125,
          3.67562198638916,
          3.67562198638916,
          3.684697151184082,
          3.7300753593444824,
          3.7573020458221436,
          3.7391507625579834,
          3.7754533290863037,
          3.7482268810272217,
          3.7209994792938232,
          3.7754533290863037,
          3.7663779258728027
         ]
        },
        {
         "line": {
          "color": "orange"
         },
         "mode": "lines",
         "name": "Predições Futuras",
         "type": "scatter",
         "x": [
          "2024-10-29T00:00:00",
          "2024-10-30T00:00:00",
          "2024-10-31T00:00:00",
          "2024-11-01T00:00:00",
          "2024-11-02T00:00:00",
          "2024-11-03T00:00:00",
          "2024-11-04T00:00:00",
          "2024-11-05T00:00:00",
          "2024-11-06T00:00:00",
          "2024-11-07T00:00:00"
         ],
         "y": [
          3.757402181625366,
          3.756810188293457,
          3.7578511238098145,
          3.760010242462158,
          3.7586796283721924,
          3.758115768432617,
          3.7581398487091064,
          3.7581520080566406,
          3.7580654621124268,
          3.757847547531128
         ]
        }
       ],
       "layout": {
        "height": 600,
        "hovermode": "x unified",
        "legend": {
         "x": 0,
         "y": 1
        },
        "template": {
         "data": {
          "bar": [
           {
            "error_x": {
             "color": "#f2f5fa"
            },
            "error_y": {
             "color": "#f2f5fa"
            },
            "marker": {
             "line": {
              "color": "rgb(17,17,17)",
              "width": 0.5
             },
             "pattern": {
              "fillmode": "overlay",
              "size": 10,
              "solidity": 0.2
             }
            },
            "type": "bar"
           }
          ],
          "barpolar": [
           {
            "marker": {
             "line": {
              "color": "rgb(17,17,17)",
              "width": 0.5
             },
             "pattern": {
              "fillmode": "overlay",
              "size": 10,
              "solidity": 0.2
             }
            },
            "type": "barpolar"
           }
          ],
          "carpet": [
           {
            "aaxis": {
             "endlinecolor": "#A2B1C6",
             "gridcolor": "#506784",
             "linecolor": "#506784",
             "minorgridcolor": "#506784",
             "startlinecolor": "#A2B1C6"
            },
            "baxis": {
             "endlinecolor": "#A2B1C6",
             "gridcolor": "#506784",
             "linecolor": "#506784",
             "minorgridcolor": "#506784",
             "startlinecolor": "#A2B1C6"
            },
            "type": "carpet"
           }
          ],
          "choropleth": [
           {
            "colorbar": {
             "outlinewidth": 0,
             "ticks": ""
            },
            "type": "choropleth"
           }
          ],
          "contour": [
           {
            "colorbar": {
             "outlinewidth": 0,
             "ticks": ""
            },
            "colorscale": [
             [
              0,
              "#0d0887"
             ],
             [
              0.1111111111111111,
              "#46039f"
             ],
             [
              0.2222222222222222,
              "#7201a8"
             ],
             [
              0.3333333333333333,
              "#9c179e"
             ],
             [
              0.4444444444444444,
              "#bd3786"
             ],
             [
              0.5555555555555556,
              "#d8576b"
             ],
             [
              0.6666666666666666,
              "#ed7953"
             ],
             [
              0.7777777777777778,
              "#fb9f3a"
             ],
             [
              0.8888888888888888,
              "#fdca26"
             ],
             [
              1,
              "#f0f921"
             ]
            ],
            "type": "contour"
           }
          ],
          "contourcarpet": [
           {
            "colorbar": {
             "outlinewidth": 0,
             "ticks": ""
            },
            "type": "contourcarpet"
           }
          ],
          "heatmap": [
           {
            "colorbar": {
             "outlinewidth": 0,
             "ticks": ""
            },
            "colorscale": [
             [
              0,
              "#0d0887"
             ],
             [
              0.1111111111111111,
              "#46039f"
             ],
             [
              0.2222222222222222,
              "#7201a8"
             ],
             [
              0.3333333333333333,
              "#9c179e"
             ],
             [
              0.4444444444444444,
              "#bd3786"
             ],
             [
              0.5555555555555556,
              "#d8576b"
             ],
             [
              0.6666666666666666,
              "#ed7953"
             ],
             [
              0.7777777777777778,
              "#fb9f3a"
             ],
             [
              0.8888888888888888,
              "#fdca26"
             ],
             [
              1,
              "#f0f921"
             ]
            ],
            "type": "heatmap"
           }
          ],
          "heatmapgl": [
           {
            "colorbar": {
             "outlinewidth": 0,
             "ticks": ""
            },
            "colorscale": [
             [
              0,
              "#0d0887"
             ],
             [
              0.1111111111111111,
              "#46039f"
             ],
             [
              0.2222222222222222,
              "#7201a8"
             ],
             [
              0.3333333333333333,
              "#9c179e"
             ],
             [
              0.4444444444444444,
              "#bd3786"
             ],
             [
              0.5555555555555556,
              "#d8576b"
             ],
             [
              0.6666666666666666,
              "#ed7953"
             ],
             [
              0.7777777777777778,
              "#fb9f3a"
             ],
             [
              0.8888888888888888,
              "#fdca26"
             ],
             [
              1,
              "#f0f921"
             ]
            ],
            "type": "heatmapgl"
           }
          ],
          "histogram": [
           {
            "marker": {
             "pattern": {
              "fillmode": "overlay",
              "size": 10,
              "solidity": 0.2
             }
            },
            "type": "histogram"
           }
          ],
          "histogram2d": [
           {
            "colorbar": {
             "outlinewidth": 0,
             "ticks": ""
            },
            "colorscale": [
             [
              0,
              "#0d0887"
             ],
             [
              0.1111111111111111,
              "#46039f"
             ],
             [
              0.2222222222222222,
              "#7201a8"
             ],
             [
              0.3333333333333333,
              "#9c179e"
             ],
             [
              0.4444444444444444,
              "#bd3786"
             ],
             [
              0.5555555555555556,
              "#d8576b"
             ],
             [
              0.6666666666666666,
              "#ed7953"
             ],
             [
              0.7777777777777778,
              "#fb9f3a"
             ],
             [
              0.8888888888888888,
              "#fdca26"
             ],
             [
              1,
              "#f0f921"
             ]
            ],
            "type": "histogram2d"
           }
          ],
          "histogram2dcontour": [
           {
            "colorbar": {
             "outlinewidth": 0,
             "ticks": ""
            },
            "colorscale": [
             [
              0,
              "#0d0887"
             ],
             [
              0.1111111111111111,
              "#46039f"
             ],
             [
              0.2222222222222222,
              "#7201a8"
             ],
             [
              0.3333333333333333,
              "#9c179e"
             ],
             [
              0.4444444444444444,
              "#bd3786"
             ],
             [
              0.5555555555555556,
              "#d8576b"
             ],
             [
              0.6666666666666666,
              "#ed7953"
             ],
             [
              0.7777777777777778,
              "#fb9f3a"
             ],
             [
              0.8888888888888888,
              "#fdca26"
             ],
             [
              1,
              "#f0f921"
             ]
            ],
            "type": "histogram2dcontour"
           }
          ],
          "mesh3d": [
           {
            "colorbar": {
             "outlinewidth": 0,
             "ticks": ""
            },
            "type": "mesh3d"
           }
          ],
          "parcoords": [
           {
            "line": {
             "colorbar": {
              "outlinewidth": 0,
              "ticks": ""
             }
            },
            "type": "parcoords"
           }
          ],
          "pie": [
           {
            "automargin": true,
            "type": "pie"
           }
          ],
          "scatter": [
           {
            "marker": {
             "line": {
              "color": "#283442"
             }
            },
            "type": "scatter"
           }
          ],
          "scatter3d": [
           {
            "line": {
             "colorbar": {
              "outlinewidth": 0,
              "ticks": ""
             }
            },
            "marker": {
             "colorbar": {
              "outlinewidth": 0,
              "ticks": ""
             }
            },
            "type": "scatter3d"
           }
          ],
          "scattercarpet": [
           {
            "marker": {
             "colorbar": {
              "outlinewidth": 0,
              "ticks": ""
             }
            },
            "type": "scattercarpet"
           }
          ],
          "scattergeo": [
           {
            "marker": {
             "colorbar": {
              "outlinewidth": 0,
              "ticks": ""
             }
            },
            "type": "scattergeo"
           }
          ],
          "scattergl": [
           {
            "marker": {
             "line": {
              "color": "#283442"
             }
            },
            "type": "scattergl"
           }
          ],
          "scattermapbox": [
           {
            "marker": {
             "colorbar": {
              "outlinewidth": 0,
              "ticks": ""
             }
            },
            "type": "scattermapbox"
           }
          ],
          "scatterpolar": [
           {
            "marker": {
             "colorbar": {
              "outlinewidth": 0,
              "ticks": ""
             }
            },
            "type": "scatterpolar"
           }
          ],
          "scatterpolargl": [
           {
            "marker": {
             "colorbar": {
              "outlinewidth": 0,
              "ticks": ""
             }
            },
            "type": "scatterpolargl"
           }
          ],
          "scatterternary": [
           {
            "marker": {
             "colorbar": {
              "outlinewidth": 0,
              "ticks": ""
             }
            },
            "type": "scatterternary"
           }
          ],
          "surface": [
           {
            "colorbar": {
             "outlinewidth": 0,
             "ticks": ""
            },
            "colorscale": [
             [
              0,
              "#0d0887"
             ],
             [
              0.1111111111111111,
              "#46039f"
             ],
             [
              0.2222222222222222,
              "#7201a8"
             ],
             [
              0.3333333333333333,
              "#9c179e"
             ],
             [
              0.4444444444444444,
              "#bd3786"
             ],
             [
              0.5555555555555556,
              "#d8576b"
             ],
             [
              0.6666666666666666,
              "#ed7953"
             ],
             [
              0.7777777777777778,
              "#fb9f3a"
             ],
             [
              0.8888888888888888,
              "#fdca26"
             ],
             [
              1,
              "#f0f921"
             ]
            ],
            "type": "surface"
           }
          ],
          "table": [
           {
            "cells": {
             "fill": {
              "color": "#506784"
             },
             "line": {
              "color": "rgb(17,17,17)"
             }
            },
            "header": {
             "fill": {
              "color": "#2a3f5f"
             },
             "line": {
              "color": "rgb(17,17,17)"
             }
            },
            "type": "table"
           }
          ]
         },
         "layout": {
          "annotationdefaults": {
           "arrowcolor": "#f2f5fa",
           "arrowhead": 0,
           "arrowwidth": 1
          },
          "autotypenumbers": "strict",
          "coloraxis": {
           "colorbar": {
            "outlinewidth": 0,
            "ticks": ""
           }
          },
          "colorscale": {
           "diverging": [
            [
             0,
             "#8e0152"
            ],
            [
             0.1,
             "#c51b7d"
            ],
            [
             0.2,
             "#de77ae"
            ],
            [
             0.3,
             "#f1b6da"
            ],
            [
             0.4,
             "#fde0ef"
            ],
            [
             0.5,
             "#f7f7f7"
            ],
            [
             0.6,
             "#e6f5d0"
            ],
            [
             0.7,
             "#b8e186"
            ],
            [
             0.8,
             "#7fbc41"
            ],
            [
             0.9,
             "#4d9221"
            ],
            [
             1,
             "#276419"
            ]
           ],
           "sequential": [
            [
             0,
             "#0d0887"
            ],
            [
             0.1111111111111111,
             "#46039f"
            ],
            [
             0.2222222222222222,
             "#7201a8"
            ],
            [
             0.3333333333333333,
             "#9c179e"
            ],
            [
             0.4444444444444444,
             "#bd3786"
            ],
            [
             0.5555555555555556,
             "#d8576b"
            ],
            [
             0.6666666666666666,
             "#ed7953"
            ],
            [
             0.7777777777777778,
             "#fb9f3a"
            ],
            [
             0.8888888888888888,
             "#fdca26"
            ],
            [
             1,
             "#f0f921"
            ]
           ],
           "sequentialminus": [
            [
             0,
             "#0d0887"
            ],
            [
             0.1111111111111111,
             "#46039f"
            ],
            [
             0.2222222222222222,
             "#7201a8"
            ],
            [
             0.3333333333333333,
             "#9c179e"
            ],
            [
             0.4444444444444444,
             "#bd3786"
            ],
            [
             0.5555555555555556,
             "#d8576b"
            ],
            [
             0.6666666666666666,
             "#ed7953"
            ],
            [
             0.7777777777777778,
             "#fb9f3a"
            ],
            [
             0.8888888888888888,
             "#fdca26"
            ],
            [
             1,
             "#f0f921"
            ]
           ]
          },
          "colorway": [
           "#636efa",
           "#EF553B",
           "#00cc96",
           "#ab63fa",
           "#FFA15A",
           "#19d3f3",
           "#FF6692",
           "#B6E880",
           "#FF97FF",
           "#FECB52"
          ],
          "font": {
           "color": "#f2f5fa"
          },
          "geo": {
           "bgcolor": "rgb(17,17,17)",
           "lakecolor": "rgb(17,17,17)",
           "landcolor": "rgb(17,17,17)",
           "showlakes": true,
           "showland": true,
           "subunitcolor": "#506784"
          },
          "hoverlabel": {
           "align": "left"
          },
          "hovermode": "closest",
          "mapbox": {
           "style": "dark"
          },
          "paper_bgcolor": "rgb(17,17,17)",
          "plot_bgcolor": "rgb(17,17,17)",
          "polar": {
           "angularaxis": {
            "gridcolor": "#506784",
            "linecolor": "#506784",
            "ticks": ""
           },
           "bgcolor": "rgb(17,17,17)",
           "radialaxis": {
            "gridcolor": "#506784",
            "linecolor": "#506784",
            "ticks": ""
           }
          },
          "scene": {
           "xaxis": {
            "backgroundcolor": "rgb(17,17,17)",
            "gridcolor": "#506784",
            "gridwidth": 2,
            "linecolor": "#506784",
            "showbackground": true,
            "ticks": "",
            "zerolinecolor": "#C8D4E3"
           },
           "yaxis": {
            "backgroundcolor": "rgb(17,17,17)",
            "gridcolor": "#506784",
            "gridwidth": 2,
            "linecolor": "#506784",
            "showbackground": true,
            "ticks": "",
            "zerolinecolor": "#C8D4E3"
           },
           "zaxis": {
            "backgroundcolor": "rgb(17,17,17)",
            "gridcolor": "#506784",
            "gridwidth": 2,
            "linecolor": "#506784",
            "showbackground": true,
            "ticks": "",
            "zerolinecolor": "#C8D4E3"
           }
          },
          "shapedefaults": {
           "line": {
            "color": "#f2f5fa"
           }
          },
          "sliderdefaults": {
           "bgcolor": "#C8D4E3",
           "bordercolor": "rgb(17,17,17)",
           "borderwidth": 1,
           "tickwidth": 0
          },
          "ternary": {
           "aaxis": {
            "gridcolor": "#506784",
            "linecolor": "#506784",
            "ticks": ""
           },
           "baxis": {
            "gridcolor": "#506784",
            "linecolor": "#506784",
            "ticks": ""
           },
           "bgcolor": "rgb(17,17,17)",
           "caxis": {
            "gridcolor": "#506784",
            "linecolor": "#506784",
            "ticks": ""
           }
          },
          "title": {
           "x": 0.05
          },
          "updatemenudefaults": {
           "bgcolor": "#506784",
           "borderwidth": 0
          },
          "xaxis": {
           "automargin": true,
           "gridcolor": "#283442",
           "linecolor": "#506784",
           "ticks": "",
           "title": {
            "standoff": 15
           },
           "zerolinecolor": "#283442",
           "zerolinewidth": 2
          },
          "yaxis": {
           "automargin": true,
           "gridcolor": "#283442",
           "linecolor": "#506784",
           "ticks": "",
           "title": {
            "standoff": 15
           },
           "zerolinecolor": "#283442",
           "zerolinewidth": 2
          }
         }
        },
        "title": {
         "text": "Continuação de Preços Previstos"
        },
        "width": 1000,
        "xaxis": {
         "title": {
          "text": "Data"
         }
        },
        "yaxis": {
         "title": {
          "text": "Preço Fechamento"
         }
        }
       }
      }
     },
     "metadata": {},
     "output_type": "display_data"
    }
   ],
   "source": [
    "import pandas as pd\n",
    "import numpy as np\n",
    "import datetime\n",
    "import yfinance as yf\n",
    "import matplotlib.pyplot as plt\n",
    "from tensorflow.keras.models import Sequential\n",
    "from tensorflow.keras.optimizers import Adam\n",
    "from tensorflow.keras import layers\n",
    "import plotly.graph_objects as go\n",
    "\n",
    "# Função para ajustar datas disponíveis no DataFrame\n",
    "def adjust_dates_to_available(df, start_date, end_date):\n",
    "    if start_date not in df.index:\n",
    "        start_date = df.index[df.index.get_indexer([start_date], method='nearest')[0]]\n",
    "        print(f'Data inicial ajustada para {start_date}')\n",
    "    if end_date not in df.index:\n",
    "        end_date = df.index[df.index.get_indexer([end_date], method='nearest')[0]]\n",
    "        print(f'Data final ajustada para {end_date}')\n",
    "    return start_date, end_date\n",
    "\n",
    "# Função para criar janelas de dados\n",
    "def create_windows(data, window_size):\n",
    "    X, dates = [], []\n",
    "    for i in range(len(data) - window_size):\n",
    "        X.append(data[i:i + window_size])\n",
    "        dates.append(data.index[i + window_size])\n",
    "    return np.array(X), dates\n",
    "\n",
    "def train_model(ticker, start_date, end_date, window_size):\n",
    "    df = yf.Ticker(ticker).history(period=\"max\")\n",
    "    df = df[['Close']]\n",
    "    df.index = pd.to_datetime(df.index).tz_convert(None).normalize()\n",
    "    start_date, end_date = adjust_dates_to_available(df, start_date, end_date)\n",
    "\n",
    "    data = df.loc[start_date:end_date, 'Close']\n",
    "    X, _ = create_windows(data, window_size)\n",
    "\n",
    "    model = Sequential([\n",
    "        layers.Input((window_size, 1)),\n",
    "        layers.LSTM(70),\n",
    "        layers.Dense(32, activation='relu'),\n",
    "        layers.Dense(32, activation='relu'),\n",
    "        layers.Dense(1)\n",
    "    ])\n",
    "\n",
    "    model.compile(\n",
    "        loss='mse',\n",
    "        optimizer=Adam(learning_rate=0.001),\n",
    "        metrics=['mean_absolute_error']\n",
    "    )\n",
    "    model.fit(X[:, :, np.newaxis], data[window_size:], epochs=65, verbose=1)\n",
    "    return model, data\n",
    "\n",
    "# Parâmetros do modelo\n",
    "ticker = 'KLBN4.SA'\n",
    "start_date = '2021-11-22'\n",
    "end_date = '2024-10-27'\n",
    "window_size = 5\n",
    "\n",
    "\n",
    "model, data = train_model(ticker, start_date, end_date, window_size)\n",
    "\n",
    "predictions = []\n",
    "current_window = data[-window_size:].values\n",
    "for _ in range(10):  # days ahead\n",
    "    pred = model.predict(current_window[np.newaxis, :, np.newaxis]).flatten()[0]\n",
    "    predictions.append(pred)\n",
    "    current_window = np.append(current_window[1:], pred)\n",
    "\n",
    "\n",
    "future_dates = [data.index[-1] + datetime.timedelta(days=i+1) for i in range(len(predictions))]\n",
    "predicted_series = pd.Series(predictions, index=future_dates)\n",
    "\n",
    "fig = go.Figure()\n",
    "\n",
    "\n",
    "fig.add_trace(go.Scatter(\n",
    "    x=data.index,\n",
    "    y=data,\n",
    "    mode='lines',\n",
    "    name='Dados Históricos',\n",
    "    line=dict(color='blue')\n",
    "))\n",
    "\n",
    "\n",
    "fig.add_trace(go.Scatter(\n",
    "    x=predicted_series.index,\n",
    "    y=predicted_series.values,\n",
    "    mode='lines',\n",
    "    name='Predições Futuras',\n",
    "    line=dict(color='orange')\n",
    "))\n",
    "\n",
    "fig.update_layout(\n",
    "    title='Continuação de Preços Previstos',\n",
    "    xaxis_title='Data',\n",
    "    yaxis_title='Preço Fechamento',\n",
    "    legend=dict(x=0, y=1),\n",
    "    template='plotly_dark',\n",
    "    hovermode='x unified',\n",
    "    width=1000,\n",
    "    height=600\n",
    ")\n",
    "\n",
    "fig.show()\n"
   ]
  },
  {
   "cell_type": "markdown",
   "metadata": {},
   "source": [
    "PARALLEL VALIDATION"
   ]
  },
  {
   "cell_type": "code",
   "execution_count": 117,
   "metadata": {},
   "outputs": [
    {
     "data": {
      "application/vnd.plotly.v1+json": {
       "config": {
        "plotlyServerURL": "https://plot.ly"
       },
       "data": [
        {
         "hovertemplate": "Date=%{x}<br>Close=%{y}<extra></extra>",
         "legendgroup": "",
         "line": {
          "color": "#636efa",
          "dash": "solid"
         },
         "marker": {
          "symbol": "circle"
         },
         "mode": "lines",
         "name": "",
         "orientation": "v",
         "showlegend": false,
         "type": "scatter",
         "x": [
          "2024-10-28T00:00:00-03:00",
          "2024-10-29T00:00:00-03:00",
          "2024-10-30T00:00:00-03:00",
          "2024-10-31T00:00:00-03:00"
         ],
         "xaxis": "x",
         "y": [
          3.7663776874542236,
          3.7391507625579834,
          3.7482268810272217,
          3.784528970718384
         ],
         "yaxis": "y"
        },
        {
         "line": {
          "color": "orange"
         },
         "mode": "lines",
         "name": "Future Predictions",
         "type": "scatter",
         "x": [
          "2024-10-29T00:00:00",
          "2024-10-30T00:00:00",
          "2024-10-31T00:00:00",
          "2024-11-01T00:00:00",
          "2024-11-02T00:00:00",
          "2024-11-03T00:00:00",
          "2024-11-04T00:00:00",
          "2024-11-05T00:00:00",
          "2024-11-06T00:00:00",
          "2024-11-07T00:00:00"
         ],
         "y": [
          3.757402181625366,
          3.756810188293457,
          3.7578511238098145,
          3.760010242462158,
          3.7586796283721924,
          3.758115768432617,
          3.7581398487091064,
          3.7581520080566406,
          3.7580654621124268,
          3.757847547531128
         ]
        }
       ],
       "layout": {
        "legend": {
         "tracegroupgap": 0
        },
        "margin": {
         "t": 60
        },
        "template": {
         "data": {
          "bar": [
           {
            "error_x": {
             "color": "#2a3f5f"
            },
            "error_y": {
             "color": "#2a3f5f"
            },
            "marker": {
             "line": {
              "color": "#E5ECF6",
              "width": 0.5
             },
             "pattern": {
              "fillmode": "overlay",
              "size": 10,
              "solidity": 0.2
             }
            },
            "type": "bar"
           }
          ],
          "barpolar": [
           {
            "marker": {
             "line": {
              "color": "#E5ECF6",
              "width": 0.5
             },
             "pattern": {
              "fillmode": "overlay",
              "size": 10,
              "solidity": 0.2
             }
            },
            "type": "barpolar"
           }
          ],
          "carpet": [
           {
            "aaxis": {
             "endlinecolor": "#2a3f5f",
             "gridcolor": "white",
             "linecolor": "white",
             "minorgridcolor": "white",
             "startlinecolor": "#2a3f5f"
            },
            "baxis": {
             "endlinecolor": "#2a3f5f",
             "gridcolor": "white",
             "linecolor": "white",
             "minorgridcolor": "white",
             "startlinecolor": "#2a3f5f"
            },
            "type": "carpet"
           }
          ],
          "choropleth": [
           {
            "colorbar": {
             "outlinewidth": 0,
             "ticks": ""
            },
            "type": "choropleth"
           }
          ],
          "contour": [
           {
            "colorbar": {
             "outlinewidth": 0,
             "ticks": ""
            },
            "colorscale": [
             [
              0,
              "#0d0887"
             ],
             [
              0.1111111111111111,
              "#46039f"
             ],
             [
              0.2222222222222222,
              "#7201a8"
             ],
             [
              0.3333333333333333,
              "#9c179e"
             ],
             [
              0.4444444444444444,
              "#bd3786"
             ],
             [
              0.5555555555555556,
              "#d8576b"
             ],
             [
              0.6666666666666666,
              "#ed7953"
             ],
             [
              0.7777777777777778,
              "#fb9f3a"
             ],
             [
              0.8888888888888888,
              "#fdca26"
             ],
             [
              1,
              "#f0f921"
             ]
            ],
            "type": "contour"
           }
          ],
          "contourcarpet": [
           {
            "colorbar": {
             "outlinewidth": 0,
             "ticks": ""
            },
            "type": "contourcarpet"
           }
          ],
          "heatmap": [
           {
            "colorbar": {
             "outlinewidth": 0,
             "ticks": ""
            },
            "colorscale": [
             [
              0,
              "#0d0887"
             ],
             [
              0.1111111111111111,
              "#46039f"
             ],
             [
              0.2222222222222222,
              "#7201a8"
             ],
             [
              0.3333333333333333,
              "#9c179e"
             ],
             [
              0.4444444444444444,
              "#bd3786"
             ],
             [
              0.5555555555555556,
              "#d8576b"
             ],
             [
              0.6666666666666666,
              "#ed7953"
             ],
             [
              0.7777777777777778,
              "#fb9f3a"
             ],
             [
              0.8888888888888888,
              "#fdca26"
             ],
             [
              1,
              "#f0f921"
             ]
            ],
            "type": "heatmap"
           }
          ],
          "heatmapgl": [
           {
            "colorbar": {
             "outlinewidth": 0,
             "ticks": ""
            },
            "colorscale": [
             [
              0,
              "#0d0887"
             ],
             [
              0.1111111111111111,
              "#46039f"
             ],
             [
              0.2222222222222222,
              "#7201a8"
             ],
             [
              0.3333333333333333,
              "#9c179e"
             ],
             [
              0.4444444444444444,
              "#bd3786"
             ],
             [
              0.5555555555555556,
              "#d8576b"
             ],
             [
              0.6666666666666666,
              "#ed7953"
             ],
             [
              0.7777777777777778,
              "#fb9f3a"
             ],
             [
              0.8888888888888888,
              "#fdca26"
             ],
             [
              1,
              "#f0f921"
             ]
            ],
            "type": "heatmapgl"
           }
          ],
          "histogram": [
           {
            "marker": {
             "pattern": {
              "fillmode": "overlay",
              "size": 10,
              "solidity": 0.2
             }
            },
            "type": "histogram"
           }
          ],
          "histogram2d": [
           {
            "colorbar": {
             "outlinewidth": 0,
             "ticks": ""
            },
            "colorscale": [
             [
              0,
              "#0d0887"
             ],
             [
              0.1111111111111111,
              "#46039f"
             ],
             [
              0.2222222222222222,
              "#7201a8"
             ],
             [
              0.3333333333333333,
              "#9c179e"
             ],
             [
              0.4444444444444444,
              "#bd3786"
             ],
             [
              0.5555555555555556,
              "#d8576b"
             ],
             [
              0.6666666666666666,
              "#ed7953"
             ],
             [
              0.7777777777777778,
              "#fb9f3a"
             ],
             [
              0.8888888888888888,
              "#fdca26"
             ],
             [
              1,
              "#f0f921"
             ]
            ],
            "type": "histogram2d"
           }
          ],
          "histogram2dcontour": [
           {
            "colorbar": {
             "outlinewidth": 0,
             "ticks": ""
            },
            "colorscale": [
             [
              0,
              "#0d0887"
             ],
             [
              0.1111111111111111,
              "#46039f"
             ],
             [
              0.2222222222222222,
              "#7201a8"
             ],
             [
              0.3333333333333333,
              "#9c179e"
             ],
             [
              0.4444444444444444,
              "#bd3786"
             ],
             [
              0.5555555555555556,
              "#d8576b"
             ],
             [
              0.6666666666666666,
              "#ed7953"
             ],
             [
              0.7777777777777778,
              "#fb9f3a"
             ],
             [
              0.8888888888888888,
              "#fdca26"
             ],
             [
              1,
              "#f0f921"
             ]
            ],
            "type": "histogram2dcontour"
           }
          ],
          "mesh3d": [
           {
            "colorbar": {
             "outlinewidth": 0,
             "ticks": ""
            },
            "type": "mesh3d"
           }
          ],
          "parcoords": [
           {
            "line": {
             "colorbar": {
              "outlinewidth": 0,
              "ticks": ""
             }
            },
            "type": "parcoords"
           }
          ],
          "pie": [
           {
            "automargin": true,
            "type": "pie"
           }
          ],
          "scatter": [
           {
            "fillpattern": {
             "fillmode": "overlay",
             "size": 10,
             "solidity": 0.2
            },
            "type": "scatter"
           }
          ],
          "scatter3d": [
           {
            "line": {
             "colorbar": {
              "outlinewidth": 0,
              "ticks": ""
             }
            },
            "marker": {
             "colorbar": {
              "outlinewidth": 0,
              "ticks": ""
             }
            },
            "type": "scatter3d"
           }
          ],
          "scattercarpet": [
           {
            "marker": {
             "colorbar": {
              "outlinewidth": 0,
              "ticks": ""
             }
            },
            "type": "scattercarpet"
           }
          ],
          "scattergeo": [
           {
            "marker": {
             "colorbar": {
              "outlinewidth": 0,
              "ticks": ""
             }
            },
            "type": "scattergeo"
           }
          ],
          "scattergl": [
           {
            "marker": {
             "colorbar": {
              "outlinewidth": 0,
              "ticks": ""
             }
            },
            "type": "scattergl"
           }
          ],
          "scattermapbox": [
           {
            "marker": {
             "colorbar": {
              "outlinewidth": 0,
              "ticks": ""
             }
            },
            "type": "scattermapbox"
           }
          ],
          "scatterpolar": [
           {
            "marker": {
             "colorbar": {
              "outlinewidth": 0,
              "ticks": ""
             }
            },
            "type": "scatterpolar"
           }
          ],
          "scatterpolargl": [
           {
            "marker": {
             "colorbar": {
              "outlinewidth": 0,
              "ticks": ""
             }
            },
            "type": "scatterpolargl"
           }
          ],
          "scatterternary": [
           {
            "marker": {
             "colorbar": {
              "outlinewidth": 0,
              "ticks": ""
             }
            },
            "type": "scatterternary"
           }
          ],
          "surface": [
           {
            "colorbar": {
             "outlinewidth": 0,
             "ticks": ""
            },
            "colorscale": [
             [
              0,
              "#0d0887"
             ],
             [
              0.1111111111111111,
              "#46039f"
             ],
             [
              0.2222222222222222,
              "#7201a8"
             ],
             [
              0.3333333333333333,
              "#9c179e"
             ],
             [
              0.4444444444444444,
              "#bd3786"
             ],
             [
              0.5555555555555556,
              "#d8576b"
             ],
             [
              0.6666666666666666,
              "#ed7953"
             ],
             [
              0.7777777777777778,
              "#fb9f3a"
             ],
             [
              0.8888888888888888,
              "#fdca26"
             ],
             [
              1,
              "#f0f921"
             ]
            ],
            "type": "surface"
           }
          ],
          "table": [
           {
            "cells": {
             "fill": {
              "color": "#EBF0F8"
             },
             "line": {
              "color": "white"
             }
            },
            "header": {
             "fill": {
              "color": "#C8D4E3"
             },
             "line": {
              "color": "white"
             }
            },
            "type": "table"
           }
          ]
         },
         "layout": {
          "annotationdefaults": {
           "arrowcolor": "#2a3f5f",
           "arrowhead": 0,
           "arrowwidth": 1
          },
          "autotypenumbers": "strict",
          "coloraxis": {
           "colorbar": {
            "outlinewidth": 0,
            "ticks": ""
           }
          },
          "colorscale": {
           "diverging": [
            [
             0,
             "#8e0152"
            ],
            [
             0.1,
             "#c51b7d"
            ],
            [
             0.2,
             "#de77ae"
            ],
            [
             0.3,
             "#f1b6da"
            ],
            [
             0.4,
             "#fde0ef"
            ],
            [
             0.5,
             "#f7f7f7"
            ],
            [
             0.6,
             "#e6f5d0"
            ],
            [
             0.7,
             "#b8e186"
            ],
            [
             0.8,
             "#7fbc41"
            ],
            [
             0.9,
             "#4d9221"
            ],
            [
             1,
             "#276419"
            ]
           ],
           "sequential": [
            [
             0,
             "#0d0887"
            ],
            [
             0.1111111111111111,
             "#46039f"
            ],
            [
             0.2222222222222222,
             "#7201a8"
            ],
            [
             0.3333333333333333,
             "#9c179e"
            ],
            [
             0.4444444444444444,
             "#bd3786"
            ],
            [
             0.5555555555555556,
             "#d8576b"
            ],
            [
             0.6666666666666666,
             "#ed7953"
            ],
            [
             0.7777777777777778,
             "#fb9f3a"
            ],
            [
             0.8888888888888888,
             "#fdca26"
            ],
            [
             1,
             "#f0f921"
            ]
           ],
           "sequentialminus": [
            [
             0,
             "#0d0887"
            ],
            [
             0.1111111111111111,
             "#46039f"
            ],
            [
             0.2222222222222222,
             "#7201a8"
            ],
            [
             0.3333333333333333,
             "#9c179e"
            ],
            [
             0.4444444444444444,
             "#bd3786"
            ],
            [
             0.5555555555555556,
             "#d8576b"
            ],
            [
             0.6666666666666666,
             "#ed7953"
            ],
            [
             0.7777777777777778,
             "#fb9f3a"
            ],
            [
             0.8888888888888888,
             "#fdca26"
            ],
            [
             1,
             "#f0f921"
            ]
           ]
          },
          "colorway": [
           "#636efa",
           "#EF553B",
           "#00cc96",
           "#ab63fa",
           "#FFA15A",
           "#19d3f3",
           "#FF6692",
           "#B6E880",
           "#FF97FF",
           "#FECB52"
          ],
          "font": {
           "color": "#2a3f5f"
          },
          "geo": {
           "bgcolor": "white",
           "lakecolor": "white",
           "landcolor": "#E5ECF6",
           "showlakes": true,
           "showland": true,
           "subunitcolor": "white"
          },
          "hoverlabel": {
           "align": "left"
          },
          "hovermode": "closest",
          "mapbox": {
           "style": "light"
          },
          "paper_bgcolor": "white",
          "plot_bgcolor": "#E5ECF6",
          "polar": {
           "angularaxis": {
            "gridcolor": "white",
            "linecolor": "white",
            "ticks": ""
           },
           "bgcolor": "#E5ECF6",
           "radialaxis": {
            "gridcolor": "white",
            "linecolor": "white",
            "ticks": ""
           }
          },
          "scene": {
           "xaxis": {
            "backgroundcolor": "#E5ECF6",
            "gridcolor": "white",
            "gridwidth": 2,
            "linecolor": "white",
            "showbackground": true,
            "ticks": "",
            "zerolinecolor": "white"
           },
           "yaxis": {
            "backgroundcolor": "#E5ECF6",
            "gridcolor": "white",
            "gridwidth": 2,
            "linecolor": "white",
            "showbackground": true,
            "ticks": "",
            "zerolinecolor": "white"
           },
           "zaxis": {
            "backgroundcolor": "#E5ECF6",
            "gridcolor": "white",
            "gridwidth": 2,
            "linecolor": "white",
            "showbackground": true,
            "ticks": "",
            "zerolinecolor": "white"
           }
          },
          "shapedefaults": {
           "line": {
            "color": "#2a3f5f"
           }
          },
          "ternary": {
           "aaxis": {
            "gridcolor": "white",
            "linecolor": "white",
            "ticks": ""
           },
           "baxis": {
            "gridcolor": "white",
            "linecolor": "white",
            "ticks": ""
           },
           "bgcolor": "#E5ECF6",
           "caxis": {
            "gridcolor": "white",
            "linecolor": "white",
            "ticks": ""
           }
          },
          "title": {
           "x": 0.05
          },
          "xaxis": {
           "automargin": true,
           "gridcolor": "white",
           "linecolor": "white",
           "ticks": "",
           "title": {
            "standoff": 15
           },
           "zerolinecolor": "white",
           "zerolinewidth": 2
          },
          "yaxis": {
           "automargin": true,
           "gridcolor": "white",
           "linecolor": "white",
           "ticks": "",
           "title": {
            "standoff": 15
           },
           "zerolinecolor": "white",
           "zerolinewidth": 2
          }
         }
        },
        "xaxis": {
         "anchor": "y",
         "domain": [
          0,
          1
         ],
         "title": {
          "text": "Date"
         }
        },
        "yaxis": {
         "anchor": "x",
         "domain": [
          0,
          1
         ],
         "title": {
          "text": "Close"
         }
        }
       }
      }
     },
     "metadata": {},
     "output_type": "display_data"
    }
   ],
   "source": [
    "from datetime import datetime, timedelta\n",
    "import plotly.express as px\n",
    "df = yf.Ticker(ticker).history(start=end_date, end=str(datetime.strptime(end_date, '%Y-%m-%d')+ timedelta(days=5)).split(' ')[0])\n",
    "\n",
    "fig = px.line(df,x=df.index,y='Close')\n",
    "fig.add_trace(go.Scatter(\n",
    "    x=predicted_series.index,\n",
    "    y=predicted_series.values,\n",
    "    mode='lines',\n",
    "    name='Future Predictions',\n",
    "    line=dict(color='orange')\n",
    "))\n",
    "fig.show()\n"
   ]
  },
  {
   "cell_type": "markdown",
   "metadata": {},
   "source": [
    "### ASSURING THE DENSE NEURAL NETWORK WILL SEPARE TRAIN, VAL AND TEST SETS PROPERLY\n",
    "\n",
    "(for application)"
   ]
  },
  {
   "cell_type": "code",
   "execution_count": 8,
   "metadata": {},
   "outputs": [
    {
     "name": "stdout",
     "output_type": "stream",
     "text": [
      "Data inicial ajustada para 2023-01-02 00:00:00\n",
      "Data final ajustada para 2025-01-08 00:00:00\n",
      "Epoch 1/50\n"
     ]
    },
    {
     "name": "stderr",
     "output_type": "stream",
     "text": [
      "c:\\Users\\OtavioDaflon\\Documents\\findash\\fin_dash_env.yml\\Lib\\site-packages\\keras\\src\\layers\\rnn\\rnn.py:200: UserWarning:\n",
      "\n",
      "Do not pass an `input_shape`/`input_dim` argument to a layer. When using Sequential models, prefer using an `Input(shape)` object as the first layer in the model instead.\n",
      "\n"
     ]
    },
    {
     "name": "stdout",
     "output_type": "stream",
     "text": [
      "\u001b[1m193/193\u001b[0m \u001b[32m━━━━━━━━━━━━━━━━━━━━\u001b[0m\u001b[37m\u001b[0m \u001b[1m2s\u001b[0m 4ms/step - loss: 3.7565 - mean_absolute_error: 1.0403 - val_loss: 0.5337 - val_mean_absolute_error: 0.7034\n",
      "Epoch 2/50\n",
      "\u001b[1m193/193\u001b[0m \u001b[32m━━━━━━━━━━━━━━━━━━━━\u001b[0m\u001b[37m\u001b[0m \u001b[1m1s\u001b[0m 3ms/step - loss: 0.0140 - mean_absolute_error: 0.0853 - val_loss: 0.1531 - val_mean_absolute_error: 0.3601\n",
      "Epoch 3/50\n",
      "\u001b[1m193/193\u001b[0m \u001b[32m━━━━━━━━━━━━━━━━━━━━\u001b[0m\u001b[37m\u001b[0m \u001b[1m1s\u001b[0m 3ms/step - loss: 0.0104 - mean_absolute_error: 0.0703 - val_loss: 0.0710 - val_mean_absolute_error: 0.2305\n",
      "Epoch 4/50\n",
      "\u001b[1m193/193\u001b[0m \u001b[32m━━━━━━━━━━━━━━━━━━━━\u001b[0m\u001b[37m\u001b[0m \u001b[1m1s\u001b[0m 3ms/step - loss: 0.0086 - mean_absolute_error: 0.0622 - val_loss: 0.0346 - val_mean_absolute_error: 0.1510\n",
      "Epoch 5/50\n",
      "\u001b[1m193/193\u001b[0m \u001b[32m━━━━━━━━━━━━━━━━━━━━\u001b[0m\u001b[37m\u001b[0m \u001b[1m1s\u001b[0m 3ms/step - loss: 0.0083 - mean_absolute_error: 0.0596 - val_loss: 0.0361 - val_mean_absolute_error: 0.1554\n",
      "Epoch 6/50\n",
      "\u001b[1m193/193\u001b[0m \u001b[32m━━━━━━━━━━━━━━━━━━━━\u001b[0m\u001b[37m\u001b[0m \u001b[1m1s\u001b[0m 3ms/step - loss: 0.0075 - mean_absolute_error: 0.0582 - val_loss: 0.0991 - val_mean_absolute_error: 0.2857\n",
      "Epoch 7/50\n",
      "\u001b[1m193/193\u001b[0m \u001b[32m━━━━━━━━━━━━━━━━━━━━\u001b[0m\u001b[37m\u001b[0m \u001b[1m1s\u001b[0m 3ms/step - loss: 0.0092 - mean_absolute_error: 0.0648 - val_loss: 0.0829 - val_mean_absolute_error: 0.2521\n",
      "Epoch 8/50\n",
      "\u001b[1m193/193\u001b[0m \u001b[32m━━━━━━━━━━━━━━━━━━━━\u001b[0m\u001b[37m\u001b[0m \u001b[1m1s\u001b[0m 3ms/step - loss: 0.0088 - mean_absolute_error: 0.0626 - val_loss: 0.0226 - val_mean_absolute_error: 0.1167\n",
      "Epoch 9/50\n",
      "\u001b[1m193/193\u001b[0m \u001b[32m━━━━━━━━━━━━━━━━━━━━\u001b[0m\u001b[37m\u001b[0m \u001b[1m1s\u001b[0m 3ms/step - loss: 0.0081 - mean_absolute_error: 0.0609 - val_loss: 0.1621 - val_mean_absolute_error: 0.3749\n",
      "Epoch 10/50\n",
      "\u001b[1m193/193\u001b[0m \u001b[32m━━━━━━━━━━━━━━━━━━━━\u001b[0m\u001b[37m\u001b[0m \u001b[1m1s\u001b[0m 3ms/step - loss: 0.0080 - mean_absolute_error: 0.0585 - val_loss: 0.0211 - val_mean_absolute_error: 0.1142\n",
      "Epoch 11/50\n",
      "\u001b[1m193/193\u001b[0m \u001b[32m━━━━━━━━━━━━━━━━━━━━\u001b[0m\u001b[37m\u001b[0m \u001b[1m1s\u001b[0m 3ms/step - loss: 0.0091 - mean_absolute_error: 0.0649 - val_loss: 0.0536 - val_mean_absolute_error: 0.1971\n",
      "Epoch 12/50\n",
      "\u001b[1m193/193\u001b[0m \u001b[32m━━━━━━━━━━━━━━━━━━━━\u001b[0m\u001b[37m\u001b[0m \u001b[1m1s\u001b[0m 3ms/step - loss: 0.0076 - mean_absolute_error: 0.0561 - val_loss: 0.0633 - val_mean_absolute_error: 0.2196\n",
      "Epoch 13/50\n",
      "\u001b[1m193/193\u001b[0m \u001b[32m━━━━━━━━━━━━━━━━━━━━\u001b[0m\u001b[37m\u001b[0m \u001b[1m1s\u001b[0m 3ms/step - loss: 0.0067 - mean_absolute_error: 0.0536 - val_loss: 0.0484 - val_mean_absolute_error: 0.1894\n",
      "Epoch 14/50\n",
      "\u001b[1m193/193\u001b[0m \u001b[32m━━━━━━━━━━━━━━━━━━━━\u001b[0m\u001b[37m\u001b[0m \u001b[1m1s\u001b[0m 3ms/step - loss: 0.0084 - mean_absolute_error: 0.0606 - val_loss: 0.0179 - val_mean_absolute_error: 0.1040\n",
      "Epoch 15/50\n",
      "\u001b[1m193/193\u001b[0m \u001b[32m━━━━━━━━━━━━━━━━━━━━\u001b[0m\u001b[37m\u001b[0m \u001b[1m1s\u001b[0m 3ms/step - loss: 0.0077 - mean_absolute_error: 0.0584 - val_loss: 0.0156 - val_mean_absolute_error: 0.0950\n",
      "Epoch 16/50\n",
      "\u001b[1m193/193\u001b[0m \u001b[32m━━━━━━━━━━━━━━━━━━━━\u001b[0m\u001b[37m\u001b[0m \u001b[1m1s\u001b[0m 3ms/step - loss: 0.0067 - mean_absolute_error: 0.0538 - val_loss: 0.0273 - val_mean_absolute_error: 0.1347\n",
      "Epoch 17/50\n",
      "\u001b[1m193/193\u001b[0m \u001b[32m━━━━━━━━━━━━━━━━━━━━\u001b[0m\u001b[37m\u001b[0m \u001b[1m1s\u001b[0m 3ms/step - loss: 0.0076 - mean_absolute_error: 0.0570 - val_loss: 0.0721 - val_mean_absolute_error: 0.2417\n",
      "Epoch 18/50\n",
      "\u001b[1m193/193\u001b[0m \u001b[32m━━━━━━━━━━━━━━━━━━━━\u001b[0m\u001b[37m\u001b[0m \u001b[1m1s\u001b[0m 3ms/step - loss: 0.0076 - mean_absolute_error: 0.0561 - val_loss: 0.0555 - val_mean_absolute_error: 0.2073\n",
      "Epoch 19/50\n",
      "\u001b[1m193/193\u001b[0m \u001b[32m━━━━━━━━━━━━━━━━━━━━\u001b[0m\u001b[37m\u001b[0m \u001b[1m1s\u001b[0m 3ms/step - loss: 0.0072 - mean_absolute_error: 0.0549 - val_loss: 0.0126 - val_mean_absolute_error: 0.0848\n",
      "Epoch 20/50\n",
      "\u001b[1m193/193\u001b[0m \u001b[32m━━━━━━━━━━━━━━━━━━━━\u001b[0m\u001b[37m\u001b[0m \u001b[1m1s\u001b[0m 3ms/step - loss: 0.0068 - mean_absolute_error: 0.0537 - val_loss: 0.0236 - val_mean_absolute_error: 0.1248\n",
      "Epoch 21/50\n",
      "\u001b[1m193/193\u001b[0m \u001b[32m━━━━━━━━━━━━━━━━━━━━\u001b[0m\u001b[37m\u001b[0m \u001b[1m1s\u001b[0m 3ms/step - loss: 0.0072 - mean_absolute_error: 0.0560 - val_loss: 0.0563 - val_mean_absolute_error: 0.2134\n",
      "Epoch 22/50\n",
      "\u001b[1m193/193\u001b[0m \u001b[32m━━━━━━━━━━━━━━━━━━━━\u001b[0m\u001b[37m\u001b[0m \u001b[1m1s\u001b[0m 3ms/step - loss: 0.0083 - mean_absolute_error: 0.0598 - val_loss: 0.1396 - val_mean_absolute_error: 0.3564\n",
      "Epoch 23/50\n",
      "\u001b[1m193/193\u001b[0m \u001b[32m━━━━━━━━━━━━━━━━━━━━\u001b[0m\u001b[37m\u001b[0m \u001b[1m1s\u001b[0m 3ms/step - loss: 0.0082 - mean_absolute_error: 0.0596 - val_loss: 0.0341 - val_mean_absolute_error: 0.1571\n",
      "Epoch 24/50\n",
      "\u001b[1m193/193\u001b[0m \u001b[32m━━━━━━━━━━━━━━━━━━━━\u001b[0m\u001b[37m\u001b[0m \u001b[1m1s\u001b[0m 3ms/step - loss: 0.0067 - mean_absolute_error: 0.0530 - val_loss: 0.2093 - val_mean_absolute_error: 0.4450\n",
      "Epoch 25/50\n",
      "\u001b[1m193/193\u001b[0m \u001b[32m━━━━━━━━━━━━━━━━━━━━\u001b[0m\u001b[37m\u001b[0m \u001b[1m1s\u001b[0m 3ms/step - loss: 0.0128 - mean_absolute_error: 0.0734 - val_loss: 0.0738 - val_mean_absolute_error: 0.2516\n",
      "Epoch 26/50\n",
      "\u001b[1m193/193\u001b[0m \u001b[32m━━━━━━━━━━━━━━━━━━━━\u001b[0m\u001b[37m\u001b[0m \u001b[1m1s\u001b[0m 3ms/step - loss: 0.0094 - mean_absolute_error: 0.0634 - val_loss: 0.0133 - val_mean_absolute_error: 0.0886\n",
      "Epoch 27/50\n",
      "\u001b[1m193/193\u001b[0m \u001b[32m━━━━━━━━━━━━━━━━━━━━\u001b[0m\u001b[37m\u001b[0m \u001b[1m1s\u001b[0m 3ms/step - loss: 0.0070 - mean_absolute_error: 0.0547 - val_loss: 0.2242 - val_mean_absolute_error: 0.4613\n",
      "Epoch 28/50\n",
      "\u001b[1m193/193\u001b[0m \u001b[32m━━━━━━━━━━━━━━━━━━━━\u001b[0m\u001b[37m\u001b[0m \u001b[1m1s\u001b[0m 3ms/step - loss: 0.0223 - mean_absolute_error: 0.0907 - val_loss: 0.0250 - val_mean_absolute_error: 0.1302\n",
      "Epoch 29/50\n",
      "\u001b[1m193/193\u001b[0m \u001b[32m━━━━━━━━━━━━━━━━━━━━\u001b[0m\u001b[37m\u001b[0m \u001b[1m1s\u001b[0m 3ms/step - loss: 0.0072 - mean_absolute_error: 0.0549 - val_loss: 0.0244 - val_mean_absolute_error: 0.1284\n",
      "Epoch 30/50\n",
      "\u001b[1m193/193\u001b[0m \u001b[32m━━━━━━━━━━━━━━━━━━━━\u001b[0m\u001b[37m\u001b[0m \u001b[1m1s\u001b[0m 3ms/step - loss: 0.0068 - mean_absolute_error: 0.0537 - val_loss: 0.0115 - val_mean_absolute_error: 0.0812\n",
      "Epoch 31/50\n",
      "\u001b[1m193/193\u001b[0m \u001b[32m━━━━━━━━━━━━━━━━━━━━\u001b[0m\u001b[37m\u001b[0m \u001b[1m1s\u001b[0m 3ms/step - loss: 0.0073 - mean_absolute_error: 0.0556 - val_loss: 0.0120 - val_mean_absolute_error: 0.0830\n",
      "Epoch 32/50\n",
      "\u001b[1m193/193\u001b[0m \u001b[32m━━━━━━━━━━━━━━━━━━━━\u001b[0m\u001b[37m\u001b[0m \u001b[1m1s\u001b[0m 3ms/step - loss: 0.0064 - mean_absolute_error: 0.0522 - val_loss: 0.0183 - val_mean_absolute_error: 0.1069\n",
      "Epoch 33/50\n",
      "\u001b[1m193/193\u001b[0m \u001b[32m━━━━━━━━━━━━━━━━━━━━\u001b[0m\u001b[37m\u001b[0m \u001b[1m1s\u001b[0m 3ms/step - loss: 0.0065 - mean_absolute_error: 0.0526 - val_loss: 0.0273 - val_mean_absolute_error: 0.1384\n",
      "Epoch 34/50\n",
      "\u001b[1m193/193\u001b[0m \u001b[32m━━━━━━━━━━━━━━━━━━━━\u001b[0m\u001b[37m\u001b[0m \u001b[1m1s\u001b[0m 3ms/step - loss: 0.0066 - mean_absolute_error: 0.0536 - val_loss: 0.1289 - val_mean_absolute_error: 0.3438\n",
      "Epoch 35/50\n",
      "\u001b[1m193/193\u001b[0m \u001b[32m━━━━━━━━━━━━━━━━━━━━\u001b[0m\u001b[37m\u001b[0m \u001b[1m1s\u001b[0m 3ms/step - loss: 0.0218 - mean_absolute_error: 0.0967 - val_loss: 0.0248 - val_mean_absolute_error: 0.1303\n",
      "Epoch 36/50\n",
      "\u001b[1m193/193\u001b[0m \u001b[32m━━━━━━━━━━━━━━━━━━━━\u001b[0m\u001b[37m\u001b[0m \u001b[1m1s\u001b[0m 3ms/step - loss: 0.0065 - mean_absolute_error: 0.0522 - val_loss: 0.0313 - val_mean_absolute_error: 0.1508\n",
      "Epoch 37/50\n",
      "\u001b[1m193/193\u001b[0m \u001b[32m━━━━━━━━━━━━━━━━━━━━\u001b[0m\u001b[37m\u001b[0m \u001b[1m1s\u001b[0m 3ms/step - loss: 0.0075 - mean_absolute_error: 0.0564 - val_loss: 0.0221 - val_mean_absolute_error: 0.1204\n",
      "Epoch 38/50\n",
      "\u001b[1m193/193\u001b[0m \u001b[32m━━━━━━━━━━━━━━━━━━━━\u001b[0m\u001b[37m\u001b[0m \u001b[1m1s\u001b[0m 3ms/step - loss: 0.0064 - mean_absolute_error: 0.0513 - val_loss: 0.0654 - val_mean_absolute_error: 0.2343\n",
      "Epoch 39/50\n",
      "\u001b[1m193/193\u001b[0m \u001b[32m━━━━━━━━━━━━━━━━━━━━\u001b[0m\u001b[37m\u001b[0m \u001b[1m1s\u001b[0m 3ms/step - loss: 0.0070 - mean_absolute_error: 0.0542 - val_loss: 0.0259 - val_mean_absolute_error: 0.1336\n",
      "Epoch 40/50\n",
      "\u001b[1m193/193\u001b[0m \u001b[32m━━━━━━━━━━━━━━━━━━━━\u001b[0m\u001b[37m\u001b[0m \u001b[1m1s\u001b[0m 3ms/step - loss: 0.0073 - mean_absolute_error: 0.0548 - val_loss: 0.0185 - val_mean_absolute_error: 0.1076\n",
      "Epoch 41/50\n",
      "\u001b[1m193/193\u001b[0m \u001b[32m━━━━━━━━━━━━━━━━━━━━\u001b[0m\u001b[37m\u001b[0m \u001b[1m1s\u001b[0m 3ms/step - loss: 0.0061 - mean_absolute_error: 0.0500 - val_loss: 0.0126 - val_mean_absolute_error: 0.0854\n",
      "Epoch 42/50\n",
      "\u001b[1m193/193\u001b[0m \u001b[32m━━━━━━━━━━━━━━━━━━━━\u001b[0m\u001b[37m\u001b[0m \u001b[1m1s\u001b[0m 3ms/step - loss: 0.0065 - mean_absolute_error: 0.0515 - val_loss: 0.0799 - val_mean_absolute_error: 0.2630\n",
      "Epoch 43/50\n",
      "\u001b[1m193/193\u001b[0m \u001b[32m━━━━━━━━━━━━━━━━━━━━\u001b[0m\u001b[37m\u001b[0m \u001b[1m1s\u001b[0m 3ms/step - loss: 0.0075 - mean_absolute_error: 0.0568 - val_loss: 0.0110 - val_mean_absolute_error: 0.0789\n",
      "Epoch 44/50\n",
      "\u001b[1m193/193\u001b[0m \u001b[32m━━━━━━━━━━━━━━━━━━━━\u001b[0m\u001b[37m\u001b[0m \u001b[1m1s\u001b[0m 3ms/step - loss: 0.0071 - mean_absolute_error: 0.0548 - val_loss: 0.0195 - val_mean_absolute_error: 0.1109\n",
      "Epoch 45/50\n",
      "\u001b[1m193/193\u001b[0m \u001b[32m━━━━━━━━━━━━━━━━━━━━\u001b[0m\u001b[37m\u001b[0m \u001b[1m1s\u001b[0m 3ms/step - loss: 0.0064 - mean_absolute_error: 0.0516 - val_loss: 0.0118 - val_mean_absolute_error: 0.0825\n",
      "Epoch 46/50\n",
      "\u001b[1m193/193\u001b[0m \u001b[32m━━━━━━━━━━━━━━━━━━━━\u001b[0m\u001b[37m\u001b[0m \u001b[1m1s\u001b[0m 3ms/step - loss: 0.0066 - mean_absolute_error: 0.0531 - val_loss: 0.0227 - val_mean_absolute_error: 0.1222\n",
      "Epoch 47/50\n",
      "\u001b[1m193/193\u001b[0m \u001b[32m━━━━━━━━━━━━━━━━━━━━\u001b[0m\u001b[37m\u001b[0m \u001b[1m1s\u001b[0m 4ms/step - loss: 0.0068 - mean_absolute_error: 0.0535 - val_loss: 0.0147 - val_mean_absolute_error: 0.0982\n",
      "Epoch 48/50\n",
      "\u001b[1m193/193\u001b[0m \u001b[32m━━━━━━━━━━━━━━━━━━━━\u001b[0m\u001b[37m\u001b[0m \u001b[1m1s\u001b[0m 4ms/step - loss: 0.0057 - mean_absolute_error: 0.0489 - val_loss: 0.0134 - val_mean_absolute_error: 0.0913\n",
      "Epoch 49/50\n",
      "\u001b[1m193/193\u001b[0m \u001b[32m━━━━━━━━━━━━━━━━━━━━\u001b[0m\u001b[37m\u001b[0m \u001b[1m1s\u001b[0m 3ms/step - loss: 0.0070 - mean_absolute_error: 0.0539 - val_loss: 0.0111 - val_mean_absolute_error: 0.0793\n",
      "Epoch 50/50\n",
      "\u001b[1m193/193\u001b[0m \u001b[32m━━━━━━━━━━━━━━━━━━━━\u001b[0m\u001b[37m\u001b[0m \u001b[1m1s\u001b[0m 3ms/step - loss: 0.0063 - mean_absolute_error: 0.0512 - val_loss: 0.0236 - val_mean_absolute_error: 0.1255\n",
      "WARNING:tensorflow:5 out of the last 7 calls to <function TensorFlowTrainer.make_predict_function.<locals>.one_step_on_data_distributed at 0x0000017400179440> triggered tf.function retracing. Tracing is expensive and the excessive number of tracings could be due to (1) creating @tf.function repeatedly in a loop, (2) passing tensors with different shapes, (3) passing Python objects instead of tensors. For (1), please define your @tf.function outside of the loop. For (2), @tf.function has reduce_retracing=True option that can avoid unnecessary retracing. For (3), please refer to https://www.tensorflow.org/guide/function#controlling_retracing and https://www.tensorflow.org/api_docs/python/tf/function for  more details.\n",
      "\u001b[1m1/1\u001b[0m \u001b[32m━━━━━━━━━━━━━━━━━━━━\u001b[0m\u001b[37m\u001b[0m \u001b[1m0s\u001b[0m 176ms/step\n"
     ]
    },
    {
     "data": {
      "image/png": "[encoded data removed]",
      "text/plain": [
       "<Figure size 1200x600 with 1 Axes>"
      ]
     },
     "metadata": {},
     "output_type": "display_data"
    }
   ],
   "source": [
    "import pandas as pd\n",
    "import numpy as np\n",
    "import datetime\n",
    "import yfinance as yf\n",
    "import matplotlib.pyplot as plt\n",
    "from tensorflow.keras.models import Sequential\n",
    "from tensorflow.keras.optimizers import Adam\n",
    "from tensorflow.keras import layers\n",
    "import plotly.graph_objects as go\n",
    "\n",
    "def adjust_dates_to_available(df, start_date, end_date):\n",
    "    if start_date not in df.index:\n",
    "        start_date = df.index[df.index.get_indexer([start_date], method='nearest')[0]]\n",
    "        print(f'Data inicial ajustada para {start_date}')\n",
    "    if end_date not in df.index:\n",
    "        end_date = df.index[df.index.get_indexer([end_date], method='nearest')[0]]\n",
    "        print(f'Data final ajustada para {end_date}')\n",
    "    return start_date, end_date\n",
    "\n",
    "\n",
    "# early division\n",
    "def split_data_temporally(dataframe, train_end_date, val_end_date):\n",
    "    \"\"\"Divide os dados respeitando a sequência temporal.\"\"\"\n",
    "    train = dataframe.loc[:train_end_date]\n",
    "    val = dataframe.loc[train_end_date:val_end_date]\n",
    "    test = dataframe.loc[val_end_date:]\n",
    "    \n",
    "    return train, val, test\n",
    "\n",
    "\n",
    "# windows limited for each individual df\n",
    "def create_windowed_data(df, window_size):\n",
    "    \"\"\"Cria dados em janelas para LSTM.\"\"\"\n",
    "    X, y = [], []\n",
    "    for i in range(len(df) - window_size):\n",
    "        X.append(df.iloc[i:i + window_size].values)\n",
    "        y.append(df.iloc[i + window_size])\n",
    "    return np.array(X), np.array(y)\n",
    "\n",
    "\n",
    "\n",
    "def train_model(ticker, start_date, train_end_date, val_end_date, end_date, window_size):\n",
    "    df = yf.Ticker(ticker).history(period='max')\n",
    "    df = df[['Close']]\n",
    "    df.index = pd.to_datetime(df.index).tz_convert(None).normalize()\n",
    "\n",
    "    start_date, end_date = adjust_dates_to_available(df, start_date, end_date)\n",
    "    start_date = pd.to_datetime(start_date).normalize()\n",
    "    train_end_date = pd.to_datetime(train_end_date).normalize()\n",
    "    val_end_date = pd.to_datetime(val_end_date).normalize()\n",
    "    end_date = pd.to_datetime(end_date).normalize()\n",
    "    \n",
    "    train_df, val_df, test_df = split_data_temporally(df, train_end_date, val_end_date)\n",
    "    \n",
    "    X_train, y_train = create_windowed_data(train_df['Close'], window_size)\n",
    "    X_val, y_val = create_windowed_data(val_df['Close'], window_size)\n",
    "    X_test, y_test = create_windowed_data(test_df['Close'], window_size)\n",
    "    \n",
    "    X_train = X_train.reshape((X_train.shape[0], X_train.shape[1], 1))\n",
    "    X_val = X_val.reshape((X_val.shape[0], X_val.shape[1], 1))\n",
    "    X_test = X_test.reshape((X_test.shape[0], X_test.shape[1], 1))\n",
    "    \n",
    "    model = Sequential([\n",
    "        layers.LSTM(70, input_shape=(window_size, 1)),\n",
    "        layers.Dense(32, activation='relu'),\n",
    "        layers.Dense(32, activation='relu'),\n",
    "        layers.Dense(1)\n",
    "    ])\n",
    "    \n",
    "    model.compile(loss='mse', optimizer=Adam(learning_rate=0.001), metrics=['mean_absolute_error'])\n",
    "    \n",
    "\n",
    "    model.fit(X_train, y_train, validation_data=(X_val, y_val), epochs=50)\n",
    "    \n",
    "    return model, test_df.index[window_size:], X_test\n",
    "\n",
    "#=============================\n",
    "# Parameters\n",
    "ticker = 'ITSA4.SA'\n",
    "start_date = '2023-01-01'\n",
    "train_end_date = '2024-06-30'\n",
    "val_end_date = '2024-11-25'\n",
    "end_date = '2025-06-08'\n",
    "window_size = 5\n",
    "#=============================\n",
    "model, test_dates, X_test = train_model(ticker, start_date, train_end_date, val_end_date, end_date, window_size)\n",
    "\n",
    "future_predictions = model.predict(X_test).flatten()\n",
    "\n",
    "\n",
    "plt.figure(figsize=(12, 6))\n",
    "plt.plot(test_dates, future_predictions, label='Previsões', color='orange')\n",
    "plt.title('Previsões Futuras com LSTM')\n",
    "plt.xlabel('Data')\n",
    "plt.ylabel('Preço de Fechamento Previsto')\n",
    "plt.legend()\n",
    "plt.show()\n"
   ]
  },
  {
   "cell_type": "code",
   "execution_count": 9,
   "metadata": {},
   "outputs": [
    {
     "data": {
      "text/plain": [
       "array([[[9.63078117],\n",
       "        [9.8573885 ],\n",
       "        [9.51747894],\n",
       "        [9.2342205 ],\n",
       "        [9.20589447]],\n",
       "\n",
       "       [[9.8573885 ],\n",
       "        [9.51747894],\n",
       "        [9.2342205 ],\n",
       "        [9.20589447],\n",
       "        [9.08729172]],\n",
       "\n",
       "       [[9.51747894],\n",
       "        [9.2342205 ],\n",
       "        [9.20589447],\n",
       "        [9.08729172],\n",
       "        [9.14408779]],\n",
       "\n",
       "       [[9.2342205 ],\n",
       "        [9.20589447],\n",
       "        [9.08729172],\n",
       "        [9.14408779],\n",
       "        [9.20372295]],\n",
       "\n",
       "       [[9.20589447],\n",
       "        [9.08729172],\n",
       "        [9.14408779],\n",
       "        [9.20372295],\n",
       "        [9.41244698]],\n",
       "\n",
       "       [[9.08729172],\n",
       "        [9.14408779],\n",
       "        [9.20372295],\n",
       "        [9.41244698],\n",
       "        [9.2136631 ]],\n",
       "\n",
       "       [[9.14408779],\n",
       "        [9.20372295],\n",
       "        [9.41244698],\n",
       "        [9.2136631 ],\n",
       "        [9.24348068]],\n",
       "\n",
       "       [[9.20372295],\n",
       "        [9.41244698],\n",
       "        [9.2136631 ],\n",
       "        [9.24348068],\n",
       "        [9.39256859]],\n",
       "\n",
       "       [[9.41244698],\n",
       "        [9.2136631 ],\n",
       "        [9.24348068],\n",
       "        [9.39256859],\n",
       "        [9.50190067]],\n",
       "\n",
       "       [[9.2136631 ],\n",
       "        [9.24348068],\n",
       "        [9.39256859],\n",
       "        [9.50190067],\n",
       "        [9.19999981]],\n",
       "\n",
       "       [[9.24348068],\n",
       "        [9.39256859],\n",
       "        [9.50190067],\n",
       "        [9.19999981],\n",
       "        [9.17000008]],\n",
       "\n",
       "       [[9.39256859],\n",
       "        [9.50190067],\n",
       "        [9.19999981],\n",
       "        [9.17000008],\n",
       "        [9.02999973]],\n",
       "\n",
       "       [[9.50190067],\n",
       "        [9.19999981],\n",
       "        [9.17000008],\n",
       "        [9.02999973],\n",
       "        [9.03999996]],\n",
       "\n",
       "       [[9.19999981],\n",
       "        [9.17000008],\n",
       "        [9.02999973],\n",
       "        [9.03999996],\n",
       "        [8.69999981]],\n",
       "\n",
       "       [[9.17000008],\n",
       "        [9.02999973],\n",
       "        [9.03999996],\n",
       "        [8.69999981],\n",
       "        [8.77999973]],\n",
       "\n",
       "       [[9.02999973],\n",
       "        [9.03999996],\n",
       "        [8.69999981],\n",
       "        [8.77999973],\n",
       "        [8.92000008]],\n",
       "\n",
       "       [[9.03999996],\n",
       "        [8.69999981],\n",
       "        [8.77999973],\n",
       "        [8.92000008],\n",
       "        [8.80000019]],\n",
       "\n",
       "       [[8.69999981],\n",
       "        [8.77999973],\n",
       "        [8.92000008],\n",
       "        [8.80000019],\n",
       "        [8.89999962]],\n",
       "\n",
       "       [[8.77999973],\n",
       "        [8.92000008],\n",
       "        [8.80000019],\n",
       "        [8.89999962],\n",
       "        [8.82999992]],\n",
       "\n",
       "       [[8.92000008],\n",
       "        [8.80000019],\n",
       "        [8.89999962],\n",
       "        [8.82999992],\n",
       "        [8.82999992]],\n",
       "\n",
       "       [[8.80000019],\n",
       "        [8.89999962],\n",
       "        [8.82999992],\n",
       "        [8.82999992],\n",
       "        [8.68000031]],\n",
       "\n",
       "       [[8.89999962],\n",
       "        [8.82999992],\n",
       "        [8.82999992],\n",
       "        [8.68000031],\n",
       "        [8.52999973]],\n",
       "\n",
       "       [[8.82999992],\n",
       "        [8.82999992],\n",
       "        [8.68000031],\n",
       "        [8.52999973],\n",
       "        [8.81000042]],\n",
       "\n",
       "       [[8.82999992],\n",
       "        [8.68000031],\n",
       "        [8.52999973],\n",
       "        [8.81000042],\n",
       "        [8.88000011]]])"
      ]
     },
     "execution_count": 9,
     "metadata": {},
     "output_type": "execute_result"
    }
   ],
   "source": [
    "X_test"
   ]
  },
  {
   "cell_type": "code",
   "execution_count": null,
   "metadata": {},
   "outputs": [
    {
     "data": {
      "application/vnd.plotly.v1+json": {
       "config": {
        "plotlyServerURL": "https://plot.ly"
       },
       "data": [
        {
         "hovertemplate": "Date=%{x}<br>Close=%{y}<extra></extra>",
         "legendgroup": "",
         "line": {
          "color": "#636efa",
          "dash": "solid"
         },
         "marker": {
          "symbol": "circle"
         },
         "mode": "lines",
         "name": "",
         "orientation": "v",
         "showlegend": false,
         "type": "scatter",
         "x": [
          "2024-12-02T00:00:00-03:00",
          "2024-12-03T00:00:00-03:00",
          "2024-12-04T00:00:00-03:00",
          "2024-12-05T00:00:00-03:00",
          "2024-12-06T00:00:00-03:00",
          "2024-12-09T00:00:00-03:00",
          "2024-12-10T00:00:00-03:00",
          "2024-12-11T00:00:00-03:00",
          "2024-12-12T00:00:00-03:00",
          "2024-12-13T00:00:00-03:00",
          "2024-12-16T00:00:00-03:00",
          "2024-12-17T00:00:00-03:00",
          "2024-12-18T00:00:00-03:00",
          "2024-12-19T00:00:00-03:00",
          "2024-12-20T00:00:00-03:00",
          "2024-12-23T00:00:00-03:00",
          "2024-12-26T00:00:00-03:00",
          "2024-12-27T00:00:00-03:00",
          "2024-12-30T00:00:00-03:00",
          "2025-01-02T00:00:00-03:00",
          "2025-01-03T00:00:00-03:00",
          "2025-01-06T00:00:00-03:00",
          "2025-01-07T00:00:00-03:00"
         ],
         "xaxis": "x",
         "y": [
          9.087291717529297,
          9.144087791442871,
          9.203722953796387,
          9.412446975708008,
          9.213663101196289,
          9.243480682373047,
          9.392568588256836,
          9.501900672912598,
          9.199999809265137,
          9.170000076293945,
          9.029999732971191,
          9.039999961853027,
          8.699999809265137,
          8.779999732971191,
          8.920000076293945,
          8.800000190734863,
          8.899999618530273,
          8.829999923706055,
          8.829999923706055,
          8.680000305175781,
          8.529999732971191,
          8.8100004196167,
          8.880000114440918
         ],
         "yaxis": "y"
        },
        {
         "line": {
          "color": "orange"
         },
         "mode": "lines",
         "name": "Future Predictions",
         "type": "scatter",
         "x": [
          "2024-12-02T00:00:00",
          "2024-12-03T00:00:00",
          "2024-12-04T00:00:00",
          "2024-12-05T00:00:00",
          "2024-12-06T00:00:00",
          "2024-12-09T00:00:00",
          "2024-12-10T00:00:00",
          "2024-12-11T00:00:00",
          "2024-12-12T00:00:00",
          "2024-12-13T00:00:00",
          "2024-12-16T00:00:00",
          "2024-12-17T00:00:00",
          "2024-12-18T00:00:00",
          "2024-12-19T00:00:00",
          "2024-12-20T00:00:00",
          "2024-12-23T00:00:00",
          "2024-12-26T00:00:00",
          "2024-12-27T00:00:00",
          "2024-12-30T00:00:00",
          "2025-01-02T00:00:00",
          "2025-01-03T00:00:00",
          "2025-01-06T00:00:00",
          "2025-01-07T00:00:00",
          "2025-01-08T00:00:00"
         ],
         "y": [
          9.095606803894043,
          8.984740257263184,
          9.031208038330078,
          9.09041690826416,
          9.28532600402832,
          9.101584434509277,
          9.121095657348633,
          9.270673751831055,
          9.375670433044434,
          9.087348937988281,
          9.051819801330566,
          8.926380157470703,
          8.930644989013672,
          8.600552558898926,
          8.671621322631836,
          8.81827163696289,
          8.698332786560059,
          8.787006378173828,
          8.727553367614746,
          8.722403526306152,
          8.578680038452148,
          8.428675651550293,
          8.702281951904297,
          8.780497550964355
         ]
        }
       ],
       "layout": {
        "legend": {
         "tracegroupgap": 0
        },
        "margin": {
         "t": 60
        },
        "template": {
         "data": {
          "bar": [
           {
            "error_x": {
             "color": "#2a3f5f"
            },
            "error_y": {
             "color": "#2a3f5f"
            },
            "marker": {
             "line": {
              "color": "#E5ECF6",
              "width": 0.5
             },
             "pattern": {
              "fillmode": "overlay",
              "size": 10,
              "solidity": 0.2
             }
            },
            "type": "bar"
           }
          ],
          "barpolar": [
           {
            "marker": {
             "line": {
              "color": "#E5ECF6",
              "width": 0.5
             },
             "pattern": {
              "fillmode": "overlay",
              "size": 10,
              "solidity": 0.2
             }
            },
            "type": "barpolar"
           }
          ],
          "carpet": [
           {
            "aaxis": {
             "endlinecolor": "#2a3f5f",
             "gridcolor": "white",
             "linecolor": "white",
             "minorgridcolor": "white",
             "startlinecolor": "#2a3f5f"
            },
            "baxis": {
             "endlinecolor": "#2a3f5f",
             "gridcolor": "white",
             "linecolor": "white",
             "minorgridcolor": "white",
             "startlinecolor": "#2a3f5f"
            },
            "type": "carpet"
           }
          ],
          "choropleth": [
           {
            "colorbar": {
             "outlinewidth": 0,
             "ticks": ""
            },
            "type": "choropleth"
           }
          ],
          "contour": [
           {
            "colorbar": {
             "outlinewidth": 0,
             "ticks": ""
            },
            "colorscale": [
             [
              0,
              "#0d0887"
             ],
             [
              0.1111111111111111,
              "#46039f"
             ],
             [
              0.2222222222222222,
              "#7201a8"
             ],
             [
              0.3333333333333333,
              "#9c179e"
             ],
             [
              0.4444444444444444,
              "#bd3786"
             ],
             [
              0.5555555555555556,
              "#d8576b"
             ],
             [
              0.6666666666666666,
              "#ed7953"
             ],
             [
              0.7777777777777778,
              "#fb9f3a"
             ],
             [
              0.8888888888888888,
              "#fdca26"
             ],
             [
              1,
              "#f0f921"
             ]
            ],
            "type": "contour"
           }
          ],
          "contourcarpet": [
           {
            "colorbar": {
             "outlinewidth": 0,
             "ticks": ""
            },
            "type": "contourcarpet"
           }
          ],
          "heatmap": [
           {
            "colorbar": {
             "outlinewidth": 0,
             "ticks": ""
            },
            "colorscale": [
             [
              0,
              "#0d0887"
             ],
             [
              0.1111111111111111,
              "#46039f"
             ],
             [
              0.2222222222222222,
              "#7201a8"
             ],
             [
              0.3333333333333333,
              "#9c179e"
             ],
             [
              0.4444444444444444,
              "#bd3786"
             ],
             [
              0.5555555555555556,
              "#d8576b"
             ],
             [
              0.6666666666666666,
              "#ed7953"
             ],
             [
              0.7777777777777778,
              "#fb9f3a"
             ],
             [
              0.8888888888888888,
              "#fdca26"
             ],
             [
              1,
              "#f0f921"
             ]
            ],
            "type": "heatmap"
           }
          ],
          "heatmapgl": [
           {
            "colorbar": {
             "outlinewidth": 0,
             "ticks": ""
            },
            "colorscale": [
             [
              0,
              "#0d0887"
             ],
             [
              0.1111111111111111,
              "#46039f"
             ],
             [
              0.2222222222222222,
              "#7201a8"
             ],
             [
              0.3333333333333333,
              "#9c179e"
             ],
             [
              0.4444444444444444,
              "#bd3786"
             ],
             [
              0.5555555555555556,
              "#d8576b"
             ],
             [
              0.6666666666666666,
              "#ed7953"
             ],
             [
              0.7777777777777778,
              "#fb9f3a"
             ],
             [
              0.8888888888888888,
              "#fdca26"
             ],
             [
              1,
              "#f0f921"
             ]
            ],
            "type": "heatmapgl"
           }
          ],
          "histogram": [
           {
            "marker": {
             "pattern": {
              "fillmode": "overlay",
              "size": 10,
              "solidity": 0.2
             }
            },
            "type": "histogram"
           }
          ],
          "histogram2d": [
           {
            "colorbar": {
             "outlinewidth": 0,
             "ticks": ""
            },
            "colorscale": [
             [
              0,
              "#0d0887"
             ],
             [
              0.1111111111111111,
              "#46039f"
             ],
             [
              0.2222222222222222,
              "#7201a8"
             ],
             [
              0.3333333333333333,
              "#9c179e"
             ],
             [
              0.4444444444444444,
              "#bd3786"
             ],
             [
              0.5555555555555556,
              "#d8576b"
             ],
             [
              0.6666666666666666,
              "#ed7953"
             ],
             [
              0.7777777777777778,
              "#fb9f3a"
             ],
             [
              0.8888888888888888,
              "#fdca26"
             ],
             [
              1,
              "#f0f921"
             ]
            ],
            "type": "histogram2d"
           }
          ],
          "histogram2dcontour": [
           {
            "colorbar": {
             "outlinewidth": 0,
             "ticks": ""
            },
            "colorscale": [
             [
              0,
              "#0d0887"
             ],
             [
              0.1111111111111111,
              "#46039f"
             ],
             [
              0.2222222222222222,
              "#7201a8"
             ],
             [
              0.3333333333333333,
              "#9c179e"
             ],
             [
              0.4444444444444444,
              "#bd3786"
             ],
             [
              0.5555555555555556,
              "#d8576b"
             ],
             [
              0.6666666666666666,
              "#ed7953"
             ],
             [
              0.7777777777777778,
              "#fb9f3a"
             ],
             [
              0.8888888888888888,
              "#fdca26"
             ],
             [
              1,
              "#f0f921"
             ]
            ],
            "type": "histogram2dcontour"
           }
          ],
          "mesh3d": [
           {
            "colorbar": {
             "outlinewidth": 0,
             "ticks": ""
            },
            "type": "mesh3d"
           }
          ],
          "parcoords": [
           {
            "line": {
             "colorbar": {
              "outlinewidth": 0,
              "ticks": ""
             }
            },
            "type": "parcoords"
           }
          ],
          "pie": [
           {
            "automargin": true,
            "type": "pie"
           }
          ],
          "scatter": [
           {
            "fillpattern": {
             "fillmode": "overlay",
             "size": 10,
             "solidity": 0.2
            },
            "type": "scatter"
           }
          ],
          "scatter3d": [
           {
            "line": {
             "colorbar": {
              "outlinewidth": 0,
              "ticks": ""
             }
            },
            "marker": {
             "colorbar": {
              "outlinewidth": 0,
              "ticks": ""
             }
            },
            "type": "scatter3d"
           }
          ],
          "scattercarpet": [
           {
            "marker": {
             "colorbar": {
              "outlinewidth": 0,
              "ticks": ""
             }
            },
            "type": "scattercarpet"
           }
          ],
          "scattergeo": [
           {
            "marker": {
             "colorbar": {
              "outlinewidth": 0,
              "ticks": ""
             }
            },
            "type": "scattergeo"
           }
          ],
          "scattergl": [
           {
            "marker": {
             "colorbar": {
              "outlinewidth": 0,
              "ticks": ""
             }
            },
            "type": "scattergl"
           }
          ],
          "scattermapbox": [
           {
            "marker": {
             "colorbar": {
              "outlinewidth": 0,
              "ticks": ""
             }
            },
            "type": "scattermapbox"
           }
          ],
          "scatterpolar": [
           {
            "marker": {
             "colorbar": {
              "outlinewidth": 0,
              "ticks": ""
             }
            },
            "type": "scatterpolar"
           }
          ],
          "scatterpolargl": [
           {
            "marker": {
             "colorbar": {
              "outlinewidth": 0,
              "ticks": ""
             }
            },
            "type": "scatterpolargl"
           }
          ],
          "scatterternary": [
           {
            "marker": {
             "colorbar": {
              "outlinewidth": 0,
              "ticks": ""
             }
            },
            "type": "scatterternary"
           }
          ],
          "surface": [
           {
            "colorbar": {
             "outlinewidth": 0,
             "ticks": ""
            },
            "colorscale": [
             [
              0,
              "#0d0887"
             ],
             [
              0.1111111111111111,
              "#46039f"
             ],
             [
              0.2222222222222222,
              "#7201a8"
             ],
             [
              0.3333333333333333,
              "#9c179e"
             ],
             [
              0.4444444444444444,
              "#bd3786"
             ],
             [
              0.5555555555555556,
              "#d8576b"
             ],
             [
              0.6666666666666666,
              "#ed7953"
             ],
             [
              0.7777777777777778,
              "#fb9f3a"
             ],
             [
              0.8888888888888888,
              "#fdca26"
             ],
             [
              1,
              "#f0f921"
             ]
            ],
            "type": "surface"
           }
          ],
          "table": [
           {
            "cells": {
             "fill": {
              "color": "#EBF0F8"
             },
             "line": {
              "color": "white"
             }
            },
            "header": {
             "fill": {
              "color": "#C8D4E3"
             },
             "line": {
              "color": "white"
             }
            },
            "type": "table"
           }
          ]
         },
         "layout": {
          "annotationdefaults": {
           "arrowcolor": "#2a3f5f",
           "arrowhead": 0,
           "arrowwidth": 1
          },
          "autotypenumbers": "strict",
          "coloraxis": {
           "colorbar": {
            "outlinewidth": 0,
            "ticks": ""
           }
          },
          "colorscale": {
           "diverging": [
            [
             0,
             "#8e0152"
            ],
            [
             0.1,
             "#c51b7d"
            ],
            [
             0.2,
             "#de77ae"
            ],
            [
             0.3,
             "#f1b6da"
            ],
            [
             0.4,
             "#fde0ef"
            ],
            [
             0.5,
             "#f7f7f7"
            ],
            [
             0.6,
             "#e6f5d0"
            ],
            [
             0.7,
             "#b8e186"
            ],
            [
             0.8,
             "#7fbc41"
            ],
            [
             0.9,
             "#4d9221"
            ],
            [
             1,
             "#276419"
            ]
           ],
           "sequential": [
            [
             0,
             "#0d0887"
            ],
            [
             0.1111111111111111,
             "#46039f"
            ],
            [
             0.2222222222222222,
             "#7201a8"
            ],
            [
             0.3333333333333333,
             "#9c179e"
            ],
            [
             0.4444444444444444,
             "#bd3786"
            ],
            [
             0.5555555555555556,
             "#d8576b"
            ],
            [
             0.6666666666666666,
             "#ed7953"
            ],
            [
             0.7777777777777778,
             "#fb9f3a"
            ],
            [
             0.8888888888888888,
             "#fdca26"
            ],
            [
             1,
             "#f0f921"
            ]
           ],
           "sequentialminus": [
            [
             0,
             "#0d0887"
            ],
            [
             0.1111111111111111,
             "#46039f"
            ],
            [
             0.2222222222222222,
             "#7201a8"
            ],
            [
             0.3333333333333333,
             "#9c179e"
            ],
            [
             0.4444444444444444,
             "#bd3786"
            ],
            [
             0.5555555555555556,
             "#d8576b"
            ],
            [
             0.6666666666666666,
             "#ed7953"
            ],
            [
             0.7777777777777778,
             "#fb9f3a"
            ],
            [
             0.8888888888888888,
             "#fdca26"
            ],
            [
             1,
             "#f0f921"
            ]
           ]
          },
          "colorway": [
           "#636efa",
           "#EF553B",
           "#00cc96",
           "#ab63fa",
           "#FFA15A",
           "#19d3f3",
           "#FF6692",
           "#B6E880",
           "#FF97FF",
           "#FECB52"
          ],
          "font": {
           "color": "#2a3f5f"
          },
          "geo": {
           "bgcolor": "white",
           "lakecolor": "white",
           "landcolor": "#E5ECF6",
           "showlakes": true,
           "showland": true,
           "subunitcolor": "white"
          },
          "hoverlabel": {
           "align": "left"
          },
          "hovermode": "closest",
          "mapbox": {
           "style": "light"
          },
          "paper_bgcolor": "white",
          "plot_bgcolor": "#E5ECF6",
          "polar": {
           "angularaxis": {
            "gridcolor": "white",
            "linecolor": "white",
            "ticks": ""
           },
           "bgcolor": "#E5ECF6",
           "radialaxis": {
            "gridcolor": "white",
            "linecolor": "white",
            "ticks": ""
           }
          },
          "scene": {
           "xaxis": {
            "backgroundcolor": "#E5ECF6",
            "gridcolor": "white",
            "gridwidth": 2,
            "linecolor": "white",
            "showbackground": true,
            "ticks": "",
            "zerolinecolor": "white"
           },
           "yaxis": {
            "backgroundcolor": "#E5ECF6",
            "gridcolor": "white",
            "gridwidth": 2,
            "linecolor": "white",
            "showbackground": true,
            "ticks": "",
            "zerolinecolor": "white"
           },
           "zaxis": {
            "backgroundcolor": "#E5ECF6",
            "gridcolor": "white",
            "gridwidth": 2,
            "linecolor": "white",
            "showbackground": true,
            "ticks": "",
            "zerolinecolor": "white"
           }
          },
          "shapedefaults": {
           "line": {
            "color": "#2a3f5f"
           }
          },
          "ternary": {
           "aaxis": {
            "gridcolor": "white",
            "linecolor": "white",
            "ticks": ""
           },
           "baxis": {
            "gridcolor": "white",
            "linecolor": "white",
            "ticks": ""
           },
           "bgcolor": "#E5ECF6",
           "caxis": {
            "gridcolor": "white",
            "linecolor": "white",
            "ticks": ""
           }
          },
          "title": {
           "x": 0.05
          },
          "xaxis": {
           "automargin": true,
           "gridcolor": "white",
           "linecolor": "white",
           "ticks": "",
           "title": {
            "standoff": 15
           },
           "zerolinecolor": "white",
           "zerolinewidth": 2
          },
          "yaxis": {
           "automargin": true,
           "gridcolor": "white",
           "linecolor": "white",
           "ticks": "",
           "title": {
            "standoff": 15
           },
           "zerolinecolor": "white",
           "zerolinewidth": 2
          }
         }
        },
        "xaxis": {
         "anchor": "y",
         "domain": [
          0,
          1
         ],
         "title": {
          "text": "Date"
         }
        },
        "yaxis": {
         "anchor": "x",
         "domain": [
          0,
          1
         ],
         "title": {
          "text": "Close"
         }
        }
       }
      }
     },
     "metadata": {},
     "output_type": "display_data"
    }
   ],
   "source": [
    "# parallel validation\n",
    "\n",
    "#note: it's made the prediction of the next value of each window sequence (contained in x_text).\n",
    "#  Therefore You can only expect legitimate predictions of the following date. That's why this specific grath will show 1 value ahead of predictions\n",
    "# in comparisson with the actual history\n",
    "\n",
    "from datetime import datetime, timedelta\n",
    "import plotly.express as px\n",
    "df = yf.Ticker(ticker).history(start=test_dates[0], end=test_dates[-1])\n",
    "\n",
    "fig = px.line(df,x=df.index,y='Close')\n",
    "fig.add_trace(go.Scatter(\n",
    "    x=test_dates,\n",
    "    y=future_predictions,\n",
    "    mode='lines',\n",
    "    name='Future Predictions',\n",
    "    line=dict(color='orange')\n",
    "))\n",
    "fig.show()"
   ]
  }
 ],
 "metadata": {
  "colab": {
   "provenance": [
    {
     "file_id": "1Bk4zPQwAfzoSHZokKUefKL1s6lqmam6S",
     "timestamp": 1678807536043
    }
   ]
  },
  "kernelspec": {
   "display_name": "fin_dash_env.yml",
   "language": "python",
   "name": "python3"
  },
  "language_info": {
   "codemirror_mode": {
    "name": "ipython",
    "version": 3
   },
   "file_extension": ".py",
   "mimetype": "text/x-python",
   "name": "python",
   "nbconvert_exporter": "python",
   "pygments_lexer": "ipython3",
   "version": "3.11.7"
  }
 },
 "nbformat": 4,
 "nbformat_minor": 0
}
