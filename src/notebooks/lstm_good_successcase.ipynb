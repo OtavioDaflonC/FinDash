{
 "cells": [
  {
   "cell_type": "markdown",
   "metadata": {},
   "source": [
    "# Production"
   ]
  },
  {
   "cell_type": "code",
   "execution_count": null,
   "metadata": {},
   "outputs": [
    {
     "name": "stdout",
     "output_type": "stream",
     "text": [
      "1/1 [==============================] - 0s 68ms/step\n"
     ]
    },
    {
     "data": {
      "text/plain": [
       "array([[75.183136],\n",
       "       [75.966934],\n",
       "       [68.1463  ]], dtype=float32)"
      ]
     },
     "execution_count": 54,
     "metadata": {},
     "output_type": "execute_result"
    }
   ],
   "source": [
    "model.predict(np.array([[[74.11]],[[75.1]],[[66]]])) #prod structure\n",
    "\n"
   ]
  },
  {
   "cell_type": "code",
   "execution_count": null,
   "metadata": {},
   "outputs": [],
   "source": [
    "# success configs:\n",
    "\n",
    "# ticker = 'UNIP6.SA'\n",
    "# start_date = '2024-01-08'\n",
    "# end_date = '2024-11-29'\n",
    "# window_size = 5\n",
    "\n",
    "# ticker = 'KEPL3.SA'\n",
    "# start_date = '2024-01-08'\n",
    "# end_date = '2024-11-29'\n",
    "# window_size = 5"
   ]
  },
  {
   "cell_type": "code",
   "execution_count": 1,
   "metadata": {},
   "outputs": [
    {
     "name": "stdout",
     "output_type": "stream",
     "text": [
      "Epoch 1/65\n",
      "\u001b[1m6/6\u001b[0m \u001b[32m━━━━━━━━━━━━━━━━━━━━\u001b[0m\u001b[37m\u001b[0m \u001b[1m2s\u001b[0m 55ms/step - loss: 2926.2522 - mean_absolute_error: 53.7765 - val_loss: 2059.1838 - val_mean_absolute_error: 45.3744\n",
      "Epoch 2/65\n",
      "\u001b[1m6/6\u001b[0m \u001b[32m━━━━━━━━━━━━━━━━━━━━\u001b[0m\u001b[37m\u001b[0m \u001b[1m0s\u001b[0m 16ms/step - loss: 2887.5466 - mean_absolute_error: 53.3930 - val_loss: 2028.3063 - val_mean_absolute_error: 45.0329\n",
      "Epoch 3/65\n",
      "\u001b[1m6/6\u001b[0m \u001b[32m━━━━━━━━━━━━━━━━━━━━\u001b[0m\u001b[37m\u001b[0m \u001b[1m0s\u001b[0m 16ms/step - loss: 2879.9302 - mean_absolute_error: 53.3233 - val_loss: 1987.1315 - val_mean_absolute_error: 44.5733\n",
      "Epoch 4/65\n",
      "\u001b[1m6/6\u001b[0m \u001b[32m━━━━━━━━━━━━━━━━━━━━\u001b[0m\u001b[37m\u001b[0m \u001b[1m0s\u001b[0m 17ms/step - loss: 2803.1768 - mean_absolute_error: 52.6149 - val_loss: 1929.4475 - val_mean_absolute_error: 43.9215\n",
      "Epoch 5/65\n",
      "\u001b[1m6/6\u001b[0m \u001b[32m━━━━━━━━━━━━━━━━━━━━\u001b[0m\u001b[37m\u001b[0m \u001b[1m0s\u001b[0m 17ms/step - loss: 2761.6599 - mean_absolute_error: 52.1927 - val_loss: 1852.7306 - val_mean_absolute_error: 43.0393\n",
      "Epoch 6/65\n",
      "\u001b[1m6/6\u001b[0m \u001b[32m━━━━━━━━━━━━━━━━━━━━\u001b[0m\u001b[37m\u001b[0m \u001b[1m0s\u001b[0m 16ms/step - loss: 2626.9814 - mean_absolute_error: 50.9030 - val_loss: 1751.2877 - val_mean_absolute_error: 41.8441\n",
      "Epoch 7/65\n",
      "\u001b[1m6/6\u001b[0m \u001b[32m━━━━━━━━━━━━━━━━━━━━\u001b[0m\u001b[37m\u001b[0m \u001b[1m0s\u001b[0m 20ms/step - loss: 2511.3865 - mean_absolute_error: 49.7519 - val_loss: 1616.4092 - val_mean_absolute_error: 40.2001\n",
      "Epoch 8/65\n",
      "\u001b[1m6/6\u001b[0m \u001b[32m━━━━━━━━━━━━━━━━━━━━\u001b[0m\u001b[37m\u001b[0m \u001b[1m0s\u001b[0m 15ms/step - loss: 2370.7292 - mean_absolute_error: 48.2952 - val_loss: 1434.4813 - val_mean_absolute_error: 37.8696\n",
      "Epoch 9/65\n",
      "\u001b[1m6/6\u001b[0m \u001b[32m━━━━━━━━━━━━━━━━━━━━\u001b[0m\u001b[37m\u001b[0m \u001b[1m0s\u001b[0m 19ms/step - loss: 2092.8276 - mean_absolute_error: 45.3476 - val_loss: 1192.9539 - val_mean_absolute_error: 34.5335\n",
      "Epoch 10/65\n",
      "\u001b[1m6/6\u001b[0m \u001b[32m━━━━━━━━━━━━━━━━━━━━\u001b[0m\u001b[37m\u001b[0m \u001b[1m0s\u001b[0m 17ms/step - loss: 1844.7960 - mean_absolute_error: 42.4381 - val_loss: 909.6901 - val_mean_absolute_error: 30.1547\n",
      "Epoch 11/65\n",
      "\u001b[1m6/6\u001b[0m \u001b[32m━━━━━━━━━━━━━━━━━━━━\u001b[0m\u001b[37m\u001b[0m \u001b[1m0s\u001b[0m 17ms/step - loss: 1501.3074 - mean_absolute_error: 38.1199 - val_loss: 650.7665 - val_mean_absolute_error: 25.5029\n",
      "Epoch 12/65\n",
      "\u001b[1m6/6\u001b[0m \u001b[32m━━━━━━━━━━━━━━━━━━━━\u001b[0m\u001b[37m\u001b[0m \u001b[1m0s\u001b[0m 18ms/step - loss: 1120.7456 - mean_absolute_error: 32.8773 - val_loss: 430.8285 - val_mean_absolute_error: 20.7478\n",
      "Epoch 13/65\n",
      "\u001b[1m6/6\u001b[0m \u001b[32m━━━━━━━━━━━━━━━━━━━━\u001b[0m\u001b[37m\u001b[0m \u001b[1m0s\u001b[0m 18ms/step - loss: 828.5427 - mean_absolute_error: 28.1366 - val_loss: 247.6322 - val_mean_absolute_error: 15.7252\n",
      "Epoch 14/65\n",
      "\u001b[1m6/6\u001b[0m \u001b[32m━━━━━━━━━━━━━━━━━━━━\u001b[0m\u001b[37m\u001b[0m \u001b[1m0s\u001b[0m 18ms/step - loss: 545.6611 - mean_absolute_error: 22.5901 - val_loss: 110.9697 - val_mean_absolute_error: 10.5176\n",
      "Epoch 15/65\n",
      "\u001b[1m6/6\u001b[0m \u001b[32m━━━━━━━━━━━━━━━━━━━━\u001b[0m\u001b[37m\u001b[0m \u001b[1m0s\u001b[0m 17ms/step - loss: 355.5614 - mean_absolute_error: 17.7831 - val_loss: 25.2863 - val_mean_absolute_error: 4.9931\n",
      "Epoch 16/65\n",
      "\u001b[1m6/6\u001b[0m \u001b[32m━━━━━━━━━━━━━━━━━━━━\u001b[0m\u001b[37m\u001b[0m \u001b[1m0s\u001b[0m 19ms/step - loss: 188.0358 - mean_absolute_error: 12.2074 - val_loss: 0.7914 - val_mean_absolute_error: 0.7783\n",
      "Epoch 17/65\n",
      "\u001b[1m6/6\u001b[0m \u001b[32m━━━━━━━━━━━━━━━━━━━━\u001b[0m\u001b[37m\u001b[0m \u001b[1m0s\u001b[0m 19ms/step - loss: 83.2480 - mean_absolute_error: 6.9356 - val_loss: 32.8404 - val_mean_absolute_error: 5.6996\n",
      "Epoch 18/65\n",
      "\u001b[1m6/6\u001b[0m \u001b[32m━━━━━━━━━━━━━━━━━━━━\u001b[0m\u001b[37m\u001b[0m \u001b[1m0s\u001b[0m 19ms/step - loss: 43.0400 - mean_absolute_error: 5.5009 - val_loss: 85.6687 - val_mean_absolute_error: 9.2369\n",
      "Epoch 19/65\n",
      "\u001b[1m6/6\u001b[0m \u001b[32m━━━━━━━━━━━━━━━━━━━━\u001b[0m\u001b[37m\u001b[0m \u001b[1m0s\u001b[0m 19ms/step - loss: 37.4824 - mean_absolute_error: 5.6630 - val_loss: 115.3911 - val_mean_absolute_error: 10.7259\n",
      "Epoch 20/65\n",
      "\u001b[1m6/6\u001b[0m \u001b[32m━━━━━━━━━━━━━━━━━━━━\u001b[0m\u001b[37m\u001b[0m \u001b[1m0s\u001b[0m 18ms/step - loss: 40.5375 - mean_absolute_error: 5.8375 - val_loss: 115.9059 - val_mean_absolute_error: 10.7500\n",
      "Epoch 21/65\n",
      "\u001b[1m6/6\u001b[0m \u001b[32m━━━━━━━━━━━━━━━━━━━━\u001b[0m\u001b[37m\u001b[0m \u001b[1m0s\u001b[0m 19ms/step - loss: 43.8147 - mean_absolute_error: 6.1487 - val_loss: 101.5143 - val_mean_absolute_error: 10.0583\n",
      "Epoch 22/65\n",
      "\u001b[1m6/6\u001b[0m \u001b[32m━━━━━━━━━━━━━━━━━━━━\u001b[0m\u001b[37m\u001b[0m \u001b[1m0s\u001b[0m 18ms/step - loss: 38.1691 - mean_absolute_error: 5.7426 - val_loss: 83.1273 - val_mean_absolute_error: 9.0985\n",
      "Epoch 23/65\n",
      "\u001b[1m6/6\u001b[0m \u001b[32m━━━━━━━━━━━━━━━━━━━━\u001b[0m\u001b[37m\u001b[0m \u001b[1m0s\u001b[0m 18ms/step - loss: 37.6127 - mean_absolute_error: 5.6690 - val_loss: 69.9216 - val_mean_absolute_error: 8.3414\n",
      "Epoch 24/65\n",
      "\u001b[1m6/6\u001b[0m \u001b[32m━━━━━━━━━━━━━━━━━━━━\u001b[0m\u001b[37m\u001b[0m \u001b[1m0s\u001b[0m 18ms/step - loss: 34.7116 - mean_absolute_error: 5.2589 - val_loss: 61.7132 - val_mean_absolute_error: 7.8339\n",
      "Epoch 25/65\n",
      "\u001b[1m6/6\u001b[0m \u001b[32m━━━━━━━━━━━━━━━━━━━━\u001b[0m\u001b[37m\u001b[0m \u001b[1m0s\u001b[0m 19ms/step - loss: 36.8739 - mean_absolute_error: 5.3506 - val_loss: 61.8834 - val_mean_absolute_error: 7.8448\n",
      "Epoch 26/65\n",
      "\u001b[1m6/6\u001b[0m \u001b[32m━━━━━━━━━━━━━━━━━━━━\u001b[0m\u001b[37m\u001b[0m \u001b[1m0s\u001b[0m 19ms/step - loss: 35.0205 - mean_absolute_error: 5.2863 - val_loss: 61.9066 - val_mean_absolute_error: 7.8463\n",
      "Epoch 27/65\n",
      "\u001b[1m6/6\u001b[0m \u001b[32m━━━━━━━━━━━━━━━━━━━━\u001b[0m\u001b[37m\u001b[0m \u001b[1m0s\u001b[0m 21ms/step - loss: 35.2643 - mean_absolute_error: 5.3011 - val_loss: 64.1570 - val_mean_absolute_error: 7.9884\n",
      "Epoch 28/65\n",
      "\u001b[1m6/6\u001b[0m \u001b[32m━━━━━━━━━━━━━━━━━━━━\u001b[0m\u001b[37m\u001b[0m \u001b[1m0s\u001b[0m 19ms/step - loss: 37.1637 - mean_absolute_error: 5.4498 - val_loss: 66.9234 - val_mean_absolute_error: 8.1598\n",
      "Epoch 29/65\n",
      "\u001b[1m6/6\u001b[0m \u001b[32m━━━━━━━━━━━━━━━━━━━━\u001b[0m\u001b[37m\u001b[0m \u001b[1m0s\u001b[0m 18ms/step - loss: 36.7622 - mean_absolute_error: 5.4321 - val_loss: 67.6811 - val_mean_absolute_error: 8.2062\n",
      "Epoch 30/65\n",
      "\u001b[1m6/6\u001b[0m \u001b[32m━━━━━━━━━━━━━━━━━━━━\u001b[0m\u001b[37m\u001b[0m \u001b[1m0s\u001b[0m 21ms/step - loss: 34.8663 - mean_absolute_error: 5.3419 - val_loss: 67.3868 - val_mean_absolute_error: 8.1884\n",
      "Epoch 31/65\n",
      "\u001b[1m6/6\u001b[0m \u001b[32m━━━━━━━━━━━━━━━━━━━━\u001b[0m\u001b[37m\u001b[0m \u001b[1m0s\u001b[0m 21ms/step - loss: 36.4441 - mean_absolute_error: 5.4279 - val_loss: 64.1529 - val_mean_absolute_error: 7.9886\n",
      "Epoch 32/65\n",
      "\u001b[1m6/6\u001b[0m \u001b[32m━━━━━━━━━━━━━━━━━━━━\u001b[0m\u001b[37m\u001b[0m \u001b[1m0s\u001b[0m 20ms/step - loss: 32.6822 - mean_absolute_error: 5.0981 - val_loss: 61.5918 - val_mean_absolute_error: 7.8268\n",
      "Epoch 33/65\n",
      "\u001b[1m6/6\u001b[0m \u001b[32m━━━━━━━━━━━━━━━━━━━━\u001b[0m\u001b[37m\u001b[0m \u001b[1m0s\u001b[0m 19ms/step - loss: 34.3690 - mean_absolute_error: 5.2810 - val_loss: 61.5269 - val_mean_absolute_error: 7.8231\n",
      "Epoch 34/65\n",
      "\u001b[1m6/6\u001b[0m \u001b[32m━━━━━━━━━━━━━━━━━━━━\u001b[0m\u001b[37m\u001b[0m \u001b[1m0s\u001b[0m 21ms/step - loss: 35.9264 - mean_absolute_error: 5.4268 - val_loss: 60.6880 - val_mean_absolute_error: 7.7691\n",
      "Epoch 35/65\n",
      "\u001b[1m6/6\u001b[0m \u001b[32m━━━━━━━━━━━━━━━━━━━━\u001b[0m\u001b[37m\u001b[0m \u001b[1m0s\u001b[0m 19ms/step - loss: 33.3777 - mean_absolute_error: 5.2097 - val_loss: 60.5174 - val_mean_absolute_error: 7.7584\n",
      "Epoch 36/65\n",
      "\u001b[1m6/6\u001b[0m \u001b[32m━━━━━━━━━━━━━━━━━━━━\u001b[0m\u001b[37m\u001b[0m \u001b[1m0s\u001b[0m 23ms/step - loss: 31.2503 - mean_absolute_error: 4.9453 - val_loss: 57.7673 - val_mean_absolute_error: 7.5797\n",
      "Epoch 37/65\n",
      "\u001b[1m6/6\u001b[0m \u001b[32m━━━━━━━━━━━━━━━━━━━━\u001b[0m\u001b[37m\u001b[0m \u001b[1m0s\u001b[0m 22ms/step - loss: 30.5109 - mean_absolute_error: 4.9808 - val_loss: 54.3276 - val_mean_absolute_error: 7.3487\n",
      "Epoch 38/65\n",
      "\u001b[1m6/6\u001b[0m \u001b[32m━━━━━━━━━━━━━━━━━━━━\u001b[0m\u001b[37m\u001b[0m \u001b[1m0s\u001b[0m 18ms/step - loss: 31.3503 - mean_absolute_error: 4.9409 - val_loss: 54.5601 - val_mean_absolute_error: 7.3655\n",
      "Epoch 39/65\n",
      "\u001b[1m6/6\u001b[0m \u001b[32m━━━━━━━━━━━━━━━━━━━━\u001b[0m\u001b[37m\u001b[0m \u001b[1m0s\u001b[0m 25ms/step - loss: 27.4831 - mean_absolute_error: 4.6782 - val_loss: 49.5450 - val_mean_absolute_error: 7.0159\n",
      "Epoch 40/65\n",
      "\u001b[1m6/6\u001b[0m \u001b[32m━━━━━━━━━━━━━━━━━━━━\u001b[0m\u001b[37m\u001b[0m \u001b[1m0s\u001b[0m 19ms/step - loss: 26.7766 - mean_absolute_error: 4.5336 - val_loss: 48.5104 - val_mean_absolute_error: 6.9429\n",
      "Epoch 41/65\n",
      "\u001b[1m6/6\u001b[0m \u001b[32m━━━━━━━━━━━━━━━━━━━━\u001b[0m\u001b[37m\u001b[0m \u001b[1m0s\u001b[0m 18ms/step - loss: 23.0107 - mean_absolute_error: 4.2703 - val_loss: 42.3944 - val_mean_absolute_error: 6.4875\n",
      "Epoch 42/65\n",
      "\u001b[1m6/6\u001b[0m \u001b[32m━━━━━━━━━━━━━━━━━━━━\u001b[0m\u001b[37m\u001b[0m \u001b[1m0s\u001b[0m 19ms/step - loss: 22.2954 - mean_absolute_error: 4.0572 - val_loss: 41.8318 - val_mean_absolute_error: 6.4456\n",
      "Epoch 43/65\n",
      "\u001b[1m6/6\u001b[0m \u001b[32m━━━━━━━━━━━━━━━━━━━━\u001b[0m\u001b[37m\u001b[0m \u001b[1m0s\u001b[0m 19ms/step - loss: 18.9206 - mean_absolute_error: 3.8398 - val_loss: 38.3139 - val_mean_absolute_error: 6.1655\n",
      "Epoch 44/65\n",
      "\u001b[1m6/6\u001b[0m \u001b[32m━━━━━━━━━━━━━━━━━━━━\u001b[0m\u001b[37m\u001b[0m \u001b[1m0s\u001b[0m 19ms/step - loss: 18.9844 - mean_absolute_error: 3.8468 - val_loss: 37.8394 - val_mean_absolute_error: 6.1274\n",
      "Epoch 45/65\n",
      "\u001b[1m6/6\u001b[0m \u001b[32m━━━━━━━━━━━━━━━━━━━━\u001b[0m\u001b[37m\u001b[0m \u001b[1m0s\u001b[0m 20ms/step - loss: 15.8624 - mean_absolute_error: 3.4722 - val_loss: 32.6154 - val_mean_absolute_error: 5.6861\n",
      "Epoch 46/65\n",
      "\u001b[1m6/6\u001b[0m \u001b[32m━━━━━━━━━━━━━━━━━━━━\u001b[0m\u001b[37m\u001b[0m \u001b[1m0s\u001b[0m 16ms/step - loss: 15.2019 - mean_absolute_error: 3.3095 - val_loss: 24.9677 - val_mean_absolute_error: 4.9702\n",
      "Epoch 47/65\n",
      "\u001b[1m6/6\u001b[0m \u001b[32m━━━━━━━━━━━━━━━━━━━━\u001b[0m\u001b[37m\u001b[0m \u001b[1m0s\u001b[0m 17ms/step - loss: 13.2053 - mean_absolute_error: 3.0412 - val_loss: 19.7323 - val_mean_absolute_error: 4.4138\n",
      "Epoch 48/65\n",
      "\u001b[1m6/6\u001b[0m \u001b[32m━━━━━━━━━━━━━━━━━━━━\u001b[0m\u001b[37m\u001b[0m \u001b[1m0s\u001b[0m 17ms/step - loss: 12.5302 - mean_absolute_error: 2.8938 - val_loss: 16.4998 - val_mean_absolute_error: 4.0318\n",
      "Epoch 49/65\n",
      "\u001b[1m6/6\u001b[0m \u001b[32m━━━━━━━━━━━━━━━━━━━━\u001b[0m\u001b[37m\u001b[0m \u001b[1m0s\u001b[0m 18ms/step - loss: 9.3109 - mean_absolute_error: 2.4457 - val_loss: 13.0829 - val_mean_absolute_error: 3.5858\n",
      "Epoch 50/65\n",
      "\u001b[1m6/6\u001b[0m \u001b[32m━━━━━━━━━━━━━━━━━━━━\u001b[0m\u001b[37m\u001b[0m \u001b[1m0s\u001b[0m 18ms/step - loss: 7.1425 - mean_absolute_error: 2.1432 - val_loss: 8.5848 - val_mean_absolute_error: 2.8932\n",
      "Epoch 51/65\n",
      "\u001b[1m6/6\u001b[0m \u001b[32m━━━━━━━━━━━━━━━━━━━━\u001b[0m\u001b[37m\u001b[0m \u001b[1m0s\u001b[0m 16ms/step - loss: 5.5323 - mean_absolute_error: 1.7691 - val_loss: 6.8795 - val_mean_absolute_error: 2.5844\n",
      "Epoch 52/65\n",
      "\u001b[1m6/6\u001b[0m \u001b[32m━━━━━━━━━━━━━━━━━━━━\u001b[0m\u001b[37m\u001b[0m \u001b[1m0s\u001b[0m 16ms/step - loss: 3.7836 - mean_absolute_error: 1.4312 - val_loss: 5.0541 - val_mean_absolute_error: 2.2031\n",
      "Epoch 53/65\n",
      "\u001b[1m6/6\u001b[0m \u001b[32m━━━━━━━━━━━━━━━━━━━━\u001b[0m\u001b[37m\u001b[0m \u001b[1m0s\u001b[0m 17ms/step - loss: 2.5577 - mean_absolute_error: 1.1418 - val_loss: 3.9251 - val_mean_absolute_error: 1.9310\n",
      "Epoch 54/65\n",
      "\u001b[1m6/6\u001b[0m \u001b[32m━━━━━━━━━━━━━━━━━━━━\u001b[0m\u001b[37m\u001b[0m \u001b[1m0s\u001b[0m 18ms/step - loss: 2.1538 - mean_absolute_error: 1.0463 - val_loss: 5.8965 - val_mean_absolute_error: 2.3885\n",
      "Epoch 55/65\n",
      "\u001b[1m6/6\u001b[0m \u001b[32m━━━━━━━━━━━━━━━━━━━━\u001b[0m\u001b[37m\u001b[0m \u001b[1m0s\u001b[0m 17ms/step - loss: 2.2752 - mean_absolute_error: 1.1932 - val_loss: 2.5065 - val_mean_absolute_error: 1.5206\n",
      "Epoch 56/65\n",
      "\u001b[1m6/6\u001b[0m \u001b[32m━━━━━━━━━━━━━━━━━━━━\u001b[0m\u001b[37m\u001b[0m \u001b[1m0s\u001b[0m 17ms/step - loss: 1.5971 - mean_absolute_error: 0.9523 - val_loss: 1.5299 - val_mean_absolute_error: 1.1564\n",
      "Epoch 57/65\n",
      "\u001b[1m6/6\u001b[0m \u001b[32m━━━━━━━━━━━━━━━━━━━━\u001b[0m\u001b[37m\u001b[0m \u001b[1m0s\u001b[0m 16ms/step - loss: 1.5245 - mean_absolute_error: 0.8790 - val_loss: 3.2210 - val_mean_absolute_error: 1.7413\n",
      "Epoch 58/65\n",
      "\u001b[1m6/6\u001b[0m \u001b[32m━━━━━━━━━━━━━━━━━━━━\u001b[0m\u001b[37m\u001b[0m \u001b[1m0s\u001b[0m 18ms/step - loss: 1.4606 - mean_absolute_error: 0.9102 - val_loss: 2.4385 - val_mean_absolute_error: 1.4997\n",
      "Epoch 59/65\n",
      "\u001b[1m6/6\u001b[0m \u001b[32m━━━━━━━━━━━━━━━━━━━━\u001b[0m\u001b[37m\u001b[0m \u001b[1m0s\u001b[0m 13ms/step - loss: 1.1604 - mean_absolute_error: 0.8335 - val_loss: 1.8882 - val_mean_absolute_error: 1.3031\n",
      "Epoch 60/65\n",
      "\u001b[1m6/6\u001b[0m \u001b[32m━━━━━━━━━━━━━━━━━━━━\u001b[0m\u001b[37m\u001b[0m \u001b[1m0s\u001b[0m 12ms/step - loss: 1.1881 - mean_absolute_error: 0.7903 - val_loss: 2.1252 - val_mean_absolute_error: 1.3914\n",
      "Epoch 61/65\n",
      "\u001b[1m6/6\u001b[0m \u001b[32m━━━━━━━━━━━━━━━━━━━━\u001b[0m\u001b[37m\u001b[0m \u001b[1m0s\u001b[0m 18ms/step - loss: 1.1034 - mean_absolute_error: 0.7848 - val_loss: 2.4958 - val_mean_absolute_error: 1.5190\n",
      "Epoch 62/65\n",
      "\u001b[1m6/6\u001b[0m \u001b[32m━━━━━━━━━━━━━━━━━━━━\u001b[0m\u001b[37m\u001b[0m \u001b[1m0s\u001b[0m 18ms/step - loss: 0.9559 - mean_absolute_error: 0.7432 - val_loss: 2.6259 - val_mean_absolute_error: 1.5615\n",
      "Epoch 63/65\n",
      "\u001b[1m6/6\u001b[0m \u001b[32m━━━━━━━━━━━━━━━━━━━━\u001b[0m\u001b[37m\u001b[0m \u001b[1m0s\u001b[0m 18ms/step - loss: 1.0548 - mean_absolute_error: 0.7940 - val_loss: 1.9532 - val_mean_absolute_error: 1.3288\n",
      "Epoch 64/65\n",
      "\u001b[1m6/6\u001b[0m \u001b[32m━━━━━━━━━━━━━━━━━━━━\u001b[0m\u001b[37m\u001b[0m \u001b[1m0s\u001b[0m 20ms/step - loss: 0.8995 - mean_absolute_error: 0.7293 - val_loss: 2.1438 - val_mean_absolute_error: 1.3989\n",
      "Epoch 65/65\n",
      "\u001b[1m6/6\u001b[0m \u001b[32m━━━━━━━━━━━━━━━━━━━━\u001b[0m\u001b[37m\u001b[0m \u001b[1m0s\u001b[0m 17ms/step - loss: 0.7700 - mean_absolute_error: 0.6747 - val_loss: 1.5123 - val_mean_absolute_error: 1.1513\n",
      "\u001b[1m1/1\u001b[0m \u001b[32m━━━━━━━━━━━━━━━━━━━━\u001b[0m\u001b[37m\u001b[0m \u001b[1m0s\u001b[0m 155ms/step\n"
     ]
    },
    {
     "data": {
      "image/png": "[encoded data removed]",
      "text/plain": [
       "<Figure size 1200x600 with 1 Axes>"
      ]
     },
     "metadata": {},
     "output_type": "display_data"
    },
    {
     "data": {
      "application/vnd.plotly.v1+json": {
       "config": {
        "plotlyServerURL": "https://plot.ly"
       },
       "data": [
        {
         "line": {
          "color": "orange"
         },
         "mode": "lines",
         "name": "Future Predictions",
         "type": "scatter",
         "x": [
          "2024-10-28T00:00:00",
          "2024-10-29T00:00:00",
          "2024-10-30T00:00:00",
          "2024-10-31T00:00:00",
          "2024-11-01T00:00:00",
          "2024-11-04T00:00:00",
          "2024-11-05T00:00:00",
          "2024-11-06T00:00:00",
          "2024-11-07T00:00:00",
          "2024-11-08T00:00:00",
          "2024-11-11T00:00:00",
          "2024-11-12T00:00:00",
          "2024-11-13T00:00:00",
          "2024-11-14T00:00:00",
          "2024-11-18T00:00:00",
          "2024-11-19T00:00:00",
          "2024-11-21T00:00:00",
          "2024-11-22T00:00:00",
          "2024-11-25T00:00:00",
          "2024-11-26T00:00:00",
          "2024-11-27T00:00:00",
          "2024-11-28T00:00:00",
          "2024-11-29T00:00:00"
         ],
         "y": [
          46.639305114746094,
          46.41441345214844,
          46.27341079711914,
          46.25467300415039,
          46.03030776977539,
          45.76342010498047,
          46.38399124145508,
          46.64326095581055,
          47.51565170288086,
          46.304927825927734,
          46.073184967041016,
          46.326229095458984,
          46.483394622802734,
          47.03786087036133,
          47.95956802368164,
          50.03512954711914,
          50.89724349975586,
          49.98200607299805,
          50.59467697143555,
          50.37070083618164,
          49.640533447265625,
          49.55344772338867,
          49.24675369262695
         ]
        },
        {
         "line": {
          "color": "blue"
         },
         "mode": "lines",
         "name": "Actual Prices",
         "type": "scatter",
         "x": [
          "2024-01-08T00:00:00-03:00",
          "2024-01-09T00:00:00-03:00",
          "2024-01-10T00:00:00-03:00",
          "2024-01-11T00:00:00-03:00",
          "2024-01-12T00:00:00-03:00",
          "2024-01-15T00:00:00-03:00",
          "2024-01-16T00:00:00-03:00",
          "2024-01-17T00:00:00-03:00",
          "2024-01-18T00:00:00-03:00",
          "2024-01-19T00:00:00-03:00",
          "2024-01-22T00:00:00-03:00",
          "2024-01-23T00:00:00-03:00",
          "2024-01-24T00:00:00-03:00",
          "2024-01-25T00:00:00-03:00",
          "2024-01-26T00:00:00-03:00",
          "2024-01-29T00:00:00-03:00",
          "2024-01-30T00:00:00-03:00",
          "2024-01-31T00:00:00-03:00",
          "2024-02-01T00:00:00-03:00",
          "2024-02-02T00:00:00-03:00",
          "2024-02-05T00:00:00-03:00",
          "2024-02-06T00:00:00-03:00",
          "2024-02-07T00:00:00-03:00",
          "2024-02-08T00:00:00-03:00",
          "2024-02-09T00:00:00-03:00",
          "2024-02-14T00:00:00-03:00",
          "2024-02-15T00:00:00-03:00",
          "2024-02-16T00:00:00-03:00",
          "2024-02-19T00:00:00-03:00",
          "2024-02-20T00:00:00-03:00",
          "2024-02-21T00:00:00-03:00",
          "2024-02-22T00:00:00-03:00",
          "2024-02-23T00:00:00-03:00",
          "2024-02-26T00:00:00-03:00",
          "2024-02-27T00:00:00-03:00",
          "2024-02-28T00:00:00-03:00",
          "2024-02-29T00:00:00-03:00",
          "2024-03-01T00:00:00-03:00",
          "2024-03-04T00:00:00-03:00",
          "2024-03-05T00:00:00-03:00",
          "2024-03-06T00:00:00-03:00",
          "2024-03-07T00:00:00-03:00",
          "2024-03-08T00:00:00-03:00",
          "2024-03-11T00:00:00-03:00",
          "2024-03-12T00:00:00-03:00",
          "2024-03-13T00:00:00-03:00",
          "2024-03-14T00:00:00-03:00",
          "2024-03-15T00:00:00-03:00",
          "2024-03-18T00:00:00-03:00",
          "2024-03-19T00:00:00-03:00",
          "2024-03-20T00:00:00-03:00",
          "2024-03-21T00:00:00-03:00",
          "2024-03-22T00:00:00-03:00",
          "2024-03-25T00:00:00-03:00",
          "2024-03-26T00:00:00-03:00",
          "2024-03-27T00:00:00-03:00",
          "2024-03-28T00:00:00-03:00",
          "2024-04-01T00:00:00-03:00",
          "2024-04-02T00:00:00-03:00",
          "2024-04-03T00:00:00-03:00",
          "2024-04-04T00:00:00-03:00",
          "2024-04-05T00:00:00-03:00",
          "2024-04-08T00:00:00-03:00",
          "2024-04-09T00:00:00-03:00",
          "2024-04-10T00:00:00-03:00",
          "2024-04-11T00:00:00-03:00",
          "2024-04-12T00:00:00-03:00",
          "2024-04-15T00:00:00-03:00",
          "2024-04-16T00:00:00-03:00",
          "2024-04-17T00:00:00-03:00",
          "2024-04-18T00:00:00-03:00",
          "2024-04-19T00:00:00-03:00",
          "2024-04-22T00:00:00-03:00",
          "2024-04-23T00:00:00-03:00",
          "2024-04-24T00:00:00-03:00",
          "2024-04-25T00:00:00-03:00",
          "2024-04-26T00:00:00-03:00",
          "2024-04-29T00:00:00-03:00",
          "2024-04-30T00:00:00-03:00",
          "2024-05-02T00:00:00-03:00",
          "2024-05-03T00:00:00-03:00",
          "2024-05-06T00:00:00-03:00",
          "2024-05-07T00:00:00-03:00",
          "2024-05-08T00:00:00-03:00",
          "2024-05-09T00:00:00-03:00",
          "2024-05-10T00:00:00-03:00",
          "2024-05-13T00:00:00-03:00",
          "2024-05-14T00:00:00-03:00",
          "2024-05-15T00:00:00-03:00",
          "2024-05-16T00:00:00-03:00",
          "2024-05-17T00:00:00-03:00",
          "2024-05-20T00:00:00-03:00",
          "2024-05-21T00:00:00-03:00",
          "2024-05-22T00:00:00-03:00",
          "2024-05-23T00:00:00-03:00",
          "2024-05-24T00:00:00-03:00",
          "2024-05-27T00:00:00-03:00",
          "2024-05-28T00:00:00-03:00",
          "2024-05-29T00:00:00-03:00",
          "2024-05-31T00:00:00-03:00",
          "2024-06-03T00:00:00-03:00",
          "2024-06-04T00:00:00-03:00",
          "2024-06-05T00:00:00-03:00",
          "2024-06-06T00:00:00-03:00",
          "2024-06-07T00:00:00-03:00",
          "2024-06-10T00:00:00-03:00",
          "2024-06-11T00:00:00-03:00",
          "2024-06-12T00:00:00-03:00",
          "2024-06-13T00:00:00-03:00",
          "2024-06-14T00:00:00-03:00",
          "2024-06-17T00:00:00-03:00",
          "2024-06-18T00:00:00-03:00",
          "2024-06-19T00:00:00-03:00",
          "2024-06-20T00:00:00-03:00",
          "2024-06-21T00:00:00-03:00",
          "2024-06-24T00:00:00-03:00",
          "2024-06-25T00:00:00-03:00",
          "2024-06-26T00:00:00-03:00",
          "2024-06-27T00:00:00-03:00",
          "2024-06-28T00:00:00-03:00",
          "2024-07-01T00:00:00-03:00",
          "2024-07-02T00:00:00-03:00",
          "2024-07-03T00:00:00-03:00",
          "2024-07-04T00:00:00-03:00",
          "2024-07-05T00:00:00-03:00",
          "2024-07-08T00:00:00-03:00",
          "2024-07-09T00:00:00-03:00",
          "2024-07-10T00:00:00-03:00",
          "2024-07-11T00:00:00-03:00",
          "2024-07-12T00:00:00-03:00",
          "2024-07-15T00:00:00-03:00",
          "2024-07-16T00:00:00-03:00",
          "2024-07-17T00:00:00-03:00",
          "2024-07-18T00:00:00-03:00",
          "2024-07-19T00:00:00-03:00",
          "2024-07-22T00:00:00-03:00",
          "2024-07-23T00:00:00-03:00",
          "2024-07-24T00:00:00-03:00",
          "2024-07-25T00:00:00-03:00",
          "2024-07-26T00:00:00-03:00",
          "2024-07-29T00:00:00-03:00",
          "2024-07-30T00:00:00-03:00",
          "2024-07-31T00:00:00-03:00",
          "2024-08-01T00:00:00-03:00",
          "2024-08-02T00:00:00-03:00",
          "2024-08-05T00:00:00-03:00",
          "2024-08-06T00:00:00-03:00",
          "2024-08-07T00:00:00-03:00",
          "2024-08-08T00:00:00-03:00",
          "2024-08-09T00:00:00-03:00",
          "2024-08-12T00:00:00-03:00",
          "2024-08-13T00:00:00-03:00",
          "2024-08-14T00:00:00-03:00",
          "2024-08-15T00:00:00-03:00",
          "2024-08-16T00:00:00-03:00",
          "2024-08-19T00:00:00-03:00",
          "2024-08-20T00:00:00-03:00",
          "2024-08-21T00:00:00-03:00",
          "2024-08-22T00:00:00-03:00",
          "2024-08-23T00:00:00-03:00",
          "2024-08-26T00:00:00-03:00",
          "2024-08-27T00:00:00-03:00",
          "2024-08-28T00:00:00-03:00",
          "2024-08-29T00:00:00-03:00",
          "2024-08-30T00:00:00-03:00",
          "2024-09-02T00:00:00-03:00",
          "2024-09-03T00:00:00-03:00",
          "2024-09-04T00:00:00-03:00",
          "2024-09-05T00:00:00-03:00",
          "2024-09-06T00:00:00-03:00",
          "2024-09-09T00:00:00-03:00",
          "2024-09-10T00:00:00-03:00",
          "2024-09-11T00:00:00-03:00",
          "2024-09-12T00:00:00-03:00",
          "2024-09-13T00:00:00-03:00",
          "2024-09-16T00:00:00-03:00",
          "2024-09-17T00:00:00-03:00",
          "2024-09-18T00:00:00-03:00",
          "2024-09-19T00:00:00-03:00",
          "2024-09-20T00:00:00-03:00",
          "2024-09-23T00:00:00-03:00",
          "2024-09-24T00:00:00-03:00",
          "2024-09-25T00:00:00-03:00",
          "2024-09-26T00:00:00-03:00",
          "2024-09-27T00:00:00-03:00",
          "2024-09-30T00:00:00-03:00",
          "2024-10-01T00:00:00-03:00",
          "2024-10-02T00:00:00-03:00",
          "2024-10-03T00:00:00-03:00",
          "2024-10-04T00:00:00-03:00",
          "2024-10-07T00:00:00-03:00",
          "2024-10-08T00:00:00-03:00",
          "2024-10-09T00:00:00-03:00",
          "2024-10-10T00:00:00-03:00",
          "2024-10-11T00:00:00-03:00",
          "2024-10-14T00:00:00-03:00",
          "2024-10-15T00:00:00-03:00",
          "2024-10-16T00:00:00-03:00",
          "2024-10-17T00:00:00-03:00",
          "2024-10-18T00:00:00-03:00",
          "2024-10-21T00:00:00-03:00",
          "2024-10-22T00:00:00-03:00",
          "2024-10-23T00:00:00-03:00",
          "2024-10-24T00:00:00-03:00",
          "2024-10-25T00:00:00-03:00",
          "2024-10-28T00:00:00-03:00",
          "2024-10-29T00:00:00-03:00",
          "2024-10-30T00:00:00-03:00",
          "2024-10-31T00:00:00-03:00",
          "2024-11-01T00:00:00-03:00",
          "2024-11-04T00:00:00-03:00",
          "2024-11-05T00:00:00-03:00",
          "2024-11-06T00:00:00-03:00",
          "2024-11-07T00:00:00-03:00",
          "2024-11-08T00:00:00-03:00",
          "2024-11-11T00:00:00-03:00",
          "2024-11-12T00:00:00-03:00",
          "2024-11-13T00:00:00-03:00",
          "2024-11-14T00:00:00-03:00",
          "2024-11-18T00:00:00-03:00",
          "2024-11-19T00:00:00-03:00",
          "2024-11-21T00:00:00-03:00",
          "2024-11-22T00:00:00-03:00",
          "2024-11-25T00:00:00-03:00",
          "2024-11-26T00:00:00-03:00",
          "2024-11-27T00:00:00-03:00",
          "2024-11-28T00:00:00-03:00"
         ],
         "y": [
          66.94793701171875,
          66.10740661621094,
          65.81231689453125,
          66.0358657836914,
          65.97327423095703,
          66.08951568603516,
          65.52617645263672,
          65.30262756347656,
          64.89130401611328,
          64.7929458618164,
          63.81827926635742,
          64.1312484741211,
          64.4442138671875,
          63.78251266479492,
          63.710975646972656,
          63.398006439208984,
          63.04033660888672,
          62.85255432128906,
          62.53958511352539,
          61.84211730957031,
          61.967308044433594,
          61.87788391113281,
          62.59324264526367,
          61.430789947509766,
          59.982208251953125,
          59.240028381347656,
          60.74226760864258,
          61.046295166015625,
          59.857017517089844,
          61.39502716064453,
          60.27729034423828,
          61.48444366455078,
          59.63347244262695,
          59.821250915527344,
          60.51871871948242,
          60.241519927978516,
          59.168495178222656,
          59.785484313964844,
          59.41886520385742,
          59.329444885253906,
          59.177433013916016,
          59.64241409301758,
          59.83019256591797,
          59.66029739379883,
          59.36521911621094,
          59.63347244262695,
          58.39949417114258,
          59.937496185302734,
          61.073116302490234,
          62.59324264526367,
          61.55906295776367,
          60.4798698425293,
          60.839599609375,
          59.53557205200195,
          59.94926452636719,
          60.88456344604492,
          59.96725082397461,
          59.49060821533203,
          58.735172271728516,
          58.618255615234375,
          59.850337982177734,
          58.627254486083984,
          58.69020462036133,
          58.86107635498047,
          58.28550720214844,
          57.83584213256836,
          56.72966766357422,
          55.9472541809082,
          55.21879196166992,
          55.110877990722656,
          54.3734245300293,
          55.74489974975586,
          55.00295639038086,
          53.80595016479492,
          53.34099578857422,
          52.628726959228516,
          52.72765350341797,
          53.0046501159668,
          52.2231330871582,
          52.787010192871094,
          53.400352478027344,
          53.57841873168945,
          53.04421615600586,
          53.26185607910156,
          53.42013931274414,
          51.441612243652344,
          51.748287200927734,
          51.194297790527344,
          50.74913024902344,
          50.39299392700195,
          50.333641052246094,
          50.27428436279297,
          50.056644439697266,
          49.75986862182617,
          50.14567947387695,
          49.95772171020508,
          50.25449752807617,
          49.86868667602539,
          49.601585388183594,
          49.47298049926758,
          48.28586959838867,
          48.266082763671875,
          47.37574768066406,
          47.5637092590332,
          47.16800308227539,
          46.564552307128906,
          48.5925407409668,
          47.23725128173828,
          47.78134536743164,
          48.10780334472656,
          48.47382736206055,
          48.22651290893555,
          47.97919845581055,
          47.672523498535156,
          47.78134536743164,
          47.87037658691406,
          47.75166702270508,
          47.46478271484375,
          48.57275390625,
          48.266082763671875,
          48.12759017944336,
          48.16715621948242,
          49.86868667602539,
          51.807640075683594,
          51.72850036621094,
          51.580108642578125,
          51.57021713256836,
          50.99644470214844,
          50.838165283203125,
          51.332794189453125,
          51.510860443115234,
          50.82827377319336,
          51.25365447998047,
          49.89836502075195,
          50.5117073059082,
          51.77796173095703,
          50.946983337402344,
          50.610633850097656,
          49.749977111816406,
          49.71040725708008,
          49.7697639465332,
          49.611480712890625,
          51.53064727783203,
          50.27428436279297,
          50.66999053955078,
          50.10611343383789,
          50.036865234375,
          49.95772171020508,
          50.294071197509766,
          49.46308898925781,
          49.45319747924805,
          49.186100006103516,
          48.53318405151367,
          49.116851806640625,
          48.008872985839844,
          49.314701080322266,
          49.32459259033203,
          48.82996368408203,
          47.97919845581055,
          48.73103332519531,
          48.11769485473633,
          48.12759017944336,
          47.830806732177734,
          47.0690803527832,
          46.77229690551758,
          47.6131706237793,
          47.33617401123047,
          48.57275390625,
          47.89016342163086,
          47.39553451538086,
          47.217464447021484,
          46.95036315917969,
          46.91079330444336,
          46.18863296508789,
          47.69231033325195,
          48.21662139892578,
          47.75166702270508,
          47.92973709106445,
          48.196834564208984,
          47.3460693359375,
          47.049293518066406,
          47.68241882324219,
          46.46562957763672,
          47.16800308227539,
          46.98993682861328,
          46.12928009033203,
          45.17958450317383,
          45.33787155151367,
          45.90174865722656,
          46.06003189086914,
          45.98088836669922,
          45.78303527832031,
          45.34776306152344,
          45.89185333251953,
          46.07981491088867,
          46.19852828979492,
          45.792930603027344,
          45.59507751464844,
          45.89185333251953,
          45.25872802734375,
          45.792930603027344,
          45.130123138427734,
          44.764095306396484,
          44.79377365112305,
          45.52582931518555,
          45.01141357421875,
          44.6651725769043,
          44.6651725769043,
          44.22000503540039,
          43.666015625,
          45.10044479370117,
          45.65443420410156,
          47.37574768066406,
          44.53656768798828,
          44.022151947021484,
          44.833343505859375,
          45.268619537353516,
          46.39638137817383,
          48.18694305419922,
          52.21323776245117,
          52.994754791259766,
          49.4900016784668,
          51.130001068115234,
          51.20000076293945,
          49.45000076293945,
          49.58000183105469,
          49.349998474121094
         ]
        }
       ],
       "layout": {
        "height": 600,
        "hovermode": "x unified",
        "legend": {
         "x": 0,
         "y": 1
        },
        "template": {
         "data": {
          "bar": [
           {
            "error_x": {
             "color": "#f2f5fa"
            },
            "error_y": {
             "color": "#f2f5fa"
            },
            "marker": {
             "line": {
              "color": "rgb(17,17,17)",
              "width": 0.5
             },
             "pattern": {
              "fillmode": "overlay",
              "size": 10,
              "solidity": 0.2
             }
            },
            "type": "bar"
           }
          ],
          "barpolar": [
           {
            "marker": {
             "line": {
              "color": "rgb(17,17,17)",
              "width": 0.5
             },
             "pattern": {
              "fillmode": "overlay",
              "size": 10,
              "solidity": 0.2
             }
            },
            "type": "barpolar"
           }
          ],
          "carpet": [
           {
            "aaxis": {
             "endlinecolor": "#A2B1C6",
             "gridcolor": "#506784",
             "linecolor": "#506784",
             "minorgridcolor": "#506784",
             "startlinecolor": "#A2B1C6"
            },
            "baxis": {
             "endlinecolor": "#A2B1C6",
             "gridcolor": "#506784",
             "linecolor": "#506784",
             "minorgridcolor": "#506784",
             "startlinecolor": "#A2B1C6"
            },
            "type": "carpet"
           }
          ],
          "choropleth": [
           {
            "colorbar": {
             "outlinewidth": 0,
             "ticks": ""
            },
            "type": "choropleth"
           }
          ],
          "contour": [
           {
            "colorbar": {
             "outlinewidth": 0,
             "ticks": ""
            },
            "colorscale": [
             [
              0,
              "#0d0887"
             ],
             [
              0.1111111111111111,
              "#46039f"
             ],
             [
              0.2222222222222222,
              "#7201a8"
             ],
             [
              0.3333333333333333,
              "#9c179e"
             ],
             [
              0.4444444444444444,
              "#bd3786"
             ],
             [
              0.5555555555555556,
              "#d8576b"
             ],
             [
              0.6666666666666666,
              "#ed7953"
             ],
             [
              0.7777777777777778,
              "#fb9f3a"
             ],
             [
              0.8888888888888888,
              "#fdca26"
             ],
             [
              1,
              "#f0f921"
             ]
            ],
            "type": "contour"
           }
          ],
          "contourcarpet": [
           {
            "colorbar": {
             "outlinewidth": 0,
             "ticks": ""
            },
            "type": "contourcarpet"
           }
          ],
          "heatmap": [
           {
            "colorbar": {
             "outlinewidth": 0,
             "ticks": ""
            },
            "colorscale": [
             [
              0,
              "#0d0887"
             ],
             [
              0.1111111111111111,
              "#46039f"
             ],
             [
              0.2222222222222222,
              "#7201a8"
             ],
             [
              0.3333333333333333,
              "#9c179e"
             ],
             [
              0.4444444444444444,
              "#bd3786"
             ],
             [
              0.5555555555555556,
              "#d8576b"
             ],
             [
              0.6666666666666666,
              "#ed7953"
             ],
             [
              0.7777777777777778,
              "#fb9f3a"
             ],
             [
              0.8888888888888888,
              "#fdca26"
             ],
             [
              1,
              "#f0f921"
             ]
            ],
            "type": "heatmap"
           }
          ],
          "heatmapgl": [
           {
            "colorbar": {
             "outlinewidth": 0,
             "ticks": ""
            },
            "colorscale": [
             [
              0,
              "#0d0887"
             ],
             [
              0.1111111111111111,
              "#46039f"
             ],
             [
              0.2222222222222222,
              "#7201a8"
             ],
             [
              0.3333333333333333,
              "#9c179e"
             ],
             [
              0.4444444444444444,
              "#bd3786"
             ],
             [
              0.5555555555555556,
              "#d8576b"
             ],
             [
              0.6666666666666666,
              "#ed7953"
             ],
             [
              0.7777777777777778,
              "#fb9f3a"
             ],
             [
              0.8888888888888888,
              "#fdca26"
             ],
             [
              1,
              "#f0f921"
             ]
            ],
            "type": "heatmapgl"
           }
          ],
          "histogram": [
           {
            "marker": {
             "pattern": {
              "fillmode": "overlay",
              "size": 10,
              "solidity": 0.2
             }
            },
            "type": "histogram"
           }
          ],
          "histogram2d": [
           {
            "colorbar": {
             "outlinewidth": 0,
             "ticks": ""
            },
            "colorscale": [
             [
              0,
              "#0d0887"
             ],
             [
              0.1111111111111111,
              "#46039f"
             ],
             [
              0.2222222222222222,
              "#7201a8"
             ],
             [
              0.3333333333333333,
              "#9c179e"
             ],
             [
              0.4444444444444444,
              "#bd3786"
             ],
             [
              0.5555555555555556,
              "#d8576b"
             ],
             [
              0.6666666666666666,
              "#ed7953"
             ],
             [
              0.7777777777777778,
              "#fb9f3a"
             ],
             [
              0.8888888888888888,
              "#fdca26"
             ],
             [
              1,
              "#f0f921"
             ]
            ],
            "type": "histogram2d"
           }
          ],
          "histogram2dcontour": [
           {
            "colorbar": {
             "outlinewidth": 0,
             "ticks": ""
            },
            "colorscale": [
             [
              0,
              "#0d0887"
             ],
             [
              0.1111111111111111,
              "#46039f"
             ],
             [
              0.2222222222222222,
              "#7201a8"
             ],
             [
              0.3333333333333333,
              "#9c179e"
             ],
             [
              0.4444444444444444,
              "#bd3786"
             ],
             [
              0.5555555555555556,
              "#d8576b"
             ],
             [
              0.6666666666666666,
              "#ed7953"
             ],
             [
              0.7777777777777778,
              "#fb9f3a"
             ],
             [
              0.8888888888888888,
              "#fdca26"
             ],
             [
              1,
              "#f0f921"
             ]
            ],
            "type": "histogram2dcontour"
           }
          ],
          "mesh3d": [
           {
            "colorbar": {
             "outlinewidth": 0,
             "ticks": ""
            },
            "type": "mesh3d"
           }
          ],
          "parcoords": [
           {
            "line": {
             "colorbar": {
              "outlinewidth": 0,
              "ticks": ""
             }
            },
            "type": "parcoords"
           }
          ],
          "pie": [
           {
            "automargin": true,
            "type": "pie"
           }
          ],
          "scatter": [
           {
            "marker": {
             "line": {
              "color": "#283442"
             }
            },
            "type": "scatter"
           }
          ],
          "scatter3d": [
           {
            "line": {
             "colorbar": {
              "outlinewidth": 0,
              "ticks": ""
             }
            },
            "marker": {
             "colorbar": {
              "outlinewidth": 0,
              "ticks": ""
             }
            },
            "type": "scatter3d"
           }
          ],
          "scattercarpet": [
           {
            "marker": {
             "colorbar": {
              "outlinewidth": 0,
              "ticks": ""
             }
            },
            "type": "scattercarpet"
           }
          ],
          "scattergeo": [
           {
            "marker": {
             "colorbar": {
              "outlinewidth": 0,
              "ticks": ""
             }
            },
            "type": "scattergeo"
           }
          ],
          "scattergl": [
           {
            "marker": {
             "line": {
              "color": "#283442"
             }
            },
            "type": "scattergl"
           }
          ],
          "scattermapbox": [
           {
            "marker": {
             "colorbar": {
              "outlinewidth": 0,
              "ticks": ""
             }
            },
            "type": "scattermapbox"
           }
          ],
          "scatterpolar": [
           {
            "marker": {
             "colorbar": {
              "outlinewidth": 0,
              "ticks": ""
             }
            },
            "type": "scatterpolar"
           }
          ],
          "scatterpolargl": [
           {
            "marker": {
             "colorbar": {
              "outlinewidth": 0,
              "ticks": ""
             }
            },
            "type": "scatterpolargl"
           }
          ],
          "scatterternary": [
           {
            "marker": {
             "colorbar": {
              "outlinewidth": 0,
              "ticks": ""
             }
            },
            "type": "scatterternary"
           }
          ],
          "surface": [
           {
            "colorbar": {
             "outlinewidth": 0,
             "ticks": ""
            },
            "colorscale": [
             [
              0,
              "#0d0887"
             ],
             [
              0.1111111111111111,
              "#46039f"
             ],
             [
              0.2222222222222222,
              "#7201a8"
             ],
             [
              0.3333333333333333,
              "#9c179e"
             ],
             [
              0.4444444444444444,
              "#bd3786"
             ],
             [
              0.5555555555555556,
              "#d8576b"
             ],
             [
              0.6666666666666666,
              "#ed7953"
             ],
             [
              0.7777777777777778,
              "#fb9f3a"
             ],
             [
              0.8888888888888888,
              "#fdca26"
             ],
             [
              1,
              "#f0f921"
             ]
            ],
            "type": "surface"
           }
          ],
          "table": [
           {
            "cells": {
             "fill": {
              "color": "#506784"
             },
             "line": {
              "color": "rgb(17,17,17)"
             }
            },
            "header": {
             "fill": {
              "color": "#2a3f5f"
             },
             "line": {
              "color": "rgb(17,17,17)"
             }
            },
            "type": "table"
           }
          ]
         },
         "layout": {
          "annotationdefaults": {
           "arrowcolor": "#f2f5fa",
           "arrowhead": 0,
           "arrowwidth": 1
          },
          "autotypenumbers": "strict",
          "coloraxis": {
           "colorbar": {
            "outlinewidth": 0,
            "ticks": ""
           }
          },
          "colorscale": {
           "diverging": [
            [
             0,
             "#8e0152"
            ],
            [
             0.1,
             "#c51b7d"
            ],
            [
             0.2,
             "#de77ae"
            ],
            [
             0.3,
             "#f1b6da"
            ],
            [
             0.4,
             "#fde0ef"
            ],
            [
             0.5,
             "#f7f7f7"
            ],
            [
             0.6,
             "#e6f5d0"
            ],
            [
             0.7,
             "#b8e186"
            ],
            [
             0.8,
             "#7fbc41"
            ],
            [
             0.9,
             "#4d9221"
            ],
            [
             1,
             "#276419"
            ]
           ],
           "sequential": [
            [
             0,
             "#0d0887"
            ],
            [
             0.1111111111111111,
             "#46039f"
            ],
            [
             0.2222222222222222,
             "#7201a8"
            ],
            [
             0.3333333333333333,
             "#9c179e"
            ],
            [
             0.4444444444444444,
             "#bd3786"
            ],
            [
             0.5555555555555556,
             "#d8576b"
            ],
            [
             0.6666666666666666,
             "#ed7953"
            ],
            [
             0.7777777777777778,
             "#fb9f3a"
            ],
            [
             0.8888888888888888,
             "#fdca26"
            ],
            [
             1,
             "#f0f921"
            ]
           ],
           "sequentialminus": [
            [
             0,
             "#0d0887"
            ],
            [
             0.1111111111111111,
             "#46039f"
            ],
            [
             0.2222222222222222,
             "#7201a8"
            ],
            [
             0.3333333333333333,
             "#9c179e"
            ],
            [
             0.4444444444444444,
             "#bd3786"
            ],
            [
             0.5555555555555556,
             "#d8576b"
            ],
            [
             0.6666666666666666,
             "#ed7953"
            ],
            [
             0.7777777777777778,
             "#fb9f3a"
            ],
            [
             0.8888888888888888,
             "#fdca26"
            ],
            [
             1,
             "#f0f921"
            ]
           ]
          },
          "colorway": [
           "#636efa",
           "#EF553B",
           "#00cc96",
           "#ab63fa",
           "#FFA15A",
           "#19d3f3",
           "#FF6692",
           "#B6E880",
           "#FF97FF",
           "#FECB52"
          ],
          "font": {
           "color": "#f2f5fa"
          },
          "geo": {
           "bgcolor": "rgb(17,17,17)",
           "lakecolor": "rgb(17,17,17)",
           "landcolor": "rgb(17,17,17)",
           "showlakes": true,
           "showland": true,
           "subunitcolor": "#506784"
          },
          "hoverlabel": {
           "align": "left"
          },
          "hovermode": "closest",
          "mapbox": {
           "style": "dark"
          },
          "paper_bgcolor": "rgb(17,17,17)",
          "plot_bgcolor": "rgb(17,17,17)",
          "polar": {
           "angularaxis": {
            "gridcolor": "#506784",
            "linecolor": "#506784",
            "ticks": ""
           },
           "bgcolor": "rgb(17,17,17)",
           "radialaxis": {
            "gridcolor": "#506784",
            "linecolor": "#506784",
            "ticks": ""
           }
          },
          "scene": {
           "xaxis": {
            "backgroundcolor": "rgb(17,17,17)",
            "gridcolor": "#506784",
            "gridwidth": 2,
            "linecolor": "#506784",
            "showbackground": true,
            "ticks": "",
            "zerolinecolor": "#C8D4E3"
           },
           "yaxis": {
            "backgroundcolor": "rgb(17,17,17)",
            "gridcolor": "#506784",
            "gridwidth": 2,
            "linecolor": "#506784",
            "showbackground": true,
            "ticks": "",
            "zerolinecolor": "#C8D4E3"
           },
           "zaxis": {
            "backgroundcolor": "rgb(17,17,17)",
            "gridcolor": "#506784",
            "gridwidth": 2,
            "linecolor": "#506784",
            "showbackground": true,
            "ticks": "",
            "zerolinecolor": "#C8D4E3"
           }
          },
          "shapedefaults": {
           "line": {
            "color": "#f2f5fa"
           }
          },
          "sliderdefaults": {
           "bgcolor": "#C8D4E3",
           "bordercolor": "rgb(17,17,17)",
           "borderwidth": 1,
           "tickwidth": 0
          },
          "ternary": {
           "aaxis": {
            "gridcolor": "#506784",
            "linecolor": "#506784",
            "ticks": ""
           },
           "baxis": {
            "gridcolor": "#506784",
            "linecolor": "#506784",
            "ticks": ""
           },
           "bgcolor": "rgb(17,17,17)",
           "caxis": {
            "gridcolor": "#506784",
            "linecolor": "#506784",
            "ticks": ""
           }
          },
          "title": {
           "x": 0.05
          },
          "updatemenudefaults": {
           "bgcolor": "#506784",
           "borderwidth": 0
          },
          "xaxis": {
           "automargin": true,
           "gridcolor": "#283442",
           "linecolor": "#506784",
           "ticks": "",
           "title": {
            "standoff": 15
           },
           "zerolinecolor": "#283442",
           "zerolinewidth": 2
          },
          "yaxis": {
           "automargin": true,
           "gridcolor": "#283442",
           "linecolor": "#506784",
           "ticks": "",
           "title": {
            "standoff": 15
           },
           "zerolinecolor": "#283442",
           "zerolinewidth": 2
          }
         }
        },
        "title": {
         "text": "Comparação entre Previsões e Preços Reais"
        },
        "width": 1000,
        "xaxis": {
         "title": {
          "text": "Data"
         }
        },
        "yaxis": {
         "title": {
          "text": "Preço Fechamento"
         }
        }
       }
      }
     },
     "metadata": {},
     "output_type": "display_data"
    }
   ],
   "source": [
    "import pandas as pd\n",
    "import numpy as np\n",
    "import datetime\n",
    "import yfinance as yf\n",
    "import matplotlib.pyplot as plt\n",
    "from tensorflow.keras.models import Sequential\n",
    "from tensorflow.keras.optimizers import Adam\n",
    "from tensorflow.keras import layers\n",
    "# Buscar preços reais\n",
    "import plotly.graph_objects as go\n",
    "\n",
    "\n",
    "# Função para converter string em datetime\n",
    "def str_to_datetime(s):\n",
    "    split = s.split('-')\n",
    "    year, month, day = int(split[0]), int(split[1]), int(split[2])\n",
    "    return datetime.datetime(year=year, month=month, day=day)\n",
    "\n",
    "\n",
    "# Função para criar janelas de dados\n",
    "def df_to_windowed_df(dataframe, first_date_str, last_date_str, n):\n",
    "    first_date = str_to_datetime(first_date_str)\n",
    "    last_date = str_to_datetime(last_date_str)\n",
    "\n",
    "    target_date = first_date\n",
    "    dates = []\n",
    "    X, Y = [], []\n",
    "\n",
    "    last_time = False\n",
    "    while True:\n",
    "        df_subset = dataframe.loc[:target_date].tail(n + 1)\n",
    "\n",
    "        if len(df_subset) != n + 1:\n",
    "            print(f'Erro: Janela de tamanho {n} é muito grande para a data {target_date}')\n",
    "            return None\n",
    "\n",
    "        values = df_subset['Close'].to_numpy()\n",
    "        x, y = values[:-1], values[-1]\n",
    "\n",
    "        dates.append(target_date)\n",
    "        X.append(x)\n",
    "        Y.append(y)\n",
    "\n",
    "        next_week = dataframe.loc[target_date:target_date + datetime.timedelta(days=7)]\n",
    "        if len(next_week) < 2:\n",
    "            break\n",
    "\n",
    "        next_datetime_str = str(next_week.head(2).tail(1).index.values[0])\n",
    "        next_date_str = next_datetime_str.split('T')[0]\n",
    "        year, month, day = map(int, next_date_str.split('-'))\n",
    "        next_date = datetime.datetime(year=year, month=month, day=day)\n",
    "\n",
    "        if last_time:\n",
    "            break\n",
    "\n",
    "        target_date = next_date\n",
    "        if target_date == last_date:\n",
    "            last_time = True\n",
    "\n",
    "    ret_df = pd.DataFrame({})\n",
    "    ret_df['Target Date'] = dates\n",
    "\n",
    "    X = np.array(X)\n",
    "    for i in range(n):\n",
    "        ret_df[f'Target-{n-i}'] = X[:, i]\n",
    "\n",
    "    ret_df['Target'] = Y\n",
    "\n",
    "    return ret_df\n",
    "\n",
    "def adjust_dates_to_available(df, start_date, end_date):\n",
    "    if start_date not in df.index:\n",
    "        start_date = df.index[df.index.get_indexer([start_date], method='nearest')[0]]\n",
    "        print(f'Data inicial ajustada para {start_date}')\n",
    "\n",
    "    if end_date not in df.index:\n",
    "        end_date = df.index[df.index.get_indexer([end_date], method='nearest')[0]]\n",
    "        print(f'Data final ajustada para {end_date}')\n",
    "    \n",
    "    return start_date, end_date\n",
    "\n",
    "# Função para converter janela para entrada do modelo\n",
    "def windowed_df_to_date_X_y(windowed_dataframe):\n",
    "    if windowed_dataframe is None or windowed_dataframe.empty:\n",
    "        raise ValueError(\"O DataFrame de janela está vazio ou é None. Verifique as entradas.\")\n",
    "\n",
    "    df_as_np = windowed_dataframe.to_numpy()\n",
    "    dates = df_as_np[:, 0]\n",
    "    middle_matrix = df_as_np[:, 1:-1]\n",
    "    X = middle_matrix.reshape((len(dates), middle_matrix.shape[1], 1))\n",
    "    Y = df_as_np[:, -1]\n",
    "\n",
    "    return dates, X.astype(np.float32), Y.astype(np.float32)\n",
    "\n",
    "\n",
    "# Treinamento do modelo\n",
    "def train_model(ticker, start_date, end_date, window_size):\n",
    "    df = yf.Ticker(ticker).history(period='max')\n",
    "    df = df[['Close']]\n",
    "    \n",
    "    # Garantir que o índice seja datetime sem timezone e sem hora\n",
    "    df.index = pd.to_datetime(df.index).tz_convert(None).normalize()\n",
    "\n",
    "    # Garantir que start_date e end_date também estejam normalizadas\n",
    "    start_date = pd.to_datetime(start_date).normalize()\n",
    "    end_date = pd.to_datetime(end_date).normalize()\n",
    "\n",
    "    start_date, end_date = adjust_dates_to_available(df, start_date, end_date)\n",
    "\n",
    "    windowed_df = df_to_windowed_df(df, start_date.strftime('%Y-%m-%d'), end_date.strftime('%Y-%m-%d'), n=window_size)\n",
    "\n",
    "    if windowed_df is None or windowed_df.empty:\n",
    "        raise ValueError(\"Erro: df_to_windowed_df retornou um DataFrame vazio ou None.\")\n",
    "\n",
    "    dates, X, y = windowed_df_to_date_X_y(windowed_df)\n",
    "\n",
    "    q_80 = int(len(dates) * .8)\n",
    "    q_90 = int(len(dates) * .9)\n",
    "\n",
    "    dates_train, X_train, y_train = dates[:q_80], X[:q_80], y[:q_80]\n",
    "    dates_val, X_val, y_val = dates[q_80:q_90], X[q_80:q_90], y[q_80:q_90]\n",
    "    dates_test, X_test, y_test = dates[q_90:], X[q_90:], y[q_90:]\n",
    "\n",
    "    model = Sequential([\n",
    "        layers.Input((window_size, 1)),\n",
    "        layers.LSTM(70),\n",
    "        layers.Dense(32, activation='relu'),\n",
    "        layers.Dense(32, activation='relu'),\n",
    "        layers.Dense(1)\n",
    "    ])\n",
    "\n",
    "    model.compile(loss='mse',\n",
    "                  optimizer=Adam(learning_rate=0.001),\n",
    "                  metrics=['mean_absolute_error'])\n",
    "\n",
    "    model.fit(X_train, y_train, validation_data=(X_val, y_val), epochs=65)\n",
    "\n",
    "    return model, dates_test, X_test\n",
    "\n",
    "\n",
    "# Parâmetros do modelo\n",
    "ticker = 'UNIP6.SA'\n",
    "start_date = '2024-01-08'\n",
    "end_date = '2024-11-29'\n",
    "window_size = 5\n",
    "\n",
    "# Treinamento do modelo\n",
    "model, dates_test, X_test = train_model(ticker, start_date, end_date, window_size)\n",
    "\n",
    "# Predições para datas futuras\n",
    "future_predictions = model.predict(X_test).flatten()\n",
    "\n",
    "# Plot das previsões futuras\n",
    "plt.figure(figsize=(12, 6))\n",
    "plt.plot(dates_test, future_predictions, label='Future Predictions', color='orange')\n",
    "plt.title('Previsões Futuras do Modelo')\n",
    "plt.xlabel('Data')\n",
    "plt.ylabel('Preço Fechamento Previsto')\n",
    "plt.legend()\n",
    "plt.show()\n",
    "#=============== in case you have the data\n",
    "def get_actual_prices(ticker, start_date, end_date):\n",
    "    df = yf.Ticker(ticker).history(start=start_date, end=end_date)\n",
    "    df = df[['Close']]\n",
    "    df.index = pd.to_datetime(df.index).normalize()\n",
    "    return df\n",
    "\n",
    "\n",
    "# Buscar preços reais\n",
    "actual_prices_df = get_actual_prices(ticker, start_date, end_date)\n",
    "actual_dates = actual_prices_df.index\n",
    "actual_prices = actual_prices_df['Close'].to_numpy()\n",
    "\n",
    "# Plot com Plotly\n",
    "fig = go.Figure()\n",
    "\n",
    "# Adicionar previsões futuras\n",
    "fig.add_trace(go.Scatter(\n",
    "    x=dates_test,\n",
    "    y=future_predictions,\n",
    "    mode='lines',\n",
    "    name='Future Predictions',\n",
    "    line=dict(color='orange')\n",
    "))\n",
    "\n",
    "# Adicionar preços reais\n",
    "fig.add_trace(go.Scatter(\n",
    "    x=actual_dates,\n",
    "    y=actual_prices,\n",
    "    mode='lines',\n",
    "    name='Actual Prices',\n",
    "    line=dict(color='blue')\n",
    "))\n",
    "\n",
    "# Layout do gráfico\n",
    "fig.update_layout(\n",
    "    title='Comparação entre Previsões e Preços Reais',\n",
    "    xaxis_title='Data',\n",
    "    yaxis_title='Preço Fechamento',\n",
    "    legend=dict(x=0, y=1),\n",
    "    template='plotly_dark',\n",
    "    hovermode='x unified',\n",
    "    width=1000,\n",
    "    height=600\n",
    ")\n",
    "\n",
    "# Mostrar gráfico\n",
    "fig.show()\n"
   ]
  }
 ],
 "metadata": {
  "colab": {
   "provenance": [
    {
     "file_id": "1Bk4zPQwAfzoSHZokKUefKL1s6lqmam6S",
     "timestamp": 1678807536043
    }
   ]
  },
  "kernelspec": {
   "display_name": "fin_dash_env.yml",
   "language": "python",
   "name": "python3"
  },
  "language_info": {
   "codemirror_mode": {
    "name": "ipython",
    "version": 3
   },
   "file_extension": ".py",
   "mimetype": "text/x-python",
   "name": "python",
   "nbconvert_exporter": "python",
   "pygments_lexer": "ipython3",
   "version": "3.11.7"
  }
 },
 "nbformat": 4,
 "nbformat_minor": 0
}
