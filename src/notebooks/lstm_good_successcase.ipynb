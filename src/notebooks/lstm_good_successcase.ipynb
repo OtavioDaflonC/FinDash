{
 "cells": [
  {
   "cell_type": "markdown",
   "metadata": {},
   "source": [
    "# Production"
   ]
  },
  {
   "cell_type": "code",
   "execution_count": 1,
   "metadata": {},
   "outputs": [],
   "source": [
    "# model.predict(np.array([[[74.11]],[[75.1]],[[66]]])) #prod structure\n",
    "\n"
   ]
  },
  {
   "cell_type": "code",
   "execution_count": null,
   "metadata": {},
   "outputs": [],
   "source": [
    "# success configs:\n",
    "\n",
    "# ticker = 'UNIP6.SA'\n",
    "# start_date = '2024-01-08'\n",
    "# end_date = '2024-11-29'\n",
    "# window_size = 5\n",
    "\n",
    "# ticker = 'KEPL3.SA'\n",
    "# start_date = '2024-01-08'\n",
    "# end_date = '2024-11-29'\n",
    "# window_size = 5\n",
    "\n",
    "# ticker = 'CSNA3.SA'\n",
    "# start_date = '2024-01-08'\n",
    "# end_date = '2024-11-29'\n",
    "# window_size = 5\n",
    "\n",
    "#============================================= parallel approach\n",
    "\n",
    "# Parameters\n",
    "# ticker = 'ITSA4.SA'\n",
    "# start_date = '2023-01-01'\n",
    "# train_end_date = '2023-12-31'\n",
    "# val_end_date = '2024-06-30'\n",
    "# end_date = '2024-11-29'\n",
    "# window_size = 5"
   ]
  },
  {
   "cell_type": "code",
   "execution_count": null,
   "metadata": {},
   "outputs": [
    {
     "name": "stdout",
     "output_type": "stream",
     "text": [
      "Epoch 1/65\n",
      "\u001b[1m6/6\u001b[0m \u001b[32m━━━━━━━━━━━━━━━━━━━━\u001b[0m\u001b[37m\u001b[0m \u001b[1m2s\u001b[0m 62ms/step - loss: 170.2609 - mean_absolute_error: 12.9143 - val_loss: 121.0107 - val_mean_absolute_error: 10.9850\n",
      "Epoch 2/65\n",
      "\u001b[1m6/6\u001b[0m \u001b[32m━━━━━━━━━━━━━━━━━━━━\u001b[0m\u001b[37m\u001b[0m \u001b[1m0s\u001b[0m 20ms/step - loss: 156.2914 - mean_absolute_error: 12.3692 - val_loss: 108.6573 - val_mean_absolute_error: 10.4076\n",
      "Epoch 3/65\n",
      "\u001b[1m6/6\u001b[0m \u001b[32m━━━━━━━━━━━━━━━━━━━━\u001b[0m\u001b[37m\u001b[0m \u001b[1m0s\u001b[0m 21ms/step - loss: 143.4865 - mean_absolute_error: 11.8340 - val_loss: 92.5748 - val_mean_absolute_error: 9.6039\n",
      "Epoch 4/65\n",
      "\u001b[1m6/6\u001b[0m \u001b[32m━━━━━━━━━━━━━━━━━━━━\u001b[0m\u001b[37m\u001b[0m \u001b[1m0s\u001b[0m 16ms/step - loss: 122.8195 - mean_absolute_error: 10.9178 - val_loss: 71.5208 - val_mean_absolute_error: 8.4368\n",
      "Epoch 5/65\n",
      "\u001b[1m6/6\u001b[0m \u001b[32m━━━━━━━━━━━━━━━━━━━━\u001b[0m\u001b[37m\u001b[0m \u001b[1m0s\u001b[0m 21ms/step - loss: 96.1269 - mean_absolute_error: 9.6268 - val_loss: 45.0050 - val_mean_absolute_error: 6.6828\n",
      "Epoch 6/65\n",
      "\u001b[1m6/6\u001b[0m \u001b[32m━━━━━━━━━━━━━━━━━━━━\u001b[0m\u001b[37m\u001b[0m \u001b[1m0s\u001b[0m 17ms/step - loss: 61.6569 - mean_absolute_error: 7.6181 - val_loss: 17.1834 - val_mean_absolute_error: 4.1030\n",
      "Epoch 7/65\n",
      "\u001b[1m6/6\u001b[0m \u001b[32m━━━━━━━━━━━━━━━━━━━━\u001b[0m\u001b[37m\u001b[0m \u001b[1m0s\u001b[0m 18ms/step - loss: 29.0112 - mean_absolute_error: 4.9669 - val_loss: 1.1107 - val_mean_absolute_error: 0.8729\n",
      "Epoch 8/65\n",
      "\u001b[1m6/6\u001b[0m \u001b[32m━━━━━━━━━━━━━━━━━━━━\u001b[0m\u001b[37m\u001b[0m \u001b[1m0s\u001b[0m 19ms/step - loss: 7.9195 - mean_absolute_error: 2.1749 - val_loss: 4.7984 - val_mean_absolute_error: 2.1102\n",
      "Epoch 9/65\n",
      "\u001b[1m6/6\u001b[0m \u001b[32m━━━━━━━━━━━━━━━━━━━━\u001b[0m\u001b[37m\u001b[0m \u001b[1m0s\u001b[0m 17ms/step - loss: 4.6351 - mean_absolute_error: 1.9248 - val_loss: 11.7398 - val_mean_absolute_error: 3.3760\n",
      "Epoch 10/65\n",
      "\u001b[1m6/6\u001b[0m \u001b[32m━━━━━━━━━━━━━━━━━━━━\u001b[0m\u001b[37m\u001b[0m \u001b[1m0s\u001b[0m 17ms/step - loss: 6.3322 - mean_absolute_error: 2.2080 - val_loss: 8.1941 - val_mean_absolute_error: 2.8026\n",
      "Epoch 11/65\n",
      "\u001b[1m6/6\u001b[0m \u001b[32m━━━━━━━━━━━━━━━━━━━━\u001b[0m\u001b[37m\u001b[0m \u001b[1m0s\u001b[0m 18ms/step - loss: 4.0918 - mean_absolute_error: 1.7733 - val_loss: 3.0448 - val_mean_absolute_error: 1.6456\n",
      "Epoch 12/65\n",
      "\u001b[1m6/6\u001b[0m \u001b[32m━━━━━━━━━━━━━━━━━━━━\u001b[0m\u001b[37m\u001b[0m \u001b[1m0s\u001b[0m 17ms/step - loss: 3.3876 - mean_absolute_error: 1.5502 - val_loss: 1.1276 - val_mean_absolute_error: 0.9171\n",
      "Epoch 13/65\n",
      "\u001b[1m6/6\u001b[0m \u001b[32m━━━━━━━━━━━━━━━━━━━━\u001b[0m\u001b[37m\u001b[0m \u001b[1m0s\u001b[0m 18ms/step - loss: 3.4233 - mean_absolute_error: 1.4229 - val_loss: 1.0854 - val_mean_absolute_error: 0.8997\n",
      "Epoch 14/65\n",
      "\u001b[1m6/6\u001b[0m \u001b[32m━━━━━━━━━━━━━━━━━━━━\u001b[0m\u001b[37m\u001b[0m \u001b[1m0s\u001b[0m 19ms/step - loss: 3.3752 - mean_absolute_error: 1.4312 - val_loss: 1.8486 - val_mean_absolute_error: 1.2318\n",
      "Epoch 15/65\n",
      "\u001b[1m6/6\u001b[0m \u001b[32m━━━━━━━━━━━━━━━━━━━━\u001b[0m\u001b[37m\u001b[0m \u001b[1m0s\u001b[0m 19ms/step - loss: 2.8916 - mean_absolute_error: 1.3907 - val_loss: 2.8353 - val_mean_absolute_error: 1.5828\n",
      "Epoch 16/65\n",
      "\u001b[1m6/6\u001b[0m \u001b[32m━━━━━━━━━━━━━━━━━━━━\u001b[0m\u001b[37m\u001b[0m \u001b[1m0s\u001b[0m 19ms/step - loss: 3.3941 - mean_absolute_error: 1.5813 - val_loss: 3.3666 - val_mean_absolute_error: 1.7431\n",
      "Epoch 17/65\n",
      "\u001b[1m6/6\u001b[0m \u001b[32m━━━━━━━━━━━━━━━━━━━━\u001b[0m\u001b[37m\u001b[0m \u001b[1m0s\u001b[0m 18ms/step - loss: 3.2426 - mean_absolute_error: 1.5917 - val_loss: 2.8919 - val_mean_absolute_error: 1.6018\n",
      "Epoch 18/65\n",
      "\u001b[1m6/6\u001b[0m \u001b[32m━━━━━━━━━━━━━━━━━━━━\u001b[0m\u001b[37m\u001b[0m \u001b[1m0s\u001b[0m 20ms/step - loss: 3.2500 - mean_absolute_error: 1.5681 - val_loss: 2.4057 - val_mean_absolute_error: 1.4427\n",
      "Epoch 19/65\n",
      "\u001b[1m6/6\u001b[0m \u001b[32m━━━━━━━━━━━━━━━━━━━━\u001b[0m\u001b[37m\u001b[0m \u001b[1m0s\u001b[0m 17ms/step - loss: 3.4941 - mean_absolute_error: 1.6006 - val_loss: 2.0634 - val_mean_absolute_error: 1.3196\n",
      "Epoch 20/65\n",
      "\u001b[1m6/6\u001b[0m \u001b[32m━━━━━━━━━━━━━━━━━━━━\u001b[0m\u001b[37m\u001b[0m \u001b[1m0s\u001b[0m 14ms/step - loss: 3.0794 - mean_absolute_error: 1.4339 - val_loss: 2.0704 - val_mean_absolute_error: 1.3230\n",
      "Epoch 21/65\n",
      "\u001b[1m6/6\u001b[0m \u001b[32m━━━━━━━━━━━━━━━━━━━━\u001b[0m\u001b[37m\u001b[0m \u001b[1m0s\u001b[0m 16ms/step - loss: 3.2324 - mean_absolute_error: 1.5079 - val_loss: 2.2889 - val_mean_absolute_error: 1.4039\n",
      "Epoch 22/65\n",
      "\u001b[1m6/6\u001b[0m \u001b[32m━━━━━━━━━━━━━━━━━━━━\u001b[0m\u001b[37m\u001b[0m \u001b[1m0s\u001b[0m 19ms/step - loss: 3.3486 - mean_absolute_error: 1.5618 - val_loss: 2.5029 - val_mean_absolute_error: 1.4790\n",
      "Epoch 23/65\n",
      "\u001b[1m6/6\u001b[0m \u001b[32m━━━━━━━━━━━━━━━━━━━━\u001b[0m\u001b[37m\u001b[0m \u001b[1m0s\u001b[0m 20ms/step - loss: 2.8669 - mean_absolute_error: 1.4469 - val_loss: 2.3486 - val_mean_absolute_error: 1.4269\n",
      "Epoch 24/65\n",
      "\u001b[1m6/6\u001b[0m \u001b[32m━━━━━━━━━━━━━━━━━━━━\u001b[0m\u001b[37m\u001b[0m \u001b[1m0s\u001b[0m 18ms/step - loss: 3.0089 - mean_absolute_error: 1.4937 - val_loss: 2.2166 - val_mean_absolute_error: 1.3811\n",
      "Epoch 25/65\n",
      "\u001b[1m6/6\u001b[0m \u001b[32m━━━━━━━━━━━━━━━━━━━━\u001b[0m\u001b[37m\u001b[0m \u001b[1m0s\u001b[0m 24ms/step - loss: 2.7626 - mean_absolute_error: 1.4046 - val_loss: 2.2620 - val_mean_absolute_error: 1.3989\n",
      "Epoch 26/65\n",
      "\u001b[1m6/6\u001b[0m \u001b[32m━━━━━━━━━━━━━━━━━━━━\u001b[0m\u001b[37m\u001b[0m \u001b[1m0s\u001b[0m 21ms/step - loss: 3.1854 - mean_absolute_error: 1.5238 - val_loss: 2.3245 - val_mean_absolute_error: 1.4229\n",
      "Epoch 27/65\n",
      "\u001b[1m6/6\u001b[0m \u001b[32m━━━━━━━━━━━━━━━━━━━━\u001b[0m\u001b[37m\u001b[0m \u001b[1m0s\u001b[0m 20ms/step - loss: 2.8304 - mean_absolute_error: 1.4343 - val_loss: 2.0134 - val_mean_absolute_error: 1.3115\n",
      "Epoch 28/65\n",
      "\u001b[1m6/6\u001b[0m \u001b[32m━━━━━━━━━━━━━━━━━━━━\u001b[0m\u001b[37m\u001b[0m \u001b[1m0s\u001b[0m 22ms/step - loss: 2.9107 - mean_absolute_error: 1.4522 - val_loss: 1.9716 - val_mean_absolute_error: 1.2984\n",
      "Epoch 29/65\n",
      "\u001b[1m6/6\u001b[0m \u001b[32m━━━━━━━━━━━━━━━━━━━━\u001b[0m\u001b[37m\u001b[0m \u001b[1m0s\u001b[0m 19ms/step - loss: 2.7737 - mean_absolute_error: 1.4107 - val_loss: 1.7783 - val_mean_absolute_error: 1.2251\n",
      "Epoch 30/65\n",
      "\u001b[1m6/6\u001b[0m \u001b[32m━━━━━━━━━━━━━━━━━━━━\u001b[0m\u001b[37m\u001b[0m \u001b[1m0s\u001b[0m 19ms/step - loss: 2.5124 - mean_absolute_error: 1.3379 - val_loss: 1.9343 - val_mean_absolute_error: 1.2898\n",
      "Epoch 31/65\n",
      "\u001b[1m6/6\u001b[0m \u001b[32m━━━━━━━━━━━━━━━━━━━━\u001b[0m\u001b[37m\u001b[0m \u001b[1m0s\u001b[0m 17ms/step - loss: 2.5845 - mean_absolute_error: 1.3555 - val_loss: 1.9298 - val_mean_absolute_error: 1.2915\n",
      "Epoch 32/65\n",
      "\u001b[1m6/6\u001b[0m \u001b[32m━━━━━━━━━━━━━━━━━━━━\u001b[0m\u001b[37m\u001b[0m \u001b[1m0s\u001b[0m 15ms/step - loss: 2.2712 - mean_absolute_error: 1.2513 - val_loss: 1.4794 - val_mean_absolute_error: 1.1077\n",
      "Epoch 33/65\n",
      "\u001b[1m6/6\u001b[0m \u001b[32m━━━━━━━━━━━━━━━━━━━━\u001b[0m\u001b[37m\u001b[0m \u001b[1m0s\u001b[0m 17ms/step - loss: 2.2836 - mean_absolute_error: 1.2452 - val_loss: 1.6858 - val_mean_absolute_error: 1.2035\n",
      "Epoch 34/65\n",
      "\u001b[1m6/6\u001b[0m \u001b[32m━━━━━━━━━━━━━━━━━━━━\u001b[0m\u001b[37m\u001b[0m \u001b[1m0s\u001b[0m 16ms/step - loss: 2.1003 - mean_absolute_error: 1.2430 - val_loss: 1.1889 - val_mean_absolute_error: 0.9861\n",
      "Epoch 35/65\n",
      "\u001b[1m6/6\u001b[0m \u001b[32m━━━━━━━━━━━━━━━━━━━━\u001b[0m\u001b[37m\u001b[0m \u001b[1m0s\u001b[0m 17ms/step - loss: 1.8834 - mean_absolute_error: 1.1234 - val_loss: 1.2604 - val_mean_absolute_error: 1.0266\n",
      "Epoch 36/65\n",
      "\u001b[1m6/6\u001b[0m \u001b[32m━━━━━━━━━━━━━━━━━━━━\u001b[0m\u001b[37m\u001b[0m \u001b[1m0s\u001b[0m 23ms/step - loss: 1.7637 - mean_absolute_error: 1.1213 - val_loss: 1.0446 - val_mean_absolute_error: 0.9307\n",
      "Epoch 37/65\n",
      "\u001b[1m6/6\u001b[0m \u001b[32m━━━━━━━━━━━━━━━━━━━━\u001b[0m\u001b[37m\u001b[0m \u001b[1m0s\u001b[0m 17ms/step - loss: 1.5669 - mean_absolute_error: 1.0218 - val_loss: 1.0857 - val_mean_absolute_error: 0.9604\n",
      "Epoch 38/65\n",
      "\u001b[1m6/6\u001b[0m \u001b[32m━━━━━━━━━━━━━━━━━━━━\u001b[0m\u001b[37m\u001b[0m \u001b[1m0s\u001b[0m 14ms/step - loss: 1.2971 - mean_absolute_error: 0.9696 - val_loss: 0.6324 - val_mean_absolute_error: 0.7207\n",
      "Epoch 39/65\n",
      "\u001b[1m6/6\u001b[0m \u001b[32m━━━━━━━━━━━━━━━━━━━━\u001b[0m\u001b[37m\u001b[0m \u001b[1m0s\u001b[0m 24ms/step - loss: 1.0593 - mean_absolute_error: 0.8180 - val_loss: 0.6022 - val_mean_absolute_error: 0.7177\n",
      "Epoch 40/65\n",
      "\u001b[1m6/6\u001b[0m \u001b[32m━━━━━━━━━━━━━━━━━━━━\u001b[0m\u001b[37m\u001b[0m \u001b[1m0s\u001b[0m 16ms/step - loss: 0.7761 - mean_absolute_error: 0.7055 - val_loss: 0.3866 - val_mean_absolute_error: 0.5688\n",
      "Epoch 41/65\n",
      "\u001b[1m6/6\u001b[0m \u001b[32m━━━━━━━━━━━━━━━━━━━━\u001b[0m\u001b[37m\u001b[0m \u001b[1m0s\u001b[0m 17ms/step - loss: 0.5153 - mean_absolute_error: 0.5535 - val_loss: 0.2866 - val_mean_absolute_error: 0.4793\n",
      "Epoch 42/65\n",
      "\u001b[1m6/6\u001b[0m \u001b[32m━━━━━━━━━━━━━━━━━━━━\u001b[0m\u001b[37m\u001b[0m \u001b[1m0s\u001b[0m 20ms/step - loss: 0.3393 - mean_absolute_error: 0.4664 - val_loss: 0.1683 - val_mean_absolute_error: 0.3140\n",
      "Epoch 43/65\n",
      "\u001b[1m6/6\u001b[0m \u001b[32m━━━━━━━━━━━━━━━━━━━━\u001b[0m\u001b[37m\u001b[0m \u001b[1m0s\u001b[0m 16ms/step - loss: 0.2397 - mean_absolute_error: 0.3802 - val_loss: 0.1705 - val_mean_absolute_error: 0.2831\n",
      "Epoch 44/65\n",
      "\u001b[1m6/6\u001b[0m \u001b[32m━━━━━━━━━━━━━━━━━━━━\u001b[0m\u001b[37m\u001b[0m \u001b[1m0s\u001b[0m 15ms/step - loss: 0.1720 - mean_absolute_error: 0.2964 - val_loss: 0.1752 - val_mean_absolute_error: 0.3018\n",
      "Epoch 45/65\n",
      "\u001b[1m6/6\u001b[0m \u001b[32m━━━━━━━━━━━━━━━━━━━━\u001b[0m\u001b[37m\u001b[0m \u001b[1m0s\u001b[0m 16ms/step - loss: 0.1184 - mean_absolute_error: 0.2497 - val_loss: 0.1813 - val_mean_absolute_error: 0.2848\n",
      "Epoch 46/65\n",
      "\u001b[1m6/6\u001b[0m \u001b[32m━━━━━━━━━━━━━━━━━━━━\u001b[0m\u001b[37m\u001b[0m \u001b[1m0s\u001b[0m 17ms/step - loss: 0.1008 - mean_absolute_error: 0.2392 - val_loss: 0.1824 - val_mean_absolute_error: 0.2903\n",
      "Epoch 47/65\n",
      "\u001b[1m6/6\u001b[0m \u001b[32m━━━━━━━━━━━━━━━━━━━━\u001b[0m\u001b[37m\u001b[0m \u001b[1m0s\u001b[0m 16ms/step - loss: 0.1167 - mean_absolute_error: 0.2562 - val_loss: 0.1812 - val_mean_absolute_error: 0.3034\n",
      "Epoch 48/65\n",
      "\u001b[1m6/6\u001b[0m \u001b[32m━━━━━━━━━━━━━━━━━━━━\u001b[0m\u001b[37m\u001b[0m \u001b[1m0s\u001b[0m 23ms/step - loss: 0.1250 - mean_absolute_error: 0.2702 - val_loss: 0.1801 - val_mean_absolute_error: 0.3073\n",
      "Epoch 49/65\n",
      "\u001b[1m6/6\u001b[0m \u001b[32m━━━━━━━━━━━━━━━━━━━━\u001b[0m\u001b[37m\u001b[0m \u001b[1m0s\u001b[0m 16ms/step - loss: 0.1242 - mean_absolute_error: 0.2807 - val_loss: 0.1740 - val_mean_absolute_error: 0.2867\n",
      "Epoch 50/65\n",
      "\u001b[1m6/6\u001b[0m \u001b[32m━━━━━━━━━━━━━━━━━━━━\u001b[0m\u001b[37m\u001b[0m \u001b[1m0s\u001b[0m 17ms/step - loss: 0.1149 - mean_absolute_error: 0.2626 - val_loss: 0.1722 - val_mean_absolute_error: 0.2837\n",
      "Epoch 51/65\n",
      "\u001b[1m6/6\u001b[0m \u001b[32m━━━━━━━━━━━━━━━━━━━━\u001b[0m\u001b[37m\u001b[0m \u001b[1m0s\u001b[0m 15ms/step - loss: 0.1103 - mean_absolute_error: 0.2562 - val_loss: 0.1794 - val_mean_absolute_error: 0.2752\n",
      "Epoch 52/65\n",
      "\u001b[1m6/6\u001b[0m \u001b[32m━━━━━━━━━━━━━━━━━━━━\u001b[0m\u001b[37m\u001b[0m \u001b[1m0s\u001b[0m 15ms/step - loss: 0.1256 - mean_absolute_error: 0.2743 - val_loss: 0.1812 - val_mean_absolute_error: 0.2747\n",
      "Epoch 53/65\n",
      "\u001b[1m6/6\u001b[0m \u001b[32m━━━━━━━━━━━━━━━━━━━━\u001b[0m\u001b[37m\u001b[0m \u001b[1m0s\u001b[0m 18ms/step - loss: 0.1265 - mean_absolute_error: 0.2711 - val_loss: 0.1873 - val_mean_absolute_error: 0.2750\n",
      "Epoch 54/65\n",
      "\u001b[1m6/6\u001b[0m \u001b[32m━━━━━━━━━━━━━━━━━━━━\u001b[0m\u001b[37m\u001b[0m \u001b[1m0s\u001b[0m 15ms/step - loss: 0.1119 - mean_absolute_error: 0.2577 - val_loss: 0.1822 - val_mean_absolute_error: 0.3228\n",
      "Epoch 55/65\n",
      "\u001b[1m6/6\u001b[0m \u001b[32m━━━━━━━━━━━━━━━━━━━━\u001b[0m\u001b[37m\u001b[0m \u001b[1m0s\u001b[0m 20ms/step - loss: 0.0983 - mean_absolute_error: 0.2473 - val_loss: 0.1705 - val_mean_absolute_error: 0.2857\n",
      "Epoch 56/65\n",
      "\u001b[1m6/6\u001b[0m \u001b[32m━━━━━━━━━━━━━━━━━━━━\u001b[0m\u001b[37m\u001b[0m \u001b[1m0s\u001b[0m 23ms/step - loss: 0.1139 - mean_absolute_error: 0.2500 - val_loss: 0.1733 - val_mean_absolute_error: 0.2765\n",
      "Epoch 57/65\n",
      "\u001b[1m6/6\u001b[0m \u001b[32m━━━━━━━━━━━━━━━━━━━━\u001b[0m\u001b[37m\u001b[0m \u001b[1m0s\u001b[0m 18ms/step - loss: 0.1018 - mean_absolute_error: 0.2396 - val_loss: 0.1700 - val_mean_absolute_error: 0.2930\n",
      "Epoch 58/65\n",
      "\u001b[1m6/6\u001b[0m \u001b[32m━━━━━━━━━━━━━━━━━━━━\u001b[0m\u001b[37m\u001b[0m \u001b[1m0s\u001b[0m 18ms/step - loss: 0.0953 - mean_absolute_error: 0.2336 - val_loss: 0.1702 - val_mean_absolute_error: 0.2843\n",
      "Epoch 59/65\n",
      "\u001b[1m6/6\u001b[0m \u001b[32m━━━━━━━━━━━━━━━━━━━━\u001b[0m\u001b[37m\u001b[0m \u001b[1m0s\u001b[0m 16ms/step - loss: 0.0901 - mean_absolute_error: 0.2279 - val_loss: 0.1695 - val_mean_absolute_error: 0.2901\n",
      "Epoch 60/65\n",
      "\u001b[1m6/6\u001b[0m \u001b[32m━━━━━━━━━━━━━━━━━━━━\u001b[0m\u001b[37m\u001b[0m \u001b[1m0s\u001b[0m 20ms/step - loss: 0.0973 - mean_absolute_error: 0.2370 - val_loss: 0.1821 - val_mean_absolute_error: 0.2721\n",
      "Epoch 61/65\n",
      "\u001b[1m6/6\u001b[0m \u001b[32m━━━━━━━━━━━━━━━━━━━━\u001b[0m\u001b[37m\u001b[0m \u001b[1m0s\u001b[0m 13ms/step - loss: 0.0980 - mean_absolute_error: 0.2456 - val_loss: 0.1688 - val_mean_absolute_error: 0.2849\n",
      "Epoch 62/65\n",
      "\u001b[1m6/6\u001b[0m \u001b[32m━━━━━━━━━━━━━━━━━━━━\u001b[0m\u001b[37m\u001b[0m \u001b[1m0s\u001b[0m 18ms/step - loss: 0.1125 - mean_absolute_error: 0.2549 - val_loss: 0.1688 - val_mean_absolute_error: 0.2934\n",
      "Epoch 63/65\n",
      "\u001b[1m6/6\u001b[0m \u001b[32m━━━━━━━━━━━━━━━━━━━━\u001b[0m\u001b[37m\u001b[0m \u001b[1m0s\u001b[0m 18ms/step - loss: 0.1052 - mean_absolute_error: 0.2480 - val_loss: 0.1680 - val_mean_absolute_error: 0.2888\n",
      "Epoch 64/65\n",
      "\u001b[1m6/6\u001b[0m \u001b[32m━━━━━━━━━━━━━━━━━━━━\u001b[0m\u001b[37m\u001b[0m \u001b[1m0s\u001b[0m 19ms/step - loss: 0.1012 - mean_absolute_error: 0.2454 - val_loss: 0.1870 - val_mean_absolute_error: 0.2731\n",
      "Epoch 65/65\n",
      "\u001b[1m6/6\u001b[0m \u001b[32m━━━━━━━━━━━━━━━━━━━━\u001b[0m\u001b[37m\u001b[0m \u001b[1m0s\u001b[0m 14ms/step - loss: 0.1231 - mean_absolute_error: 0.2709 - val_loss: 0.1742 - val_mean_absolute_error: 0.2720\n",
      "WARNING:tensorflow:6 out of the last 6 calls to <function TensorFlowTrainer.make_predict_function.<locals>.one_step_on_data_distributed at 0x000002A1FFA123E0> triggered tf.function retracing. Tracing is expensive and the excessive number of tracings could be due to (1) creating @tf.function repeatedly in a loop, (2) passing tensors with different shapes, (3) passing Python objects instead of tensors. For (1), please define your @tf.function outside of the loop. For (2), @tf.function has reduce_retracing=True option that can avoid unnecessary retracing. For (3), please refer to https://www.tensorflow.org/guide/function#controlling_retracing and https://www.tensorflow.org/api_docs/python/tf/function for  more details.\n",
      "\u001b[1m1/1\u001b[0m \u001b[32m━━━━━━━━━━━━━━━━━━━━\u001b[0m\u001b[37m\u001b[0m \u001b[1m0s\u001b[0m 142ms/step\n"
     ]
    },
    {
     "data": {
      "image/png": "[encoded data removed]",
      "text/plain": [
       "<Figure size 1200x600 with 1 Axes>"
      ]
     },
     "metadata": {},
     "output_type": "display_data"
    },
    {
     "data": {
      "application/vnd.plotly.v1+json": {
       "config": {
        "plotlyServerURL": "https://plot.ly"
       },
       "data": [
        {
         "line": {
          "color": "orange"
         },
         "mode": "lines",
         "name": "Future Predictions",
         "type": "scatter",
         "x": [
          "2024-10-28T00:00:00",
          "2024-10-29T00:00:00",
          "2024-10-30T00:00:00",
          "2024-10-31T00:00:00",
          "2024-11-01T00:00:00",
          "2024-11-04T00:00:00",
          "2024-11-05T00:00:00",
          "2024-11-06T00:00:00",
          "2024-11-07T00:00:00",
          "2024-11-08T00:00:00",
          "2024-11-11T00:00:00",
          "2024-11-12T00:00:00",
          "2024-11-13T00:00:00",
          "2024-11-14T00:00:00",
          "2024-11-18T00:00:00",
          "2024-11-19T00:00:00",
          "2024-11-21T00:00:00",
          "2024-11-22T00:00:00",
          "2024-11-25T00:00:00",
          "2024-11-26T00:00:00",
          "2024-11-27T00:00:00",
          "2024-11-28T00:00:00",
          "2024-11-29T00:00:00"
         ],
         "y": [
          11.092870712280273,
          11.234142303466797,
          11.238986015319824,
          11.236503601074219,
          11.208524703979492,
          11.137319564819336,
          11.208414077758789,
          11.350035667419434,
          11.348119735717773,
          11.483661651611328,
          11.356833457946777,
          11.127338409423828,
          10.92740535736084,
          10.62779426574707,
          10.489821434020996,
          10.696601867675781,
          10.836384773254395,
          10.957748413085938,
          11.084648132324219,
          11.111953735351562,
          11.109312057495117,
          11.15884017944336,
          11.068180084228516
         ]
        },
        {
         "line": {
          "color": "blue"
         },
         "mode": "lines",
         "name": "Actual Prices",
         "type": "scatter",
         "x": [
          "2024-01-08T00:00:00-03:00",
          "2024-01-09T00:00:00-03:00",
          "2024-01-10T00:00:00-03:00",
          "2024-01-11T00:00:00-03:00",
          "2024-01-12T00:00:00-03:00",
          "2024-01-15T00:00:00-03:00",
          "2024-01-16T00:00:00-03:00",
          "2024-01-17T00:00:00-03:00",
          "2024-01-18T00:00:00-03:00",
          "2024-01-19T00:00:00-03:00",
          "2024-01-22T00:00:00-03:00",
          "2024-01-23T00:00:00-03:00",
          "2024-01-24T00:00:00-03:00",
          "2024-01-25T00:00:00-03:00",
          "2024-01-26T00:00:00-03:00",
          "2024-01-29T00:00:00-03:00",
          "2024-01-30T00:00:00-03:00",
          "2024-01-31T00:00:00-03:00",
          "2024-02-01T00:00:00-03:00",
          "2024-02-02T00:00:00-03:00",
          "2024-02-05T00:00:00-03:00",
          "2024-02-06T00:00:00-03:00",
          "2024-02-07T00:00:00-03:00",
          "2024-02-08T00:00:00-03:00",
          "2024-02-09T00:00:00-03:00",
          "2024-02-14T00:00:00-03:00",
          "2024-02-15T00:00:00-03:00",
          "2024-02-16T00:00:00-03:00",
          "2024-02-19T00:00:00-03:00",
          "2024-02-20T00:00:00-03:00",
          "2024-02-21T00:00:00-03:00",
          "2024-02-22T00:00:00-03:00",
          "2024-02-23T00:00:00-03:00",
          "2024-02-26T00:00:00-03:00",
          "2024-02-27T00:00:00-03:00",
          "2024-02-28T00:00:00-03:00",
          "2024-02-29T00:00:00-03:00",
          "2024-03-01T00:00:00-03:00",
          "2024-03-04T00:00:00-03:00",
          "2024-03-05T00:00:00-03:00",
          "2024-03-06T00:00:00-03:00",
          "2024-03-07T00:00:00-03:00",
          "2024-03-08T00:00:00-03:00",
          "2024-03-11T00:00:00-03:00",
          "2024-03-12T00:00:00-03:00",
          "2024-03-13T00:00:00-03:00",
          "2024-03-14T00:00:00-03:00",
          "2024-03-15T00:00:00-03:00",
          "2024-03-18T00:00:00-03:00",
          "2024-03-19T00:00:00-03:00",
          "2024-03-20T00:00:00-03:00",
          "2024-03-21T00:00:00-03:00",
          "2024-03-22T00:00:00-03:00",
          "2024-03-25T00:00:00-03:00",
          "2024-03-26T00:00:00-03:00",
          "2024-03-27T00:00:00-03:00",
          "2024-03-28T00:00:00-03:00",
          "2024-04-01T00:00:00-03:00",
          "2024-04-02T00:00:00-03:00",
          "2024-04-03T00:00:00-03:00",
          "2024-04-04T00:00:00-03:00",
          "2024-04-05T00:00:00-03:00",
          "2024-04-08T00:00:00-03:00",
          "2024-04-09T00:00:00-03:00",
          "2024-04-10T00:00:00-03:00",
          "2024-04-11T00:00:00-03:00",
          "2024-04-12T00:00:00-03:00",
          "2024-04-15T00:00:00-03:00",
          "2024-04-16T00:00:00-03:00",
          "2024-04-17T00:00:00-03:00",
          "2024-04-18T00:00:00-03:00",
          "2024-04-19T00:00:00-03:00",
          "2024-04-22T00:00:00-03:00",
          "2024-04-23T00:00:00-03:00",
          "2024-04-24T00:00:00-03:00",
          "2024-04-25T00:00:00-03:00",
          "2024-04-26T00:00:00-03:00",
          "2024-04-29T00:00:00-03:00",
          "2024-04-30T00:00:00-03:00",
          "2024-05-02T00:00:00-03:00",
          "2024-05-03T00:00:00-03:00",
          "2024-05-06T00:00:00-03:00",
          "2024-05-07T00:00:00-03:00",
          "2024-05-08T00:00:00-03:00",
          "2024-05-09T00:00:00-03:00",
          "2024-05-10T00:00:00-03:00",
          "2024-05-13T00:00:00-03:00",
          "2024-05-14T00:00:00-03:00",
          "2024-05-15T00:00:00-03:00",
          "2024-05-16T00:00:00-03:00",
          "2024-05-17T00:00:00-03:00",
          "2024-05-20T00:00:00-03:00",
          "2024-05-21T00:00:00-03:00",
          "2024-05-22T00:00:00-03:00",
          "2024-05-23T00:00:00-03:00",
          "2024-05-24T00:00:00-03:00",
          "2024-05-27T00:00:00-03:00",
          "2024-05-28T00:00:00-03:00",
          "2024-05-29T00:00:00-03:00",
          "2024-05-31T00:00:00-03:00",
          "2024-06-03T00:00:00-03:00",
          "2024-06-04T00:00:00-03:00",
          "2024-06-05T00:00:00-03:00",
          "2024-06-06T00:00:00-03:00",
          "2024-06-07T00:00:00-03:00",
          "2024-06-10T00:00:00-03:00",
          "2024-06-11T00:00:00-03:00",
          "2024-06-12T00:00:00-03:00",
          "2024-06-13T00:00:00-03:00",
          "2024-06-14T00:00:00-03:00",
          "2024-06-17T00:00:00-03:00",
          "2024-06-18T00:00:00-03:00",
          "2024-06-19T00:00:00-03:00",
          "2024-06-20T00:00:00-03:00",
          "2024-06-21T00:00:00-03:00",
          "2024-06-24T00:00:00-03:00",
          "2024-06-25T00:00:00-03:00",
          "2024-06-26T00:00:00-03:00",
          "2024-06-27T00:00:00-03:00",
          "2024-06-28T00:00:00-03:00",
          "2024-07-01T00:00:00-03:00",
          "2024-07-02T00:00:00-03:00",
          "2024-07-03T00:00:00-03:00",
          "2024-07-04T00:00:00-03:00",
          "2024-07-05T00:00:00-03:00",
          "2024-07-08T00:00:00-03:00",
          "2024-07-09T00:00:00-03:00",
          "2024-07-10T00:00:00-03:00",
          "2024-07-11T00:00:00-03:00",
          "2024-07-12T00:00:00-03:00",
          "2024-07-15T00:00:00-03:00",
          "2024-07-16T00:00:00-03:00",
          "2024-07-17T00:00:00-03:00",
          "2024-07-18T00:00:00-03:00",
          "2024-07-19T00:00:00-03:00",
          "2024-07-22T00:00:00-03:00",
          "2024-07-23T00:00:00-03:00",
          "2024-07-24T00:00:00-03:00",
          "2024-07-25T00:00:00-03:00",
          "2024-07-26T00:00:00-03:00",
          "2024-07-29T00:00:00-03:00",
          "2024-07-30T00:00:00-03:00",
          "2024-07-31T00:00:00-03:00",
          "2024-08-01T00:00:00-03:00",
          "2024-08-02T00:00:00-03:00",
          "2024-08-05T00:00:00-03:00",
          "2024-08-06T00:00:00-03:00",
          "2024-08-07T00:00:00-03:00",
          "2024-08-08T00:00:00-03:00",
          "2024-08-09T00:00:00-03:00",
          "2024-08-12T00:00:00-03:00",
          "2024-08-13T00:00:00-03:00",
          "2024-08-14T00:00:00-03:00",
          "2024-08-15T00:00:00-03:00",
          "2024-08-16T00:00:00-03:00",
          "2024-08-19T00:00:00-03:00",
          "2024-08-20T00:00:00-03:00",
          "2024-08-21T00:00:00-03:00",
          "2024-08-22T00:00:00-03:00",
          "2024-08-23T00:00:00-03:00",
          "2024-08-26T00:00:00-03:00",
          "2024-08-27T00:00:00-03:00",
          "2024-08-28T00:00:00-03:00",
          "2024-08-29T00:00:00-03:00",
          "2024-08-30T00:00:00-03:00",
          "2024-09-02T00:00:00-03:00",
          "2024-09-03T00:00:00-03:00",
          "2024-09-04T00:00:00-03:00",
          "2024-09-05T00:00:00-03:00",
          "2024-09-06T00:00:00-03:00",
          "2024-09-09T00:00:00-03:00",
          "2024-09-10T00:00:00-03:00",
          "2024-09-11T00:00:00-03:00",
          "2024-09-12T00:00:00-03:00",
          "2024-09-13T00:00:00-03:00",
          "2024-09-16T00:00:00-03:00",
          "2024-09-17T00:00:00-03:00",
          "2024-09-18T00:00:00-03:00",
          "2024-09-19T00:00:00-03:00",
          "2024-09-20T00:00:00-03:00",
          "2024-09-23T00:00:00-03:00",
          "2024-09-24T00:00:00-03:00",
          "2024-09-25T00:00:00-03:00",
          "2024-09-26T00:00:00-03:00",
          "2024-09-27T00:00:00-03:00",
          "2024-09-30T00:00:00-03:00",
          "2024-10-01T00:00:00-03:00",
          "2024-10-02T00:00:00-03:00",
          "2024-10-03T00:00:00-03:00",
          "2024-10-04T00:00:00-03:00",
          "2024-10-07T00:00:00-03:00",
          "2024-10-08T00:00:00-03:00",
          "2024-10-09T00:00:00-03:00",
          "2024-10-10T00:00:00-03:00",
          "2024-10-11T00:00:00-03:00",
          "2024-10-14T00:00:00-03:00",
          "2024-10-15T00:00:00-03:00",
          "2024-10-16T00:00:00-03:00",
          "2024-10-17T00:00:00-03:00",
          "2024-10-18T00:00:00-03:00",
          "2024-10-21T00:00:00-03:00",
          "2024-10-22T00:00:00-03:00",
          "2024-10-23T00:00:00-03:00",
          "2024-10-24T00:00:00-03:00",
          "2024-10-25T00:00:00-03:00",
          "2024-10-28T00:00:00-03:00",
          "2024-10-29T00:00:00-03:00",
          "2024-10-30T00:00:00-03:00",
          "2024-10-31T00:00:00-03:00",
          "2024-11-01T00:00:00-03:00",
          "2024-11-04T00:00:00-03:00",
          "2024-11-05T00:00:00-03:00",
          "2024-11-06T00:00:00-03:00",
          "2024-11-07T00:00:00-03:00",
          "2024-11-08T00:00:00-03:00",
          "2024-11-11T00:00:00-03:00",
          "2024-11-12T00:00:00-03:00",
          "2024-11-13T00:00:00-03:00",
          "2024-11-14T00:00:00-03:00",
          "2024-11-18T00:00:00-03:00",
          "2024-11-19T00:00:00-03:00",
          "2024-11-21T00:00:00-03:00",
          "2024-11-22T00:00:00-03:00",
          "2024-11-25T00:00:00-03:00",
          "2024-11-26T00:00:00-03:00",
          "2024-11-27T00:00:00-03:00",
          "2024-11-28T00:00:00-03:00"
         ],
         "y": [
          17.380847930908203,
          16.604351043701172,
          16.17095947265625,
          16.134843826293945,
          16.16193199157715,
          16.107757568359375,
          15.520872116088867,
          15.06942081451416,
          15.41252326965332,
          15.64727783203125,
          15.466696739196777,
          15.728538513183594,
          16.089698791503906,
          16.179988861083984,
          16.396686553955078,
          16.324453353881836,
          16.17095947265625,
          16.008438110351562,
          15.863974571228027,
          15.457669258117676,
          15.683395385742188,
          16.243192672729492,
          16.550180435180664,
          16.306394577026367,
          16.071640014648438,
          16.134843826293945,
          16.64046859741211,
          17.191240310668945,
          17.0828914642334,
          16.252220153808594,
          15.773682594299316,
          15.755626678466797,
          16.008438110351562,
          15.502814292907715,
          15.64727783203125,
          15.403493881225586,
          15.186797142028809,
          15.41252326965332,
          15.060392379760742,
          14.970101356506348,
          15.033304214477539,
          14.310983657836914,
          14.726318359375,
          14.4644775390625,
          14.626999855041504,
          14.690202713012695,
          14.139431953430176,
          13.77827262878418,
          14.184577941894531,
          14.437390327453613,
          14.726318359375,
          14.708261489868164,
          14.329041481018066,
          14.175548553466797,
          14.031085014343262,
          14.12137508392334,
          14.175548553466797,
          14.19360637664795,
          13.841475486755371,
          13.850504875183105,
          13.687981605529785,
          13.498373031616211,
          13.850504875183105,
          13.633808135986328,
          12.956632614135742,
          12.929544448852539,
          12.956632614135742,
          12.992748260498047,
          12.794109344482422,
          12.929544448852539,
          12.830225944519043,
          13.254590034484863,
          13.344879150390625,
          13.019835472106934,
          12.902458190917969,
          12.712848663330078,
          12.7489652633667,
          12.830225944519043,
          12.568385124206543,
          12.658675193786621,
          12.866342544555664,
          12.839255332946777,
          12.667703628540039,
          12.694790840148926,
          12.532268524169922,
          12.496152877807617,
          12.767023086547852,
          12.550326347351074,
          12.451693534851074,
          12.651605606079102,
          12.756321907043457,
          12.822959899902344,
          12.93719482421875,
          12.680164337158203,
          12.470732688903809,
          12.775361061096191,
          12.718242645263672,
          12.670645713806152,
          12.594487190246582,
          12.451693534851074,
          12.080427169799805,
          11.899554252624512,
          11.87099552154541,
          12.070907592773438,
          11.842435836791992,
          11.756759643554688,
          11.699641227722168,
          11.337894439697266,
          11.328374862670898,
          11.452130317687988,
          11.337894439697266,
          12.366016387939453,
          12.137544631958008,
          12.37553596496582,
          12.04234790802002,
          12.099466323852539,
          11.966191291809082,
          11.93763256072998,
          12.280339241027832,
          12.2898588180542,
          12.2898588180542,
          12.366016387939453,
          12.518330574035645,
          12.651605606079102,
          12.394576072692871,
          12.346977233886719,
          12.394576072692871,
          12.270820617675781,
          12.470732688903809,
          12.708724021911621,
          12.81343936920166,
          12.470732688903809,
          12.546890258789062,
          12.032829284667969,
          12.032829284667969,
          12.070907592773438,
          11.461649894714355,
          11.41405200958252,
          11.385493278503418,
          11.452130317687988,
          11.34741497039795,
          11.157022476196289,
          11.29029655456543,
          10.890471458435059,
          10.804795265197754,
          10.804795265197754,
          10.728638648986816,
          10.766716957092285,
          10.85239315032959,
          11.128462791442871,
          11.118943214416504,
          11.60444450378418,
          11.137982368469238,
          10.966629028320312,
          10.766716957092285,
          11.43309211730957,
          11.318856239318848,
          11.737719535827637,
          11.547327041625977,
          11.6615629196167,
          11.633004188537598,
          11.699641227722168,
          11.337894439697266,
          11.356934547424316,
          11.29029655456543,
          11.18558120727539,
          10.78575611114502,
          10.85239315032959,
          10.97614860534668,
          11.042786598205566,
          10.919031143188477,
          10.709598541259766,
          11.0332670211792,
          10.97614860534668,
          11.328374862670898,
          11.337894439697266,
          11.442611694335938,
          11.318856239318848,
          11.471170425415039,
          10.595362663269043,
          10.547764778137207,
          11.53780746459961,
          11.594925880432129,
          12.632567405700684,
          12.613527297973633,
          12.270820617675781,
          12.423134803771973,
          12.661125183105469,
          12.299379348754883,
          12.032829284667969,
          12.147065162658691,
          11.575885772705078,
          11.55684757232666,
          11.271257400512695,
          11.299816131591797,
          11.271257400512695,
          11.118943214416504,
          11.366453170776367,
          11.109423637390137,
          11.109423637390137,
          11.118943214416504,
          10.938069343566895,
          10.90951156616211,
          11.128462791442871,
          11.233179092407227,
          11.480690002441406,
          11.195100784301758,
          11.214138984680176,
          11.204620361328125,
          11.090383529663086,
          11.366453170776367,
          11.699641227722168,
          11.34741497039795,
          11.699641227722168,
          11.18558120727539,
          10.747676849365234,
          10.547764778137207,
          10.128900527954102,
          10.128900527954102,
          11.061824798583984,
          11.090383529663086,
          10.90951156616211,
          11.109999656677246,
          11.25,
          11.100000381469727,
          11.1899995803833,
          10.899999618530273
         ]
        }
       ],
       "layout": {
        "height": 600,
        "hovermode": "x unified",
        "legend": {
         "x": 0,
         "y": 1
        },
        "template": {
         "data": {
          "bar": [
           {
            "error_x": {
             "color": "#f2f5fa"
            },
            "error_y": {
             "color": "#f2f5fa"
            },
            "marker": {
             "line": {
              "color": "rgb(17,17,17)",
              "width": 0.5
             },
             "pattern": {
              "fillmode": "overlay",
              "size": 10,
              "solidity": 0.2
             }
            },
            "type": "bar"
           }
          ],
          "barpolar": [
           {
            "marker": {
             "line": {
              "color": "rgb(17,17,17)",
              "width": 0.5
             },
             "pattern": {
              "fillmode": "overlay",
              "size": 10,
              "solidity": 0.2
             }
            },
            "type": "barpolar"
           }
          ],
          "carpet": [
           {
            "aaxis": {
             "endlinecolor": "#A2B1C6",
             "gridcolor": "#506784",
             "linecolor": "#506784",
             "minorgridcolor": "#506784",
             "startlinecolor": "#A2B1C6"
            },
            "baxis": {
             "endlinecolor": "#A2B1C6",
             "gridcolor": "#506784",
             "linecolor": "#506784",
             "minorgridcolor": "#506784",
             "startlinecolor": "#A2B1C6"
            },
            "type": "carpet"
           }
          ],
          "choropleth": [
           {
            "colorbar": {
             "outlinewidth": 0,
             "ticks": ""
            },
            "type": "choropleth"
           }
          ],
          "contour": [
           {
            "colorbar": {
             "outlinewidth": 0,
             "ticks": ""
            },
            "colorscale": [
             [
              0,
              "#0d0887"
             ],
             [
              0.1111111111111111,
              "#46039f"
             ],
             [
              0.2222222222222222,
              "#7201a8"
             ],
             [
              0.3333333333333333,
              "#9c179e"
             ],
             [
              0.4444444444444444,
              "#bd3786"
             ],
             [
              0.5555555555555556,
              "#d8576b"
             ],
             [
              0.6666666666666666,
              "#ed7953"
             ],
             [
              0.7777777777777778,
              "#fb9f3a"
             ],
             [
              0.8888888888888888,
              "#fdca26"
             ],
             [
              1,
              "#f0f921"
             ]
            ],
            "type": "contour"
           }
          ],
          "contourcarpet": [
           {
            "colorbar": {
             "outlinewidth": 0,
             "ticks": ""
            },
            "type": "contourcarpet"
           }
          ],
          "heatmap": [
           {
            "colorbar": {
             "outlinewidth": 0,
             "ticks": ""
            },
            "colorscale": [
             [
              0,
              "#0d0887"
             ],
             [
              0.1111111111111111,
              "#46039f"
             ],
             [
              0.2222222222222222,
              "#7201a8"
             ],
             [
              0.3333333333333333,
              "#9c179e"
             ],
             [
              0.4444444444444444,
              "#bd3786"
             ],
             [
              0.5555555555555556,
              "#d8576b"
             ],
             [
              0.6666666666666666,
              "#ed7953"
             ],
             [
              0.7777777777777778,
              "#fb9f3a"
             ],
             [
              0.8888888888888888,
              "#fdca26"
             ],
             [
              1,
              "#f0f921"
             ]
            ],
            "type": "heatmap"
           }
          ],
          "heatmapgl": [
           {
            "colorbar": {
             "outlinewidth": 0,
             "ticks": ""
            },
            "colorscale": [
             [
              0,
              "#0d0887"
             ],
             [
              0.1111111111111111,
              "#46039f"
             ],
             [
              0.2222222222222222,
              "#7201a8"
             ],
             [
              0.3333333333333333,
              "#9c179e"
             ],
             [
              0.4444444444444444,
              "#bd3786"
             ],
             [
              0.5555555555555556,
              "#d8576b"
             ],
             [
              0.6666666666666666,
              "#ed7953"
             ],
             [
              0.7777777777777778,
              "#fb9f3a"
             ],
             [
              0.8888888888888888,
              "#fdca26"
             ],
             [
              1,
              "#f0f921"
             ]
            ],
            "type": "heatmapgl"
           }
          ],
          "histogram": [
           {
            "marker": {
             "pattern": {
              "fillmode": "overlay",
              "size": 10,
              "solidity": 0.2
             }
            },
            "type": "histogram"
           }
          ],
          "histogram2d": [
           {
            "colorbar": {
             "outlinewidth": 0,
             "ticks": ""
            },
            "colorscale": [
             [
              0,
              "#0d0887"
             ],
             [
              0.1111111111111111,
              "#46039f"
             ],
             [
              0.2222222222222222,
              "#7201a8"
             ],
             [
              0.3333333333333333,
              "#9c179e"
             ],
             [
              0.4444444444444444,
              "#bd3786"
             ],
             [
              0.5555555555555556,
              "#d8576b"
             ],
             [
              0.6666666666666666,
              "#ed7953"
             ],
             [
              0.7777777777777778,
              "#fb9f3a"
             ],
             [
              0.8888888888888888,
              "#fdca26"
             ],
             [
              1,
              "#f0f921"
             ]
            ],
            "type": "histogram2d"
           }
          ],
          "histogram2dcontour": [
           {
            "colorbar": {
             "outlinewidth": 0,
             "ticks": ""
            },
            "colorscale": [
             [
              0,
              "#0d0887"
             ],
             [
              0.1111111111111111,
              "#46039f"
             ],
             [
              0.2222222222222222,
              "#7201a8"
             ],
             [
              0.3333333333333333,
              "#9c179e"
             ],
             [
              0.4444444444444444,
              "#bd3786"
             ],
             [
              0.5555555555555556,
              "#d8576b"
             ],
             [
              0.6666666666666666,
              "#ed7953"
             ],
             [
              0.7777777777777778,
              "#fb9f3a"
             ],
             [
              0.8888888888888888,
              "#fdca26"
             ],
             [
              1,
              "#f0f921"
             ]
            ],
            "type": "histogram2dcontour"
           }
          ],
          "mesh3d": [
           {
            "colorbar": {
             "outlinewidth": 0,
             "ticks": ""
            },
            "type": "mesh3d"
           }
          ],
          "parcoords": [
           {
            "line": {
             "colorbar": {
              "outlinewidth": 0,
              "ticks": ""
             }
            },
            "type": "parcoords"
           }
          ],
          "pie": [
           {
            "automargin": true,
            "type": "pie"
           }
          ],
          "scatter": [
           {
            "marker": {
             "line": {
              "color": "#283442"
             }
            },
            "type": "scatter"
           }
          ],
          "scatter3d": [
           {
            "line": {
             "colorbar": {
              "outlinewidth": 0,
              "ticks": ""
             }
            },
            "marker": {
             "colorbar": {
              "outlinewidth": 0,
              "ticks": ""
             }
            },
            "type": "scatter3d"
           }
          ],
          "scattercarpet": [
           {
            "marker": {
             "colorbar": {
              "outlinewidth": 0,
              "ticks": ""
             }
            },
            "type": "scattercarpet"
           }
          ],
          "scattergeo": [
           {
            "marker": {
             "colorbar": {
              "outlinewidth": 0,
              "ticks": ""
             }
            },
            "type": "scattergeo"
           }
          ],
          "scattergl": [
           {
            "marker": {
             "line": {
              "color": "#283442"
             }
            },
            "type": "scattergl"
           }
          ],
          "scattermapbox": [
           {
            "marker": {
             "colorbar": {
              "outlinewidth": 0,
              "ticks": ""
             }
            },
            "type": "scattermapbox"
           }
          ],
          "scatterpolar": [
           {
            "marker": {
             "colorbar": {
              "outlinewidth": 0,
              "ticks": ""
             }
            },
            "type": "scatterpolar"
           }
          ],
          "scatterpolargl": [
           {
            "marker": {
             "colorbar": {
              "outlinewidth": 0,
              "ticks": ""
             }
            },
            "type": "scatterpolargl"
           }
          ],
          "scatterternary": [
           {
            "marker": {
             "colorbar": {
              "outlinewidth": 0,
              "ticks": ""
             }
            },
            "type": "scatterternary"
           }
          ],
          "surface": [
           {
            "colorbar": {
             "outlinewidth": 0,
             "ticks": ""
            },
            "colorscale": [
             [
              0,
              "#0d0887"
             ],
             [
              0.1111111111111111,
              "#46039f"
             ],
             [
              0.2222222222222222,
              "#7201a8"
             ],
             [
              0.3333333333333333,
              "#9c179e"
             ],
             [
              0.4444444444444444,
              "#bd3786"
             ],
             [
              0.5555555555555556,
              "#d8576b"
             ],
             [
              0.6666666666666666,
              "#ed7953"
             ],
             [
              0.7777777777777778,
              "#fb9f3a"
             ],
             [
              0.8888888888888888,
              "#fdca26"
             ],
             [
              1,
              "#f0f921"
             ]
            ],
            "type": "surface"
           }
          ],
          "table": [
           {
            "cells": {
             "fill": {
              "color": "#506784"
             },
             "line": {
              "color": "rgb(17,17,17)"
             }
            },
            "header": {
             "fill": {
              "color": "#2a3f5f"
             },
             "line": {
              "color": "rgb(17,17,17)"
             }
            },
            "type": "table"
           }
          ]
         },
         "layout": {
          "annotationdefaults": {
           "arrowcolor": "#f2f5fa",
           "arrowhead": 0,
           "arrowwidth": 1
          },
          "autotypenumbers": "strict",
          "coloraxis": {
           "colorbar": {
            "outlinewidth": 0,
            "ticks": ""
           }
          },
          "colorscale": {
           "diverging": [
            [
             0,
             "#8e0152"
            ],
            [
             0.1,
             "#c51b7d"
            ],
            [
             0.2,
             "#de77ae"
            ],
            [
             0.3,
             "#f1b6da"
            ],
            [
             0.4,
             "#fde0ef"
            ],
            [
             0.5,
             "#f7f7f7"
            ],
            [
             0.6,
             "#e6f5d0"
            ],
            [
             0.7,
             "#b8e186"
            ],
            [
             0.8,
             "#7fbc41"
            ],
            [
             0.9,
             "#4d9221"
            ],
            [
             1,
             "#276419"
            ]
           ],
           "sequential": [
            [
             0,
             "#0d0887"
            ],
            [
             0.1111111111111111,
             "#46039f"
            ],
            [
             0.2222222222222222,
             "#7201a8"
            ],
            [
             0.3333333333333333,
             "#9c179e"
            ],
            [
             0.4444444444444444,
             "#bd3786"
            ],
            [
             0.5555555555555556,
             "#d8576b"
            ],
            [
             0.6666666666666666,
             "#ed7953"
            ],
            [
             0.7777777777777778,
             "#fb9f3a"
            ],
            [
             0.8888888888888888,
             "#fdca26"
            ],
            [
             1,
             "#f0f921"
            ]
           ],
           "sequentialminus": [
            [
             0,
             "#0d0887"
            ],
            [
             0.1111111111111111,
             "#46039f"
            ],
            [
             0.2222222222222222,
             "#7201a8"
            ],
            [
             0.3333333333333333,
             "#9c179e"
            ],
            [
             0.4444444444444444,
             "#bd3786"
            ],
            [
             0.5555555555555556,
             "#d8576b"
            ],
            [
             0.6666666666666666,
             "#ed7953"
            ],
            [
             0.7777777777777778,
             "#fb9f3a"
            ],
            [
             0.8888888888888888,
             "#fdca26"
            ],
            [
             1,
             "#f0f921"
            ]
           ]
          },
          "colorway": [
           "#636efa",
           "#EF553B",
           "#00cc96",
           "#ab63fa",
           "#FFA15A",
           "#19d3f3",
           "#FF6692",
           "#B6E880",
           "#FF97FF",
           "#FECB52"
          ],
          "font": {
           "color": "#f2f5fa"
          },
          "geo": {
           "bgcolor": "rgb(17,17,17)",
           "lakecolor": "rgb(17,17,17)",
           "landcolor": "rgb(17,17,17)",
           "showlakes": true,
           "showland": true,
           "subunitcolor": "#506784"
          },
          "hoverlabel": {
           "align": "left"
          },
          "hovermode": "closest",
          "mapbox": {
           "style": "dark"
          },
          "paper_bgcolor": "rgb(17,17,17)",
          "plot_bgcolor": "rgb(17,17,17)",
          "polar": {
           "angularaxis": {
            "gridcolor": "#506784",
            "linecolor": "#506784",
            "ticks": ""
           },
           "bgcolor": "rgb(17,17,17)",
           "radialaxis": {
            "gridcolor": "#506784",
            "linecolor": "#506784",
            "ticks": ""
           }
          },
          "scene": {
           "xaxis": {
            "backgroundcolor": "rgb(17,17,17)",
            "gridcolor": "#506784",
            "gridwidth": 2,
            "linecolor": "#506784",
            "showbackground": true,
            "ticks": "",
            "zerolinecolor": "#C8D4E3"
           },
           "yaxis": {
            "backgroundcolor": "rgb(17,17,17)",
            "gridcolor": "#506784",
            "gridwidth": 2,
            "linecolor": "#506784",
            "showbackground": true,
            "ticks": "",
            "zerolinecolor": "#C8D4E3"
           },
           "zaxis": {
            "backgroundcolor": "rgb(17,17,17)",
            "gridcolor": "#506784",
            "gridwidth": 2,
            "linecolor": "#506784",
            "showbackground": true,
            "ticks": "",
            "zerolinecolor": "#C8D4E3"
           }
          },
          "shapedefaults": {
           "line": {
            "color": "#f2f5fa"
           }
          },
          "sliderdefaults": {
           "bgcolor": "#C8D4E3",
           "bordercolor": "rgb(17,17,17)",
           "borderwidth": 1,
           "tickwidth": 0
          },
          "ternary": {
           "aaxis": {
            "gridcolor": "#506784",
            "linecolor": "#506784",
            "ticks": ""
           },
           "baxis": {
            "gridcolor": "#506784",
            "linecolor": "#506784",
            "ticks": ""
           },
           "bgcolor": "rgb(17,17,17)",
           "caxis": {
            "gridcolor": "#506784",
            "linecolor": "#506784",
            "ticks": ""
           }
          },
          "title": {
           "x": 0.05
          },
          "updatemenudefaults": {
           "bgcolor": "#506784",
           "borderwidth": 0
          },
          "xaxis": {
           "automargin": true,
           "gridcolor": "#283442",
           "linecolor": "#506784",
           "ticks": "",
           "title": {
            "standoff": 15
           },
           "zerolinecolor": "#283442",
           "zerolinewidth": 2
          },
          "yaxis": {
           "automargin": true,
           "gridcolor": "#283442",
           "linecolor": "#506784",
           "ticks": "",
           "title": {
            "standoff": 15
           },
           "zerolinecolor": "#283442",
           "zerolinewidth": 2
          }
         }
        },
        "title": {
         "text": "Comparação entre Previsões e Preços Reais"
        },
        "width": 1000,
        "xaxis": {
         "title": {
          "text": "Data"
         }
        },
        "yaxis": {
         "title": {
          "text": "Preço Fechamento"
         }
        }
       }
      }
     },
     "metadata": {},
     "output_type": "display_data"
    }
   ],
   "source": [
    "import pandas as pd\n",
    "import numpy as np\n",
    "import datetime\n",
    "import yfinance as yf\n",
    "import matplotlib.pyplot as plt\n",
    "from tensorflow.keras.models import Sequential\n",
    "from tensorflow.keras.optimizers import Adam\n",
    "from tensorflow.keras import layers\n",
    "# Buscar preços reais\n",
    "import plotly.graph_objects as go\n",
    "\n",
    "\n",
    "# Função para converter string em datetime\n",
    "def str_to_datetime(s):\n",
    "    split = s.split('-')\n",
    "    year, month, day = int(split[0]), int(split[1]), int(split[2])\n",
    "    return datetime.datetime(year=year, month=month, day=day)\n",
    "\n",
    "\n",
    "# Função para criar janelas de dados\n",
    "def df_to_windowed_df(dataframe, first_date_str, last_date_str, n):\n",
    "    first_date = str_to_datetime(first_date_str)\n",
    "    last_date = str_to_datetime(last_date_str)\n",
    "\n",
    "    target_date = first_date\n",
    "    dates = []\n",
    "    X, Y = [], []\n",
    "\n",
    "    last_time = False\n",
    "    while True:\n",
    "        df_subset = dataframe.loc[:target_date].tail(n + 1)\n",
    "\n",
    "        if len(df_subset) != n + 1:\n",
    "            print(f'Erro: Janela de tamanho {n} é muito grande para a data {target_date}')\n",
    "            return None\n",
    "\n",
    "        values = df_subset['Close'].to_numpy()\n",
    "        x, y = values[:-1], values[-1]\n",
    "\n",
    "        dates.append(target_date)\n",
    "        X.append(x)\n",
    "        Y.append(y)\n",
    "\n",
    "        next_week = dataframe.loc[target_date:target_date + datetime.timedelta(days=7)]\n",
    "        if len(next_week) < 2:\n",
    "            break\n",
    "\n",
    "        next_datetime_str = str(next_week.head(2).tail(1).index.values[0])\n",
    "        next_date_str = next_datetime_str.split('T')[0]\n",
    "        year, month, day = map(int, next_date_str.split('-'))\n",
    "        next_date = datetime.datetime(year=year, month=month, day=day)\n",
    "\n",
    "        if last_time:\n",
    "            break\n",
    "\n",
    "        target_date = next_date\n",
    "        if target_date == last_date:\n",
    "            last_time = True\n",
    "\n",
    "    ret_df = pd.DataFrame({})\n",
    "    ret_df['Target Date'] = dates\n",
    "\n",
    "    X = np.array(X)\n",
    "    for i in range(n):\n",
    "        ret_df[f'Target-{n-i}'] = X[:, i]\n",
    "\n",
    "    ret_df['Target'] = Y\n",
    "\n",
    "    return ret_df\n",
    "\n",
    "def adjust_dates_to_available(df, start_date, end_date):\n",
    "    if start_date not in df.index:\n",
    "        start_date = df.index[df.index.get_indexer([start_date], method='nearest')[0]]\n",
    "        print(f'Data inicial ajustada para {start_date}')\n",
    "\n",
    "    if end_date not in df.index:\n",
    "        end_date = df.index[df.index.get_indexer([end_date], method='nearest')[0]]\n",
    "        print(f'Data final ajustada para {end_date}')\n",
    "    \n",
    "    return start_date, end_date\n",
    "\n",
    "# Função para converter janela para entrada do modelo\n",
    "def windowed_df_to_date_X_y(windowed_dataframe):\n",
    "    if windowed_dataframe is None or windowed_dataframe.empty:\n",
    "        raise ValueError(\"O DataFrame de janela está vazio ou é None. Verifique as entradas.\")\n",
    "\n",
    "    df_as_np = windowed_dataframe.to_numpy()\n",
    "    dates = df_as_np[:, 0]\n",
    "    middle_matrix = df_as_np[:, 1:-1]\n",
    "    X = middle_matrix.reshape((len(dates), middle_matrix.shape[1], 1))\n",
    "    Y = df_as_np[:, -1]\n",
    "\n",
    "    return dates, X.astype(np.float32), Y.astype(np.float32)\n",
    "\n",
    "\n",
    "# Treinamento do modelo\n",
    "def train_model(ticker, start_date, end_date, window_size):\n",
    "    df = yf.Ticker(ticker).history(period='max')\n",
    "    df = df[['Close']]\n",
    "    \n",
    "    # Garantir que o índice seja datetime sem timezone e sem hora\n",
    "    df.index = pd.to_datetime(df.index).tz_convert(None).normalize()\n",
    "\n",
    "    # Garantir que start_date e end_date também estejam normalizadas\n",
    "    start_date = pd.to_datetime(start_date).normalize()\n",
    "    end_date = pd.to_datetime(end_date).normalize()\n",
    "\n",
    "    start_date, end_date = adjust_dates_to_available(df, start_date, end_date)\n",
    "\n",
    "    windowed_df = df_to_windowed_df(df, start_date.strftime('%Y-%m-%d'), end_date.strftime('%Y-%m-%d'), n=window_size)\n",
    "\n",
    "    if windowed_df is None or windowed_df.empty:\n",
    "        raise ValueError(\"Erro: df_to_windowed_df retornou um DataFrame vazio ou None.\")\n",
    "\n",
    "    dates, X, y = windowed_df_to_date_X_y(windowed_df)\n",
    "\n",
    "    q_80 = int(len(dates) * .8)\n",
    "    q_90 = int(len(dates) * .9)\n",
    "\n",
    "    dates_train, X_train, y_train = dates[:q_80], X[:q_80], y[:q_80]\n",
    "    dates_val, X_val, y_val = dates[q_80:q_90], X[q_80:q_90], y[q_80:q_90]\n",
    "    dates_test, X_test, y_test = dates[q_90:], X[q_90:], y[q_90:]\n",
    "\n",
    "    model = Sequential([\n",
    "        layers.Input((window_size, 1)),\n",
    "        layers.LSTM(70),\n",
    "        layers.Dense(32, activation='relu'),\n",
    "        layers.Dense(32, activation='relu'),\n",
    "        layers.Dense(1)\n",
    "    ])\n",
    "\n",
    "    model.compile(loss='mse',\n",
    "                  optimizer=Adam(learning_rate=0.001),\n",
    "                  metrics=['mean_absolute_error'])\n",
    "\n",
    "    model.fit(X_train, y_train, validation_data=(X_val, y_val), epochs=65)\n",
    "\n",
    "    return model, dates_test, X_test\n",
    "\n",
    "\n",
    "# Parâmetros do modelo\n",
    "ticker = 'CSNA3.SA'\n",
    "start_date = '2024-01-08'\n",
    "end_date = '2024-11-29'\n",
    "window_size = 5\n",
    "\n",
    "# Treinamento do modelo\n",
    "model, dates_test, X_test = train_model(ticker, start_date, end_date, window_size)\n",
    "\n",
    "# Predições para datas futuras\n",
    "future_predictions = model.predict(X_test).flatten()\n",
    "\n",
    "# Plot das previsões futuras\n",
    "plt.figure(figsize=(12, 6))\n",
    "plt.plot(dates_test, future_predictions, label='Future Predictions', color='orange')\n",
    "plt.title('Previsões Futuras do Modelo')\n",
    "plt.xlabel('Data')\n",
    "plt.ylabel('Preço Fechamento Previsto')\n",
    "plt.legend()\n",
    "plt.show()\n",
    "#=============== in case you have the data\n",
    "def get_actual_prices(ticker, start_date, end_date):\n",
    "    df = yf.Ticker(ticker).history(start=start_date, end=end_date)\n",
    "    df = df[['Close']]\n",
    "    df.index = pd.to_datetime(df.index).normalize()\n",
    "    return df\n",
    "\n",
    "\n",
    "# Buscar preços reais\n",
    "actual_prices_df = get_actual_prices(ticker, start_date, end_date)\n",
    "actual_dates = actual_prices_df.index\n",
    "actual_prices = actual_prices_df['Close'].to_numpy()\n",
    "\n",
    "# Plot com Plotly\n",
    "fig = go.Figure()\n",
    "\n",
    "# Adicionar previsões futuras\n",
    "fig.add_trace(go.Scatter(\n",
    "    x=dates_test,\n",
    "    y=future_predictions,\n",
    "    mode='lines',\n",
    "    name='Future Predictions',\n",
    "    line=dict(color='orange')\n",
    "))\n",
    "\n",
    "# Adicionar preços reais\n",
    "fig.add_trace(go.Scatter(\n",
    "    x=actual_dates,\n",
    "    y=actual_prices,\n",
    "    mode='lines',\n",
    "    name='Actual Prices',\n",
    "    line=dict(color='blue')\n",
    "))\n",
    "\n",
    "# Layout do gráfico\n",
    "fig.update_layout(\n",
    "    title='Comparação entre Previsões e Preços Reais',\n",
    "    xaxis_title='Data',\n",
    "    yaxis_title='Preço Fechamento',\n",
    "    legend=dict(x=0, y=1),\n",
    "    template='plotly_dark',\n",
    "    hovermode='x unified',\n",
    "    width=1000,\n",
    "    height=600\n",
    ")\n",
    "\n",
    "# Mostrar gráfico\n",
    "fig.show()\n"
   ]
  },
  {
   "cell_type": "code",
   "execution_count": 8,
   "metadata": {},
   "outputs": [
    {
     "data": {
      "text/plain": [
       "array([Timestamp('2024-01-08 00:00:00-0300', tz='America/Sao_Paulo'),\n",
       "       Timestamp('2024-01-09 00:00:00-0300', tz='America/Sao_Paulo'),\n",
       "       Timestamp('2024-01-10 00:00:00-0300', tz='America/Sao_Paulo'),\n",
       "       Timestamp('2024-01-11 00:00:00-0300', tz='America/Sao_Paulo'),\n",
       "       Timestamp('2024-01-12 00:00:00-0300', tz='America/Sao_Paulo'),\n",
       "       Timestamp('2024-01-15 00:00:00-0300', tz='America/Sao_Paulo'),\n",
       "       Timestamp('2024-01-16 00:00:00-0300', tz='America/Sao_Paulo'),\n",
       "       Timestamp('2024-01-17 00:00:00-0300', tz='America/Sao_Paulo'),\n",
       "       Timestamp('2024-01-18 00:00:00-0300', tz='America/Sao_Paulo'),\n",
       "       Timestamp('2024-01-19 00:00:00-0300', tz='America/Sao_Paulo'),\n",
       "       Timestamp('2024-01-22 00:00:00-0300', tz='America/Sao_Paulo'),\n",
       "       Timestamp('2024-01-23 00:00:00-0300', tz='America/Sao_Paulo'),\n",
       "       Timestamp('2024-01-24 00:00:00-0300', tz='America/Sao_Paulo'),\n",
       "       Timestamp('2024-01-25 00:00:00-0300', tz='America/Sao_Paulo'),\n",
       "       Timestamp('2024-01-26 00:00:00-0300', tz='America/Sao_Paulo'),\n",
       "       Timestamp('2024-01-29 00:00:00-0300', tz='America/Sao_Paulo'),\n",
       "       Timestamp('2024-01-30 00:00:00-0300', tz='America/Sao_Paulo'),\n",
       "       Timestamp('2024-01-31 00:00:00-0300', tz='America/Sao_Paulo'),\n",
       "       Timestamp('2024-02-01 00:00:00-0300', tz='America/Sao_Paulo'),\n",
       "       Timestamp('2024-02-02 00:00:00-0300', tz='America/Sao_Paulo'),\n",
       "       Timestamp('2024-02-05 00:00:00-0300', tz='America/Sao_Paulo'),\n",
       "       Timestamp('2024-02-06 00:00:00-0300', tz='America/Sao_Paulo'),\n",
       "       Timestamp('2024-02-07 00:00:00-0300', tz='America/Sao_Paulo'),\n",
       "       Timestamp('2024-02-08 00:00:00-0300', tz='America/Sao_Paulo'),\n",
       "       Timestamp('2024-02-09 00:00:00-0300', tz='America/Sao_Paulo'),\n",
       "       Timestamp('2024-02-14 00:00:00-0300', tz='America/Sao_Paulo'),\n",
       "       Timestamp('2024-02-15 00:00:00-0300', tz='America/Sao_Paulo'),\n",
       "       Timestamp('2024-02-16 00:00:00-0300', tz='America/Sao_Paulo'),\n",
       "       Timestamp('2024-02-19 00:00:00-0300', tz='America/Sao_Paulo'),\n",
       "       Timestamp('2024-02-20 00:00:00-0300', tz='America/Sao_Paulo'),\n",
       "       Timestamp('2024-02-21 00:00:00-0300', tz='America/Sao_Paulo'),\n",
       "       Timestamp('2024-02-22 00:00:00-0300', tz='America/Sao_Paulo'),\n",
       "       Timestamp('2024-02-23 00:00:00-0300', tz='America/Sao_Paulo'),\n",
       "       Timestamp('2024-02-26 00:00:00-0300', tz='America/Sao_Paulo'),\n",
       "       Timestamp('2024-02-27 00:00:00-0300', tz='America/Sao_Paulo'),\n",
       "       Timestamp('2024-02-28 00:00:00-0300', tz='America/Sao_Paulo'),\n",
       "       Timestamp('2024-02-29 00:00:00-0300', tz='America/Sao_Paulo'),\n",
       "       Timestamp('2024-03-01 00:00:00-0300', tz='America/Sao_Paulo'),\n",
       "       Timestamp('2024-03-04 00:00:00-0300', tz='America/Sao_Paulo'),\n",
       "       Timestamp('2024-03-05 00:00:00-0300', tz='America/Sao_Paulo'),\n",
       "       Timestamp('2024-03-06 00:00:00-0300', tz='America/Sao_Paulo'),\n",
       "       Timestamp('2024-03-07 00:00:00-0300', tz='America/Sao_Paulo'),\n",
       "       Timestamp('2024-03-08 00:00:00-0300', tz='America/Sao_Paulo'),\n",
       "       Timestamp('2024-03-11 00:00:00-0300', tz='America/Sao_Paulo'),\n",
       "       Timestamp('2024-03-12 00:00:00-0300', tz='America/Sao_Paulo'),\n",
       "       Timestamp('2024-03-13 00:00:00-0300', tz='America/Sao_Paulo'),\n",
       "       Timestamp('2024-03-14 00:00:00-0300', tz='America/Sao_Paulo'),\n",
       "       Timestamp('2024-03-15 00:00:00-0300', tz='America/Sao_Paulo'),\n",
       "       Timestamp('2024-03-18 00:00:00-0300', tz='America/Sao_Paulo'),\n",
       "       Timestamp('2024-03-19 00:00:00-0300', tz='America/Sao_Paulo'),\n",
       "       Timestamp('2024-03-20 00:00:00-0300', tz='America/Sao_Paulo'),\n",
       "       Timestamp('2024-03-21 00:00:00-0300', tz='America/Sao_Paulo'),\n",
       "       Timestamp('2024-03-22 00:00:00-0300', tz='America/Sao_Paulo'),\n",
       "       Timestamp('2024-03-25 00:00:00-0300', tz='America/Sao_Paulo'),\n",
       "       Timestamp('2024-03-26 00:00:00-0300', tz='America/Sao_Paulo'),\n",
       "       Timestamp('2024-03-27 00:00:00-0300', tz='America/Sao_Paulo'),\n",
       "       Timestamp('2024-03-28 00:00:00-0300', tz='America/Sao_Paulo'),\n",
       "       Timestamp('2024-04-01 00:00:00-0300', tz='America/Sao_Paulo'),\n",
       "       Timestamp('2024-04-02 00:00:00-0300', tz='America/Sao_Paulo'),\n",
       "       Timestamp('2024-04-03 00:00:00-0300', tz='America/Sao_Paulo'),\n",
       "       Timestamp('2024-04-04 00:00:00-0300', tz='America/Sao_Paulo'),\n",
       "       Timestamp('2024-04-05 00:00:00-0300', tz='America/Sao_Paulo'),\n",
       "       Timestamp('2024-04-08 00:00:00-0300', tz='America/Sao_Paulo'),\n",
       "       Timestamp('2024-04-09 00:00:00-0300', tz='America/Sao_Paulo'),\n",
       "       Timestamp('2024-04-10 00:00:00-0300', tz='America/Sao_Paulo'),\n",
       "       Timestamp('2024-04-11 00:00:00-0300', tz='America/Sao_Paulo'),\n",
       "       Timestamp('2024-04-12 00:00:00-0300', tz='America/Sao_Paulo'),\n",
       "       Timestamp('2024-04-15 00:00:00-0300', tz='America/Sao_Paulo'),\n",
       "       Timestamp('2024-04-16 00:00:00-0300', tz='America/Sao_Paulo'),\n",
       "       Timestamp('2024-04-17 00:00:00-0300', tz='America/Sao_Paulo'),\n",
       "       Timestamp('2024-04-18 00:00:00-0300', tz='America/Sao_Paulo'),\n",
       "       Timestamp('2024-04-19 00:00:00-0300', tz='America/Sao_Paulo'),\n",
       "       Timestamp('2024-04-22 00:00:00-0300', tz='America/Sao_Paulo'),\n",
       "       Timestamp('2024-04-23 00:00:00-0300', tz='America/Sao_Paulo'),\n",
       "       Timestamp('2024-04-24 00:00:00-0300', tz='America/Sao_Paulo'),\n",
       "       Timestamp('2024-04-25 00:00:00-0300', tz='America/Sao_Paulo'),\n",
       "       Timestamp('2024-04-26 00:00:00-0300', tz='America/Sao_Paulo'),\n",
       "       Timestamp('2024-04-29 00:00:00-0300', tz='America/Sao_Paulo'),\n",
       "       Timestamp('2024-04-30 00:00:00-0300', tz='America/Sao_Paulo'),\n",
       "       Timestamp('2024-05-02 00:00:00-0300', tz='America/Sao_Paulo'),\n",
       "       Timestamp('2024-05-03 00:00:00-0300', tz='America/Sao_Paulo'),\n",
       "       Timestamp('2024-05-06 00:00:00-0300', tz='America/Sao_Paulo'),\n",
       "       Timestamp('2024-05-07 00:00:00-0300', tz='America/Sao_Paulo'),\n",
       "       Timestamp('2024-05-08 00:00:00-0300', tz='America/Sao_Paulo'),\n",
       "       Timestamp('2024-05-09 00:00:00-0300', tz='America/Sao_Paulo'),\n",
       "       Timestamp('2024-05-10 00:00:00-0300', tz='America/Sao_Paulo'),\n",
       "       Timestamp('2024-05-13 00:00:00-0300', tz='America/Sao_Paulo'),\n",
       "       Timestamp('2024-05-14 00:00:00-0300', tz='America/Sao_Paulo'),\n",
       "       Timestamp('2024-05-15 00:00:00-0300', tz='America/Sao_Paulo'),\n",
       "       Timestamp('2024-05-16 00:00:00-0300', tz='America/Sao_Paulo'),\n",
       "       Timestamp('2024-05-17 00:00:00-0300', tz='America/Sao_Paulo'),\n",
       "       Timestamp('2024-05-20 00:00:00-0300', tz='America/Sao_Paulo'),\n",
       "       Timestamp('2024-05-21 00:00:00-0300', tz='America/Sao_Paulo'),\n",
       "       Timestamp('2024-05-22 00:00:00-0300', tz='America/Sao_Paulo'),\n",
       "       Timestamp('2024-05-23 00:00:00-0300', tz='America/Sao_Paulo'),\n",
       "       Timestamp('2024-05-24 00:00:00-0300', tz='America/Sao_Paulo'),\n",
       "       Timestamp('2024-05-27 00:00:00-0300', tz='America/Sao_Paulo'),\n",
       "       Timestamp('2024-05-28 00:00:00-0300', tz='America/Sao_Paulo'),\n",
       "       Timestamp('2024-05-29 00:00:00-0300', tz='America/Sao_Paulo'),\n",
       "       Timestamp('2024-05-31 00:00:00-0300', tz='America/Sao_Paulo'),\n",
       "       Timestamp('2024-06-03 00:00:00-0300', tz='America/Sao_Paulo'),\n",
       "       Timestamp('2024-06-04 00:00:00-0300', tz='America/Sao_Paulo'),\n",
       "       Timestamp('2024-06-05 00:00:00-0300', tz='America/Sao_Paulo'),\n",
       "       Timestamp('2024-06-06 00:00:00-0300', tz='America/Sao_Paulo'),\n",
       "       Timestamp('2024-06-07 00:00:00-0300', tz='America/Sao_Paulo'),\n",
       "       Timestamp('2024-06-10 00:00:00-0300', tz='America/Sao_Paulo'),\n",
       "       Timestamp('2024-06-11 00:00:00-0300', tz='America/Sao_Paulo'),\n",
       "       Timestamp('2024-06-12 00:00:00-0300', tz='America/Sao_Paulo'),\n",
       "       Timestamp('2024-06-13 00:00:00-0300', tz='America/Sao_Paulo'),\n",
       "       Timestamp('2024-06-14 00:00:00-0300', tz='America/Sao_Paulo'),\n",
       "       Timestamp('2024-06-17 00:00:00-0300', tz='America/Sao_Paulo'),\n",
       "       Timestamp('2024-06-18 00:00:00-0300', tz='America/Sao_Paulo'),\n",
       "       Timestamp('2024-06-19 00:00:00-0300', tz='America/Sao_Paulo'),\n",
       "       Timestamp('2024-06-20 00:00:00-0300', tz='America/Sao_Paulo'),\n",
       "       Timestamp('2024-06-21 00:00:00-0300', tz='America/Sao_Paulo'),\n",
       "       Timestamp('2024-06-24 00:00:00-0300', tz='America/Sao_Paulo'),\n",
       "       Timestamp('2024-06-25 00:00:00-0300', tz='America/Sao_Paulo'),\n",
       "       Timestamp('2024-06-26 00:00:00-0300', tz='America/Sao_Paulo'),\n",
       "       Timestamp('2024-06-27 00:00:00-0300', tz='America/Sao_Paulo'),\n",
       "       Timestamp('2024-06-28 00:00:00-0300', tz='America/Sao_Paulo'),\n",
       "       Timestamp('2024-07-01 00:00:00-0300', tz='America/Sao_Paulo'),\n",
       "       Timestamp('2024-07-02 00:00:00-0300', tz='America/Sao_Paulo'),\n",
       "       Timestamp('2024-07-03 00:00:00-0300', tz='America/Sao_Paulo'),\n",
       "       Timestamp('2024-07-04 00:00:00-0300', tz='America/Sao_Paulo'),\n",
       "       Timestamp('2024-07-05 00:00:00-0300', tz='America/Sao_Paulo'),\n",
       "       Timestamp('2024-07-08 00:00:00-0300', tz='America/Sao_Paulo'),\n",
       "       Timestamp('2024-07-09 00:00:00-0300', tz='America/Sao_Paulo'),\n",
       "       Timestamp('2024-07-10 00:00:00-0300', tz='America/Sao_Paulo'),\n",
       "       Timestamp('2024-07-11 00:00:00-0300', tz='America/Sao_Paulo'),\n",
       "       Timestamp('2024-07-12 00:00:00-0300', tz='America/Sao_Paulo'),\n",
       "       Timestamp('2024-07-15 00:00:00-0300', tz='America/Sao_Paulo'),\n",
       "       Timestamp('2024-07-16 00:00:00-0300', tz='America/Sao_Paulo'),\n",
       "       Timestamp('2024-07-17 00:00:00-0300', tz='America/Sao_Paulo'),\n",
       "       Timestamp('2024-07-18 00:00:00-0300', tz='America/Sao_Paulo'),\n",
       "       Timestamp('2024-07-19 00:00:00-0300', tz='America/Sao_Paulo'),\n",
       "       Timestamp('2024-07-22 00:00:00-0300', tz='America/Sao_Paulo'),\n",
       "       Timestamp('2024-07-23 00:00:00-0300', tz='America/Sao_Paulo'),\n",
       "       Timestamp('2024-07-24 00:00:00-0300', tz='America/Sao_Paulo'),\n",
       "       Timestamp('2024-07-25 00:00:00-0300', tz='America/Sao_Paulo'),\n",
       "       Timestamp('2024-07-26 00:00:00-0300', tz='America/Sao_Paulo'),\n",
       "       Timestamp('2024-07-29 00:00:00-0300', tz='America/Sao_Paulo'),\n",
       "       Timestamp('2024-07-30 00:00:00-0300', tz='America/Sao_Paulo'),\n",
       "       Timestamp('2024-07-31 00:00:00-0300', tz='America/Sao_Paulo'),\n",
       "       Timestamp('2024-08-01 00:00:00-0300', tz='America/Sao_Paulo'),\n",
       "       Timestamp('2024-08-02 00:00:00-0300', tz='America/Sao_Paulo'),\n",
       "       Timestamp('2024-08-05 00:00:00-0300', tz='America/Sao_Paulo'),\n",
       "       Timestamp('2024-08-06 00:00:00-0300', tz='America/Sao_Paulo'),\n",
       "       Timestamp('2024-08-07 00:00:00-0300', tz='America/Sao_Paulo'),\n",
       "       Timestamp('2024-08-08 00:00:00-0300', tz='America/Sao_Paulo'),\n",
       "       Timestamp('2024-08-09 00:00:00-0300', tz='America/Sao_Paulo'),\n",
       "       Timestamp('2024-08-12 00:00:00-0300', tz='America/Sao_Paulo'),\n",
       "       Timestamp('2024-08-13 00:00:00-0300', tz='America/Sao_Paulo'),\n",
       "       Timestamp('2024-08-14 00:00:00-0300', tz='America/Sao_Paulo'),\n",
       "       Timestamp('2024-08-15 00:00:00-0300', tz='America/Sao_Paulo'),\n",
       "       Timestamp('2024-08-16 00:00:00-0300', tz='America/Sao_Paulo'),\n",
       "       Timestamp('2024-08-19 00:00:00-0300', tz='America/Sao_Paulo'),\n",
       "       Timestamp('2024-08-20 00:00:00-0300', tz='America/Sao_Paulo'),\n",
       "       Timestamp('2024-08-21 00:00:00-0300', tz='America/Sao_Paulo'),\n",
       "       Timestamp('2024-08-22 00:00:00-0300', tz='America/Sao_Paulo'),\n",
       "       Timestamp('2024-08-23 00:00:00-0300', tz='America/Sao_Paulo'),\n",
       "       Timestamp('2024-08-26 00:00:00-0300', tz='America/Sao_Paulo'),\n",
       "       Timestamp('2024-08-27 00:00:00-0300', tz='America/Sao_Paulo'),\n",
       "       Timestamp('2024-08-28 00:00:00-0300', tz='America/Sao_Paulo'),\n",
       "       Timestamp('2024-08-29 00:00:00-0300', tz='America/Sao_Paulo'),\n",
       "       Timestamp('2024-08-30 00:00:00-0300', tz='America/Sao_Paulo'),\n",
       "       Timestamp('2024-09-02 00:00:00-0300', tz='America/Sao_Paulo'),\n",
       "       Timestamp('2024-09-03 00:00:00-0300', tz='America/Sao_Paulo'),\n",
       "       Timestamp('2024-09-04 00:00:00-0300', tz='America/Sao_Paulo'),\n",
       "       Timestamp('2024-09-05 00:00:00-0300', tz='America/Sao_Paulo'),\n",
       "       Timestamp('2024-09-06 00:00:00-0300', tz='America/Sao_Paulo'),\n",
       "       Timestamp('2024-09-09 00:00:00-0300', tz='America/Sao_Paulo'),\n",
       "       Timestamp('2024-09-10 00:00:00-0300', tz='America/Sao_Paulo'),\n",
       "       Timestamp('2024-09-11 00:00:00-0300', tz='America/Sao_Paulo'),\n",
       "       Timestamp('2024-09-12 00:00:00-0300', tz='America/Sao_Paulo'),\n",
       "       Timestamp('2024-09-13 00:00:00-0300', tz='America/Sao_Paulo'),\n",
       "       Timestamp('2024-09-16 00:00:00-0300', tz='America/Sao_Paulo'),\n",
       "       Timestamp('2024-09-17 00:00:00-0300', tz='America/Sao_Paulo'),\n",
       "       Timestamp('2024-09-18 00:00:00-0300', tz='America/Sao_Paulo'),\n",
       "       Timestamp('2024-09-19 00:00:00-0300', tz='America/Sao_Paulo'),\n",
       "       Timestamp('2024-09-20 00:00:00-0300', tz='America/Sao_Paulo'),\n",
       "       Timestamp('2024-09-23 00:00:00-0300', tz='America/Sao_Paulo'),\n",
       "       Timestamp('2024-09-24 00:00:00-0300', tz='America/Sao_Paulo'),\n",
       "       Timestamp('2024-09-25 00:00:00-0300', tz='America/Sao_Paulo'),\n",
       "       Timestamp('2024-09-26 00:00:00-0300', tz='America/Sao_Paulo'),\n",
       "       Timestamp('2024-09-27 00:00:00-0300', tz='America/Sao_Paulo'),\n",
       "       Timestamp('2024-09-30 00:00:00-0300', tz='America/Sao_Paulo'),\n",
       "       Timestamp('2024-10-01 00:00:00-0300', tz='America/Sao_Paulo'),\n",
       "       Timestamp('2024-10-02 00:00:00-0300', tz='America/Sao_Paulo'),\n",
       "       Timestamp('2024-10-03 00:00:00-0300', tz='America/Sao_Paulo'),\n",
       "       Timestamp('2024-10-04 00:00:00-0300', tz='America/Sao_Paulo'),\n",
       "       Timestamp('2024-10-07 00:00:00-0300', tz='America/Sao_Paulo'),\n",
       "       Timestamp('2024-10-08 00:00:00-0300', tz='America/Sao_Paulo'),\n",
       "       Timestamp('2024-10-09 00:00:00-0300', tz='America/Sao_Paulo'),\n",
       "       Timestamp('2024-10-10 00:00:00-0300', tz='America/Sao_Paulo'),\n",
       "       Timestamp('2024-10-11 00:00:00-0300', tz='America/Sao_Paulo'),\n",
       "       Timestamp('2024-10-14 00:00:00-0300', tz='America/Sao_Paulo'),\n",
       "       Timestamp('2024-10-15 00:00:00-0300', tz='America/Sao_Paulo'),\n",
       "       Timestamp('2024-10-16 00:00:00-0300', tz='America/Sao_Paulo'),\n",
       "       Timestamp('2024-10-17 00:00:00-0300', tz='America/Sao_Paulo'),\n",
       "       Timestamp('2024-10-18 00:00:00-0300', tz='America/Sao_Paulo'),\n",
       "       Timestamp('2024-10-21 00:00:00-0300', tz='America/Sao_Paulo'),\n",
       "       Timestamp('2024-10-22 00:00:00-0300', tz='America/Sao_Paulo'),\n",
       "       Timestamp('2024-10-23 00:00:00-0300', tz='America/Sao_Paulo'),\n",
       "       Timestamp('2024-10-24 00:00:00-0300', tz='America/Sao_Paulo'),\n",
       "       Timestamp('2024-10-25 00:00:00-0300', tz='America/Sao_Paulo'),\n",
       "       Timestamp('2024-10-28 00:00:00-0300', tz='America/Sao_Paulo'),\n",
       "       Timestamp('2024-10-29 00:00:00-0300', tz='America/Sao_Paulo'),\n",
       "       Timestamp('2024-10-30 00:00:00-0300', tz='America/Sao_Paulo'),\n",
       "       Timestamp('2024-10-31 00:00:00-0300', tz='America/Sao_Paulo'),\n",
       "       Timestamp('2024-11-01 00:00:00-0300', tz='America/Sao_Paulo'),\n",
       "       Timestamp('2024-11-04 00:00:00-0300', tz='America/Sao_Paulo'),\n",
       "       Timestamp('2024-11-05 00:00:00-0300', tz='America/Sao_Paulo'),\n",
       "       Timestamp('2024-11-06 00:00:00-0300', tz='America/Sao_Paulo'),\n",
       "       Timestamp('2024-11-07 00:00:00-0300', tz='America/Sao_Paulo'),\n",
       "       Timestamp('2024-11-08 00:00:00-0300', tz='America/Sao_Paulo'),\n",
       "       Timestamp('2024-11-11 00:00:00-0300', tz='America/Sao_Paulo'),\n",
       "       Timestamp('2024-11-12 00:00:00-0300', tz='America/Sao_Paulo'),\n",
       "       Timestamp('2024-11-13 00:00:00-0300', tz='America/Sao_Paulo'),\n",
       "       Timestamp('2024-11-14 00:00:00-0300', tz='America/Sao_Paulo'),\n",
       "       Timestamp('2024-11-18 00:00:00-0300', tz='America/Sao_Paulo'),\n",
       "       Timestamp('2024-11-19 00:00:00-0300', tz='America/Sao_Paulo'),\n",
       "       Timestamp('2024-11-21 00:00:00-0300', tz='America/Sao_Paulo'),\n",
       "       Timestamp('2024-11-22 00:00:00-0300', tz='America/Sao_Paulo'),\n",
       "       Timestamp('2024-11-25 00:00:00-0300', tz='America/Sao_Paulo'),\n",
       "       Timestamp('2024-11-26 00:00:00-0300', tz='America/Sao_Paulo'),\n",
       "       Timestamp('2024-11-27 00:00:00-0300', tz='America/Sao_Paulo'),\n",
       "       Timestamp('2024-11-28 00:00:00-0300', tz='America/Sao_Paulo'),\n",
       "       Timestamp('2024-10-28 00:00:00'), Timestamp('2024-10-29 00:00:00'),\n",
       "       Timestamp('2024-10-30 00:00:00'), Timestamp('2024-10-31 00:00:00'),\n",
       "       Timestamp('2024-11-01 00:00:00'), Timestamp('2024-11-04 00:00:00'),\n",
       "       Timestamp('2024-11-05 00:00:00'), Timestamp('2024-11-06 00:00:00'),\n",
       "       Timestamp('2024-11-07 00:00:00'), Timestamp('2024-11-08 00:00:00'),\n",
       "       Timestamp('2024-11-11 00:00:00'), Timestamp('2024-11-12 00:00:00'),\n",
       "       Timestamp('2024-11-13 00:00:00'), Timestamp('2024-11-14 00:00:00'),\n",
       "       Timestamp('2024-11-18 00:00:00'), Timestamp('2024-11-19 00:00:00'),\n",
       "       Timestamp('2024-11-21 00:00:00'), Timestamp('2024-11-22 00:00:00'),\n",
       "       Timestamp('2024-11-25 00:00:00'), Timestamp('2024-11-26 00:00:00'),\n",
       "       Timestamp('2024-11-27 00:00:00'), Timestamp('2024-11-28 00:00:00'),\n",
       "       Timestamp('2024-11-29 00:00:00')], dtype=object)"
      ]
     },
     "execution_count": 8,
     "metadata": {},
     "output_type": "execute_result"
    }
   ],
   "source": [
    "extended_dates"
   ]
  },
  {
   "cell_type": "markdown",
   "metadata": {},
   "source": [
    "Sugestion to test in the future"
   ]
  },
  {
   "cell_type": "code",
   "execution_count": null,
   "metadata": {},
   "outputs": [],
   "source": [
    "# import pandas as pd\n",
    "# import numpy as np\n",
    "# import datetime\n",
    "# import yfinance as yf\n",
    "# import matplotlib.pyplot as plt\n",
    "# from tensorflow.keras.models import Sequential\n",
    "# from tensorflow.keras.optimizers import Adam\n",
    "# from tensorflow.keras import layers\n",
    "# from tensorflow.keras.callbacks import EarlyStopping\n",
    "# import plotly.graph_objects as go\n",
    "# from sklearn.preprocessing import MinMaxScaler\n",
    "\n",
    "# # Função para converter string em datetime\n",
    "# def str_to_datetime(s):\n",
    "#     split = s.split('-')\n",
    "#     year, month, day = int(split[0]), int(split[1]), int(split[2])\n",
    "#     return datetime.datetime(year=year, month=month, day=day)\n",
    "\n",
    "# # Função para criar janelas de dados\n",
    "# def df_to_windowed_df(dataframe, first_date_str, last_date_str, n, step=1):\n",
    "#     first_date = str_to_datetime(first_date_str)\n",
    "#     last_date = str_to_datetime(last_date_str)\n",
    "\n",
    "#     target_date = first_date\n",
    "#     dates = []\n",
    "#     X, Y = [], []\n",
    "\n",
    "#     while target_date <= last_date:\n",
    "#         df_subset = dataframe.loc[:target_date].tail(n + 1)\n",
    "#         if len(df_subset) != n + 1:\n",
    "#             print(f'Erro: Janela de tamanho {n} é muito grande para a data {target_date}')\n",
    "#             break\n",
    "\n",
    "#         values = df_subset['Close'].to_numpy()\n",
    "#         x, y = values[:-1], values[-1]\n",
    "\n",
    "#         dates.append(target_date)\n",
    "#         X.append(x)\n",
    "#         Y.append(y)\n",
    "\n",
    "#         target_date += datetime.timedelta(days=step)\n",
    "\n",
    "#     ret_df = pd.DataFrame({'Target Date': dates})\n",
    "#     X = np.array(X)\n",
    "#     for i in range(n):\n",
    "#         ret_df[f'Target-{n-i}'] = X[:, i]\n",
    "#     ret_df['Target'] = Y\n",
    "\n",
    "#     return ret_df\n",
    "\n",
    "# def adjust_dates_to_available(df, start_date, end_date):\n",
    "#     if start_date not in df.index:\n",
    "#         start_date = df.index[df.index.get_indexer([start_date], method='nearest')[0]]\n",
    "#         print(f'Data inicial ajustada para {start_date}')\n",
    "\n",
    "#     if end_date not in df.index:\n",
    "#         end_date = df.index[df.index.get_indexer([end_date], method='nearest')[0]]\n",
    "#         print(f'Data final ajustada para {end_date}')\n",
    "    \n",
    "#     return start_date, end_date\n",
    "\n",
    "# # Função para converter janela para entrada do modelo\n",
    "# def windowed_df_to_date_X_y(windowed_dataframe):\n",
    "#     if windowed_dataframe is None or windowed_dataframe.empty:\n",
    "#         raise ValueError(\"O DataFrame de janela está vazio ou é None. Verifique as entradas.\")\n",
    "\n",
    "#     df_as_np = windowed_dataframe.to_numpy()\n",
    "#     dates = df_as_np[:, 0]\n",
    "#     middle_matrix = df_as_np[:, 1:-1]\n",
    "#     X = middle_matrix.reshape((len(dates), middle_matrix.shape[1], 1))\n",
    "#     Y = df_as_np[:, -1]\n",
    "\n",
    "#     return dates, X.astype(np.float32), Y.astype(np.float32)\n",
    "\n",
    "# # Treinamento do modelo\n",
    "# def train_model(ticker, start_date, end_date, window_size):\n",
    "#     df = yf.Ticker(ticker).history(period='max')\n",
    "#     df = df[['Close']]\n",
    "#     df.index = pd.to_datetime(df.index).tz_convert(None).normalize()\n",
    "#     start_date = pd.to_datetime(start_date).normalize()\n",
    "#     end_date = pd.to_datetime(end_date).normalize()\n",
    "\n",
    "#     start_date, end_date = adjust_dates_to_available(df, start_date, end_date)\n",
    "\n",
    "#     scaler = MinMaxScaler()\n",
    "#     df['Close'] = scaler.fit_transform(df[['Close']])\n",
    "\n",
    "#     windowed_df = df_to_windowed_df(df, start_date.strftime('%Y-%m-%d'), end_date.strftime('%Y-%m-%d'), n=window_size, step=2)\n",
    "\n",
    "#     if windowed_df is None or windowed_df.empty:\n",
    "#         raise ValueError(\"Erro: df_to_windowed_df retornou um DataFrame vazio ou None.\")\n",
    "\n",
    "#     dates, X, y = windowed_df_to_date_X_y(windowed_df)\n",
    "\n",
    "#     q_80 = int(len(dates) * .8)\n",
    "#     q_90 = int(len(dates) * .9)\n",
    "\n",
    "#     dates_train, X_train, y_train = dates[:q_80], X[:q_80], y[:q_80]\n",
    "#     dates_val, X_val, y_val = dates[q_80:q_90], X[q_80:q_90], y[q_80:q_90]\n",
    "#     dates_test, X_test, y_test = dates[q_90:], X[q_90:], y[q_90:]\n",
    "\n",
    "#     model = Sequential([\n",
    "#         layers.Input((window_size, 1)),\n",
    "#         layers.LSTM(50, return_sequences=True, dropout=0.2),\n",
    "#         layers.LSTM(30, dropout=0.2),\n",
    "#         layers.Dense(16, activation='relu'),\n",
    "#         layers.Dense(1)\n",
    "#     ])\n",
    "\n",
    "#     model.compile(loss='mse',\n",
    "#                   optimizer=Adam(learning_rate=0.001),\n",
    "#                   metrics=['mean_absolute_error'])\n",
    "\n",
    "#     early_stopping = EarlyStopping(monitor='val_loss', patience=5, restore_best_weights=True)\n",
    "#     model.fit(X_train, y_train, validation_data=(X_val, y_val), epochs=50, batch_size=64, callbacks=[early_stopping])\n",
    "\n",
    "#     return model, dates_test, X_test, scaler\n",
    "\n",
    "# def predict_with_uncertainty(f_model, X, scaler, n_iter=50):\n",
    "#     pred_list = np.array([f_model(X, training=True).numpy().flatten() for _ in range(n_iter)])\n",
    "#     pred_mean = scaler.inverse_transform(pred_list.mean(axis=0).reshape(-1, 1)).flatten()\n",
    "#     pred_std = scaler.inverse_transform(pred_list.std(axis=0).reshape(-1, 1)).flatten()\n",
    "#     return pred_mean, pred_std\n",
    "\n",
    "# # Configurações\n",
    "# ticker = 'UNIP6.SA'\n",
    "# start_date = '2024-01-08'\n",
    "# end_date = '2024-11-29'\n",
    "# window_size = 5\n",
    "\n",
    "# model, dates_test, X_test, scaler = train_model(ticker, start_date, end_date, window_size)\n",
    "# future_mean, future_std = predict_with_uncertainty(model, X_test, scaler)\n",
    "\n",
    "# # Buscar preços reais\n",
    "# def get_actual_prices(ticker, start_date, end_date):\n",
    "#     df = yf.Ticker(ticker).history(start=start_date, end=end_date)\n",
    "#     df = df[['Close']]\n",
    "#     df.index = pd.to_datetime(df.index).normalize()\n",
    "#     return df\n",
    "\n",
    "# actual_prices_df = get_actual_prices(ticker, start_date, end_date)\n",
    "# actual_dates = actual_prices_df.index\n",
    "# actual_prices = actual_prices_df['Close'].to_numpy()\n",
    "\n",
    "# fig = go.Figure()\n",
    "# fig.add_trace(go.Scatter(x=dates_test, y=future_mean, mode='lines', name='Future Predictions', line=dict(color='orange')))\n",
    "# fig.add_trace(go.Scatter(x=actual_dates, y=actual_prices, mode='lines', name='Actual Prices', line=dict(color='blue')))\n",
    "# fig.show()\n"
   ]
  }
 ],
 "metadata": {
  "colab": {
   "provenance": [
    {
     "file_id": "1Bk4zPQwAfzoSHZokKUefKL1s6lqmam6S",
     "timestamp": 1678807536043
    }
   ]
  },
  "kernelspec": {
   "display_name": "fin_dash_env.yml",
   "language": "python",
   "name": "python3"
  },
  "language_info": {
   "codemirror_mode": {
    "name": "ipython",
    "version": 3
   },
   "file_extension": ".py",
   "mimetype": "text/x-python",
   "name": "python",
   "nbconvert_exporter": "python",
   "pygments_lexer": "ipython3",
   "version": "3.11.7"
  }
 },
 "nbformat": 4,
 "nbformat_minor": 0
}
