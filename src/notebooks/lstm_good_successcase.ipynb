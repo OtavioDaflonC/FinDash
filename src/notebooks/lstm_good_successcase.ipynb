{
 "cells": [
  {
   "cell_type": "markdown",
   "metadata": {},
   "source": [
    "# Production"
   ]
  },
  {
   "cell_type": "code",
   "execution_count": null,
   "metadata": {},
   "outputs": [
    {
     "name": "stdout",
     "output_type": "stream",
     "text": [
      "1/1 [==============================] - 0s 68ms/step\n"
     ]
    },
    {
     "data": {
      "text/plain": [
       "array([[75.183136],\n",
       "       [75.966934],\n",
       "       [68.1463  ]], dtype=float32)"
      ]
     },
     "execution_count": 54,
     "metadata": {},
     "output_type": "execute_result"
    }
   ],
   "source": [
    "# model.predict(np.array([[[74.11]],[[75.1]],[[66]]])) #prod structure\n",
    "\n"
   ]
  },
  {
   "cell_type": "code",
   "execution_count": null,
   "metadata": {},
   "outputs": [],
   "source": [
    "# success configs:\n",
    "\n",
    "# ticker = 'UNIP6.SA'\n",
    "# start_date = '2024-01-08'\n",
    "# end_date = '2024-11-29'\n",
    "# window_size = 5\n",
    "\n",
    "# ticker = 'KEPL3.SA'\n",
    "# start_date = '2024-01-08'\n",
    "# end_date = '2024-11-29'\n",
    "# window_size = 5\n",
    "\n",
    "# ticker = 'CSNA3.SA'\n",
    "# start_date = '2024-01-08'\n",
    "# end_date = '2024-11-29'\n",
    "# window_size = 5"
   ]
  },
  {
   "cell_type": "code",
   "execution_count": 6,
   "metadata": {},
   "outputs": [
    {
     "name": "stdout",
     "output_type": "stream",
     "text": [
      "Epoch 1/65\n",
      "\u001b[1m6/6\u001b[0m \u001b[32m━━━━━━━━━━━━━━━━━━━━\u001b[0m\u001b[37m\u001b[0m \u001b[1m2s\u001b[0m 54ms/step - loss: 3615.9905 - mean_absolute_error: 60.0896 - val_loss: 3740.4531 - val_mean_absolute_error: 61.1426\n",
      "Epoch 2/65\n",
      "\u001b[1m6/6\u001b[0m \u001b[32m━━━━━━━━━━━━━━━━━━━━\u001b[0m\u001b[37m\u001b[0m \u001b[1m0s\u001b[0m 15ms/step - loss: 3527.7673 - mean_absolute_error: 59.3483 - val_loss: 3649.0728 - val_mean_absolute_error: 60.3907\n",
      "Epoch 3/65\n",
      "\u001b[1m6/6\u001b[0m \u001b[32m━━━━━━━━━━━━━━━━━━━━\u001b[0m\u001b[37m\u001b[0m \u001b[1m0s\u001b[0m 17ms/step - loss: 3403.4141 - mean_absolute_error: 58.2960 - val_loss: 3534.1555 - val_mean_absolute_error: 59.4316\n",
      "Epoch 4/65\n",
      "\u001b[1m6/6\u001b[0m \u001b[32m━━━━━━━━━━━━━━━━━━━━\u001b[0m\u001b[37m\u001b[0m \u001b[1m0s\u001b[0m 20ms/step - loss: 3327.9150 - mean_absolute_error: 57.6398 - val_loss: 3408.9304 - val_mean_absolute_error: 58.3686\n",
      "Epoch 5/65\n",
      "\u001b[1m6/6\u001b[0m \u001b[32m━━━━━━━━━━━━━━━━━━━━\u001b[0m\u001b[37m\u001b[0m \u001b[1m0s\u001b[0m 15ms/step - loss: 3187.9106 - mean_absolute_error: 56.4144 - val_loss: 3252.6511 - val_mean_absolute_error: 57.0140\n",
      "Epoch 6/65\n",
      "\u001b[1m6/6\u001b[0m \u001b[32m━━━━━━━━━━━━━━━━━━━━\u001b[0m\u001b[37m\u001b[0m \u001b[1m0s\u001b[0m 16ms/step - loss: 3052.7253 - mean_absolute_error: 55.1875 - val_loss: 3039.3169 - val_mean_absolute_error: 55.1112\n",
      "Epoch 7/65\n",
      "\u001b[1m6/6\u001b[0m \u001b[32m━━━━━━━━━━━━━━━━━━━━\u001b[0m\u001b[37m\u001b[0m \u001b[1m0s\u001b[0m 16ms/step - loss: 2799.7080 - mean_absolute_error: 52.8530 - val_loss: 2754.1245 - val_mean_absolute_error: 52.4599\n",
      "Epoch 8/65\n",
      "\u001b[1m6/6\u001b[0m \u001b[32m━━━━━━━━━━━━━━━━━━━━\u001b[0m\u001b[37m\u001b[0m \u001b[1m0s\u001b[0m 16ms/step - loss: 2532.2527 - mean_absolute_error: 50.2448 - val_loss: 2414.7161 - val_mean_absolute_error: 49.1181\n",
      "Epoch 9/65\n",
      "\u001b[1m6/6\u001b[0m \u001b[32m━━━━━━━━━━━━━━━━━━━━\u001b[0m\u001b[37m\u001b[0m \u001b[1m0s\u001b[0m 17ms/step - loss: 2144.2368 - mean_absolute_error: 46.2436 - val_loss: 2010.4124 - val_mean_absolute_error: 44.8135\n",
      "Epoch 10/65\n",
      "\u001b[1m6/6\u001b[0m \u001b[32m━━━━━━━━━━━━━━━━━━━━\u001b[0m\u001b[37m\u001b[0m \u001b[1m0s\u001b[0m 16ms/step - loss: 1760.6677 - mean_absolute_error: 41.8735 - val_loss: 1569.7947 - val_mean_absolute_error: 39.5931\n",
      "Epoch 11/65\n",
      "\u001b[1m6/6\u001b[0m \u001b[32m━━━━━━━━━━━━━━━━━━━━\u001b[0m\u001b[37m\u001b[0m \u001b[1m0s\u001b[0m 16ms/step - loss: 1349.8713 - mean_absolute_error: 36.6244 - val_loss: 1137.8138 - val_mean_absolute_error: 33.6998\n",
      "Epoch 12/65\n",
      "\u001b[1m6/6\u001b[0m \u001b[32m━━━━━━━━━━━━━━━━━━━━\u001b[0m\u001b[37m\u001b[0m \u001b[1m0s\u001b[0m 16ms/step - loss: 935.6427 - mean_absolute_error: 30.4655 - val_loss: 756.5062 - val_mean_absolute_error: 27.4664\n",
      "Epoch 13/65\n",
      "\u001b[1m6/6\u001b[0m \u001b[32m━━━━━━━━━━━━━━━━━━━━\u001b[0m\u001b[37m\u001b[0m \u001b[1m0s\u001b[0m 16ms/step - loss: 599.0196 - mean_absolute_error: 24.2977 - val_loss: 445.1581 - val_mean_absolute_error: 21.0493\n",
      "Epoch 14/65\n",
      "\u001b[1m6/6\u001b[0m \u001b[32m━━━━━━━━━━━━━━━━━━━━\u001b[0m\u001b[37m\u001b[0m \u001b[1m0s\u001b[0m 18ms/step - loss: 335.9075 - mean_absolute_error: 18.0552 - val_loss: 214.0757 - val_mean_absolute_error: 14.5600\n",
      "Epoch 15/65\n",
      "\u001b[1m6/6\u001b[0m \u001b[32m━━━━━━━━━━━━━━━━━━━━\u001b[0m\u001b[37m\u001b[0m \u001b[1m0s\u001b[0m 19ms/step - loss: 137.8029 - mean_absolute_error: 11.3901 - val_loss: 70.8673 - val_mean_absolute_error: 8.2938\n",
      "Epoch 16/65\n",
      "\u001b[1m6/6\u001b[0m \u001b[32m━━━━━━━━━━━━━━━━━━━━\u001b[0m\u001b[37m\u001b[0m \u001b[1m0s\u001b[0m 16ms/step - loss: 33.2206 - mean_absolute_error: 5.1663 - val_loss: 10.1971 - val_mean_absolute_error: 2.8477\n",
      "Epoch 17/65\n",
      "\u001b[1m6/6\u001b[0m \u001b[32m━━━━━━━━━━━━━━━━━━━━\u001b[0m\u001b[37m\u001b[0m \u001b[1m0s\u001b[0m 16ms/step - loss: 5.8753 - mean_absolute_error: 1.9218 - val_loss: 2.4641 - val_mean_absolute_error: 1.3602\n",
      "Epoch 18/65\n",
      "\u001b[1m6/6\u001b[0m \u001b[32m━━━━━━━━━━━━━━━━━━━━\u001b[0m\u001b[37m\u001b[0m \u001b[1m0s\u001b[0m 15ms/step - loss: 12.3655 - mean_absolute_error: 3.0485 - val_loss: 4.4636 - val_mean_absolute_error: 1.7848\n",
      "Epoch 19/65\n",
      "\u001b[1m6/6\u001b[0m \u001b[32m━━━━━━━━━━━━━━━━━━━━\u001b[0m\u001b[37m\u001b[0m \u001b[1m0s\u001b[0m 15ms/step - loss: 15.8799 - mean_absolute_error: 3.5534 - val_loss: 2.9413 - val_mean_absolute_error: 1.4743\n",
      "Epoch 20/65\n",
      "\u001b[1m6/6\u001b[0m \u001b[32m━━━━━━━━━━━━━━━━━━━━\u001b[0m\u001b[37m\u001b[0m \u001b[1m0s\u001b[0m 15ms/step - loss: 10.7739 - mean_absolute_error: 2.7718 - val_loss: 2.0360 - val_mean_absolute_error: 1.2234\n",
      "Epoch 21/65\n",
      "\u001b[1m6/6\u001b[0m \u001b[32m━━━━━━━━━━━━━━━━━━━━\u001b[0m\u001b[37m\u001b[0m \u001b[1m0s\u001b[0m 15ms/step - loss: 7.2124 - mean_absolute_error: 2.2346 - val_loss: 3.3469 - val_mean_absolute_error: 1.4245\n",
      "Epoch 22/65\n",
      "\u001b[1m6/6\u001b[0m \u001b[32m━━━━━━━━━━━━━━━━━━━━\u001b[0m\u001b[37m\u001b[0m \u001b[1m0s\u001b[0m 15ms/step - loss: 6.1693 - mean_absolute_error: 2.0354 - val_loss: 5.3537 - val_mean_absolute_error: 1.9083\n",
      "Epoch 23/65\n",
      "\u001b[1m6/6\u001b[0m \u001b[32m━━━━━━━━━━━━━━━━━━━━\u001b[0m\u001b[37m\u001b[0m \u001b[1m0s\u001b[0m 16ms/step - loss: 6.1609 - mean_absolute_error: 1.9618 - val_loss: 6.5850 - val_mean_absolute_error: 2.1658\n",
      "Epoch 24/65\n",
      "\u001b[1m6/6\u001b[0m \u001b[32m━━━━━━━━━━━━━━━━━━━━\u001b[0m\u001b[37m\u001b[0m \u001b[1m0s\u001b[0m 16ms/step - loss: 5.6049 - mean_absolute_error: 1.8506 - val_loss: 6.6646 - val_mean_absolute_error: 2.1828\n",
      "Epoch 25/65\n",
      "\u001b[1m6/6\u001b[0m \u001b[32m━━━━━━━━━━━━━━━━━━━━\u001b[0m\u001b[37m\u001b[0m \u001b[1m0s\u001b[0m 18ms/step - loss: 5.7624 - mean_absolute_error: 1.8646 - val_loss: 5.9695 - val_mean_absolute_error: 2.0418\n",
      "Epoch 26/65\n",
      "\u001b[1m6/6\u001b[0m \u001b[32m━━━━━━━━━━━━━━━━━━━━\u001b[0m\u001b[37m\u001b[0m \u001b[1m0s\u001b[0m 19ms/step - loss: 6.7416 - mean_absolute_error: 2.0454 - val_loss: 5.2508 - val_mean_absolute_error: 1.8850\n",
      "Epoch 27/65\n",
      "\u001b[1m6/6\u001b[0m \u001b[32m━━━━━━━━━━━━━━━━━━━━\u001b[0m\u001b[37m\u001b[0m \u001b[1m0s\u001b[0m 17ms/step - loss: 5.3659 - mean_absolute_error: 1.8113 - val_loss: 4.7190 - val_mean_absolute_error: 1.7573\n",
      "Epoch 28/65\n",
      "\u001b[1m6/6\u001b[0m \u001b[32m━━━━━━━━━━━━━━━━━━━━\u001b[0m\u001b[37m\u001b[0m \u001b[1m0s\u001b[0m 16ms/step - loss: 5.9481 - mean_absolute_error: 1.9391 - val_loss: 4.4982 - val_mean_absolute_error: 1.7006\n",
      "Epoch 29/65\n",
      "\u001b[1m6/6\u001b[0m \u001b[32m━━━━━━━━━━━━━━━━━━━━\u001b[0m\u001b[37m\u001b[0m \u001b[1m0s\u001b[0m 16ms/step - loss: 5.1564 - mean_absolute_error: 1.8467 - val_loss: 4.5222 - val_mean_absolute_error: 1.7069\n",
      "Epoch 30/65\n",
      "\u001b[1m6/6\u001b[0m \u001b[32m━━━━━━━━━━━━━━━━━━━━\u001b[0m\u001b[37m\u001b[0m \u001b[1m0s\u001b[0m 17ms/step - loss: 5.6534 - mean_absolute_error: 1.9081 - val_loss: 4.5408 - val_mean_absolute_error: 1.7117\n",
      "Epoch 31/65\n",
      "\u001b[1m6/6\u001b[0m \u001b[32m━━━━━━━━━━━━━━━━━━━━\u001b[0m\u001b[37m\u001b[0m \u001b[1m0s\u001b[0m 16ms/step - loss: 6.0967 - mean_absolute_error: 2.0098 - val_loss: 4.5171 - val_mean_absolute_error: 1.7056\n",
      "Epoch 32/65\n",
      "\u001b[1m6/6\u001b[0m \u001b[32m━━━━━━━━━━━━━━━━━━━━\u001b[0m\u001b[37m\u001b[0m \u001b[1m0s\u001b[0m 15ms/step - loss: 5.2521 - mean_absolute_error: 1.8851 - val_loss: 4.6787 - val_mean_absolute_error: 1.7472\n",
      "Epoch 33/65\n",
      "\u001b[1m6/6\u001b[0m \u001b[32m━━━━━━━━━━━━━━━━━━━━\u001b[0m\u001b[37m\u001b[0m \u001b[1m0s\u001b[0m 17ms/step - loss: 6.3965 - mean_absolute_error: 2.0347 - val_loss: 4.7548 - val_mean_absolute_error: 1.7664\n",
      "Epoch 34/65\n",
      "\u001b[1m6/6\u001b[0m \u001b[32m━━━━━━━━━━━━━━━━━━━━\u001b[0m\u001b[37m\u001b[0m \u001b[1m0s\u001b[0m 19ms/step - loss: 5.9657 - mean_absolute_error: 1.9569 - val_loss: 4.8141 - val_mean_absolute_error: 1.7814\n",
      "Epoch 35/65\n",
      "\u001b[1m6/6\u001b[0m \u001b[32m━━━━━━━━━━━━━━━━━━━━\u001b[0m\u001b[37m\u001b[0m \u001b[1m0s\u001b[0m 16ms/step - loss: 5.7948 - mean_absolute_error: 1.9584 - val_loss: 4.9098 - val_mean_absolute_error: 1.8054\n",
      "Epoch 36/65\n",
      "\u001b[1m6/6\u001b[0m \u001b[32m━━━━━━━━━━━━━━━━━━━━\u001b[0m\u001b[37m\u001b[0m \u001b[1m0s\u001b[0m 17ms/step - loss: 5.3733 - mean_absolute_error: 1.8774 - val_loss: 5.1286 - val_mean_absolute_error: 1.8580\n",
      "Epoch 37/65\n",
      "\u001b[1m6/6\u001b[0m \u001b[32m━━━━━━━━━━━━━━━━━━━━\u001b[0m\u001b[37m\u001b[0m \u001b[1m0s\u001b[0m 16ms/step - loss: 5.8549 - mean_absolute_error: 1.9189 - val_loss: 4.8590 - val_mean_absolute_error: 1.7936\n",
      "Epoch 38/65\n",
      "\u001b[1m6/6\u001b[0m \u001b[32m━━━━━━━━━━━━━━━━━━━━\u001b[0m\u001b[37m\u001b[0m \u001b[1m0s\u001b[0m 16ms/step - loss: 5.5216 - mean_absolute_error: 1.9004 - val_loss: 4.7279 - val_mean_absolute_error: 1.7614\n",
      "Epoch 39/65\n",
      "\u001b[1m6/6\u001b[0m \u001b[32m━━━━━━━━━━━━━━━━━━━━\u001b[0m\u001b[37m\u001b[0m \u001b[1m0s\u001b[0m 18ms/step - loss: 4.9403 - mean_absolute_error: 1.8228 - val_loss: 4.6359 - val_mean_absolute_error: 1.7384\n",
      "Epoch 40/65\n",
      "\u001b[1m6/6\u001b[0m \u001b[32m━━━━━━━━━━━━━━━━━━━━\u001b[0m\u001b[37m\u001b[0m \u001b[1m0s\u001b[0m 16ms/step - loss: 5.2010 - mean_absolute_error: 1.8675 - val_loss: 4.6783 - val_mean_absolute_error: 1.7499\n",
      "Epoch 41/65\n",
      "\u001b[1m6/6\u001b[0m \u001b[32m━━━━━━━━━━━━━━━━━━━━\u001b[0m\u001b[37m\u001b[0m \u001b[1m0s\u001b[0m 15ms/step - loss: 5.2348 - mean_absolute_error: 1.8367 - val_loss: 5.2083 - val_mean_absolute_error: 1.8803\n",
      "Epoch 42/65\n",
      "\u001b[1m6/6\u001b[0m \u001b[32m━━━━━━━━━━━━━━━━━━━━\u001b[0m\u001b[37m\u001b[0m \u001b[1m0s\u001b[0m 16ms/step - loss: 4.7747 - mean_absolute_error: 1.6601 - val_loss: 4.3833 - val_mean_absolute_error: 1.6779\n",
      "Epoch 43/65\n",
      "\u001b[1m6/6\u001b[0m \u001b[32m━━━━━━━━━━━━━━━━━━━━\u001b[0m\u001b[37m\u001b[0m \u001b[1m0s\u001b[0m 19ms/step - loss: 4.8368 - mean_absolute_error: 1.7644 - val_loss: 5.0665 - val_mean_absolute_error: 1.8472\n",
      "Epoch 44/65\n",
      "\u001b[1m6/6\u001b[0m \u001b[32m━━━━━━━━━━━━━━━━━━━━\u001b[0m\u001b[37m\u001b[0m \u001b[1m0s\u001b[0m 15ms/step - loss: 5.1086 - mean_absolute_error: 1.7835 - val_loss: 4.3875 - val_mean_absolute_error: 1.6797\n",
      "Epoch 45/65\n",
      "\u001b[1m6/6\u001b[0m \u001b[32m━━━━━━━━━━━━━━━━━━━━\u001b[0m\u001b[37m\u001b[0m \u001b[1m0s\u001b[0m 15ms/step - loss: 5.3990 - mean_absolute_error: 1.8767 - val_loss: 3.8211 - val_mean_absolute_error: 1.5294\n",
      "Epoch 46/65\n",
      "\u001b[1m6/6\u001b[0m \u001b[32m━━━━━━━━━━━━━━━━━━━━\u001b[0m\u001b[37m\u001b[0m \u001b[1m0s\u001b[0m 16ms/step - loss: 5.1310 - mean_absolute_error: 1.8126 - val_loss: 5.3394 - val_mean_absolute_error: 1.9091\n",
      "Epoch 47/65\n",
      "\u001b[1m6/6\u001b[0m \u001b[32m━━━━━━━━━━━━━━━━━━━━\u001b[0m\u001b[37m\u001b[0m \u001b[1m0s\u001b[0m 20ms/step - loss: 4.5405 - mean_absolute_error: 1.7007 - val_loss: 3.5173 - val_mean_absolute_error: 1.4536\n",
      "Epoch 48/65\n",
      "\u001b[1m6/6\u001b[0m \u001b[32m━━━━━━━━━━━━━━━━━━━━\u001b[0m\u001b[37m\u001b[0m \u001b[1m0s\u001b[0m 19ms/step - loss: 4.8503 - mean_absolute_error: 1.8127 - val_loss: 4.9473 - val_mean_absolute_error: 1.8200\n",
      "Epoch 49/65\n",
      "\u001b[1m6/6\u001b[0m \u001b[32m━━━━━━━━━━━━━━━━━━━━\u001b[0m\u001b[37m\u001b[0m \u001b[1m0s\u001b[0m 16ms/step - loss: 4.3222 - mean_absolute_error: 1.6385 - val_loss: 3.9296 - val_mean_absolute_error: 1.5591\n",
      "Epoch 50/65\n",
      "\u001b[1m6/6\u001b[0m \u001b[32m━━━━━━━━━━━━━━━━━━━━\u001b[0m\u001b[37m\u001b[0m \u001b[1m0s\u001b[0m 16ms/step - loss: 4.4955 - mean_absolute_error: 1.7394 - val_loss: 4.1011 - val_mean_absolute_error: 1.6047\n",
      "Epoch 51/65\n",
      "\u001b[1m6/6\u001b[0m \u001b[32m━━━━━━━━━━━━━━━━━━━━\u001b[0m\u001b[37m\u001b[0m \u001b[1m0s\u001b[0m 16ms/step - loss: 4.9724 - mean_absolute_error: 1.7467 - val_loss: 4.6148 - val_mean_absolute_error: 1.7400\n",
      "Epoch 52/65\n",
      "\u001b[1m6/6\u001b[0m \u001b[32m━━━━━━━━━━━━━━━━━━━━\u001b[0m\u001b[37m\u001b[0m \u001b[1m0s\u001b[0m 15ms/step - loss: 3.9981 - mean_absolute_error: 1.6526 - val_loss: 3.7754 - val_mean_absolute_error: 1.5187\n",
      "Epoch 53/65\n",
      "\u001b[1m6/6\u001b[0m \u001b[32m━━━━━━━━━━━━━━━━━━━━\u001b[0m\u001b[37m\u001b[0m \u001b[1m0s\u001b[0m 16ms/step - loss: 4.5699 - mean_absolute_error: 1.7364 - val_loss: 4.5969 - val_mean_absolute_error: 1.7362\n",
      "Epoch 54/65\n",
      "\u001b[1m6/6\u001b[0m \u001b[32m━━━━━━━━━━━━━━━━━━━━\u001b[0m\u001b[37m\u001b[0m \u001b[1m0s\u001b[0m 18ms/step - loss: 5.1899 - mean_absolute_error: 1.8001 - val_loss: 3.8472 - val_mean_absolute_error: 1.5383\n",
      "Epoch 55/65\n",
      "\u001b[1m6/6\u001b[0m \u001b[32m━━━━━━━━━━━━━━━━━━━━\u001b[0m\u001b[37m\u001b[0m \u001b[1m0s\u001b[0m 16ms/step - loss: 4.6235 - mean_absolute_error: 1.7349 - val_loss: 4.2448 - val_mean_absolute_error: 1.6464\n",
      "Epoch 56/65\n",
      "\u001b[1m6/6\u001b[0m \u001b[32m━━━━━━━━━━━━━━━━━━━━\u001b[0m\u001b[37m\u001b[0m \u001b[1m0s\u001b[0m 17ms/step - loss: 4.9206 - mean_absolute_error: 1.7360 - val_loss: 4.2463 - val_mean_absolute_error: 1.6476\n",
      "Epoch 57/65\n",
      "\u001b[1m6/6\u001b[0m \u001b[32m━━━━━━━━━━━━━━━━━━━━\u001b[0m\u001b[37m\u001b[0m \u001b[1m0s\u001b[0m 18ms/step - loss: 4.4484 - mean_absolute_error: 1.7085 - val_loss: 3.9799 - val_mean_absolute_error: 1.5748\n",
      "Epoch 58/65\n",
      "\u001b[1m6/6\u001b[0m \u001b[32m━━━━━━━━━━━━━━━━━━━━\u001b[0m\u001b[37m\u001b[0m \u001b[1m0s\u001b[0m 16ms/step - loss: 4.2143 - mean_absolute_error: 1.6571 - val_loss: 4.1941 - val_mean_absolute_error: 1.6350\n",
      "Epoch 59/65\n",
      "\u001b[1m6/6\u001b[0m \u001b[32m━━━━━━━━━━━━━━━━━━━━\u001b[0m\u001b[37m\u001b[0m \u001b[1m0s\u001b[0m 18ms/step - loss: 3.8712 - mean_absolute_error: 1.5971 - val_loss: 3.8049 - val_mean_absolute_error: 1.5296\n",
      "Epoch 60/65\n",
      "\u001b[1m6/6\u001b[0m \u001b[32m━━━━━━━━━━━━━━━━━━━━\u001b[0m\u001b[37m\u001b[0m \u001b[1m0s\u001b[0m 16ms/step - loss: 4.5386 - mean_absolute_error: 1.7414 - val_loss: 4.4326 - val_mean_absolute_error: 1.6992\n",
      "Epoch 61/65\n",
      "\u001b[1m6/6\u001b[0m \u001b[32m━━━━━━━━━━━━━━━━━━━━\u001b[0m\u001b[37m\u001b[0m \u001b[1m0s\u001b[0m 16ms/step - loss: 4.4929 - mean_absolute_error: 1.6947 - val_loss: 3.8577 - val_mean_absolute_error: 1.5441\n",
      "Epoch 62/65\n",
      "\u001b[1m6/6\u001b[0m \u001b[32m━━━━━━━━━━━━━━━━━━━━\u001b[0m\u001b[37m\u001b[0m \u001b[1m0s\u001b[0m 15ms/step - loss: 3.8944 - mean_absolute_error: 1.6134 - val_loss: 3.6070 - val_mean_absolute_error: 1.4769\n",
      "Epoch 63/65\n",
      "\u001b[1m6/6\u001b[0m \u001b[32m━━━━━━━━━━━━━━━━━━━━\u001b[0m\u001b[37m\u001b[0m \u001b[1m0s\u001b[0m 16ms/step - loss: 4.7573 - mean_absolute_error: 1.7258 - val_loss: 4.4528 - val_mean_absolute_error: 1.7057\n",
      "Epoch 64/65\n",
      "\u001b[1m6/6\u001b[0m \u001b[32m━━━━━━━━━━━━━━━━━━━━\u001b[0m\u001b[37m\u001b[0m \u001b[1m0s\u001b[0m 15ms/step - loss: 4.3585 - mean_absolute_error: 1.6583 - val_loss: 3.4744 - val_mean_absolute_error: 1.4402\n",
      "Epoch 65/65\n",
      "\u001b[1m6/6\u001b[0m \u001b[32m━━━━━━━━━━━━━━━━━━━━\u001b[0m\u001b[37m\u001b[0m \u001b[1m0s\u001b[0m 16ms/step - loss: 3.9211 - mean_absolute_error: 1.6068 - val_loss: 4.4849 - val_mean_absolute_error: 1.7145\n",
      "WARNING:tensorflow:6 out of the last 6 calls to <function TensorFlowTrainer.make_predict_function.<locals>.one_step_on_data_distributed at 0x000001A3E845B060> triggered tf.function retracing. Tracing is expensive and the excessive number of tracings could be due to (1) creating @tf.function repeatedly in a loop, (2) passing tensors with different shapes, (3) passing Python objects instead of tensors. For (1), please define your @tf.function outside of the loop. For (2), @tf.function has reduce_retracing=True option that can avoid unnecessary retracing. For (3), please refer to https://www.tensorflow.org/guide/function#controlling_retracing and https://www.tensorflow.org/api_docs/python/tf/function for  more details.\n",
      "\u001b[1m1/1\u001b[0m \u001b[32m━━━━━━━━━━━━━━━━━━━━\u001b[0m\u001b[37m\u001b[0m \u001b[1m0s\u001b[0m 127ms/step\n"
     ]
    },
    {
     "data": {
      "image/png": "[encoded data removed]",
      "text/plain": [
       "<Figure size 1200x600 with 1 Axes>"
      ]
     },
     "metadata": {},
     "output_type": "display_data"
    },
    {
     "data": {
      "application/vnd.plotly.v1+json": {
       "config": {
        "plotlyServerURL": "https://plot.ly"
       },
       "data": [
        {
         "line": {
          "color": "orange"
         },
         "mode": "lines",
         "name": "Future Predictions",
         "type": "scatter",
         "x": [
          "2024-10-28T00:00:00",
          "2024-10-29T00:00:00",
          "2024-10-30T00:00:00",
          "2024-10-31T00:00:00",
          "2024-11-01T00:00:00",
          "2024-11-04T00:00:00",
          "2024-11-05T00:00:00",
          "2024-11-06T00:00:00",
          "2024-11-07T00:00:00",
          "2024-11-08T00:00:00",
          "2024-11-11T00:00:00",
          "2024-11-12T00:00:00",
          "2024-11-13T00:00:00",
          "2024-11-14T00:00:00",
          "2024-11-18T00:00:00",
          "2024-11-19T00:00:00",
          "2024-11-21T00:00:00",
          "2024-11-22T00:00:00",
          "2024-11-25T00:00:00",
          "2024-11-26T00:00:00",
          "2024-11-27T00:00:00",
          "2024-11-28T00:00:00",
          "2024-11-29T00:00:00"
         ],
         "y": [
          59.44706726074219,
          59.580055236816406,
          59.71791076660156,
          59.7988166809082,
          59.783485412597656,
          59.753135681152344,
          59.763092041015625,
          59.74910354614258,
          59.718467712402344,
          59.794612884521484,
          59.67767333984375,
          59.54780197143555,
          59.311134338378906,
          59.130069732666016,
          59.025306701660156,
          59.01542663574219,
          59.02299499511719,
          59.040191650390625,
          59.080848693847656,
          59.09613800048828,
          59.082435607910156,
          59.1042594909668,
          59.07068634033203
         ]
        },
        {
         "line": {
          "color": "blue"
         },
         "mode": "lines",
         "name": "Actual Prices",
         "type": "scatter",
         "x": [
          "2024-01-08T00:00:00-03:00",
          "2024-01-09T00:00:00-03:00",
          "2024-01-10T00:00:00-03:00",
          "2024-01-11T00:00:00-03:00",
          "2024-01-12T00:00:00-03:00",
          "2024-01-15T00:00:00-03:00",
          "2024-01-16T00:00:00-03:00",
          "2024-01-17T00:00:00-03:00",
          "2024-01-18T00:00:00-03:00",
          "2024-01-19T00:00:00-03:00",
          "2024-01-22T00:00:00-03:00",
          "2024-01-23T00:00:00-03:00",
          "2024-01-24T00:00:00-03:00",
          "2024-01-25T00:00:00-03:00",
          "2024-01-26T00:00:00-03:00",
          "2024-01-29T00:00:00-03:00",
          "2024-01-30T00:00:00-03:00",
          "2024-01-31T00:00:00-03:00",
          "2024-02-01T00:00:00-03:00",
          "2024-02-02T00:00:00-03:00",
          "2024-02-05T00:00:00-03:00",
          "2024-02-06T00:00:00-03:00",
          "2024-02-07T00:00:00-03:00",
          "2024-02-08T00:00:00-03:00",
          "2024-02-09T00:00:00-03:00",
          "2024-02-14T00:00:00-03:00",
          "2024-02-15T00:00:00-03:00",
          "2024-02-16T00:00:00-03:00",
          "2024-02-19T00:00:00-03:00",
          "2024-02-20T00:00:00-03:00",
          "2024-02-21T00:00:00-03:00",
          "2024-02-22T00:00:00-03:00",
          "2024-02-23T00:00:00-03:00",
          "2024-02-26T00:00:00-03:00",
          "2024-02-27T00:00:00-03:00",
          "2024-02-28T00:00:00-03:00",
          "2024-02-29T00:00:00-03:00",
          "2024-03-01T00:00:00-03:00",
          "2024-03-04T00:00:00-03:00",
          "2024-03-05T00:00:00-03:00",
          "2024-03-06T00:00:00-03:00",
          "2024-03-07T00:00:00-03:00",
          "2024-03-08T00:00:00-03:00",
          "2024-03-11T00:00:00-03:00",
          "2024-03-12T00:00:00-03:00",
          "2024-03-13T00:00:00-03:00",
          "2024-03-14T00:00:00-03:00",
          "2024-03-15T00:00:00-03:00",
          "2024-03-18T00:00:00-03:00",
          "2024-03-19T00:00:00-03:00",
          "2024-03-20T00:00:00-03:00",
          "2024-03-21T00:00:00-03:00",
          "2024-03-22T00:00:00-03:00",
          "2024-03-25T00:00:00-03:00",
          "2024-03-26T00:00:00-03:00",
          "2024-03-27T00:00:00-03:00",
          "2024-03-28T00:00:00-03:00",
          "2024-04-01T00:00:00-03:00",
          "2024-04-02T00:00:00-03:00",
          "2024-04-03T00:00:00-03:00",
          "2024-04-04T00:00:00-03:00",
          "2024-04-05T00:00:00-03:00",
          "2024-04-08T00:00:00-03:00",
          "2024-04-09T00:00:00-03:00",
          "2024-04-10T00:00:00-03:00",
          "2024-04-11T00:00:00-03:00",
          "2024-04-12T00:00:00-03:00",
          "2024-04-15T00:00:00-03:00",
          "2024-04-16T00:00:00-03:00",
          "2024-04-17T00:00:00-03:00",
          "2024-04-18T00:00:00-03:00",
          "2024-04-19T00:00:00-03:00",
          "2024-04-22T00:00:00-03:00",
          "2024-04-23T00:00:00-03:00",
          "2024-04-24T00:00:00-03:00",
          "2024-04-25T00:00:00-03:00",
          "2024-04-26T00:00:00-03:00",
          "2024-04-29T00:00:00-03:00",
          "2024-04-30T00:00:00-03:00",
          "2024-05-02T00:00:00-03:00",
          "2024-05-03T00:00:00-03:00",
          "2024-05-06T00:00:00-03:00",
          "2024-05-07T00:00:00-03:00",
          "2024-05-08T00:00:00-03:00",
          "2024-05-09T00:00:00-03:00",
          "2024-05-10T00:00:00-03:00",
          "2024-05-13T00:00:00-03:00",
          "2024-05-14T00:00:00-03:00",
          "2024-05-15T00:00:00-03:00",
          "2024-05-16T00:00:00-03:00",
          "2024-05-17T00:00:00-03:00",
          "2024-05-20T00:00:00-03:00",
          "2024-05-21T00:00:00-03:00",
          "2024-05-22T00:00:00-03:00",
          "2024-05-23T00:00:00-03:00",
          "2024-05-24T00:00:00-03:00",
          "2024-05-27T00:00:00-03:00",
          "2024-05-28T00:00:00-03:00",
          "2024-05-29T00:00:00-03:00",
          "2024-05-31T00:00:00-03:00",
          "2024-06-03T00:00:00-03:00",
          "2024-06-04T00:00:00-03:00",
          "2024-06-05T00:00:00-03:00",
          "2024-06-06T00:00:00-03:00",
          "2024-06-07T00:00:00-03:00",
          "2024-06-10T00:00:00-03:00",
          "2024-06-11T00:00:00-03:00",
          "2024-06-12T00:00:00-03:00",
          "2024-06-13T00:00:00-03:00",
          "2024-06-14T00:00:00-03:00",
          "2024-06-17T00:00:00-03:00",
          "2024-06-18T00:00:00-03:00",
          "2024-06-19T00:00:00-03:00",
          "2024-06-20T00:00:00-03:00",
          "2024-06-21T00:00:00-03:00",
          "2024-06-24T00:00:00-03:00",
          "2024-06-25T00:00:00-03:00",
          "2024-06-26T00:00:00-03:00",
          "2024-06-27T00:00:00-03:00",
          "2024-06-28T00:00:00-03:00",
          "2024-07-01T00:00:00-03:00",
          "2024-07-02T00:00:00-03:00",
          "2024-07-03T00:00:00-03:00",
          "2024-07-04T00:00:00-03:00",
          "2024-07-05T00:00:00-03:00",
          "2024-07-08T00:00:00-03:00",
          "2024-07-09T00:00:00-03:00",
          "2024-07-10T00:00:00-03:00",
          "2024-07-11T00:00:00-03:00",
          "2024-07-12T00:00:00-03:00",
          "2024-07-15T00:00:00-03:00",
          "2024-07-16T00:00:00-03:00",
          "2024-07-17T00:00:00-03:00",
          "2024-07-18T00:00:00-03:00",
          "2024-07-19T00:00:00-03:00",
          "2024-07-22T00:00:00-03:00",
          "2024-07-23T00:00:00-03:00",
          "2024-07-24T00:00:00-03:00",
          "2024-07-25T00:00:00-03:00",
          "2024-07-26T00:00:00-03:00",
          "2024-07-29T00:00:00-03:00",
          "2024-07-30T00:00:00-03:00",
          "2024-07-31T00:00:00-03:00",
          "2024-08-01T00:00:00-03:00",
          "2024-08-02T00:00:00-03:00",
          "2024-08-05T00:00:00-03:00",
          "2024-08-06T00:00:00-03:00",
          "2024-08-07T00:00:00-03:00",
          "2024-08-08T00:00:00-03:00",
          "2024-08-09T00:00:00-03:00",
          "2024-08-12T00:00:00-03:00",
          "2024-08-13T00:00:00-03:00",
          "2024-08-14T00:00:00-03:00",
          "2024-08-15T00:00:00-03:00",
          "2024-08-16T00:00:00-03:00",
          "2024-08-19T00:00:00-03:00",
          "2024-08-20T00:00:00-03:00",
          "2024-08-21T00:00:00-03:00",
          "2024-08-22T00:00:00-03:00",
          "2024-08-23T00:00:00-03:00",
          "2024-08-26T00:00:00-03:00",
          "2024-08-27T00:00:00-03:00",
          "2024-08-28T00:00:00-03:00",
          "2024-08-29T00:00:00-03:00",
          "2024-08-30T00:00:00-03:00",
          "2024-09-02T00:00:00-03:00",
          "2024-09-03T00:00:00-03:00",
          "2024-09-04T00:00:00-03:00",
          "2024-09-05T00:00:00-03:00",
          "2024-09-06T00:00:00-03:00",
          "2024-09-09T00:00:00-03:00",
          "2024-09-10T00:00:00-03:00",
          "2024-09-11T00:00:00-03:00",
          "2024-09-12T00:00:00-03:00",
          "2024-09-13T00:00:00-03:00",
          "2024-09-16T00:00:00-03:00",
          "2024-09-17T00:00:00-03:00",
          "2024-09-18T00:00:00-03:00",
          "2024-09-19T00:00:00-03:00",
          "2024-09-20T00:00:00-03:00",
          "2024-09-23T00:00:00-03:00",
          "2024-09-24T00:00:00-03:00",
          "2024-09-25T00:00:00-03:00",
          "2024-09-26T00:00:00-03:00",
          "2024-09-27T00:00:00-03:00",
          "2024-09-30T00:00:00-03:00",
          "2024-10-01T00:00:00-03:00",
          "2024-10-02T00:00:00-03:00",
          "2024-10-03T00:00:00-03:00",
          "2024-10-04T00:00:00-03:00",
          "2024-10-07T00:00:00-03:00",
          "2024-10-08T00:00:00-03:00",
          "2024-10-09T00:00:00-03:00",
          "2024-10-10T00:00:00-03:00",
          "2024-10-11T00:00:00-03:00",
          "2024-10-14T00:00:00-03:00",
          "2024-10-15T00:00:00-03:00",
          "2024-10-16T00:00:00-03:00",
          "2024-10-17T00:00:00-03:00",
          "2024-10-18T00:00:00-03:00",
          "2024-10-21T00:00:00-03:00",
          "2024-10-22T00:00:00-03:00",
          "2024-10-23T00:00:00-03:00",
          "2024-10-24T00:00:00-03:00",
          "2024-10-25T00:00:00-03:00",
          "2024-10-28T00:00:00-03:00",
          "2024-10-29T00:00:00-03:00",
          "2024-10-30T00:00:00-03:00",
          "2024-10-31T00:00:00-03:00",
          "2024-11-01T00:00:00-03:00",
          "2024-11-04T00:00:00-03:00",
          "2024-11-05T00:00:00-03:00",
          "2024-11-06T00:00:00-03:00",
          "2024-11-07T00:00:00-03:00",
          "2024-11-08T00:00:00-03:00",
          "2024-11-11T00:00:00-03:00",
          "2024-11-12T00:00:00-03:00",
          "2024-11-13T00:00:00-03:00",
          "2024-11-14T00:00:00-03:00",
          "2024-11-18T00:00:00-03:00",
          "2024-11-19T00:00:00-03:00",
          "2024-11-21T00:00:00-03:00",
          "2024-11-22T00:00:00-03:00",
          "2024-11-25T00:00:00-03:00",
          "2024-11-26T00:00:00-03:00",
          "2024-11-27T00:00:00-03:00",
          "2024-11-28T00:00:00-03:00"
         ],
         "y": [
          67.97783660888672,
          67.11747741699219,
          66.11066436767578,
          66.45848083496094,
          65.61642456054688,
          65.48828125,
          64.63706970214844,
          63.47465515136719,
          63.15431213378906,
          62.33055877685547,
          62.05598068237305,
          63.33736801147461,
          63.97806167602539,
          62.40378189086914,
          63.6119499206543,
          63.309906005859375,
          62.95294952392578,
          62.01936340332031,
          61.735626220703125,
          60.48169708251953,
          59.95998764038086,
          61.02170944213867,
          61.14069747924805,
          60.60068130493164,
          60.33525085449219,
          60.15219497680664,
          59.95998764038086,
          62.23903274536133,
          61.77223587036133,
          60.41762924194336,
          60.87526321411133,
          61.52511978149414,
          61.67155838012695,
          60.17965316772461,
          61.763092041015625,
          61.085777282714844,
          61.31459426879883,
          61.21391677856445,
          61.076629638671875,
          60.27117919921875,
          61.094932556152344,
          60.88441467285156,
          60.41762924194336,
          58.541297912597656,
          58.176551818847656,
          58.54947280883789,
          57.80362319946289,
          57.143829345703125,
          58.233924865722656,
          58.7120361328125,
          59.104087829589844,
          58.96065139770508,
          58.281734466552734,
          58.15742492675781,
          57.4211311340332,
          57.94705581665039,
          58.166988372802734,
          58.5399169921875,
          59.2283935546875,
          58.37735366821289,
          57.72712326049805,
          57.09601593017578,
          60.21330261230469,
          59.81168746948242,
          58.90327453613281,
          59.15189743041992,
          58.93196487426758,
          59.276206970214844,
          58.75027847290039,
          59.39094924926758,
          59.61088180541992,
          60.58623123168945,
          60.55754470825195,
          60.0316162109375,
          60.77747344970703,
          59.49613571166992,
          59.49613571166992,
          61.10259246826172,
          60.51929473876953,
          61.12171173095703,
          61.18864822387695,
          61.370330810546875,
          61.7528190612793,
          61.18864822387695,
          61.68588638305664,
          61.47551727294922,
          61.8388786315918,
          61.800628662109375,
          61.61894989013672,
          62.06837844848633,
          63.282772064208984,
          63.254093170166016,
          63.07240676879883,
          62.575172424316406,
          62.202247619628906,
          62.23093032836914,
          62.44130325317383,
          61.09302520751953,
          60.47148132324219,
          60.43323516845703,
          59.16145706176758,
          58.55904006958008,
          57.72712326049805,
          58.53034973144531,
          57.76537322998047,
          58.396480560302734,
          58.310420989990234,
          57.50719451904297,
          58.166988372802734,
          57.96617889404297,
          57.73668670654297,
          58.00442886352539,
          58.18610763549805,
          58.7120361328125,
          58.166988372802734,
          58.233924865722656,
          57.994869232177734,
          58.7120361328125,
          58.86503219604492,
          59.49613571166992,
          60.375858306884766,
          60.17505645751953,
          61.370330810546875,
          61.06433868408203,
          60.81572341918945,
          60.337608337402344,
          60.261112213134766,
          59.44832229614258,
          59.295326232910156,
          60.165489196777344,
          60.23242950439453,
          59.601322174072266,
          59.04671096801758,
          58.49209976196289,
          58.44429016113281,
          58.37735366821289,
          57.59325408935547,
          57.94705581665039,
          57.91836929321289,
          58.778968811035156,
          58.8841552734375,
          57.58369445800781,
          58.93196487426758,
          57.61237716674805,
          56.80915069580078,
          56.51557159423828,
          56.803009033203125,
          56.6939811706543,
          56.34707260131836,
          56.55521774291992,
          56.267784118652344,
          56.019996643066406,
          55.50459289550781,
          55.73255920410156,
          55.58388900756836,
          56.47592544555664,
          56.6939811706543,
          57.78424835205078,
          57.86354064941406,
          56.8922119140625,
          57.53645706176758,
          59.27097702026367,
          58.84477996826172,
          58.7754020690918,
          59.05292510986328,
          58.22035598754883,
          56.04972839355469,
          56.48583984375,
          56.8922119140625,
          56.17858123779297,
          56.17858123779297,
          55.50459289550781,
          57.080528259277344,
          57.59592819213867,
          57.982479095458984,
          57.982479095458984,
          57.7049560546875,
          57.03097152709961,
          57.714866638183594,
          56.8426513671875,
          57.02105712890625,
          59.80620193481445,
          60.073814392089844,
          63.681610107421875,
          63.3941764831543,
          62.94815444946289,
          63.25541305541992,
          63.602317810058594,
          62.38319778442383,
          61.927268981933594,
          62.4724006652832,
          60.57929992675781,
          60.42071533203125,
          60.70814895629883,
          61.58036804199219,
          61.38213348388672,
          60.62885665893555,
          61.788509368896484,
          60.22248458862305,
          60.01434326171875,
          59.79629135131836,
          59.875579833984375,
          58.82495880126953,
          59.1718635559082,
          61.183902740478516,
          62.32373046875,
          62.10567855834961,
          61.9173583984375,
          61.510986328125,
          61.48125076293945,
          62.11558532714844,
          61.57045364379883,
          60.876644134521484,
          62.99771499633789,
          60.09363555908203,
          58.13115310668945,
          56.81291580200195,
          56.65433120727539,
          56.337162017822266,
          57.0408821105957,
          57.16973114013672,
          57.11026382446289,
          57.66530990600586,
          57.6553955078125,
          56.92194366455078,
          57.615753173828125,
          57.02105712890625
         ]
        }
       ],
       "layout": {
        "height": 600,
        "hovermode": "x unified",
        "legend": {
         "x": 0,
         "y": 1
        },
        "template": {
         "data": {
          "bar": [
           {
            "error_x": {
             "color": "#f2f5fa"
            },
            "error_y": {
             "color": "#f2f5fa"
            },
            "marker": {
             "line": {
              "color": "rgb(17,17,17)",
              "width": 0.5
             },
             "pattern": {
              "fillmode": "overlay",
              "size": 10,
              "solidity": 0.2
             }
            },
            "type": "bar"
           }
          ],
          "barpolar": [
           {
            "marker": {
             "line": {
              "color": "rgb(17,17,17)",
              "width": 0.5
             },
             "pattern": {
              "fillmode": "overlay",
              "size": 10,
              "solidity": 0.2
             }
            },
            "type": "barpolar"
           }
          ],
          "carpet": [
           {
            "aaxis": {
             "endlinecolor": "#A2B1C6",
             "gridcolor": "#506784",
             "linecolor": "#506784",
             "minorgridcolor": "#506784",
             "startlinecolor": "#A2B1C6"
            },
            "baxis": {
             "endlinecolor": "#A2B1C6",
             "gridcolor": "#506784",
             "linecolor": "#506784",
             "minorgridcolor": "#506784",
             "startlinecolor": "#A2B1C6"
            },
            "type": "carpet"
           }
          ],
          "choropleth": [
           {
            "colorbar": {
             "outlinewidth": 0,
             "ticks": ""
            },
            "type": "choropleth"
           }
          ],
          "contour": [
           {
            "colorbar": {
             "outlinewidth": 0,
             "ticks": ""
            },
            "colorscale": [
             [
              0,
              "#0d0887"
             ],
             [
              0.1111111111111111,
              "#46039f"
             ],
             [
              0.2222222222222222,
              "#7201a8"
             ],
             [
              0.3333333333333333,
              "#9c179e"
             ],
             [
              0.4444444444444444,
              "#bd3786"
             ],
             [
              0.5555555555555556,
              "#d8576b"
             ],
             [
              0.6666666666666666,
              "#ed7953"
             ],
             [
              0.7777777777777778,
              "#fb9f3a"
             ],
             [
              0.8888888888888888,
              "#fdca26"
             ],
             [
              1,
              "#f0f921"
             ]
            ],
            "type": "contour"
           }
          ],
          "contourcarpet": [
           {
            "colorbar": {
             "outlinewidth": 0,
             "ticks": ""
            },
            "type": "contourcarpet"
           }
          ],
          "heatmap": [
           {
            "colorbar": {
             "outlinewidth": 0,
             "ticks": ""
            },
            "colorscale": [
             [
              0,
              "#0d0887"
             ],
             [
              0.1111111111111111,
              "#46039f"
             ],
             [
              0.2222222222222222,
              "#7201a8"
             ],
             [
              0.3333333333333333,
              "#9c179e"
             ],
             [
              0.4444444444444444,
              "#bd3786"
             ],
             [
              0.5555555555555556,
              "#d8576b"
             ],
             [
              0.6666666666666666,
              "#ed7953"
             ],
             [
              0.7777777777777778,
              "#fb9f3a"
             ],
             [
              0.8888888888888888,
              "#fdca26"
             ],
             [
              1,
              "#f0f921"
             ]
            ],
            "type": "heatmap"
           }
          ],
          "heatmapgl": [
           {
            "colorbar": {
             "outlinewidth": 0,
             "ticks": ""
            },
            "colorscale": [
             [
              0,
              "#0d0887"
             ],
             [
              0.1111111111111111,
              "#46039f"
             ],
             [
              0.2222222222222222,
              "#7201a8"
             ],
             [
              0.3333333333333333,
              "#9c179e"
             ],
             [
              0.4444444444444444,
              "#bd3786"
             ],
             [
              0.5555555555555556,
              "#d8576b"
             ],
             [
              0.6666666666666666,
              "#ed7953"
             ],
             [
              0.7777777777777778,
              "#fb9f3a"
             ],
             [
              0.8888888888888888,
              "#fdca26"
             ],
             [
              1,
              "#f0f921"
             ]
            ],
            "type": "heatmapgl"
           }
          ],
          "histogram": [
           {
            "marker": {
             "pattern": {
              "fillmode": "overlay",
              "size": 10,
              "solidity": 0.2
             }
            },
            "type": "histogram"
           }
          ],
          "histogram2d": [
           {
            "colorbar": {
             "outlinewidth": 0,
             "ticks": ""
            },
            "colorscale": [
             [
              0,
              "#0d0887"
             ],
             [
              0.1111111111111111,
              "#46039f"
             ],
             [
              0.2222222222222222,
              "#7201a8"
             ],
             [
              0.3333333333333333,
              "#9c179e"
             ],
             [
              0.4444444444444444,
              "#bd3786"
             ],
             [
              0.5555555555555556,
              "#d8576b"
             ],
             [
              0.6666666666666666,
              "#ed7953"
             ],
             [
              0.7777777777777778,
              "#fb9f3a"
             ],
             [
              0.8888888888888888,
              "#fdca26"
             ],
             [
              1,
              "#f0f921"
             ]
            ],
            "type": "histogram2d"
           }
          ],
          "histogram2dcontour": [
           {
            "colorbar": {
             "outlinewidth": 0,
             "ticks": ""
            },
            "colorscale": [
             [
              0,
              "#0d0887"
             ],
             [
              0.1111111111111111,
              "#46039f"
             ],
             [
              0.2222222222222222,
              "#7201a8"
             ],
             [
              0.3333333333333333,
              "#9c179e"
             ],
             [
              0.4444444444444444,
              "#bd3786"
             ],
             [
              0.5555555555555556,
              "#d8576b"
             ],
             [
              0.6666666666666666,
              "#ed7953"
             ],
             [
              0.7777777777777778,
              "#fb9f3a"
             ],
             [
              0.8888888888888888,
              "#fdca26"
             ],
             [
              1,
              "#f0f921"
             ]
            ],
            "type": "histogram2dcontour"
           }
          ],
          "mesh3d": [
           {
            "colorbar": {
             "outlinewidth": 0,
             "ticks": ""
            },
            "type": "mesh3d"
           }
          ],
          "parcoords": [
           {
            "line": {
             "colorbar": {
              "outlinewidth": 0,
              "ticks": ""
             }
            },
            "type": "parcoords"
           }
          ],
          "pie": [
           {
            "automargin": true,
            "type": "pie"
           }
          ],
          "scatter": [
           {
            "marker": {
             "line": {
              "color": "#283442"
             }
            },
            "type": "scatter"
           }
          ],
          "scatter3d": [
           {
            "line": {
             "colorbar": {
              "outlinewidth": 0,
              "ticks": ""
             }
            },
            "marker": {
             "colorbar": {
              "outlinewidth": 0,
              "ticks": ""
             }
            },
            "type": "scatter3d"
           }
          ],
          "scattercarpet": [
           {
            "marker": {
             "colorbar": {
              "outlinewidth": 0,
              "ticks": ""
             }
            },
            "type": "scattercarpet"
           }
          ],
          "scattergeo": [
           {
            "marker": {
             "colorbar": {
              "outlinewidth": 0,
              "ticks": ""
             }
            },
            "type": "scattergeo"
           }
          ],
          "scattergl": [
           {
            "marker": {
             "line": {
              "color": "#283442"
             }
            },
            "type": "scattergl"
           }
          ],
          "scattermapbox": [
           {
            "marker": {
             "colorbar": {
              "outlinewidth": 0,
              "ticks": ""
             }
            },
            "type": "scattermapbox"
           }
          ],
          "scatterpolar": [
           {
            "marker": {
             "colorbar": {
              "outlinewidth": 0,
              "ticks": ""
             }
            },
            "type": "scatterpolar"
           }
          ],
          "scatterpolargl": [
           {
            "marker": {
             "colorbar": {
              "outlinewidth": 0,
              "ticks": ""
             }
            },
            "type": "scatterpolargl"
           }
          ],
          "scatterternary": [
           {
            "marker": {
             "colorbar": {
              "outlinewidth": 0,
              "ticks": ""
             }
            },
            "type": "scatterternary"
           }
          ],
          "surface": [
           {
            "colorbar": {
             "outlinewidth": 0,
             "ticks": ""
            },
            "colorscale": [
             [
              0,
              "#0d0887"
             ],
             [
              0.1111111111111111,
              "#46039f"
             ],
             [
              0.2222222222222222,
              "#7201a8"
             ],
             [
              0.3333333333333333,
              "#9c179e"
             ],
             [
              0.4444444444444444,
              "#bd3786"
             ],
             [
              0.5555555555555556,
              "#d8576b"
             ],
             [
              0.6666666666666666,
              "#ed7953"
             ],
             [
              0.7777777777777778,
              "#fb9f3a"
             ],
             [
              0.8888888888888888,
              "#fdca26"
             ],
             [
              1,
              "#f0f921"
             ]
            ],
            "type": "surface"
           }
          ],
          "table": [
           {
            "cells": {
             "fill": {
              "color": "#506784"
             },
             "line": {
              "color": "rgb(17,17,17)"
             }
            },
            "header": {
             "fill": {
              "color": "#2a3f5f"
             },
             "line": {
              "color": "rgb(17,17,17)"
             }
            },
            "type": "table"
           }
          ]
         },
         "layout": {
          "annotationdefaults": {
           "arrowcolor": "#f2f5fa",
           "arrowhead": 0,
           "arrowwidth": 1
          },
          "autotypenumbers": "strict",
          "coloraxis": {
           "colorbar": {
            "outlinewidth": 0,
            "ticks": ""
           }
          },
          "colorscale": {
           "diverging": [
            [
             0,
             "#8e0152"
            ],
            [
             0.1,
             "#c51b7d"
            ],
            [
             0.2,
             "#de77ae"
            ],
            [
             0.3,
             "#f1b6da"
            ],
            [
             0.4,
             "#fde0ef"
            ],
            [
             0.5,
             "#f7f7f7"
            ],
            [
             0.6,
             "#e6f5d0"
            ],
            [
             0.7,
             "#b8e186"
            ],
            [
             0.8,
             "#7fbc41"
            ],
            [
             0.9,
             "#4d9221"
            ],
            [
             1,
             "#276419"
            ]
           ],
           "sequential": [
            [
             0,
             "#0d0887"
            ],
            [
             0.1111111111111111,
             "#46039f"
            ],
            [
             0.2222222222222222,
             "#7201a8"
            ],
            [
             0.3333333333333333,
             "#9c179e"
            ],
            [
             0.4444444444444444,
             "#bd3786"
            ],
            [
             0.5555555555555556,
             "#d8576b"
            ],
            [
             0.6666666666666666,
             "#ed7953"
            ],
            [
             0.7777777777777778,
             "#fb9f3a"
            ],
            [
             0.8888888888888888,
             "#fdca26"
            ],
            [
             1,
             "#f0f921"
            ]
           ],
           "sequentialminus": [
            [
             0,
             "#0d0887"
            ],
            [
             0.1111111111111111,
             "#46039f"
            ],
            [
             0.2222222222222222,
             "#7201a8"
            ],
            [
             0.3333333333333333,
             "#9c179e"
            ],
            [
             0.4444444444444444,
             "#bd3786"
            ],
            [
             0.5555555555555556,
             "#d8576b"
            ],
            [
             0.6666666666666666,
             "#ed7953"
            ],
            [
             0.7777777777777778,
             "#fb9f3a"
            ],
            [
             0.8888888888888888,
             "#fdca26"
            ],
            [
             1,
             "#f0f921"
            ]
           ]
          },
          "colorway": [
           "#636efa",
           "#EF553B",
           "#00cc96",
           "#ab63fa",
           "#FFA15A",
           "#19d3f3",
           "#FF6692",
           "#B6E880",
           "#FF97FF",
           "#FECB52"
          ],
          "font": {
           "color": "#f2f5fa"
          },
          "geo": {
           "bgcolor": "rgb(17,17,17)",
           "lakecolor": "rgb(17,17,17)",
           "landcolor": "rgb(17,17,17)",
           "showlakes": true,
           "showland": true,
           "subunitcolor": "#506784"
          },
          "hoverlabel": {
           "align": "left"
          },
          "hovermode": "closest",
          "mapbox": {
           "style": "dark"
          },
          "paper_bgcolor": "rgb(17,17,17)",
          "plot_bgcolor": "rgb(17,17,17)",
          "polar": {
           "angularaxis": {
            "gridcolor": "#506784",
            "linecolor": "#506784",
            "ticks": ""
           },
           "bgcolor": "rgb(17,17,17)",
           "radialaxis": {
            "gridcolor": "#506784",
            "linecolor": "#506784",
            "ticks": ""
           }
          },
          "scene": {
           "xaxis": {
            "backgroundcolor": "rgb(17,17,17)",
            "gridcolor": "#506784",
            "gridwidth": 2,
            "linecolor": "#506784",
            "showbackground": true,
            "ticks": "",
            "zerolinecolor": "#C8D4E3"
           },
           "yaxis": {
            "backgroundcolor": "rgb(17,17,17)",
            "gridcolor": "#506784",
            "gridwidth": 2,
            "linecolor": "#506784",
            "showbackground": true,
            "ticks": "",
            "zerolinecolor": "#C8D4E3"
           },
           "zaxis": {
            "backgroundcolor": "rgb(17,17,17)",
            "gridcolor": "#506784",
            "gridwidth": 2,
            "linecolor": "#506784",
            "showbackground": true,
            "ticks": "",
            "zerolinecolor": "#C8D4E3"
           }
          },
          "shapedefaults": {
           "line": {
            "color": "#f2f5fa"
           }
          },
          "sliderdefaults": {
           "bgcolor": "#C8D4E3",
           "bordercolor": "rgb(17,17,17)",
           "borderwidth": 1,
           "tickwidth": 0
          },
          "ternary": {
           "aaxis": {
            "gridcolor": "#506784",
            "linecolor": "#506784",
            "ticks": ""
           },
           "baxis": {
            "gridcolor": "#506784",
            "linecolor": "#506784",
            "ticks": ""
           },
           "bgcolor": "rgb(17,17,17)",
           "caxis": {
            "gridcolor": "#506784",
            "linecolor": "#506784",
            "ticks": ""
           }
          },
          "title": {
           "x": 0.05
          },
          "updatemenudefaults": {
           "bgcolor": "#506784",
           "borderwidth": 0
          },
          "xaxis": {
           "automargin": true,
           "gridcolor": "#283442",
           "linecolor": "#506784",
           "ticks": "",
           "title": {
            "standoff": 15
           },
           "zerolinecolor": "#283442",
           "zerolinewidth": 2
          },
          "yaxis": {
           "automargin": true,
           "gridcolor": "#283442",
           "linecolor": "#506784",
           "ticks": "",
           "title": {
            "standoff": 15
           },
           "zerolinecolor": "#283442",
           "zerolinewidth": 2
          }
         }
        },
        "title": {
         "text": "Comparação entre Previsões e Preços Reais"
        },
        "width": 1000,
        "xaxis": {
         "title": {
          "text": "Data"
         }
        },
        "yaxis": {
         "title": {
          "text": "Preço Fechamento"
         }
        }
       }
      }
     },
     "metadata": {},
     "output_type": "display_data"
    }
   ],
   "source": [
    "import pandas as pd\n",
    "import numpy as np\n",
    "import datetime\n",
    "import yfinance as yf\n",
    "import matplotlib.pyplot as plt\n",
    "from tensorflow.keras.models import Sequential\n",
    "from tensorflow.keras.optimizers import Adam\n",
    "from tensorflow.keras import layers\n",
    "# Buscar preços reais\n",
    "import plotly.graph_objects as go\n",
    "\n",
    "\n",
    "# Função para converter string em datetime\n",
    "def str_to_datetime(s):\n",
    "    split = s.split('-')\n",
    "    year, month, day = int(split[0]), int(split[1]), int(split[2])\n",
    "    return datetime.datetime(year=year, month=month, day=day)\n",
    "\n",
    "\n",
    "# Função para criar janelas de dados\n",
    "def df_to_windowed_df(dataframe, first_date_str, last_date_str, n):\n",
    "    first_date = str_to_datetime(first_date_str)\n",
    "    last_date = str_to_datetime(last_date_str)\n",
    "\n",
    "    target_date = first_date\n",
    "    dates = []\n",
    "    X, Y = [], []\n",
    "\n",
    "    last_time = False\n",
    "    while True:\n",
    "        df_subset = dataframe.loc[:target_date].tail(n + 1)\n",
    "\n",
    "        if len(df_subset) != n + 1:\n",
    "            print(f'Erro: Janela de tamanho {n} é muito grande para a data {target_date}')\n",
    "            return None\n",
    "\n",
    "        values = df_subset['Close'].to_numpy()\n",
    "        x, y = values[:-1], values[-1]\n",
    "\n",
    "        dates.append(target_date)\n",
    "        X.append(x)\n",
    "        Y.append(y)\n",
    "\n",
    "        next_week = dataframe.loc[target_date:target_date + datetime.timedelta(days=7)]\n",
    "        if len(next_week) < 2:\n",
    "            break\n",
    "\n",
    "        next_datetime_str = str(next_week.head(2).tail(1).index.values[0])\n",
    "        next_date_str = next_datetime_str.split('T')[0]\n",
    "        year, month, day = map(int, next_date_str.split('-'))\n",
    "        next_date = datetime.datetime(year=year, month=month, day=day)\n",
    "\n",
    "        if last_time:\n",
    "            break\n",
    "\n",
    "        target_date = next_date\n",
    "        if target_date == last_date:\n",
    "            last_time = True\n",
    "\n",
    "    ret_df = pd.DataFrame({})\n",
    "    ret_df['Target Date'] = dates\n",
    "\n",
    "    X = np.array(X)\n",
    "    for i in range(n):\n",
    "        ret_df[f'Target-{n-i}'] = X[:, i]\n",
    "\n",
    "    ret_df['Target'] = Y\n",
    "\n",
    "    return ret_df\n",
    "\n",
    "def adjust_dates_to_available(df, start_date, end_date):\n",
    "    if start_date not in df.index:\n",
    "        start_date = df.index[df.index.get_indexer([start_date], method='nearest')[0]]\n",
    "        print(f'Data inicial ajustada para {start_date}')\n",
    "\n",
    "    if end_date not in df.index:\n",
    "        end_date = df.index[df.index.get_indexer([end_date], method='nearest')[0]]\n",
    "        print(f'Data final ajustada para {end_date}')\n",
    "    \n",
    "    return start_date, end_date\n",
    "\n",
    "# Função para converter janela para entrada do modelo\n",
    "def windowed_df_to_date_X_y(windowed_dataframe):\n",
    "    if windowed_dataframe is None or windowed_dataframe.empty:\n",
    "        raise ValueError(\"O DataFrame de janela está vazio ou é None. Verifique as entradas.\")\n",
    "\n",
    "    df_as_np = windowed_dataframe.to_numpy()\n",
    "    dates = df_as_np[:, 0]\n",
    "    middle_matrix = df_as_np[:, 1:-1]\n",
    "    X = middle_matrix.reshape((len(dates), middle_matrix.shape[1], 1))\n",
    "    Y = df_as_np[:, -1]\n",
    "\n",
    "    return dates, X.astype(np.float32), Y.astype(np.float32)\n",
    "\n",
    "\n",
    "# Treinamento do modelo\n",
    "def train_model(ticker, start_date, end_date, window_size):\n",
    "    df = yf.Ticker(ticker).history(period='max')\n",
    "    df = df[['Close']]\n",
    "    \n",
    "    # Garantir que o índice seja datetime sem timezone e sem hora\n",
    "    df.index = pd.to_datetime(df.index).tz_convert(None).normalize()\n",
    "\n",
    "    # Garantir que start_date e end_date também estejam normalizadas\n",
    "    start_date = pd.to_datetime(start_date).normalize()\n",
    "    end_date = pd.to_datetime(end_date).normalize()\n",
    "\n",
    "    start_date, end_date = adjust_dates_to_available(df, start_date, end_date)\n",
    "\n",
    "    windowed_df = df_to_windowed_df(df, start_date.strftime('%Y-%m-%d'), end_date.strftime('%Y-%m-%d'), n=window_size)\n",
    "\n",
    "    if windowed_df is None or windowed_df.empty:\n",
    "        raise ValueError(\"Erro: df_to_windowed_df retornou um DataFrame vazio ou None.\")\n",
    "\n",
    "    dates, X, y = windowed_df_to_date_X_y(windowed_df)\n",
    "\n",
    "    q_80 = int(len(dates) * .8)\n",
    "    q_90 = int(len(dates) * .9)\n",
    "\n",
    "    dates_train, X_train, y_train = dates[:q_80], X[:q_80], y[:q_80]\n",
    "    dates_val, X_val, y_val = dates[q_80:q_90], X[q_80:q_90], y[q_80:q_90]\n",
    "    dates_test, X_test, y_test = dates[q_90:], X[q_90:], y[q_90:]\n",
    "\n",
    "    model = Sequential([\n",
    "        layers.Input((window_size, 1)),\n",
    "        layers.LSTM(70),\n",
    "        layers.Dense(32, activation='relu'),\n",
    "        layers.Dense(32, activation='relu'),\n",
    "        layers.Dense(1)\n",
    "    ])\n",
    "\n",
    "    model.compile(loss='mse',\n",
    "                  optimizer=Adam(learning_rate=0.001),\n",
    "                  metrics=['mean_absolute_error'])\n",
    "\n",
    "    model.fit(X_train, y_train, validation_data=(X_val, y_val), epochs=65)\n",
    "\n",
    "    return model, dates_test, X_test\n",
    "\n",
    "\n",
    "# Parâmetros do modelo\n",
    "ticker = 'VALE3.SA'\n",
    "start_date = '2024-01-08'\n",
    "end_date = '2024-11-29'\n",
    "window_size = 5\n",
    "\n",
    "# Treinamento do modelo\n",
    "model, dates_test, X_test = train_model(ticker, start_date, end_date, window_size)\n",
    "\n",
    "# Predições para datas futuras\n",
    "future_predictions = model.predict(X_test).flatten()\n",
    "\n",
    "# Plot das previsões futuras\n",
    "plt.figure(figsize=(12, 6))\n",
    "plt.plot(dates_test, future_predictions, label='Future Predictions', color='orange')\n",
    "plt.title('Previsões Futuras do Modelo')\n",
    "plt.xlabel('Data')\n",
    "plt.ylabel('Preço Fechamento Previsto')\n",
    "plt.legend()\n",
    "plt.show()\n",
    "#=============== in case you have the data\n",
    "def get_actual_prices(ticker, start_date, end_date):\n",
    "    df = yf.Ticker(ticker).history(start=start_date, end=end_date)\n",
    "    df = df[['Close']]\n",
    "    df.index = pd.to_datetime(df.index).normalize()\n",
    "    return df\n",
    "\n",
    "\n",
    "# Buscar preços reais\n",
    "actual_prices_df = get_actual_prices(ticker, start_date, end_date)\n",
    "actual_dates = actual_prices_df.index\n",
    "actual_prices = actual_prices_df['Close'].to_numpy()\n",
    "\n",
    "# Plot com Plotly\n",
    "fig = go.Figure()\n",
    "\n",
    "# Adicionar previsões futuras\n",
    "fig.add_trace(go.Scatter(\n",
    "    x=dates_test,\n",
    "    y=future_predictions,\n",
    "    mode='lines',\n",
    "    name='Future Predictions',\n",
    "    line=dict(color='orange')\n",
    "))\n",
    "\n",
    "# Adicionar preços reais\n",
    "fig.add_trace(go.Scatter(\n",
    "    x=actual_dates,\n",
    "    y=actual_prices,\n",
    "    mode='lines',\n",
    "    name='Actual Prices',\n",
    "    line=dict(color='blue')\n",
    "))\n",
    "\n",
    "# Layout do gráfico\n",
    "fig.update_layout(\n",
    "    title='Comparação entre Previsões e Preços Reais',\n",
    "    xaxis_title='Data',\n",
    "    yaxis_title='Preço Fechamento',\n",
    "    legend=dict(x=0, y=1),\n",
    "    template='plotly_dark',\n",
    "    hovermode='x unified',\n",
    "    width=1000,\n",
    "    height=600\n",
    ")\n",
    "\n",
    "# Mostrar gráfico\n",
    "fig.show()\n"
   ]
  },
  {
   "cell_type": "code",
   "execution_count": null,
   "metadata": {},
   "outputs": [
    {
     "name": "stdout",
     "output_type": "stream",
     "text": [
      "Epoch 1/100\n",
      "\u001b[1m6/6\u001b[0m \u001b[32m━━━━━━━━━━━━━━━━━━━━\u001b[0m\u001b[37m\u001b[0m \u001b[1m4s\u001b[0m 100ms/step - loss: 2936.8250 - val_loss: 2104.8176\n",
      "Epoch 2/100\n",
      "\u001b[1m6/6\u001b[0m \u001b[32m━━━━━━━━━━━━━━━━━━━━\u001b[0m\u001b[37m\u001b[0m \u001b[1m0s\u001b[0m 20ms/step - loss: 2982.1831 - val_loss: 2104.2671\n",
      "Epoch 3/100\n",
      "\u001b[1m6/6\u001b[0m \u001b[32m━━━━━━━━━━━━━━━━━━━━\u001b[0m\u001b[37m\u001b[0m \u001b[1m0s\u001b[0m 23ms/step - loss: 2981.3203 - val_loss: 2103.7170\n",
      "Epoch 4/100\n",
      "\u001b[1m6/6\u001b[0m \u001b[32m━━━━━━━━━━━━━━━━━━━━\u001b[0m\u001b[37m\u001b[0m \u001b[1m0s\u001b[0m 20ms/step - loss: 3000.6926 - val_loss: 2103.1670\n",
      "Epoch 5/100\n",
      "\u001b[1m6/6\u001b[0m \u001b[32m━━━━━━━━━━━━━━━━━━━━\u001b[0m\u001b[37m\u001b[0m \u001b[1m0s\u001b[0m 20ms/step - loss: 2993.7407 - val_loss: 2102.6172\n",
      "Epoch 6/100\n",
      "\u001b[1m6/6\u001b[0m \u001b[32m━━━━━━━━━━━━━━━━━━━━\u001b[0m\u001b[37m\u001b[0m \u001b[1m0s\u001b[0m 19ms/step - loss: 2968.9639 - val_loss: 2102.0679\n",
      "Epoch 7/100\n",
      "\u001b[1m6/6\u001b[0m \u001b[32m━━━━━━━━━━━━━━━━━━━━\u001b[0m\u001b[37m\u001b[0m \u001b[1m0s\u001b[0m 20ms/step - loss: 2950.6240 - val_loss: 2101.5181\n",
      "Epoch 8/100\n",
      "\u001b[1m6/6\u001b[0m \u001b[32m━━━━━━━━━━━━━━━━━━━━\u001b[0m\u001b[37m\u001b[0m \u001b[1m0s\u001b[0m 19ms/step - loss: 2985.0547 - val_loss: 2100.9685\n",
      "Epoch 9/100\n",
      "\u001b[1m6/6\u001b[0m \u001b[32m━━━━━━━━━━━━━━━━━━━━\u001b[0m\u001b[37m\u001b[0m \u001b[1m0s\u001b[0m 19ms/step - loss: 2970.3113 - val_loss: 2100.4185\n",
      "Epoch 10/100\n",
      "\u001b[1m6/6\u001b[0m \u001b[32m━━━━━━━━━━━━━━━━━━━━\u001b[0m\u001b[37m\u001b[0m \u001b[1m0s\u001b[0m 20ms/step - loss: 2927.9507 - val_loss: 2099.8689\n",
      "Epoch 11/100\n",
      "\u001b[1m6/6\u001b[0m \u001b[32m━━━━━━━━━━━━━━━━━━━━\u001b[0m\u001b[37m\u001b[0m \u001b[1m0s\u001b[0m 19ms/step - loss: 2942.5930 - val_loss: 2099.3188\n",
      "Epoch 12/100\n",
      "\u001b[1m6/6\u001b[0m \u001b[32m━━━━━━━━━━━━━━━━━━━━\u001b[0m\u001b[37m\u001b[0m \u001b[1m0s\u001b[0m 20ms/step - loss: 2903.2827 - val_loss: 2098.7703\n",
      "Epoch 13/100\n",
      "\u001b[1m6/6\u001b[0m \u001b[32m━━━━━━━━━━━━━━━━━━━━\u001b[0m\u001b[37m\u001b[0m \u001b[1m0s\u001b[0m 18ms/step - loss: 2977.1868 - val_loss: 2098.2197\n",
      "Epoch 14/100\n",
      "\u001b[1m6/6\u001b[0m \u001b[32m━━━━━━━━━━━━━━━━━━━━\u001b[0m\u001b[37m\u001b[0m \u001b[1m0s\u001b[0m 19ms/step - loss: 2911.3340 - val_loss: 2097.6711\n",
      "Epoch 15/100\n",
      "\u001b[1m6/6\u001b[0m \u001b[32m━━━━━━━━━━━━━━━━━━━━\u001b[0m\u001b[37m\u001b[0m \u001b[1m0s\u001b[0m 20ms/step - loss: 2972.1174 - val_loss: 2097.1213\n",
      "Epoch 16/100\n",
      "\u001b[1m6/6\u001b[0m \u001b[32m━━━━━━━━━━━━━━━━━━━━\u001b[0m\u001b[37m\u001b[0m \u001b[1m0s\u001b[0m 20ms/step - loss: 2925.4709 - val_loss: 2096.5728\n",
      "Epoch 17/100\n",
      "\u001b[1m6/6\u001b[0m \u001b[32m━━━━━━━━━━━━━━━━━━━━\u001b[0m\u001b[37m\u001b[0m \u001b[1m0s\u001b[0m 23ms/step - loss: 2938.0105 - val_loss: 2096.0242\n",
      "Epoch 18/100\n",
      "\u001b[1m6/6\u001b[0m \u001b[32m━━━━━━━━━━━━━━━━━━━━\u001b[0m\u001b[37m\u001b[0m \u001b[1m0s\u001b[0m 23ms/step - loss: 2988.4929 - val_loss: 2095.4751\n",
      "Epoch 19/100\n",
      "\u001b[1m6/6\u001b[0m \u001b[32m━━━━━━━━━━━━━━━━━━━━\u001b[0m\u001b[37m\u001b[0m \u001b[1m0s\u001b[0m 25ms/step - loss: 2960.1357 - val_loss: 2094.9272\n",
      "Epoch 20/100\n",
      "\u001b[1m6/6\u001b[0m \u001b[32m━━━━━━━━━━━━━━━━━━━━\u001b[0m\u001b[37m\u001b[0m \u001b[1m0s\u001b[0m 22ms/step - loss: 2965.5913 - val_loss: 2094.3787\n",
      "Epoch 21/100\n",
      "\u001b[1m6/6\u001b[0m \u001b[32m━━━━━━━━━━━━━━━━━━━━\u001b[0m\u001b[37m\u001b[0m \u001b[1m0s\u001b[0m 20ms/step - loss: 3026.1367 - val_loss: 2093.8296\n",
      "Epoch 22/100\n",
      "\u001b[1m6/6\u001b[0m \u001b[32m━━━━━━━━━━━━━━━━━━━━\u001b[0m\u001b[37m\u001b[0m \u001b[1m0s\u001b[0m 27ms/step - loss: 2953.7205 - val_loss: 2093.2815\n",
      "Epoch 23/100\n",
      "\u001b[1m6/6\u001b[0m \u001b[32m━━━━━━━━━━━━━━━━━━━━\u001b[0m\u001b[37m\u001b[0m \u001b[1m0s\u001b[0m 24ms/step - loss: 2916.1494 - val_loss: 2092.7341\n",
      "Epoch 24/100\n",
      "\u001b[1m6/6\u001b[0m \u001b[32m━━━━━━━━━━━━━━━━━━━━\u001b[0m\u001b[37m\u001b[0m \u001b[1m0s\u001b[0m 22ms/step - loss: 2988.8662 - val_loss: 2092.1855\n",
      "Epoch 25/100\n",
      "\u001b[1m6/6\u001b[0m \u001b[32m━━━━━━━━━━━━━━━━━━━━\u001b[0m\u001b[37m\u001b[0m \u001b[1m0s\u001b[0m 22ms/step - loss: 2956.0190 - val_loss: 2091.6377\n",
      "Epoch 26/100\n",
      "\u001b[1m6/6\u001b[0m \u001b[32m━━━━━━━━━━━━━━━━━━━━\u001b[0m\u001b[37m\u001b[0m \u001b[1m0s\u001b[0m 30ms/step - loss: 2915.2842 - val_loss: 2091.0891\n",
      "Epoch 27/100\n",
      "\u001b[1m6/6\u001b[0m \u001b[32m━━━━━━━━━━━━━━━━━━━━\u001b[0m\u001b[37m\u001b[0m \u001b[1m0s\u001b[0m 25ms/step - loss: 2902.6743 - val_loss: 2090.5413\n",
      "Epoch 28/100\n",
      "\u001b[1m6/6\u001b[0m \u001b[32m━━━━━━━━━━━━━━━━━━━━\u001b[0m\u001b[37m\u001b[0m \u001b[1m0s\u001b[0m 27ms/step - loss: 2970.8472 - val_loss: 2089.9919\n",
      "Epoch 29/100\n",
      "\u001b[1m6/6\u001b[0m \u001b[32m━━━━━━━━━━━━━━━━━━━━\u001b[0m\u001b[37m\u001b[0m \u001b[1m0s\u001b[0m 30ms/step - loss: 2966.3823 - val_loss: 2089.4441\n",
      "Epoch 30/100\n",
      "\u001b[1m6/6\u001b[0m \u001b[32m━━━━━━━━━━━━━━━━━━━━\u001b[0m\u001b[37m\u001b[0m \u001b[1m0s\u001b[0m 26ms/step - loss: 2952.3809 - val_loss: 2088.8967\n",
      "Epoch 31/100\n",
      "\u001b[1m6/6\u001b[0m \u001b[32m━━━━━━━━━━━━━━━━━━━━\u001b[0m\u001b[37m\u001b[0m \u001b[1m0s\u001b[0m 25ms/step - loss: 2973.0793 - val_loss: 2088.3486\n",
      "Epoch 32/100\n",
      "\u001b[1m6/6\u001b[0m \u001b[32m━━━━━━━━━━━━━━━━━━━━\u001b[0m\u001b[37m\u001b[0m \u001b[1m0s\u001b[0m 27ms/step - loss: 2909.8032 - val_loss: 2087.8027\n",
      "Epoch 33/100\n",
      "\u001b[1m6/6\u001b[0m \u001b[32m━━━━━━━━━━━━━━━━━━━━\u001b[0m\u001b[37m\u001b[0m \u001b[1m0s\u001b[0m 22ms/step - loss: 2961.4709 - val_loss: 2087.2554\n",
      "Epoch 34/100\n",
      "\u001b[1m6/6\u001b[0m \u001b[32m━━━━━━━━━━━━━━━━━━━━\u001b[0m\u001b[37m\u001b[0m \u001b[1m0s\u001b[0m 30ms/step - loss: 2954.8750 - val_loss: 2086.7085\n",
      "Epoch 35/100\n",
      "\u001b[1m6/6\u001b[0m \u001b[32m━━━━━━━━━━━━━━━━━━━━\u001b[0m\u001b[37m\u001b[0m \u001b[1m0s\u001b[0m 33ms/step - loss: 2924.7100 - val_loss: 2086.1621\n",
      "Epoch 36/100\n",
      "\u001b[1m6/6\u001b[0m \u001b[32m━━━━━━━━━━━━━━━━━━━━\u001b[0m\u001b[37m\u001b[0m \u001b[1m0s\u001b[0m 26ms/step - loss: 2943.2324 - val_loss: 2085.6152\n",
      "Epoch 37/100\n",
      "\u001b[1m6/6\u001b[0m \u001b[32m━━━━━━━━━━━━━━━━━━━━\u001b[0m\u001b[37m\u001b[0m \u001b[1m0s\u001b[0m 22ms/step - loss: 2974.0364 - val_loss: 2085.0679\n",
      "Epoch 38/100\n",
      "\u001b[1m6/6\u001b[0m \u001b[32m━━━━━━━━━━━━━━━━━━━━\u001b[0m\u001b[37m\u001b[0m \u001b[1m0s\u001b[0m 23ms/step - loss: 2911.1313 - val_loss: 2084.5215\n",
      "Epoch 39/100\n",
      "\u001b[1m6/6\u001b[0m \u001b[32m━━━━━━━━━━━━━━━━━━━━\u001b[0m\u001b[37m\u001b[0m \u001b[1m0s\u001b[0m 24ms/step - loss: 2939.4219 - val_loss: 2083.9739\n",
      "Epoch 40/100\n",
      "\u001b[1m6/6\u001b[0m \u001b[32m━━━━━━━━━━━━━━━━━━━━\u001b[0m\u001b[37m\u001b[0m \u001b[1m0s\u001b[0m 22ms/step - loss: 2940.7253 - val_loss: 2083.4265\n",
      "Epoch 41/100\n",
      "\u001b[1m6/6\u001b[0m \u001b[32m━━━━━━━━━━━━━━━━━━━━\u001b[0m\u001b[37m\u001b[0m \u001b[1m0s\u001b[0m 25ms/step - loss: 3033.6631 - val_loss: 2082.8794\n",
      "Epoch 42/100\n",
      "\u001b[1m6/6\u001b[0m \u001b[32m━━━━━━━━━━━━━━━━━━━━\u001b[0m\u001b[37m\u001b[0m \u001b[1m0s\u001b[0m 21ms/step - loss: 2980.7400 - val_loss: 2082.3325\n",
      "Epoch 43/100\n",
      "\u001b[1m6/6\u001b[0m \u001b[32m━━━━━━━━━━━━━━━━━━━━\u001b[0m\u001b[37m\u001b[0m \u001b[1m0s\u001b[0m 22ms/step - loss: 2906.0215 - val_loss: 2081.7876\n",
      "Epoch 44/100\n",
      "\u001b[1m6/6\u001b[0m \u001b[32m━━━━━━━━━━━━━━━━━━━━\u001b[0m\u001b[37m\u001b[0m \u001b[1m0s\u001b[0m 24ms/step - loss: 2908.3362 - val_loss: 2081.2422\n",
      "Epoch 45/100\n",
      "\u001b[1m6/6\u001b[0m \u001b[32m━━━━━━━━━━━━━━━━━━━━\u001b[0m\u001b[37m\u001b[0m \u001b[1m0s\u001b[0m 19ms/step - loss: 2882.0764 - val_loss: 2080.6958\n",
      "Epoch 46/100\n",
      "\u001b[1m6/6\u001b[0m \u001b[32m━━━━━━━━━━━━━━━━━━━━\u001b[0m\u001b[37m\u001b[0m \u001b[1m0s\u001b[0m 25ms/step - loss: 2900.9548 - val_loss: 2080.1501\n",
      "Epoch 47/100\n",
      "\u001b[1m6/6\u001b[0m \u001b[32m━━━━━━━━━━━━━━━━━━━━\u001b[0m\u001b[37m\u001b[0m \u001b[1m0s\u001b[0m 25ms/step - loss: 2897.0925 - val_loss: 2079.6038\n",
      "Epoch 48/100\n",
      "\u001b[1m6/6\u001b[0m \u001b[32m━━━━━━━━━━━━━━━━━━━━\u001b[0m\u001b[37m\u001b[0m \u001b[1m0s\u001b[0m 20ms/step - loss: 2910.1594 - val_loss: 2079.0581\n",
      "Epoch 49/100\n",
      "\u001b[1m6/6\u001b[0m \u001b[32m━━━━━━━━━━━━━━━━━━━━\u001b[0m\u001b[37m\u001b[0m \u001b[1m0s\u001b[0m 26ms/step - loss: 2993.1614 - val_loss: 2078.5110\n",
      "Epoch 50/100\n",
      "\u001b[1m6/6\u001b[0m \u001b[32m━━━━━━━━━━━━━━━━━━━━\u001b[0m\u001b[37m\u001b[0m \u001b[1m0s\u001b[0m 22ms/step - loss: 2914.7444 - val_loss: 2077.9658\n",
      "Epoch 51/100\n",
      "\u001b[1m6/6\u001b[0m \u001b[32m━━━━━━━━━━━━━━━━━━━━\u001b[0m\u001b[37m\u001b[0m \u001b[1m0s\u001b[0m 21ms/step - loss: 2846.6526 - val_loss: 2077.4214\n",
      "Epoch 52/100\n",
      "\u001b[1m6/6\u001b[0m \u001b[32m━━━━━━━━━━━━━━━━━━━━\u001b[0m\u001b[37m\u001b[0m \u001b[1m0s\u001b[0m 25ms/step - loss: 2963.7095 - val_loss: 2076.8750\n",
      "Epoch 53/100\n",
      "\u001b[1m6/6\u001b[0m \u001b[32m━━━━━━━━━━━━━━━━━━━━\u001b[0m\u001b[37m\u001b[0m \u001b[1m0s\u001b[0m 24ms/step - loss: 2977.1062 - val_loss: 2076.3298\n",
      "Epoch 54/100\n",
      "\u001b[1m6/6\u001b[0m \u001b[32m━━━━━━━━━━━━━━━━━━━━\u001b[0m\u001b[37m\u001b[0m \u001b[1m0s\u001b[0m 25ms/step - loss: 2885.8984 - val_loss: 2075.7854\n",
      "Epoch 55/100\n",
      "\u001b[1m6/6\u001b[0m \u001b[32m━━━━━━━━━━━━━━━━━━━━\u001b[0m\u001b[37m\u001b[0m \u001b[1m0s\u001b[0m 26ms/step - loss: 2898.8889 - val_loss: 2075.2412\n",
      "Epoch 56/100\n",
      "\u001b[1m6/6\u001b[0m \u001b[32m━━━━━━━━━━━━━━━━━━━━\u001b[0m\u001b[37m\u001b[0m \u001b[1m0s\u001b[0m 22ms/step - loss: 2892.6362 - val_loss: 2074.6960\n",
      "Epoch 57/100\n",
      "\u001b[1m6/6\u001b[0m \u001b[32m━━━━━━━━━━━━━━━━━━━━\u001b[0m\u001b[37m\u001b[0m \u001b[1m0s\u001b[0m 24ms/step - loss: 2904.1230 - val_loss: 2074.1504\n",
      "Epoch 58/100\n",
      "\u001b[1m6/6\u001b[0m \u001b[32m━━━━━━━━━━━━━━━━━━━━\u001b[0m\u001b[37m\u001b[0m \u001b[1m0s\u001b[0m 22ms/step - loss: 2885.1589 - val_loss: 2073.6062\n",
      "Epoch 59/100\n",
      "\u001b[1m6/6\u001b[0m \u001b[32m━━━━━━━━━━━━━━━━━━━━\u001b[0m\u001b[37m\u001b[0m \u001b[1m0s\u001b[0m 25ms/step - loss: 2962.3447 - val_loss: 2073.0605\n",
      "Epoch 60/100\n",
      "\u001b[1m6/6\u001b[0m \u001b[32m━━━━━━━━━━━━━━━━━━━━\u001b[0m\u001b[37m\u001b[0m \u001b[1m0s\u001b[0m 23ms/step - loss: 2893.8489 - val_loss: 2072.5159\n",
      "Epoch 61/100\n",
      "\u001b[1m6/6\u001b[0m \u001b[32m━━━━━━━━━━━━━━━━━━━━\u001b[0m\u001b[37m\u001b[0m \u001b[1m0s\u001b[0m 24ms/step - loss: 2917.1616 - val_loss: 2071.9712\n",
      "Epoch 62/100\n",
      "\u001b[1m6/6\u001b[0m \u001b[32m━━━━━━━━━━━━━━━━━━━━\u001b[0m\u001b[37m\u001b[0m \u001b[1m0s\u001b[0m 26ms/step - loss: 2918.2913 - val_loss: 2071.4263\n",
      "Epoch 63/100\n",
      "\u001b[1m6/6\u001b[0m \u001b[32m━━━━━━━━━━━━━━━━━━━━\u001b[0m\u001b[37m\u001b[0m \u001b[1m0s\u001b[0m 25ms/step - loss: 2959.4995 - val_loss: 2070.8811\n",
      "Epoch 64/100\n",
      "\u001b[1m6/6\u001b[0m \u001b[32m━━━━━━━━━━━━━━━━━━━━\u001b[0m\u001b[37m\u001b[0m \u001b[1m0s\u001b[0m 29ms/step - loss: 2911.8433 - val_loss: 2070.3376\n",
      "Epoch 65/100\n",
      "\u001b[1m6/6\u001b[0m \u001b[32m━━━━━━━━━━━━━━━━━━━━\u001b[0m\u001b[37m\u001b[0m \u001b[1m0s\u001b[0m 26ms/step - loss: 2883.4824 - val_loss: 2069.7942\n",
      "Epoch 66/100\n",
      "\u001b[1m6/6\u001b[0m \u001b[32m━━━━━━━━━━━━━━━━━━━━\u001b[0m\u001b[37m\u001b[0m \u001b[1m0s\u001b[0m 26ms/step - loss: 2926.2158 - val_loss: 2069.2498\n",
      "Epoch 67/100\n",
      "\u001b[1m6/6\u001b[0m \u001b[32m━━━━━━━━━━━━━━━━━━━━\u001b[0m\u001b[37m\u001b[0m \u001b[1m0s\u001b[0m 25ms/step - loss: 2907.4250 - val_loss: 2068.7056\n",
      "Epoch 68/100\n",
      "\u001b[1m6/6\u001b[0m \u001b[32m━━━━━━━━━━━━━━━━━━━━\u001b[0m\u001b[37m\u001b[0m \u001b[1m0s\u001b[0m 26ms/step - loss: 2890.0894 - val_loss: 2068.1609\n",
      "Epoch 69/100\n",
      "\u001b[1m6/6\u001b[0m \u001b[32m━━━━━━━━━━━━━━━━━━━━\u001b[0m\u001b[37m\u001b[0m \u001b[1m0s\u001b[0m 26ms/step - loss: 2870.9766 - val_loss: 2067.6174\n",
      "Epoch 70/100\n",
      "\u001b[1m6/6\u001b[0m \u001b[32m━━━━━━━━━━━━━━━━━━━━\u001b[0m\u001b[37m\u001b[0m \u001b[1m0s\u001b[0m 23ms/step - loss: 2910.5737 - val_loss: 2067.0728\n",
      "Epoch 71/100\n",
      "\u001b[1m6/6\u001b[0m \u001b[32m━━━━━━━━━━━━━━━━━━━━\u001b[0m\u001b[37m\u001b[0m \u001b[1m0s\u001b[0m 26ms/step - loss: 2869.7307 - val_loss: 2066.5288\n",
      "Epoch 72/100\n",
      "\u001b[1m6/6\u001b[0m \u001b[32m━━━━━━━━━━━━━━━━━━━━\u001b[0m\u001b[37m\u001b[0m \u001b[1m0s\u001b[0m 22ms/step - loss: 2902.3740 - val_loss: 2065.9846\n",
      "Epoch 73/100\n",
      "\u001b[1m6/6\u001b[0m \u001b[32m━━━━━━━━━━━━━━━━━━━━\u001b[0m\u001b[37m\u001b[0m \u001b[1m0s\u001b[0m 23ms/step - loss: 2890.4927 - val_loss: 2065.4412\n",
      "Epoch 74/100\n",
      "\u001b[1m6/6\u001b[0m \u001b[32m━━━━━━━━━━━━━━━━━━━━\u001b[0m\u001b[37m\u001b[0m \u001b[1m0s\u001b[0m 22ms/step - loss: 2920.1497 - val_loss: 2064.8970\n",
      "Epoch 75/100\n",
      "\u001b[1m6/6\u001b[0m \u001b[32m━━━━━━━━━━━━━━━━━━━━\u001b[0m\u001b[37m\u001b[0m \u001b[1m0s\u001b[0m 26ms/step - loss: 2928.8843 - val_loss: 2064.3540\n",
      "Epoch 76/100\n",
      "\u001b[1m6/6\u001b[0m \u001b[32m━━━━━━━━━━━━━━━━━━━━\u001b[0m\u001b[37m\u001b[0m \u001b[1m0s\u001b[0m 25ms/step - loss: 2974.5989 - val_loss: 2063.8108\n",
      "Epoch 77/100\n",
      "\u001b[1m6/6\u001b[0m \u001b[32m━━━━━━━━━━━━━━━━━━━━\u001b[0m\u001b[37m\u001b[0m \u001b[1m0s\u001b[0m 24ms/step - loss: 2941.6526 - val_loss: 2063.2683\n",
      "Epoch 78/100\n",
      "\u001b[1m6/6\u001b[0m \u001b[32m━━━━━━━━━━━━━━━━━━━━\u001b[0m\u001b[37m\u001b[0m \u001b[1m0s\u001b[0m 26ms/step - loss: 2944.8372 - val_loss: 2062.7258\n",
      "Epoch 79/100\n",
      "\u001b[1m6/6\u001b[0m \u001b[32m━━━━━━━━━━━━━━━━━━━━\u001b[0m\u001b[37m\u001b[0m \u001b[1m0s\u001b[0m 24ms/step - loss: 2937.2610 - val_loss: 2062.1833\n",
      "Epoch 80/100\n",
      "\u001b[1m6/6\u001b[0m \u001b[32m━━━━━━━━━━━━━━━━━━━━\u001b[0m\u001b[37m\u001b[0m \u001b[1m0s\u001b[0m 27ms/step - loss: 2905.0488 - val_loss: 2061.6418\n",
      "Epoch 81/100\n",
      "\u001b[1m6/6\u001b[0m \u001b[32m━━━━━━━━━━━━━━━━━━━━\u001b[0m\u001b[37m\u001b[0m \u001b[1m0s\u001b[0m 25ms/step - loss: 2960.7463 - val_loss: 2061.0994\n",
      "Epoch 82/100\n",
      "\u001b[1m6/6\u001b[0m \u001b[32m━━━━━━━━━━━━━━━━━━━━\u001b[0m\u001b[37m\u001b[0m \u001b[1m0s\u001b[0m 26ms/step - loss: 2908.5027 - val_loss: 2060.5583\n",
      "Epoch 83/100\n",
      "\u001b[1m6/6\u001b[0m \u001b[32m━━━━━━━━━━━━━━━━━━━━\u001b[0m\u001b[37m\u001b[0m \u001b[1m0s\u001b[0m 20ms/step - loss: 2887.9797 - val_loss: 2060.0166\n",
      "Epoch 84/100\n",
      "\u001b[1m6/6\u001b[0m \u001b[32m━━━━━━━━━━━━━━━━━━━━\u001b[0m\u001b[37m\u001b[0m \u001b[1m0s\u001b[0m 23ms/step - loss: 2909.9426 - val_loss: 2059.4741\n",
      "Epoch 85/100\n",
      "\u001b[1m6/6\u001b[0m \u001b[32m━━━━━━━━━━━━━━━━━━━━\u001b[0m\u001b[37m\u001b[0m \u001b[1m0s\u001b[0m 25ms/step - loss: 2887.0479 - val_loss: 2058.9319\n",
      "Epoch 86/100\n",
      "\u001b[1m6/6\u001b[0m \u001b[32m━━━━━━━━━━━━━━━━━━━━\u001b[0m\u001b[37m\u001b[0m \u001b[1m0s\u001b[0m 22ms/step - loss: 2924.4529 - val_loss: 2058.3889\n",
      "Epoch 87/100\n",
      "\u001b[1m6/6\u001b[0m \u001b[32m━━━━━━━━━━━━━━━━━━━━\u001b[0m\u001b[37m\u001b[0m \u001b[1m0s\u001b[0m 22ms/step - loss: 2847.1492 - val_loss: 2057.8477\n",
      "Epoch 88/100\n",
      "\u001b[1m6/6\u001b[0m \u001b[32m━━━━━━━━━━━━━━━━━━━━\u001b[0m\u001b[37m\u001b[0m \u001b[1m0s\u001b[0m 22ms/step - loss: 2848.4800 - val_loss: 2057.3057\n",
      "Epoch 89/100\n",
      "\u001b[1m6/6\u001b[0m \u001b[32m━━━━━━━━━━━━━━━━━━━━\u001b[0m\u001b[37m\u001b[0m \u001b[1m0s\u001b[0m 26ms/step - loss: 2859.8718 - val_loss: 2056.7639\n",
      "Epoch 90/100\n",
      "\u001b[1m6/6\u001b[0m \u001b[32m━━━━━━━━━━━━━━━━━━━━\u001b[0m\u001b[37m\u001b[0m \u001b[1m0s\u001b[0m 25ms/step - loss: 2910.3064 - val_loss: 2056.2205\n",
      "Epoch 91/100\n",
      "\u001b[1m6/6\u001b[0m \u001b[32m━━━━━━━━━━━━━━━━━━━━\u001b[0m\u001b[37m\u001b[0m \u001b[1m0s\u001b[0m 24ms/step - loss: 2919.4302 - val_loss: 2055.6785\n",
      "Epoch 92/100\n",
      "\u001b[1m6/6\u001b[0m \u001b[32m━━━━━━━━━━━━━━━━━━━━\u001b[0m\u001b[37m\u001b[0m \u001b[1m0s\u001b[0m 24ms/step - loss: 2932.3333 - val_loss: 2055.1370\n",
      "Epoch 93/100\n",
      "\u001b[1m6/6\u001b[0m \u001b[32m━━━━━━━━━━━━━━━━━━━━\u001b[0m\u001b[37m\u001b[0m \u001b[1m0s\u001b[0m 25ms/step - loss: 2937.3918 - val_loss: 2054.5959\n",
      "Epoch 94/100\n",
      "\u001b[1m6/6\u001b[0m \u001b[32m━━━━━━━━━━━━━━━━━━━━\u001b[0m\u001b[37m\u001b[0m \u001b[1m0s\u001b[0m 26ms/step - loss: 2890.7363 - val_loss: 2054.0554\n",
      "Epoch 95/100\n",
      "\u001b[1m6/6\u001b[0m \u001b[32m━━━━━━━━━━━━━━━━━━━━\u001b[0m\u001b[37m\u001b[0m \u001b[1m0s\u001b[0m 20ms/step - loss: 2916.0007 - val_loss: 2053.5146\n",
      "Epoch 96/100\n",
      "\u001b[1m6/6\u001b[0m \u001b[32m━━━━━━━━━━━━━━━━━━━━\u001b[0m\u001b[37m\u001b[0m \u001b[1m0s\u001b[0m 22ms/step - loss: 2935.6150 - val_loss: 2052.9746\n",
      "Epoch 97/100\n",
      "\u001b[1m6/6\u001b[0m \u001b[32m━━━━━━━━━━━━━━━━━━━━\u001b[0m\u001b[37m\u001b[0m \u001b[1m0s\u001b[0m 22ms/step - loss: 2898.2312 - val_loss: 2052.4348\n",
      "Epoch 98/100\n",
      "\u001b[1m6/6\u001b[0m \u001b[32m━━━━━━━━━━━━━━━━━━━━\u001b[0m\u001b[37m\u001b[0m \u001b[1m0s\u001b[0m 26ms/step - loss: 2930.2129 - val_loss: 2051.8940\n",
      "Epoch 99/100\n",
      "\u001b[1m6/6\u001b[0m \u001b[32m━━━━━━━━━━━━━━━━━━━━\u001b[0m\u001b[37m\u001b[0m \u001b[1m0s\u001b[0m 28ms/step - loss: 2875.6814 - val_loss: 2051.3542\n",
      "Epoch 100/100\n",
      "\u001b[1m6/6\u001b[0m \u001b[32m━━━━━━━━━━━━━━━━━━━━\u001b[0m\u001b[37m\u001b[0m \u001b[1m0s\u001b[0m 23ms/step - loss: 2894.7639 - val_loss: 2050.8137\n",
      "\u001b[1m1/1\u001b[0m \u001b[32m━━━━━━━━━━━━━━━━━━━━\u001b[0m\u001b[37m\u001b[0m \u001b[1m0s\u001b[0m 360ms/step\n"
     ]
    },
    {
     "data": {
      "application/vnd.plotly.v1+json": {
       "config": {
        "plotlyServerURL": "https://plot.ly"
       },
       "data": [
        {
         "line": {
          "color": "orange"
         },
         "mode": "lines",
         "name": "Future Predictions",
         "type": "scatter",
         "x": [
          "2024-10-25T00:00:00",
          "2024-10-28T00:00:00",
          "2024-10-29T00:00:00",
          "2024-10-30T00:00:00",
          "2024-10-31T00:00:00",
          "2024-11-01T00:00:00",
          "2024-11-04T00:00:00",
          "2024-11-05T00:00:00",
          "2024-11-06T00:00:00",
          "2024-11-07T00:00:00",
          "2024-11-08T00:00:00",
          "2024-11-11T00:00:00",
          "2024-11-12T00:00:00",
          "2024-11-13T00:00:00",
          "2024-11-14T00:00:00",
          "2024-11-18T00:00:00",
          "2024-11-19T00:00:00",
          "2024-11-21T00:00:00",
          "2024-11-22T00:00:00",
          "2024-11-25T00:00:00",
          "2024-11-26T00:00:00",
          "2024-11-27T00:00:00",
          "2024-11-28T00:00:00"
         ],
         "y": [
          0.598455011844635,
          0.598455011844635,
          0.598455011844635,
          0.598455011844635,
          0.598455011844635,
          0.598455011844635,
          0.598455011844635,
          0.598455011844635,
          0.598455011844635,
          0.598455011844635,
          0.598455011844635,
          0.598455011844635,
          0.598455011844635,
          0.598455011844635,
          0.598455011844635,
          0.598455011844635,
          0.598455011844635,
          0.598455011844635,
          0.598455011844635,
          0.598455011844635,
          0.598455011844635,
          0.598455011844635,
          0.598455011844635
         ]
        },
        {
         "line": {
          "color": "blue"
         },
         "mode": "lines",
         "name": "Actual Prices",
         "type": "scatter",
         "x": [
          "2024-01-08T00:00:00-03:00",
          "2024-01-09T00:00:00-03:00",
          "2024-01-10T00:00:00-03:00",
          "2024-01-11T00:00:00-03:00",
          "2024-01-12T00:00:00-03:00",
          "2024-01-15T00:00:00-03:00",
          "2024-01-16T00:00:00-03:00",
          "2024-01-17T00:00:00-03:00",
          "2024-01-18T00:00:00-03:00",
          "2024-01-19T00:00:00-03:00",
          "2024-01-22T00:00:00-03:00",
          "2024-01-23T00:00:00-03:00",
          "2024-01-24T00:00:00-03:00",
          "2024-01-25T00:00:00-03:00",
          "2024-01-26T00:00:00-03:00",
          "2024-01-29T00:00:00-03:00",
          "2024-01-30T00:00:00-03:00",
          "2024-01-31T00:00:00-03:00",
          "2024-02-01T00:00:00-03:00",
          "2024-02-02T00:00:00-03:00",
          "2024-02-05T00:00:00-03:00",
          "2024-02-06T00:00:00-03:00",
          "2024-02-07T00:00:00-03:00",
          "2024-02-08T00:00:00-03:00",
          "2024-02-09T00:00:00-03:00",
          "2024-02-14T00:00:00-03:00",
          "2024-02-15T00:00:00-03:00",
          "2024-02-16T00:00:00-03:00",
          "2024-02-19T00:00:00-03:00",
          "2024-02-20T00:00:00-03:00",
          "2024-02-21T00:00:00-03:00",
          "2024-02-22T00:00:00-03:00",
          "2024-02-23T00:00:00-03:00",
          "2024-02-26T00:00:00-03:00",
          "2024-02-27T00:00:00-03:00",
          "2024-02-28T00:00:00-03:00",
          "2024-02-29T00:00:00-03:00",
          "2024-03-01T00:00:00-03:00",
          "2024-03-04T00:00:00-03:00",
          "2024-03-05T00:00:00-03:00",
          "2024-03-06T00:00:00-03:00",
          "2024-03-07T00:00:00-03:00",
          "2024-03-08T00:00:00-03:00",
          "2024-03-11T00:00:00-03:00",
          "2024-03-12T00:00:00-03:00",
          "2024-03-13T00:00:00-03:00",
          "2024-03-14T00:00:00-03:00",
          "2024-03-15T00:00:00-03:00",
          "2024-03-18T00:00:00-03:00",
          "2024-03-19T00:00:00-03:00",
          "2024-03-20T00:00:00-03:00",
          "2024-03-21T00:00:00-03:00",
          "2024-03-22T00:00:00-03:00",
          "2024-03-25T00:00:00-03:00",
          "2024-03-26T00:00:00-03:00",
          "2024-03-27T00:00:00-03:00",
          "2024-03-28T00:00:00-03:00",
          "2024-04-01T00:00:00-03:00",
          "2024-04-02T00:00:00-03:00",
          "2024-04-03T00:00:00-03:00",
          "2024-04-04T00:00:00-03:00",
          "2024-04-05T00:00:00-03:00",
          "2024-04-08T00:00:00-03:00",
          "2024-04-09T00:00:00-03:00",
          "2024-04-10T00:00:00-03:00",
          "2024-04-11T00:00:00-03:00",
          "2024-04-12T00:00:00-03:00",
          "2024-04-15T00:00:00-03:00",
          "2024-04-16T00:00:00-03:00",
          "2024-04-17T00:00:00-03:00",
          "2024-04-18T00:00:00-03:00",
          "2024-04-19T00:00:00-03:00",
          "2024-04-22T00:00:00-03:00",
          "2024-04-23T00:00:00-03:00",
          "2024-04-24T00:00:00-03:00",
          "2024-04-25T00:00:00-03:00",
          "2024-04-26T00:00:00-03:00",
          "2024-04-29T00:00:00-03:00",
          "2024-04-30T00:00:00-03:00",
          "2024-05-02T00:00:00-03:00",
          "2024-05-03T00:00:00-03:00",
          "2024-05-06T00:00:00-03:00",
          "2024-05-07T00:00:00-03:00",
          "2024-05-08T00:00:00-03:00",
          "2024-05-09T00:00:00-03:00",
          "2024-05-10T00:00:00-03:00",
          "2024-05-13T00:00:00-03:00",
          "2024-05-14T00:00:00-03:00",
          "2024-05-15T00:00:00-03:00",
          "2024-05-16T00:00:00-03:00",
          "2024-05-17T00:00:00-03:00",
          "2024-05-20T00:00:00-03:00",
          "2024-05-21T00:00:00-03:00",
          "2024-05-22T00:00:00-03:00",
          "2024-05-23T00:00:00-03:00",
          "2024-05-24T00:00:00-03:00",
          "2024-05-27T00:00:00-03:00",
          "2024-05-28T00:00:00-03:00",
          "2024-05-29T00:00:00-03:00",
          "2024-05-31T00:00:00-03:00",
          "2024-06-03T00:00:00-03:00",
          "2024-06-04T00:00:00-03:00",
          "2024-06-05T00:00:00-03:00",
          "2024-06-06T00:00:00-03:00",
          "2024-06-07T00:00:00-03:00",
          "2024-06-10T00:00:00-03:00",
          "2024-06-11T00:00:00-03:00",
          "2024-06-12T00:00:00-03:00",
          "2024-06-13T00:00:00-03:00",
          "2024-06-14T00:00:00-03:00",
          "2024-06-17T00:00:00-03:00",
          "2024-06-18T00:00:00-03:00",
          "2024-06-19T00:00:00-03:00",
          "2024-06-20T00:00:00-03:00",
          "2024-06-21T00:00:00-03:00",
          "2024-06-24T00:00:00-03:00",
          "2024-06-25T00:00:00-03:00",
          "2024-06-26T00:00:00-03:00",
          "2024-06-27T00:00:00-03:00",
          "2024-06-28T00:00:00-03:00",
          "2024-07-01T00:00:00-03:00",
          "2024-07-02T00:00:00-03:00",
          "2024-07-03T00:00:00-03:00",
          "2024-07-04T00:00:00-03:00",
          "2024-07-05T00:00:00-03:00",
          "2024-07-08T00:00:00-03:00",
          "2024-07-09T00:00:00-03:00",
          "2024-07-10T00:00:00-03:00",
          "2024-07-11T00:00:00-03:00",
          "2024-07-12T00:00:00-03:00",
          "2024-07-15T00:00:00-03:00",
          "2024-07-16T00:00:00-03:00",
          "2024-07-17T00:00:00-03:00",
          "2024-07-18T00:00:00-03:00",
          "2024-07-19T00:00:00-03:00",
          "2024-07-22T00:00:00-03:00",
          "2024-07-23T00:00:00-03:00",
          "2024-07-24T00:00:00-03:00",
          "2024-07-25T00:00:00-03:00",
          "2024-07-26T00:00:00-03:00",
          "2024-07-29T00:00:00-03:00",
          "2024-07-30T00:00:00-03:00",
          "2024-07-31T00:00:00-03:00",
          "2024-08-01T00:00:00-03:00",
          "2024-08-02T00:00:00-03:00",
          "2024-08-05T00:00:00-03:00",
          "2024-08-06T00:00:00-03:00",
          "2024-08-07T00:00:00-03:00",
          "2024-08-08T00:00:00-03:00",
          "2024-08-09T00:00:00-03:00",
          "2024-08-12T00:00:00-03:00",
          "2024-08-13T00:00:00-03:00",
          "2024-08-14T00:00:00-03:00",
          "2024-08-15T00:00:00-03:00",
          "2024-08-16T00:00:00-03:00",
          "2024-08-19T00:00:00-03:00",
          "2024-08-20T00:00:00-03:00",
          "2024-08-21T00:00:00-03:00",
          "2024-08-22T00:00:00-03:00",
          "2024-08-23T00:00:00-03:00",
          "2024-08-26T00:00:00-03:00",
          "2024-08-27T00:00:00-03:00",
          "2024-08-28T00:00:00-03:00",
          "2024-08-29T00:00:00-03:00",
          "2024-08-30T00:00:00-03:00",
          "2024-09-02T00:00:00-03:00",
          "2024-09-03T00:00:00-03:00",
          "2024-09-04T00:00:00-03:00",
          "2024-09-05T00:00:00-03:00",
          "2024-09-06T00:00:00-03:00",
          "2024-09-09T00:00:00-03:00",
          "2024-09-10T00:00:00-03:00",
          "2024-09-11T00:00:00-03:00",
          "2024-09-12T00:00:00-03:00",
          "2024-09-13T00:00:00-03:00",
          "2024-09-16T00:00:00-03:00",
          "2024-09-17T00:00:00-03:00",
          "2024-09-18T00:00:00-03:00",
          "2024-09-19T00:00:00-03:00",
          "2024-09-20T00:00:00-03:00",
          "2024-09-23T00:00:00-03:00",
          "2024-09-24T00:00:00-03:00",
          "2024-09-25T00:00:00-03:00",
          "2024-09-26T00:00:00-03:00",
          "2024-09-27T00:00:00-03:00",
          "2024-09-30T00:00:00-03:00",
          "2024-10-01T00:00:00-03:00",
          "2024-10-02T00:00:00-03:00",
          "2024-10-03T00:00:00-03:00",
          "2024-10-04T00:00:00-03:00",
          "2024-10-07T00:00:00-03:00",
          "2024-10-08T00:00:00-03:00",
          "2024-10-09T00:00:00-03:00",
          "2024-10-10T00:00:00-03:00",
          "2024-10-11T00:00:00-03:00",
          "2024-10-14T00:00:00-03:00",
          "2024-10-15T00:00:00-03:00",
          "2024-10-16T00:00:00-03:00",
          "2024-10-17T00:00:00-03:00",
          "2024-10-18T00:00:00-03:00",
          "2024-10-21T00:00:00-03:00",
          "2024-10-22T00:00:00-03:00",
          "2024-10-23T00:00:00-03:00",
          "2024-10-24T00:00:00-03:00",
          "2024-10-25T00:00:00-03:00",
          "2024-10-28T00:00:00-03:00",
          "2024-10-29T00:00:00-03:00",
          "2024-10-30T00:00:00-03:00",
          "2024-10-31T00:00:00-03:00",
          "2024-11-01T00:00:00-03:00",
          "2024-11-04T00:00:00-03:00",
          "2024-11-05T00:00:00-03:00",
          "2024-11-06T00:00:00-03:00",
          "2024-11-07T00:00:00-03:00",
          "2024-11-08T00:00:00-03:00",
          "2024-11-11T00:00:00-03:00",
          "2024-11-12T00:00:00-03:00",
          "2024-11-13T00:00:00-03:00",
          "2024-11-14T00:00:00-03:00",
          "2024-11-18T00:00:00-03:00",
          "2024-11-19T00:00:00-03:00",
          "2024-11-21T00:00:00-03:00",
          "2024-11-22T00:00:00-03:00",
          "2024-11-25T00:00:00-03:00",
          "2024-11-26T00:00:00-03:00",
          "2024-11-27T00:00:00-03:00",
          "2024-11-28T00:00:00-03:00"
         ],
         "y": [
          66.94794464111328,
          66.1073989868164,
          65.81231689453125,
          66.0358657836914,
          65.9732666015625,
          66.08952331542969,
          65.52617645263672,
          65.30262756347656,
          64.89130401611328,
          64.7929458618164,
          63.81827926635742,
          64.13124084472656,
          64.4442138671875,
          63.782508850097656,
          63.710975646972656,
          63.39801025390625,
          63.04033660888672,
          62.85255813598633,
          62.539588928222656,
          61.84212112426758,
          61.96730422973633,
          61.87788391113281,
          62.593238830566406,
          61.430789947509766,
          59.982208251953125,
          59.240028381347656,
          60.74226379394531,
          61.04629135131836,
          59.857017517089844,
          61.39502716064453,
          60.277286529541016,
          61.48444366455078,
          59.63347244262695,
          59.821250915527344,
          60.51871871948242,
          60.241519927978516,
          59.168495178222656,
          59.785484313964844,
          59.41886520385742,
          59.32944869995117,
          59.17743682861328,
          59.64241409301758,
          59.83019256591797,
          59.66029739379883,
          59.36521911621094,
          59.63347244262695,
          58.39949417114258,
          59.937496185302734,
          61.073116302490234,
          62.593238830566406,
          61.55906295776367,
          60.4798698425293,
          60.839599609375,
          59.53557205200195,
          59.94926452636719,
          60.88456344604492,
          59.96725082397461,
          59.49060821533203,
          58.735172271728516,
          58.618255615234375,
          59.850337982177734,
          58.627254486083984,
          58.69020462036133,
          58.86107635498047,
          58.28550720214844,
          57.83584213256836,
          56.72966766357422,
          55.9472541809082,
          55.21879196166992,
          55.110877990722656,
          54.3734245300293,
          55.74489974975586,
          55.00295639038086,
          53.80595016479492,
          53.34099578857422,
          52.628726959228516,
          52.72765350341797,
          53.0046501159668,
          52.2231330871582,
          52.787010192871094,
          53.400352478027344,
          53.57841873168945,
          53.04421615600586,
          53.26185607910156,
          53.42013931274414,
          51.441612243652344,
          51.748287200927734,
          51.194297790527344,
          50.74913024902344,
          50.39299392700195,
          50.333641052246094,
          50.27428436279297,
          50.056644439697266,
          49.75986862182617,
          50.14567947387695,
          49.95772171020508,
          50.25449752807617,
          49.86868667602539,
          49.601585388183594,
          49.47298049926758,
          48.28586959838867,
          48.266082763671875,
          47.37574768066406,
          47.5637092590332,
          47.16800308227539,
          46.564552307128906,
          48.5925407409668,
          47.23725128173828,
          47.78134536743164,
          48.10780334472656,
          48.47382736206055,
          48.22651290893555,
          47.97919845581055,
          47.672523498535156,
          47.78134536743164,
          47.87037658691406,
          47.75166702270508,
          47.46478271484375,
          48.57275390625,
          48.266082763671875,
          48.12759017944336,
          48.16715621948242,
          49.86868667602539,
          51.807640075683594,
          51.72850036621094,
          51.580108642578125,
          51.57021713256836,
          50.99644470214844,
          50.838165283203125,
          51.332794189453125,
          51.510860443115234,
          50.82827377319336,
          51.25365447998047,
          49.89836502075195,
          50.5117073059082,
          51.77796173095703,
          50.946983337402344,
          50.610633850097656,
          49.749977111816406,
          49.71040725708008,
          49.7697639465332,
          49.611480712890625,
          51.53064727783203,
          50.27428436279297,
          50.66999053955078,
          50.10611343383789,
          50.036865234375,
          49.95772171020508,
          50.294071197509766,
          49.46308898925781,
          49.45319747924805,
          49.186100006103516,
          48.53318405151367,
          49.116851806640625,
          48.008872985839844,
          49.314701080322266,
          49.32459259033203,
          48.82996368408203,
          47.97919845581055,
          48.73103332519531,
          48.11769485473633,
          48.12759017944336,
          47.830806732177734,
          47.0690803527832,
          46.77229690551758,
          47.6131706237793,
          47.33617401123047,
          48.57275390625,
          47.89016342163086,
          47.39553451538086,
          47.217464447021484,
          46.95036315917969,
          46.91079330444336,
          46.18863296508789,
          47.69231033325195,
          48.21662139892578,
          47.75166702270508,
          47.92973709106445,
          48.196834564208984,
          47.3460693359375,
          47.049293518066406,
          47.68241882324219,
          46.46562957763672,
          47.16800308227539,
          46.98993682861328,
          46.12928009033203,
          45.17958450317383,
          45.33787155151367,
          45.90174865722656,
          46.06003189086914,
          45.98088836669922,
          45.78303527832031,
          45.34776306152344,
          45.89185333251953,
          46.07981491088867,
          46.19852828979492,
          45.792930603027344,
          45.59507751464844,
          45.89185333251953,
          45.25872802734375,
          45.792930603027344,
          45.130123138427734,
          44.764095306396484,
          44.79377365112305,
          45.52582931518555,
          45.01141357421875,
          44.6651725769043,
          44.6651725769043,
          44.22000503540039,
          43.666015625,
          45.10044479370117,
          45.65443420410156,
          47.37574768066406,
          44.53656768798828,
          44.022151947021484,
          44.833343505859375,
          45.268619537353516,
          46.39638137817383,
          48.18694305419922,
          52.21323776245117,
          52.994754791259766,
          49.4900016784668,
          51.130001068115234,
          51.20000076293945,
          49.45000076293945,
          49.58000183105469,
          49.349998474121094
         ]
        }
       ],
       "layout": {
        "template": {
         "data": {
          "bar": [
           {
            "error_x": {
             "color": "#f2f5fa"
            },
            "error_y": {
             "color": "#f2f5fa"
            },
            "marker": {
             "line": {
              "color": "rgb(17,17,17)",
              "width": 0.5
             },
             "pattern": {
              "fillmode": "overlay",
              "size": 10,
              "solidity": 0.2
             }
            },
            "type": "bar"
           }
          ],
          "barpolar": [
           {
            "marker": {
             "line": {
              "color": "rgb(17,17,17)",
              "width": 0.5
             },
             "pattern": {
              "fillmode": "overlay",
              "size": 10,
              "solidity": 0.2
             }
            },
            "type": "barpolar"
           }
          ],
          "carpet": [
           {
            "aaxis": {
             "endlinecolor": "#A2B1C6",
             "gridcolor": "#506784",
             "linecolor": "#506784",
             "minorgridcolor": "#506784",
             "startlinecolor": "#A2B1C6"
            },
            "baxis": {
             "endlinecolor": "#A2B1C6",
             "gridcolor": "#506784",
             "linecolor": "#506784",
             "minorgridcolor": "#506784",
             "startlinecolor": "#A2B1C6"
            },
            "type": "carpet"
           }
          ],
          "choropleth": [
           {
            "colorbar": {
             "outlinewidth": 0,
             "ticks": ""
            },
            "type": "choropleth"
           }
          ],
          "contour": [
           {
            "colorbar": {
             "outlinewidth": 0,
             "ticks": ""
            },
            "colorscale": [
             [
              0,
              "#0d0887"
             ],
             [
              0.1111111111111111,
              "#46039f"
             ],
             [
              0.2222222222222222,
              "#7201a8"
             ],
             [
              0.3333333333333333,
              "#9c179e"
             ],
             [
              0.4444444444444444,
              "#bd3786"
             ],
             [
              0.5555555555555556,
              "#d8576b"
             ],
             [
              0.6666666666666666,
              "#ed7953"
             ],
             [
              0.7777777777777778,
              "#fb9f3a"
             ],
             [
              0.8888888888888888,
              "#fdca26"
             ],
             [
              1,
              "#f0f921"
             ]
            ],
            "type": "contour"
           }
          ],
          "contourcarpet": [
           {
            "colorbar": {
             "outlinewidth": 0,
             "ticks": ""
            },
            "type": "contourcarpet"
           }
          ],
          "heatmap": [
           {
            "colorbar": {
             "outlinewidth": 0,
             "ticks": ""
            },
            "colorscale": [
             [
              0,
              "#0d0887"
             ],
             [
              0.1111111111111111,
              "#46039f"
             ],
             [
              0.2222222222222222,
              "#7201a8"
             ],
             [
              0.3333333333333333,
              "#9c179e"
             ],
             [
              0.4444444444444444,
              "#bd3786"
             ],
             [
              0.5555555555555556,
              "#d8576b"
             ],
             [
              0.6666666666666666,
              "#ed7953"
             ],
             [
              0.7777777777777778,
              "#fb9f3a"
             ],
             [
              0.8888888888888888,
              "#fdca26"
             ],
             [
              1,
              "#f0f921"
             ]
            ],
            "type": "heatmap"
           }
          ],
          "heatmapgl": [
           {
            "colorbar": {
             "outlinewidth": 0,
             "ticks": ""
            },
            "colorscale": [
             [
              0,
              "#0d0887"
             ],
             [
              0.1111111111111111,
              "#46039f"
             ],
             [
              0.2222222222222222,
              "#7201a8"
             ],
             [
              0.3333333333333333,
              "#9c179e"
             ],
             [
              0.4444444444444444,
              "#bd3786"
             ],
             [
              0.5555555555555556,
              "#d8576b"
             ],
             [
              0.6666666666666666,
              "#ed7953"
             ],
             [
              0.7777777777777778,
              "#fb9f3a"
             ],
             [
              0.8888888888888888,
              "#fdca26"
             ],
             [
              1,
              "#f0f921"
             ]
            ],
            "type": "heatmapgl"
           }
          ],
          "histogram": [
           {
            "marker": {
             "pattern": {
              "fillmode": "overlay",
              "size": 10,
              "solidity": 0.2
             }
            },
            "type": "histogram"
           }
          ],
          "histogram2d": [
           {
            "colorbar": {
             "outlinewidth": 0,
             "ticks": ""
            },
            "colorscale": [
             [
              0,
              "#0d0887"
             ],
             [
              0.1111111111111111,
              "#46039f"
             ],
             [
              0.2222222222222222,
              "#7201a8"
             ],
             [
              0.3333333333333333,
              "#9c179e"
             ],
             [
              0.4444444444444444,
              "#bd3786"
             ],
             [
              0.5555555555555556,
              "#d8576b"
             ],
             [
              0.6666666666666666,
              "#ed7953"
             ],
             [
              0.7777777777777778,
              "#fb9f3a"
             ],
             [
              0.8888888888888888,
              "#fdca26"
             ],
             [
              1,
              "#f0f921"
             ]
            ],
            "type": "histogram2d"
           }
          ],
          "histogram2dcontour": [
           {
            "colorbar": {
             "outlinewidth": 0,
             "ticks": ""
            },
            "colorscale": [
             [
              0,
              "#0d0887"
             ],
             [
              0.1111111111111111,
              "#46039f"
             ],
             [
              0.2222222222222222,
              "#7201a8"
             ],
             [
              0.3333333333333333,
              "#9c179e"
             ],
             [
              0.4444444444444444,
              "#bd3786"
             ],
             [
              0.5555555555555556,
              "#d8576b"
             ],
             [
              0.6666666666666666,
              "#ed7953"
             ],
             [
              0.7777777777777778,
              "#fb9f3a"
             ],
             [
              0.8888888888888888,
              "#fdca26"
             ],
             [
              1,
              "#f0f921"
             ]
            ],
            "type": "histogram2dcontour"
           }
          ],
          "mesh3d": [
           {
            "colorbar": {
             "outlinewidth": 0,
             "ticks": ""
            },
            "type": "mesh3d"
           }
          ],
          "parcoords": [
           {
            "line": {
             "colorbar": {
              "outlinewidth": 0,
              "ticks": ""
             }
            },
            "type": "parcoords"
           }
          ],
          "pie": [
           {
            "automargin": true,
            "type": "pie"
           }
          ],
          "scatter": [
           {
            "marker": {
             "line": {
              "color": "#283442"
             }
            },
            "type": "scatter"
           }
          ],
          "scatter3d": [
           {
            "line": {
             "colorbar": {
              "outlinewidth": 0,
              "ticks": ""
             }
            },
            "marker": {
             "colorbar": {
              "outlinewidth": 0,
              "ticks": ""
             }
            },
            "type": "scatter3d"
           }
          ],
          "scattercarpet": [
           {
            "marker": {
             "colorbar": {
              "outlinewidth": 0,
              "ticks": ""
             }
            },
            "type": "scattercarpet"
           }
          ],
          "scattergeo": [
           {
            "marker": {
             "colorbar": {
              "outlinewidth": 0,
              "ticks": ""
             }
            },
            "type": "scattergeo"
           }
          ],
          "scattergl": [
           {
            "marker": {
             "line": {
              "color": "#283442"
             }
            },
            "type": "scattergl"
           }
          ],
          "scattermapbox": [
           {
            "marker": {
             "colorbar": {
              "outlinewidth": 0,
              "ticks": ""
             }
            },
            "type": "scattermapbox"
           }
          ],
          "scatterpolar": [
           {
            "marker": {
             "colorbar": {
              "outlinewidth": 0,
              "ticks": ""
             }
            },
            "type": "scatterpolar"
           }
          ],
          "scatterpolargl": [
           {
            "marker": {
             "colorbar": {
              "outlinewidth": 0,
              "ticks": ""
             }
            },
            "type": "scatterpolargl"
           }
          ],
          "scatterternary": [
           {
            "marker": {
             "colorbar": {
              "outlinewidth": 0,
              "ticks": ""
             }
            },
            "type": "scatterternary"
           }
          ],
          "surface": [
           {
            "colorbar": {
             "outlinewidth": 0,
             "ticks": ""
            },
            "colorscale": [
             [
              0,
              "#0d0887"
             ],
             [
              0.1111111111111111,
              "#46039f"
             ],
             [
              0.2222222222222222,
              "#7201a8"
             ],
             [
              0.3333333333333333,
              "#9c179e"
             ],
             [
              0.4444444444444444,
              "#bd3786"
             ],
             [
              0.5555555555555556,
              "#d8576b"
             ],
             [
              0.6666666666666666,
              "#ed7953"
             ],
             [
              0.7777777777777778,
              "#fb9f3a"
             ],
             [
              0.8888888888888888,
              "#fdca26"
             ],
             [
              1,
              "#f0f921"
             ]
            ],
            "type": "surface"
           }
          ],
          "table": [
           {
            "cells": {
             "fill": {
              "color": "#506784"
             },
             "line": {
              "color": "rgb(17,17,17)"
             }
            },
            "header": {
             "fill": {
              "color": "#2a3f5f"
             },
             "line": {
              "color": "rgb(17,17,17)"
             }
            },
            "type": "table"
           }
          ]
         },
         "layout": {
          "annotationdefaults": {
           "arrowcolor": "#f2f5fa",
           "arrowhead": 0,
           "arrowwidth": 1
          },
          "autotypenumbers": "strict",
          "coloraxis": {
           "colorbar": {
            "outlinewidth": 0,
            "ticks": ""
           }
          },
          "colorscale": {
           "diverging": [
            [
             0,
             "#8e0152"
            ],
            [
             0.1,
             "#c51b7d"
            ],
            [
             0.2,
             "#de77ae"
            ],
            [
             0.3,
             "#f1b6da"
            ],
            [
             0.4,
             "#fde0ef"
            ],
            [
             0.5,
             "#f7f7f7"
            ],
            [
             0.6,
             "#e6f5d0"
            ],
            [
             0.7,
             "#b8e186"
            ],
            [
             0.8,
             "#7fbc41"
            ],
            [
             0.9,
             "#4d9221"
            ],
            [
             1,
             "#276419"
            ]
           ],
           "sequential": [
            [
             0,
             "#0d0887"
            ],
            [
             0.1111111111111111,
             "#46039f"
            ],
            [
             0.2222222222222222,
             "#7201a8"
            ],
            [
             0.3333333333333333,
             "#9c179e"
            ],
            [
             0.4444444444444444,
             "#bd3786"
            ],
            [
             0.5555555555555556,
             "#d8576b"
            ],
            [
             0.6666666666666666,
             "#ed7953"
            ],
            [
             0.7777777777777778,
             "#fb9f3a"
            ],
            [
             0.8888888888888888,
             "#fdca26"
            ],
            [
             1,
             "#f0f921"
            ]
           ],
           "sequentialminus": [
            [
             0,
             "#0d0887"
            ],
            [
             0.1111111111111111,
             "#46039f"
            ],
            [
             0.2222222222222222,
             "#7201a8"
            ],
            [
             0.3333333333333333,
             "#9c179e"
            ],
            [
             0.4444444444444444,
             "#bd3786"
            ],
            [
             0.5555555555555556,
             "#d8576b"
            ],
            [
             0.6666666666666666,
             "#ed7953"
            ],
            [
             0.7777777777777778,
             "#fb9f3a"
            ],
            [
             0.8888888888888888,
             "#fdca26"
            ],
            [
             1,
             "#f0f921"
            ]
           ]
          },
          "colorway": [
           "#636efa",
           "#EF553B",
           "#00cc96",
           "#ab63fa",
           "#FFA15A",
           "#19d3f3",
           "#FF6692",
           "#B6E880",
           "#FF97FF",
           "#FECB52"
          ],
          "font": {
           "color": "#f2f5fa"
          },
          "geo": {
           "bgcolor": "rgb(17,17,17)",
           "lakecolor": "rgb(17,17,17)",
           "landcolor": "rgb(17,17,17)",
           "showlakes": true,
           "showland": true,
           "subunitcolor": "#506784"
          },
          "hoverlabel": {
           "align": "left"
          },
          "hovermode": "closest",
          "mapbox": {
           "style": "dark"
          },
          "paper_bgcolor": "rgb(17,17,17)",
          "plot_bgcolor": "rgb(17,17,17)",
          "polar": {
           "angularaxis": {
            "gridcolor": "#506784",
            "linecolor": "#506784",
            "ticks": ""
           },
           "bgcolor": "rgb(17,17,17)",
           "radialaxis": {
            "gridcolor": "#506784",
            "linecolor": "#506784",
            "ticks": ""
           }
          },
          "scene": {
           "xaxis": {
            "backgroundcolor": "rgb(17,17,17)",
            "gridcolor": "#506784",
            "gridwidth": 2,
            "linecolor": "#506784",
            "showbackground": true,
            "ticks": "",
            "zerolinecolor": "#C8D4E3"
           },
           "yaxis": {
            "backgroundcolor": "rgb(17,17,17)",
            "gridcolor": "#506784",
            "gridwidth": 2,
            "linecolor": "#506784",
            "showbackground": true,
            "ticks": "",
            "zerolinecolor": "#C8D4E3"
           },
           "zaxis": {
            "backgroundcolor": "rgb(17,17,17)",
            "gridcolor": "#506784",
            "gridwidth": 2,
            "linecolor": "#506784",
            "showbackground": true,
            "ticks": "",
            "zerolinecolor": "#C8D4E3"
           }
          },
          "shapedefaults": {
           "line": {
            "color": "#f2f5fa"
           }
          },
          "sliderdefaults": {
           "bgcolor": "#C8D4E3",
           "bordercolor": "rgb(17,17,17)",
           "borderwidth": 1,
           "tickwidth": 0
          },
          "ternary": {
           "aaxis": {
            "gridcolor": "#506784",
            "linecolor": "#506784",
            "ticks": ""
           },
           "baxis": {
            "gridcolor": "#506784",
            "linecolor": "#506784",
            "ticks": ""
           },
           "bgcolor": "rgb(17,17,17)",
           "caxis": {
            "gridcolor": "#506784",
            "linecolor": "#506784",
            "ticks": ""
           }
          },
          "title": {
           "x": 0.05
          },
          "updatemenudefaults": {
           "bgcolor": "#506784",
           "borderwidth": 0
          },
          "xaxis": {
           "automargin": true,
           "gridcolor": "#283442",
           "linecolor": "#506784",
           "ticks": "",
           "title": {
            "standoff": 15
           },
           "zerolinecolor": "#283442",
           "zerolinewidth": 2
          },
          "yaxis": {
           "automargin": true,
           "gridcolor": "#283442",
           "linecolor": "#506784",
           "ticks": "",
           "title": {
            "standoff": 15
           },
           "zerolinecolor": "#283442",
           "zerolinewidth": 2
          }
         }
        },
        "title": {
         "text": "Comparação entre Previsões e Preços Reais"
        },
        "xaxis": {
         "title": {
          "text": "Data"
         }
        },
        "yaxis": {
         "title": {
          "text": "Preço Fechamento"
         }
        }
       }
      }
     },
     "metadata": {},
     "output_type": "display_data"
    }
   ],
   "source": [
    "# import pandas as pd\n",
    "# import numpy as np\n",
    "# import datetime\n",
    "# import yfinance as yf\n",
    "# import matplotlib.pyplot as plt\n",
    "# from tensorflow.keras.models import Sequential\n",
    "# from tensorflow.keras.optimizers import Adam\n",
    "# from tensorflow.keras import layers\n",
    "# from tensorflow.keras.callbacks import EarlyStopping\n",
    "# import plotly.graph_objects as go\n",
    "\n",
    "# # Função para calcular indicadores técnicos\n",
    "# def add_technical_indicators(df):\n",
    "#     df['SMA_10'] = df['Close'].rolling(window=10).mean()\n",
    "#     df['EMA_10'] = df['Close'].ewm(span=10, adjust=False).mean()\n",
    "#     df['RSI'] = compute_rsi(df['Close'])\n",
    "#     df.fillna(method='bfill', inplace=True)\n",
    "#     return df\n",
    "\n",
    "# # Função para calcular RSI\n",
    "# def compute_rsi(series, period=14):\n",
    "#     delta = series.diff()\n",
    "#     gain = (delta.where(delta > 0, 0)).rolling(window=period).mean()\n",
    "#     loss = (-delta.where(delta < 0, 0)).rolling(window=period).mean()\n",
    "#     rs = gain / loss\n",
    "#     return 100 - (100 / (1 + rs))\n",
    "\n",
    "# # Função para criar janelas de dados\n",
    "# def df_to_windowed_df(dataframe, first_date_str, last_date_str, n):\n",
    "#     first_date = str_to_datetime(first_date_str)\n",
    "#     last_date = str_to_datetime(last_date_str)\n",
    "\n",
    "#     target_date = first_date\n",
    "#     dates = []\n",
    "#     X, Y = [], []\n",
    "\n",
    "#     while True:\n",
    "#         df_subset = dataframe.loc[:target_date].tail(n + 1)\n",
    "\n",
    "#         if len(df_subset) != n + 1:\n",
    "#             print(f'Erro: Janela de tamanho {n} é muito grande para a data {target_date}')\n",
    "#             return None\n",
    "\n",
    "#         x_features = df_subset.drop(columns=['Close']).to_numpy()\n",
    "#         y = df_subset['Close'].iloc[-1]\n",
    "\n",
    "#         dates.append(target_date)\n",
    "#         X.append(x_features[:-1])\n",
    "#         Y.append(y)\n",
    "\n",
    "#         next_week = dataframe.loc[target_date:target_date + datetime.timedelta(days=7)]\n",
    "#         if len(next_week) < 2:\n",
    "#             break\n",
    "\n",
    "#         next_date_str = next_week.head(2).index[-1].strftime('%Y-%m-%d')\n",
    "#         target_date = str_to_datetime(next_date_str)\n",
    "#         if target_date >= last_date:\n",
    "#             break\n",
    "\n",
    "#     return pd.DataFrame({'Target Date': dates, 'X': X, 'Y': Y})\n",
    "\n",
    "# # Treinamento do modelo\n",
    "# def train_model(ticker, start_date, end_date, window_size):\n",
    "#     df = yf.Ticker(ticker).history(period='max')\n",
    "#     df = df[['Close']]\n",
    "    \n",
    "#     # Garantir que o índice seja datetime sem timezone e sem hora\n",
    "#     df.index = pd.to_datetime(df.index).tz_convert(None).normalize()\n",
    "\n",
    "#     # Garantir que start_date e end_date também estejam normalizadas\n",
    "#     start_date = pd.to_datetime(start_date).normalize()\n",
    "#     end_date = pd.to_datetime(end_date).normalize()\n",
    "\n",
    "#     start_date, end_date = adjust_dates_to_available(df, start_date, end_date)\n",
    "\n",
    "#     windowed_df = df_to_windowed_df(df, start_date.strftime('%Y-%m-%d'), end_date.strftime('%Y-%m-%d'), n=window_size)\n",
    "    \n",
    "#     dates, X, y = windowed_df['Target Date'], np.array(windowed_df['X'].tolist()), np.array(windowed_df['Y'].tolist())\n",
    "\n",
    "#     q_80, q_90 = int(len(dates) * .8), int(len(dates) * .9)\n",
    "#     X_train, y_train = X[:q_80], y[:q_80]\n",
    "#     X_val, y_val = X[q_80:q_90], y[q_80:q_90]\n",
    "#     X_test, y_test = X[q_90:], y[q_90:]\n",
    "\n",
    "#     model = Sequential([\n",
    "#         layers.Input(shape=(window_size, X.shape[2])),\n",
    "#         layers.Bidirectional(layers.LSTM(70, return_sequences=True)),\n",
    "#         layers.Dropout(0.2),\n",
    "#         layers.Bidirectional(layers.LSTM(50)),\n",
    "#         layers.Dense(32, activation='relu'),\n",
    "#         layers.Dense(1)\n",
    "#     ])\n",
    "\n",
    "#     model.compile(optimizer=Adam(learning_rate=0.001), loss='mse')\n",
    "#     early_stop = EarlyStopping(monitor='val_loss', patience=10, restore_best_weights=True)\n",
    "    \n",
    "#     model.fit(X_train, y_train, validation_data=(X_val, y_val), epochs=100, callbacks=[early_stop])\n",
    "#     return model, dates[q_90:], X_test\n",
    "\n",
    "# # Configuração\n",
    "# ticker = 'UNIP6.SA'\n",
    "# start_date = '2024-01-08'\n",
    "# end_date = '2024-11-29'\n",
    "# window_size = 10\n",
    "\n",
    "# model, dates_test, X_test = train_model(ticker, start_date, end_date, window_size)\n",
    "\n",
    "# # Predições\n",
    "# future_predictions = model.predict(X_test).flatten()\n",
    "\n",
    "# # Comparação com preços reais\n",
    "# actual_prices_df = get_actual_prices(ticker, start_date, end_date)\n",
    "# actual_dates = actual_prices_df.index\n",
    "# actual_prices = actual_prices_df['Close'].to_numpy()\n",
    "\n",
    "# # Gráficos\n",
    "# fig = go.Figure()\n",
    "# fig.add_trace(go.Scatter(x=dates_test, y=future_predictions, mode='lines', name='Future Predictions', line=dict(color='orange')))\n",
    "# fig.add_trace(go.Scatter(x=actual_dates, y=actual_prices, mode='lines', name='Actual Prices', line=dict(color='blue')))\n",
    "# fig.update_layout(title='Comparação entre Previsões e Preços Reais', xaxis_title='Data', yaxis_title='Preço Fechamento', template='plotly_dark')\n",
    "# fig.show()\n"
   ]
  }
 ],
 "metadata": {
  "colab": {
   "provenance": [
    {
     "file_id": "1Bk4zPQwAfzoSHZokKUefKL1s6lqmam6S",
     "timestamp": 1678807536043
    }
   ]
  },
  "kernelspec": {
   "display_name": "fin_dash_env.yml",
   "language": "python",
   "name": "python3"
  },
  "language_info": {
   "codemirror_mode": {
    "name": "ipython",
    "version": 3
   },
   "file_extension": ".py",
   "mimetype": "text/x-python",
   "name": "python",
   "nbconvert_exporter": "python",
   "pygments_lexer": "ipython3",
   "version": "3.11.7"
  }
 },
 "nbformat": 4,
 "nbformat_minor": 0
}
