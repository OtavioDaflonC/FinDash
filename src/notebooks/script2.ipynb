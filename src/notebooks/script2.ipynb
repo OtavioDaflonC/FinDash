{
 "cells": [
  {
   "cell_type": "code",
   "execution_count": 1,
   "metadata": {},
   "outputs": [],
   "source": [
    "import tensorflow as tf\n",
    "import os\n",
    "import pandas as pd\n",
    "import numpy as np"
   ]
  },
  {
   "cell_type": "code",
   "execution_count": null,
   "metadata": {},
   "outputs": [],
   "source": [
    "path = 'data/CSNA3.SA.csv'\n",
    "ticket = path.split('/')[1].split('.')[0]\n",
    "df=pd.read_csv(path,index_col='Date')\n",
    "df.head()\n",
    "df.shape"
   ]
  },
  {
   "cell_type": "code",
   "execution_count": null,
   "metadata": {},
   "outputs": [
    {
     "data": {
      "text/html": [
       "<div>\n",
       "<style scoped>\n",
       "    .dataframe tbody tr th:only-of-type {\n",
       "        vertical-align: middle;\n",
       "    }\n",
       "\n",
       "    .dataframe tbody tr th {\n",
       "        vertical-align: top;\n",
       "    }\n",
       "\n",
       "    .dataframe thead th {\n",
       "        text-align: right;\n",
       "    }\n",
       "</style>\n",
       "<table border=\"1\" class=\"dataframe\">\n",
       "  <thead>\n",
       "    <tr style=\"text-align: right;\">\n",
       "      <th></th>\n",
       "      <th>Date Time</th>\n",
       "      <th>p (mbar)</th>\n",
       "      <th>T (degC)</th>\n",
       "      <th>Tpot (K)</th>\n",
       "      <th>Tdew (degC)</th>\n",
       "      <th>rh (%)</th>\n",
       "      <th>VPmax (mbar)</th>\n",
       "      <th>VPact (mbar)</th>\n",
       "      <th>VPdef (mbar)</th>\n",
       "      <th>sh (g/kg)</th>\n",
       "      <th>H2OC (mmol/mol)</th>\n",
       "      <th>rho (g/m**3)</th>\n",
       "      <th>wv (m/s)</th>\n",
       "      <th>max. wv (m/s)</th>\n",
       "      <th>wd (deg)</th>\n",
       "    </tr>\n",
       "  </thead>\n",
       "  <tbody>\n",
       "    <tr>\n",
       "      <th>5</th>\n",
       "      <td>01.01.2009 01:00:00</td>\n",
       "      <td>996.50</td>\n",
       "      <td>-8.05</td>\n",
       "      <td>265.38</td>\n",
       "      <td>-8.78</td>\n",
       "      <td>94.40</td>\n",
       "      <td>3.33</td>\n",
       "      <td>3.14</td>\n",
       "      <td>0.19</td>\n",
       "      <td>1.96</td>\n",
       "      <td>3.15</td>\n",
       "      <td>1307.86</td>\n",
       "      <td>0.21</td>\n",
       "      <td>0.63</td>\n",
       "      <td>192.7</td>\n",
       "    </tr>\n",
       "    <tr>\n",
       "      <th>11</th>\n",
       "      <td>01.01.2009 02:00:00</td>\n",
       "      <td>996.62</td>\n",
       "      <td>-8.88</td>\n",
       "      <td>264.54</td>\n",
       "      <td>-9.77</td>\n",
       "      <td>93.20</td>\n",
       "      <td>3.12</td>\n",
       "      <td>2.90</td>\n",
       "      <td>0.21</td>\n",
       "      <td>1.81</td>\n",
       "      <td>2.91</td>\n",
       "      <td>1312.25</td>\n",
       "      <td>0.25</td>\n",
       "      <td>0.63</td>\n",
       "      <td>190.3</td>\n",
       "    </tr>\n",
       "    <tr>\n",
       "      <th>17</th>\n",
       "      <td>01.01.2009 03:00:00</td>\n",
       "      <td>996.84</td>\n",
       "      <td>-8.81</td>\n",
       "      <td>264.59</td>\n",
       "      <td>-9.66</td>\n",
       "      <td>93.50</td>\n",
       "      <td>3.13</td>\n",
       "      <td>2.93</td>\n",
       "      <td>0.20</td>\n",
       "      <td>1.83</td>\n",
       "      <td>2.94</td>\n",
       "      <td>1312.18</td>\n",
       "      <td>0.18</td>\n",
       "      <td>0.63</td>\n",
       "      <td>167.2</td>\n",
       "    </tr>\n",
       "    <tr>\n",
       "      <th>23</th>\n",
       "      <td>01.01.2009 04:00:00</td>\n",
       "      <td>996.99</td>\n",
       "      <td>-9.05</td>\n",
       "      <td>264.34</td>\n",
       "      <td>-10.02</td>\n",
       "      <td>92.60</td>\n",
       "      <td>3.07</td>\n",
       "      <td>2.85</td>\n",
       "      <td>0.23</td>\n",
       "      <td>1.78</td>\n",
       "      <td>2.85</td>\n",
       "      <td>1313.61</td>\n",
       "      <td>0.10</td>\n",
       "      <td>0.38</td>\n",
       "      <td>240.0</td>\n",
       "    </tr>\n",
       "    <tr>\n",
       "      <th>29</th>\n",
       "      <td>01.01.2009 05:00:00</td>\n",
       "      <td>997.46</td>\n",
       "      <td>-9.63</td>\n",
       "      <td>263.72</td>\n",
       "      <td>-10.65</td>\n",
       "      <td>92.20</td>\n",
       "      <td>2.94</td>\n",
       "      <td>2.71</td>\n",
       "      <td>0.23</td>\n",
       "      <td>1.69</td>\n",
       "      <td>2.71</td>\n",
       "      <td>1317.19</td>\n",
       "      <td>0.40</td>\n",
       "      <td>0.88</td>\n",
       "      <td>157.0</td>\n",
       "    </tr>\n",
       "    <tr>\n",
       "      <th>...</th>\n",
       "      <td>...</td>\n",
       "      <td>...</td>\n",
       "      <td>...</td>\n",
       "      <td>...</td>\n",
       "      <td>...</td>\n",
       "      <td>...</td>\n",
       "      <td>...</td>\n",
       "      <td>...</td>\n",
       "      <td>...</td>\n",
       "      <td>...</td>\n",
       "      <td>...</td>\n",
       "      <td>...</td>\n",
       "      <td>...</td>\n",
       "      <td>...</td>\n",
       "      <td>...</td>\n",
       "    </tr>\n",
       "    <tr>\n",
       "      <th>420521</th>\n",
       "      <td>31.12.2016 19:10:00</td>\n",
       "      <td>1002.18</td>\n",
       "      <td>-0.98</td>\n",
       "      <td>272.01</td>\n",
       "      <td>-5.36</td>\n",
       "      <td>72.00</td>\n",
       "      <td>5.69</td>\n",
       "      <td>4.09</td>\n",
       "      <td>1.59</td>\n",
       "      <td>2.54</td>\n",
       "      <td>4.08</td>\n",
       "      <td>1280.70</td>\n",
       "      <td>0.87</td>\n",
       "      <td>1.36</td>\n",
       "      <td>190.6</td>\n",
       "    </tr>\n",
       "    <tr>\n",
       "      <th>420527</th>\n",
       "      <td>31.12.2016 20:10:00</td>\n",
       "      <td>1001.40</td>\n",
       "      <td>-1.40</td>\n",
       "      <td>271.66</td>\n",
       "      <td>-6.84</td>\n",
       "      <td>66.29</td>\n",
       "      <td>5.51</td>\n",
       "      <td>3.65</td>\n",
       "      <td>1.86</td>\n",
       "      <td>2.27</td>\n",
       "      <td>3.65</td>\n",
       "      <td>1281.87</td>\n",
       "      <td>1.02</td>\n",
       "      <td>1.92</td>\n",
       "      <td>225.4</td>\n",
       "    </tr>\n",
       "    <tr>\n",
       "      <th>420533</th>\n",
       "      <td>31.12.2016 21:10:00</td>\n",
       "      <td>1001.19</td>\n",
       "      <td>-2.75</td>\n",
       "      <td>270.32</td>\n",
       "      <td>-6.90</td>\n",
       "      <td>72.90</td>\n",
       "      <td>4.99</td>\n",
       "      <td>3.64</td>\n",
       "      <td>1.35</td>\n",
       "      <td>2.26</td>\n",
       "      <td>3.63</td>\n",
       "      <td>1288.02</td>\n",
       "      <td>0.71</td>\n",
       "      <td>1.56</td>\n",
       "      <td>158.7</td>\n",
       "    </tr>\n",
       "    <tr>\n",
       "      <th>420539</th>\n",
       "      <td>31.12.2016 22:10:00</td>\n",
       "      <td>1000.65</td>\n",
       "      <td>-2.89</td>\n",
       "      <td>270.22</td>\n",
       "      <td>-7.15</td>\n",
       "      <td>72.30</td>\n",
       "      <td>4.93</td>\n",
       "      <td>3.57</td>\n",
       "      <td>1.37</td>\n",
       "      <td>2.22</td>\n",
       "      <td>3.57</td>\n",
       "      <td>1288.03</td>\n",
       "      <td>0.35</td>\n",
       "      <td>0.68</td>\n",
       "      <td>216.7</td>\n",
       "    </tr>\n",
       "    <tr>\n",
       "      <th>420545</th>\n",
       "      <td>31.12.2016 23:10:00</td>\n",
       "      <td>1000.11</td>\n",
       "      <td>-3.93</td>\n",
       "      <td>269.23</td>\n",
       "      <td>-8.09</td>\n",
       "      <td>72.60</td>\n",
       "      <td>4.56</td>\n",
       "      <td>3.31</td>\n",
       "      <td>1.25</td>\n",
       "      <td>2.06</td>\n",
       "      <td>3.31</td>\n",
       "      <td>1292.41</td>\n",
       "      <td>0.56</td>\n",
       "      <td>1.00</td>\n",
       "      <td>202.6</td>\n",
       "    </tr>\n",
       "  </tbody>\n",
       "</table>\n",
       "<p>70091 rows × 15 columns</p>\n",
       "</div>"
      ],
      "text/plain": [
       "                  Date Time  p (mbar)  ...  max. wv (m/s)  wd (deg)\n",
       "5       01.01.2009 01:00:00    996.50  ...           0.63     192.7\n",
       "11      01.01.2009 02:00:00    996.62  ...           0.63     190.3\n",
       "17      01.01.2009 03:00:00    996.84  ...           0.63     167.2\n",
       "23      01.01.2009 04:00:00    996.99  ...           0.38     240.0\n",
       "29      01.01.2009 05:00:00    997.46  ...           0.88     157.0\n",
       "...                     ...       ...  ...            ...       ...\n",
       "420521  31.12.2016 19:10:00   1002.18  ...           1.36     190.6\n",
       "420527  31.12.2016 20:10:00   1001.40  ...           1.92     225.4\n",
       "420533  31.12.2016 21:10:00   1001.19  ...           1.56     158.7\n",
       "420539  31.12.2016 22:10:00   1000.65  ...           0.68     216.7\n",
       "420545  31.12.2016 23:10:00   1000.11  ...           1.00     202.6\n",
       "\n",
       "[70091 rows x 15 columns]"
      ]
     },
     "metadata": {},
     "output_type": "display_data"
    }
   ],
   "source": [
    "df = df[5::6]\n",
    "df"
   ]
  },
  {
   "cell_type": "code",
   "execution_count": null,
   "metadata": {},
   "outputs": [
    {
     "data": {
      "text/html": [
       "<div>\n",
       "<style scoped>\n",
       "    .dataframe tbody tr th:only-of-type {\n",
       "        vertical-align: middle;\n",
       "    }\n",
       "\n",
       "    .dataframe tbody tr th {\n",
       "        vertical-align: top;\n",
       "    }\n",
       "\n",
       "    .dataframe thead th {\n",
       "        text-align: right;\n",
       "    }\n",
       "</style>\n",
       "<table border=\"1\" class=\"dataframe\">\n",
       "  <thead>\n",
       "    <tr style=\"text-align: right;\">\n",
       "      <th></th>\n",
       "      <th>Date Time</th>\n",
       "      <th>p (mbar)</th>\n",
       "      <th>T (degC)</th>\n",
       "      <th>Tpot (K)</th>\n",
       "      <th>Tdew (degC)</th>\n",
       "      <th>rh (%)</th>\n",
       "      <th>VPmax (mbar)</th>\n",
       "      <th>VPact (mbar)</th>\n",
       "      <th>VPdef (mbar)</th>\n",
       "      <th>sh (g/kg)</th>\n",
       "      <th>H2OC (mmol/mol)</th>\n",
       "      <th>rho (g/m**3)</th>\n",
       "      <th>wv (m/s)</th>\n",
       "      <th>max. wv (m/s)</th>\n",
       "      <th>wd (deg)</th>\n",
       "    </tr>\n",
       "    <tr>\n",
       "      <th>Date Time</th>\n",
       "      <th></th>\n",
       "      <th></th>\n",
       "      <th></th>\n",
       "      <th></th>\n",
       "      <th></th>\n",
       "      <th></th>\n",
       "      <th></th>\n",
       "      <th></th>\n",
       "      <th></th>\n",
       "      <th></th>\n",
       "      <th></th>\n",
       "      <th></th>\n",
       "      <th></th>\n",
       "      <th></th>\n",
       "      <th></th>\n",
       "    </tr>\n",
       "  </thead>\n",
       "  <tbody>\n",
       "    <tr>\n",
       "      <th>2009-01-01 01:00:00</th>\n",
       "      <td>01.01.2009 01:00:00</td>\n",
       "      <td>996.50</td>\n",
       "      <td>-8.05</td>\n",
       "      <td>265.38</td>\n",
       "      <td>-8.78</td>\n",
       "      <td>94.4</td>\n",
       "      <td>3.33</td>\n",
       "      <td>3.14</td>\n",
       "      <td>0.19</td>\n",
       "      <td>1.96</td>\n",
       "      <td>3.15</td>\n",
       "      <td>1307.86</td>\n",
       "      <td>0.21</td>\n",
       "      <td>0.63</td>\n",
       "      <td>192.7</td>\n",
       "    </tr>\n",
       "    <tr>\n",
       "      <th>2009-01-01 02:00:00</th>\n",
       "      <td>01.01.2009 02:00:00</td>\n",
       "      <td>996.62</td>\n",
       "      <td>-8.88</td>\n",
       "      <td>264.54</td>\n",
       "      <td>-9.77</td>\n",
       "      <td>93.2</td>\n",
       "      <td>3.12</td>\n",
       "      <td>2.90</td>\n",
       "      <td>0.21</td>\n",
       "      <td>1.81</td>\n",
       "      <td>2.91</td>\n",
       "      <td>1312.25</td>\n",
       "      <td>0.25</td>\n",
       "      <td>0.63</td>\n",
       "      <td>190.3</td>\n",
       "    </tr>\n",
       "    <tr>\n",
       "      <th>2009-01-01 03:00:00</th>\n",
       "      <td>01.01.2009 03:00:00</td>\n",
       "      <td>996.84</td>\n",
       "      <td>-8.81</td>\n",
       "      <td>264.59</td>\n",
       "      <td>-9.66</td>\n",
       "      <td>93.5</td>\n",
       "      <td>3.13</td>\n",
       "      <td>2.93</td>\n",
       "      <td>0.20</td>\n",
       "      <td>1.83</td>\n",
       "      <td>2.94</td>\n",
       "      <td>1312.18</td>\n",
       "      <td>0.18</td>\n",
       "      <td>0.63</td>\n",
       "      <td>167.2</td>\n",
       "    </tr>\n",
       "    <tr>\n",
       "      <th>2009-01-01 04:00:00</th>\n",
       "      <td>01.01.2009 04:00:00</td>\n",
       "      <td>996.99</td>\n",
       "      <td>-9.05</td>\n",
       "      <td>264.34</td>\n",
       "      <td>-10.02</td>\n",
       "      <td>92.6</td>\n",
       "      <td>3.07</td>\n",
       "      <td>2.85</td>\n",
       "      <td>0.23</td>\n",
       "      <td>1.78</td>\n",
       "      <td>2.85</td>\n",
       "      <td>1313.61</td>\n",
       "      <td>0.10</td>\n",
       "      <td>0.38</td>\n",
       "      <td>240.0</td>\n",
       "    </tr>\n",
       "    <tr>\n",
       "      <th>2009-01-01 05:00:00</th>\n",
       "      <td>01.01.2009 05:00:00</td>\n",
       "      <td>997.46</td>\n",
       "      <td>-9.63</td>\n",
       "      <td>263.72</td>\n",
       "      <td>-10.65</td>\n",
       "      <td>92.2</td>\n",
       "      <td>2.94</td>\n",
       "      <td>2.71</td>\n",
       "      <td>0.23</td>\n",
       "      <td>1.69</td>\n",
       "      <td>2.71</td>\n",
       "      <td>1317.19</td>\n",
       "      <td>0.40</td>\n",
       "      <td>0.88</td>\n",
       "      <td>157.0</td>\n",
       "    </tr>\n",
       "    <tr>\n",
       "      <th>2009-01-01 06:00:00</th>\n",
       "      <td>01.01.2009 06:00:00</td>\n",
       "      <td>997.71</td>\n",
       "      <td>-9.67</td>\n",
       "      <td>263.66</td>\n",
       "      <td>-10.62</td>\n",
       "      <td>92.7</td>\n",
       "      <td>2.93</td>\n",
       "      <td>2.71</td>\n",
       "      <td>0.21</td>\n",
       "      <td>1.69</td>\n",
       "      <td>2.72</td>\n",
       "      <td>1317.71</td>\n",
       "      <td>0.05</td>\n",
       "      <td>0.50</td>\n",
       "      <td>146.0</td>\n",
       "    </tr>\n",
       "    <tr>\n",
       "      <th>2009-01-01 07:00:00</th>\n",
       "      <td>01.01.2009 07:00:00</td>\n",
       "      <td>998.33</td>\n",
       "      <td>-9.17</td>\n",
       "      <td>264.12</td>\n",
       "      <td>-10.10</td>\n",
       "      <td>92.9</td>\n",
       "      <td>3.04</td>\n",
       "      <td>2.83</td>\n",
       "      <td>0.22</td>\n",
       "      <td>1.76</td>\n",
       "      <td>2.83</td>\n",
       "      <td>1315.98</td>\n",
       "      <td>2.08</td>\n",
       "      <td>2.88</td>\n",
       "      <td>348.8</td>\n",
       "    </tr>\n",
       "    <tr>\n",
       "      <th>2009-01-01 08:00:00</th>\n",
       "      <td>01.01.2009 08:00:00</td>\n",
       "      <td>999.17</td>\n",
       "      <td>-8.10</td>\n",
       "      <td>265.12</td>\n",
       "      <td>-9.05</td>\n",
       "      <td>92.8</td>\n",
       "      <td>3.31</td>\n",
       "      <td>3.07</td>\n",
       "      <td>0.24</td>\n",
       "      <td>1.92</td>\n",
       "      <td>3.08</td>\n",
       "      <td>1311.65</td>\n",
       "      <td>0.72</td>\n",
       "      <td>1.25</td>\n",
       "      <td>213.9</td>\n",
       "    </tr>\n",
       "    <tr>\n",
       "      <th>2009-01-01 09:00:00</th>\n",
       "      <td>01.01.2009 09:00:00</td>\n",
       "      <td>999.69</td>\n",
       "      <td>-7.66</td>\n",
       "      <td>265.52</td>\n",
       "      <td>-8.84</td>\n",
       "      <td>91.2</td>\n",
       "      <td>3.43</td>\n",
       "      <td>3.13</td>\n",
       "      <td>0.30</td>\n",
       "      <td>1.95</td>\n",
       "      <td>3.13</td>\n",
       "      <td>1310.14</td>\n",
       "      <td>0.34</td>\n",
       "      <td>0.63</td>\n",
       "      <td>202.2</td>\n",
       "    </tr>\n",
       "    <tr>\n",
       "      <th>2009-01-01 10:00:00</th>\n",
       "      <td>01.01.2009 10:00:00</td>\n",
       "      <td>1000.27</td>\n",
       "      <td>-7.04</td>\n",
       "      <td>266.10</td>\n",
       "      <td>-8.17</td>\n",
       "      <td>91.6</td>\n",
       "      <td>3.60</td>\n",
       "      <td>3.30</td>\n",
       "      <td>0.30</td>\n",
       "      <td>2.05</td>\n",
       "      <td>3.29</td>\n",
       "      <td>1307.76</td>\n",
       "      <td>1.45</td>\n",
       "      <td>3.00</td>\n",
       "      <td>292.6</td>\n",
       "    </tr>\n",
       "    <tr>\n",
       "      <th>2009-01-01 11:00:00</th>\n",
       "      <td>01.01.2009 11:00:00</td>\n",
       "      <td>1000.87</td>\n",
       "      <td>-7.41</td>\n",
       "      <td>265.68</td>\n",
       "      <td>-8.66</td>\n",
       "      <td>90.7</td>\n",
       "      <td>3.50</td>\n",
       "      <td>3.17</td>\n",
       "      <td>0.33</td>\n",
       "      <td>1.97</td>\n",
       "      <td>3.17</td>\n",
       "      <td>1310.43</td>\n",
       "      <td>1.91</td>\n",
       "      <td>3.38</td>\n",
       "      <td>269.6</td>\n",
       "    </tr>\n",
       "    <tr>\n",
       "      <th>2009-01-01 12:00:00</th>\n",
       "      <td>01.01.2009 12:00:00</td>\n",
       "      <td>1000.30</td>\n",
       "      <td>-6.87</td>\n",
       "      <td>266.27</td>\n",
       "      <td>-8.28</td>\n",
       "      <td>89.6</td>\n",
       "      <td>3.64</td>\n",
       "      <td>3.27</td>\n",
       "      <td>0.38</td>\n",
       "      <td>2.03</td>\n",
       "      <td>3.26</td>\n",
       "      <td>1306.98</td>\n",
       "      <td>1.84</td>\n",
       "      <td>2.63</td>\n",
       "      <td>184.4</td>\n",
       "    </tr>\n",
       "    <tr>\n",
       "      <th>2009-01-01 13:00:00</th>\n",
       "      <td>01.01.2009 13:00:00</td>\n",
       "      <td>1000.03</td>\n",
       "      <td>-5.89</td>\n",
       "      <td>267.27</td>\n",
       "      <td>-7.46</td>\n",
       "      <td>88.6</td>\n",
       "      <td>3.93</td>\n",
       "      <td>3.48</td>\n",
       "      <td>0.45</td>\n",
       "      <td>2.17</td>\n",
       "      <td>3.48</td>\n",
       "      <td>1301.73</td>\n",
       "      <td>0.57</td>\n",
       "      <td>1.25</td>\n",
       "      <td>187.3</td>\n",
       "    </tr>\n",
       "    <tr>\n",
       "      <th>2009-01-01 14:00:00</th>\n",
       "      <td>01.01.2009 14:00:00</td>\n",
       "      <td>999.81</td>\n",
       "      <td>-5.94</td>\n",
       "      <td>267.24</td>\n",
       "      <td>-7.43</td>\n",
       "      <td>89.1</td>\n",
       "      <td>3.92</td>\n",
       "      <td>3.49</td>\n",
       "      <td>0.43</td>\n",
       "      <td>2.17</td>\n",
       "      <td>3.49</td>\n",
       "      <td>1301.67</td>\n",
       "      <td>1.25</td>\n",
       "      <td>2.00</td>\n",
       "      <td>144.0</td>\n",
       "    </tr>\n",
       "    <tr>\n",
       "      <th>2009-01-01 15:00:00</th>\n",
       "      <td>01.01.2009 15:00:00</td>\n",
       "      <td>999.88</td>\n",
       "      <td>-5.69</td>\n",
       "      <td>267.48</td>\n",
       "      <td>-7.00</td>\n",
       "      <td>90.4</td>\n",
       "      <td>3.99</td>\n",
       "      <td>3.61</td>\n",
       "      <td>0.38</td>\n",
       "      <td>2.25</td>\n",
       "      <td>3.61</td>\n",
       "      <td>1300.51</td>\n",
       "      <td>1.17</td>\n",
       "      <td>1.88</td>\n",
       "      <td>134.9</td>\n",
       "    </tr>\n",
       "    <tr>\n",
       "      <th>2009-01-01 16:00:00</th>\n",
       "      <td>01.01.2009 16:00:00</td>\n",
       "      <td>999.94</td>\n",
       "      <td>-5.40</td>\n",
       "      <td>267.76</td>\n",
       "      <td>-6.86</td>\n",
       "      <td>89.4</td>\n",
       "      <td>4.08</td>\n",
       "      <td>3.65</td>\n",
       "      <td>0.43</td>\n",
       "      <td>2.27</td>\n",
       "      <td>3.65</td>\n",
       "      <td>1299.17</td>\n",
       "      <td>1.40</td>\n",
       "      <td>2.13</td>\n",
       "      <td>145.5</td>\n",
       "    </tr>\n",
       "    <tr>\n",
       "      <th>2009-01-01 17:00:00</th>\n",
       "      <td>01.01.2009 17:00:00</td>\n",
       "      <td>1000.17</td>\n",
       "      <td>-5.37</td>\n",
       "      <td>267.78</td>\n",
       "      <td>-6.82</td>\n",
       "      <td>89.4</td>\n",
       "      <td>4.09</td>\n",
       "      <td>3.66</td>\n",
       "      <td>0.43</td>\n",
       "      <td>2.28</td>\n",
       "      <td>3.66</td>\n",
       "      <td>1299.27</td>\n",
       "      <td>0.85</td>\n",
       "      <td>1.63</td>\n",
       "      <td>142.2</td>\n",
       "    </tr>\n",
       "    <tr>\n",
       "      <th>2009-01-01 18:00:00</th>\n",
       "      <td>01.01.2009 18:00:00</td>\n",
       "      <td>1000.16</td>\n",
       "      <td>-5.25</td>\n",
       "      <td>267.90</td>\n",
       "      <td>-6.75</td>\n",
       "      <td>89.1</td>\n",
       "      <td>4.13</td>\n",
       "      <td>3.68</td>\n",
       "      <td>0.45</td>\n",
       "      <td>2.29</td>\n",
       "      <td>3.68</td>\n",
       "      <td>1298.68</td>\n",
       "      <td>0.55</td>\n",
       "      <td>1.00</td>\n",
       "      <td>183.7</td>\n",
       "    </tr>\n",
       "    <tr>\n",
       "      <th>2009-01-01 19:00:00</th>\n",
       "      <td>01.01.2009 19:00:00</td>\n",
       "      <td>1000.22</td>\n",
       "      <td>-5.11</td>\n",
       "      <td>268.03</td>\n",
       "      <td>-6.57</td>\n",
       "      <td>89.4</td>\n",
       "      <td>4.17</td>\n",
       "      <td>3.73</td>\n",
       "      <td>0.44</td>\n",
       "      <td>2.32</td>\n",
       "      <td>3.73</td>\n",
       "      <td>1298.07</td>\n",
       "      <td>0.41</td>\n",
       "      <td>0.75</td>\n",
       "      <td>176.7</td>\n",
       "    </tr>\n",
       "    <tr>\n",
       "      <th>2009-01-01 20:00:00</th>\n",
       "      <td>01.01.2009 20:00:00</td>\n",
       "      <td>1000.22</td>\n",
       "      <td>-4.90</td>\n",
       "      <td>268.24</td>\n",
       "      <td>-6.38</td>\n",
       "      <td>89.3</td>\n",
       "      <td>4.24</td>\n",
       "      <td>3.79</td>\n",
       "      <td>0.45</td>\n",
       "      <td>2.36</td>\n",
       "      <td>3.78</td>\n",
       "      <td>1297.05</td>\n",
       "      <td>0.68</td>\n",
       "      <td>1.13</td>\n",
       "      <td>195.2</td>\n",
       "    </tr>\n",
       "    <tr>\n",
       "      <th>2009-01-01 21:00:00</th>\n",
       "      <td>01.01.2009 21:00:00</td>\n",
       "      <td>1000.19</td>\n",
       "      <td>-4.80</td>\n",
       "      <td>268.35</td>\n",
       "      <td>-6.14</td>\n",
       "      <td>90.2</td>\n",
       "      <td>4.27</td>\n",
       "      <td>3.85</td>\n",
       "      <td>0.42</td>\n",
       "      <td>2.40</td>\n",
       "      <td>3.85</td>\n",
       "      <td>1296.45</td>\n",
       "      <td>0.44</td>\n",
       "      <td>0.75</td>\n",
       "      <td>206.3</td>\n",
       "    </tr>\n",
       "    <tr>\n",
       "      <th>2009-01-01 22:00:00</th>\n",
       "      <td>01.01.2009 22:00:00</td>\n",
       "      <td>1000.00</td>\n",
       "      <td>-4.50</td>\n",
       "      <td>268.66</td>\n",
       "      <td>-5.82</td>\n",
       "      <td>90.4</td>\n",
       "      <td>4.37</td>\n",
       "      <td>3.95</td>\n",
       "      <td>0.42</td>\n",
       "      <td>2.46</td>\n",
       "      <td>3.95</td>\n",
       "      <td>1294.72</td>\n",
       "      <td>0.33</td>\n",
       "      <td>0.63</td>\n",
       "      <td>175.7</td>\n",
       "    </tr>\n",
       "    <tr>\n",
       "      <th>2009-01-01 23:00:00</th>\n",
       "      <td>01.01.2009 23:00:00</td>\n",
       "      <td>999.77</td>\n",
       "      <td>-4.47</td>\n",
       "      <td>268.71</td>\n",
       "      <td>-5.84</td>\n",
       "      <td>90.1</td>\n",
       "      <td>4.38</td>\n",
       "      <td>3.95</td>\n",
       "      <td>0.43</td>\n",
       "      <td>2.46</td>\n",
       "      <td>3.95</td>\n",
       "      <td>1294.29</td>\n",
       "      <td>0.65</td>\n",
       "      <td>1.00</td>\n",
       "      <td>219.3</td>\n",
       "    </tr>\n",
       "    <tr>\n",
       "      <th>2009-01-02 00:00:00</th>\n",
       "      <td>02.01.2009 00:00:00</td>\n",
       "      <td>999.59</td>\n",
       "      <td>-4.54</td>\n",
       "      <td>268.65</td>\n",
       "      <td>-5.46</td>\n",
       "      <td>93.2</td>\n",
       "      <td>4.36</td>\n",
       "      <td>4.06</td>\n",
       "      <td>0.30</td>\n",
       "      <td>2.53</td>\n",
       "      <td>4.06</td>\n",
       "      <td>1294.33</td>\n",
       "      <td>0.41</td>\n",
       "      <td>0.88</td>\n",
       "      <td>155.0</td>\n",
       "    </tr>\n",
       "    <tr>\n",
       "      <th>2009-01-02 01:00:00</th>\n",
       "      <td>02.01.2009 01:00:00</td>\n",
       "      <td>999.34</td>\n",
       "      <td>-4.44</td>\n",
       "      <td>268.77</td>\n",
       "      <td>-5.19</td>\n",
       "      <td>94.4</td>\n",
       "      <td>4.39</td>\n",
       "      <td>4.15</td>\n",
       "      <td>0.25</td>\n",
       "      <td>2.58</td>\n",
       "      <td>4.15</td>\n",
       "      <td>1293.47</td>\n",
       "      <td>0.28</td>\n",
       "      <td>1.00</td>\n",
       "      <td>148.1</td>\n",
       "    </tr>\n",
       "    <tr>\n",
       "      <th>2009-01-02 02:00:00</th>\n",
       "      <td>02.01.2009 02:00:00</td>\n",
       "      <td>998.93</td>\n",
       "      <td>-4.29</td>\n",
       "      <td>268.95</td>\n",
       "      <td>-5.04</td>\n",
       "      <td>94.5</td>\n",
       "      <td>4.44</td>\n",
       "      <td>4.20</td>\n",
       "      <td>0.24</td>\n",
       "      <td>2.62</td>\n",
       "      <td>4.20</td>\n",
       "      <td>1292.22</td>\n",
       "      <td>0.49</td>\n",
       "      <td>0.88</td>\n",
       "      <td>209.8</td>\n",
       "    </tr>\n",
       "  </tbody>\n",
       "</table>\n",
       "</div>"
      ],
      "text/plain": [
       "                               Date Time  p (mbar)  ...  max. wv (m/s)  wd (deg)\n",
       "Date Time                                           ...                         \n",
       "2009-01-01 01:00:00  01.01.2009 01:00:00    996.50  ...           0.63     192.7\n",
       "2009-01-01 02:00:00  01.01.2009 02:00:00    996.62  ...           0.63     190.3\n",
       "2009-01-01 03:00:00  01.01.2009 03:00:00    996.84  ...           0.63     167.2\n",
       "2009-01-01 04:00:00  01.01.2009 04:00:00    996.99  ...           0.38     240.0\n",
       "2009-01-01 05:00:00  01.01.2009 05:00:00    997.46  ...           0.88     157.0\n",
       "2009-01-01 06:00:00  01.01.2009 06:00:00    997.71  ...           0.50     146.0\n",
       "2009-01-01 07:00:00  01.01.2009 07:00:00    998.33  ...           2.88     348.8\n",
       "2009-01-01 08:00:00  01.01.2009 08:00:00    999.17  ...           1.25     213.9\n",
       "2009-01-01 09:00:00  01.01.2009 09:00:00    999.69  ...           0.63     202.2\n",
       "2009-01-01 10:00:00  01.01.2009 10:00:00   1000.27  ...           3.00     292.6\n",
       "2009-01-01 11:00:00  01.01.2009 11:00:00   1000.87  ...           3.38     269.6\n",
       "2009-01-01 12:00:00  01.01.2009 12:00:00   1000.30  ...           2.63     184.4\n",
       "2009-01-01 13:00:00  01.01.2009 13:00:00   1000.03  ...           1.25     187.3\n",
       "2009-01-01 14:00:00  01.01.2009 14:00:00    999.81  ...           2.00     144.0\n",
       "2009-01-01 15:00:00  01.01.2009 15:00:00    999.88  ...           1.88     134.9\n",
       "2009-01-01 16:00:00  01.01.2009 16:00:00    999.94  ...           2.13     145.5\n",
       "2009-01-01 17:00:00  01.01.2009 17:00:00   1000.17  ...           1.63     142.2\n",
       "2009-01-01 18:00:00  01.01.2009 18:00:00   1000.16  ...           1.00     183.7\n",
       "2009-01-01 19:00:00  01.01.2009 19:00:00   1000.22  ...           0.75     176.7\n",
       "2009-01-01 20:00:00  01.01.2009 20:00:00   1000.22  ...           1.13     195.2\n",
       "2009-01-01 21:00:00  01.01.2009 21:00:00   1000.19  ...           0.75     206.3\n",
       "2009-01-01 22:00:00  01.01.2009 22:00:00   1000.00  ...           0.63     175.7\n",
       "2009-01-01 23:00:00  01.01.2009 23:00:00    999.77  ...           1.00     219.3\n",
       "2009-01-02 00:00:00  02.01.2009 00:00:00    999.59  ...           0.88     155.0\n",
       "2009-01-02 01:00:00  02.01.2009 01:00:00    999.34  ...           1.00     148.1\n",
       "2009-01-02 02:00:00  02.01.2009 02:00:00    998.93  ...           0.88     209.8\n",
       "\n",
       "[26 rows x 15 columns]"
      ]
     },
     "metadata": {},
     "output_type": "display_data"
    }
   ],
   "source": [
    "df.index = pd.to_datetime(df['Date Time'], format='%d.%m.%Y %H:%M:%S')\n",
    "df[:26]"
   ]
  },
  {
   "cell_type": "code",
   "execution_count": null,
   "metadata": {},
   "outputs": [
    {
     "data": {
      "text/plain": [
       "<matplotlib.axes._subplots.AxesSubplot at 0x7ff17b92c390>"
      ]
     },
     "metadata": {},
     "output_type": "display_data"
    },
    {
     "data": {
      "image/png": "[encoded data removed]",
      "text/plain": [
       "<Figure size 432x288 with 1 Axes>"
      ]
     },
     "metadata": {},
     "output_type": "display_data"
    }
   ],
   "source": [
    "temp = df['T (degC)']\n",
    "temp.plot()"
   ]
  },
  {
   "cell_type": "code",
   "execution_count": null,
   "metadata": {},
   "outputs": [],
   "source": [
    "# [[[1], [2], [3], [4], [5]]] [6]\n",
    "# [[[2], [3], [4], [5], [6]]] [7]\n",
    "# [[[3], [4], [5], [6], [7]]] [8]\n",
    "\n",
    "def df_to_X_y(df, window_size=5):\n",
    "  df_as_np = df.to_numpy()\n",
    "  X = []\n",
    "  y = []\n",
    "  for i in range(len(df_as_np)-window_size):\n",
    "    row = [[a] for a in df_as_np[i:i+window_size]]\n",
    "    X.append(row)\n",
    "    label = df_as_np[i+window_size]\n",
    "    y.append(label)\n",
    "  return np.array(X), np.array(y)"
   ]
  },
  {
   "cell_type": "code",
   "execution_count": null,
   "metadata": {},
   "outputs": [
    {
     "data": {
      "text/plain": [
       "((70086, 5, 1), (70086,))"
      ]
     },
     "metadata": {},
     "output_type": "display_data"
    }
   ],
   "source": [
    "WINDOW_SIZE = 5\n",
    "X1, y1 = df_to_X_y(temp, WINDOW_SIZE)\n",
    "X1.shape, y1.shape"
   ]
  },
  {
   "cell_type": "code",
   "execution_count": null,
   "metadata": {},
   "outputs": [
    {
     "data": {
      "text/plain": [
       "((60000, 5, 1), (60000,), (5000, 5, 1), (5000,), (5086, 5, 1), (5086,))"
      ]
     },
     "metadata": {},
     "output_type": "display_data"
    }
   ],
   "source": [
    "X_train1, y_train1 = X1[:60000], y1[:60000]\n",
    "X_val1, y_val1 = X1[60000:65000], y1[60000:65000]\n",
    "X_test1, y_test1 = X1[65000:], y1[65000:]\n",
    "X_train1.shape, y_train1.shape, X_val1.shape, y_val1.shape, X_test1.shape, y_test1.shape"
   ]
  },
  {
   "cell_type": "code",
   "execution_count": null,
   "metadata": {},
   "outputs": [
    {
     "name": "stdout",
     "output_type": "stream",
     "text": [
      "Model: \"sequential\"\n",
      "_________________________________________________________________\n",
      "Layer (type)                 Output Shape              Param #   \n",
      "=================================================================\n",
      "lstm (LSTM)                  (None, 64)                16896     \n",
      "_________________________________________________________________\n",
      "dense (Dense)                (None, 8)                 520       \n",
      "_________________________________________________________________\n",
      "dense_1 (Dense)              (None, 1)                 9         \n",
      "=================================================================\n",
      "Total params: 17,425\n",
      "Trainable params: 17,425\n",
      "Non-trainable params: 0\n",
      "_________________________________________________________________\n"
     ]
    }
   ],
   "source": [
    "from tensorflow.keras.models import Sequential\n",
    "from tensorflow.keras.layers import *\n",
    "from tensorflow.keras.callbacks import ModelCheckpoint\n",
    "from tensorflow.keras.losses import MeanSquaredError\n",
    "from tensorflow.keras.metrics import RootMeanSquaredError\n",
    "from tensorflow.keras.optimizers import Adam\n",
    "\n",
    "model1 = Sequential()\n",
    "model1.add(InputLayer((5, 1)))\n",
    "model1.add(LSTM(64))\n",
    "model1.add(Dense(8, 'relu'))\n",
    "model1.add(Dense(1, 'linear'))\n",
    "\n",
    "model1.summary()"
   ]
  },
  {
   "cell_type": "code",
   "execution_count": null,
   "metadata": {},
   "outputs": [],
   "source": [
    "cp1 = ModelCheckpoint('model1/', save_best_only=True)\n",
    "model1.compile(loss=MeanSquaredError(), optimizer=Adam(learning_rate=0.0001), metrics=[RootMeanSquaredError()])"
   ]
  },
  {
   "cell_type": "code",
   "execution_count": null,
   "metadata": {},
   "outputs": [
    {
     "name": "stdout",
     "output_type": "stream",
     "text": [
      "Epoch 1/10\n",
      "1875/1875 [==============================] - 11s 5ms/step - loss: 37.0930 - root_mean_squared_error: 6.0904 - val_loss: 1.1509 - val_root_mean_squared_error: 1.0728\n"
     ]
    },
    {
     "name": "stderr",
     "output_type": "stream",
     "text": [
      "WARNING:absl:Found untraced functions such as lstm_cell_layer_call_and_return_conditional_losses, lstm_cell_layer_call_fn, lstm_cell_layer_call_fn, lstm_cell_layer_call_and_return_conditional_losses, lstm_cell_layer_call_and_return_conditional_losses while saving (showing 5 of 5). These functions will not be directly callable after loading.\n"
     ]
    },
    {
     "name": "stdout",
     "output_type": "stream",
     "text": [
      "INFO:tensorflow:Assets written to: model1/assets\n"
     ]
    },
    {
     "name": "stderr",
     "output_type": "stream",
     "text": [
      "INFO:tensorflow:Assets written to: model1/assets\n"
     ]
    },
    {
     "name": "stdout",
     "output_type": "stream",
     "text": [
      "Epoch 2/10\n",
      "1875/1875 [==============================] - 9s 5ms/step - loss: 1.9326 - root_mean_squared_error: 1.3902 - val_loss: 0.6171 - val_root_mean_squared_error: 0.7855\n"
     ]
    },
    {
     "name": "stderr",
     "output_type": "stream",
     "text": [
      "WARNING:absl:Found untraced functions such as lstm_cell_layer_call_and_return_conditional_losses, lstm_cell_layer_call_fn, lstm_cell_layer_call_fn, lstm_cell_layer_call_and_return_conditional_losses, lstm_cell_layer_call_and_return_conditional_losses while saving (showing 5 of 5). These functions will not be directly callable after loading.\n"
     ]
    },
    {
     "name": "stdout",
     "output_type": "stream",
     "text": [
      "INFO:tensorflow:Assets written to: model1/assets\n"
     ]
    },
    {
     "name": "stderr",
     "output_type": "stream",
     "text": [
      "INFO:tensorflow:Assets written to: model1/assets\n"
     ]
    },
    {
     "name": "stdout",
     "output_type": "stream",
     "text": [
      "Epoch 3/10\n",
      "1875/1875 [==============================] - 8s 4ms/step - loss: 0.8976 - root_mean_squared_error: 0.9474 - val_loss: 0.5435 - val_root_mean_squared_error: 0.7372\n"
     ]
    },
    {
     "name": "stderr",
     "output_type": "stream",
     "text": [
      "WARNING:absl:Found untraced functions such as lstm_cell_layer_call_and_return_conditional_losses, lstm_cell_layer_call_fn, lstm_cell_layer_call_fn, lstm_cell_layer_call_and_return_conditional_losses, lstm_cell_layer_call_and_return_conditional_losses while saving (showing 5 of 5). These functions will not be directly callable after loading.\n"
     ]
    },
    {
     "name": "stdout",
     "output_type": "stream",
     "text": [
      "INFO:tensorflow:Assets written to: model1/assets\n"
     ]
    },
    {
     "name": "stderr",
     "output_type": "stream",
     "text": [
      "INFO:tensorflow:Assets written to: model1/assets\n"
     ]
    },
    {
     "name": "stdout",
     "output_type": "stream",
     "text": [
      "Epoch 4/10\n",
      "1875/1875 [==============================] - 8s 5ms/step - loss: 0.7265 - root_mean_squared_error: 0.8523 - val_loss: 0.5334 - val_root_mean_squared_error: 0.7304\n"
     ]
    },
    {
     "name": "stderr",
     "output_type": "stream",
     "text": [
      "WARNING:absl:Found untraced functions such as lstm_cell_layer_call_and_return_conditional_losses, lstm_cell_layer_call_fn, lstm_cell_layer_call_fn, lstm_cell_layer_call_and_return_conditional_losses, lstm_cell_layer_call_and_return_conditional_losses while saving (showing 5 of 5). These functions will not be directly callable after loading.\n"
     ]
    },
    {
     "name": "stdout",
     "output_type": "stream",
     "text": [
      "INFO:tensorflow:Assets written to: model1/assets\n"
     ]
    },
    {
     "name": "stderr",
     "output_type": "stream",
     "text": [
      "INFO:tensorflow:Assets written to: model1/assets\n"
     ]
    },
    {
     "name": "stdout",
     "output_type": "stream",
     "text": [
      "Epoch 5/10\n",
      "1875/1875 [==============================] - 9s 5ms/step - loss: 0.6831 - root_mean_squared_error: 0.8265 - val_loss: 0.5040 - val_root_mean_squared_error: 0.7099\n"
     ]
    },
    {
     "name": "stderr",
     "output_type": "stream",
     "text": [
      "WARNING:absl:Found untraced functions such as lstm_cell_layer_call_and_return_conditional_losses, lstm_cell_layer_call_fn, lstm_cell_layer_call_fn, lstm_cell_layer_call_and_return_conditional_losses, lstm_cell_layer_call_and_return_conditional_losses while saving (showing 5 of 5). These functions will not be directly callable after loading.\n"
     ]
    },
    {
     "name": "stdout",
     "output_type": "stream",
     "text": [
      "INFO:tensorflow:Assets written to: model1/assets\n"
     ]
    },
    {
     "name": "stderr",
     "output_type": "stream",
     "text": [
      "INFO:tensorflow:Assets written to: model1/assets\n"
     ]
    },
    {
     "name": "stdout",
     "output_type": "stream",
     "text": [
      "Epoch 6/10\n",
      "1875/1875 [==============================] - 9s 5ms/step - loss: 0.6637 - root_mean_squared_error: 0.8147 - val_loss: 0.5133 - val_root_mean_squared_error: 0.7165\n",
      "Epoch 7/10\n",
      "1875/1875 [==============================] - 8s 4ms/step - loss: 0.6562 - root_mean_squared_error: 0.8101 - val_loss: 0.4968 - val_root_mean_squared_error: 0.7048\n"
     ]
    },
    {
     "name": "stderr",
     "output_type": "stream",
     "text": [
      "WARNING:absl:Found untraced functions such as lstm_cell_layer_call_and_return_conditional_losses, lstm_cell_layer_call_fn, lstm_cell_layer_call_fn, lstm_cell_layer_call_and_return_conditional_losses, lstm_cell_layer_call_and_return_conditional_losses while saving (showing 5 of 5). These functions will not be directly callable after loading.\n"
     ]
    },
    {
     "name": "stdout",
     "output_type": "stream",
     "text": [
      "INFO:tensorflow:Assets written to: model1/assets\n"
     ]
    },
    {
     "name": "stderr",
     "output_type": "stream",
     "text": [
      "INFO:tensorflow:Assets written to: model1/assets\n"
     ]
    },
    {
     "name": "stdout",
     "output_type": "stream",
     "text": [
      "Epoch 8/10\n",
      "1875/1875 [==============================] - 9s 5ms/step - loss: 0.6509 - root_mean_squared_error: 0.8068 - val_loss: 0.4910 - val_root_mean_squared_error: 0.7007\n"
     ]
    },
    {
     "name": "stderr",
     "output_type": "stream",
     "text": [
      "WARNING:absl:Found untraced functions such as lstm_cell_layer_call_and_return_conditional_losses, lstm_cell_layer_call_fn, lstm_cell_layer_call_fn, lstm_cell_layer_call_and_return_conditional_losses, lstm_cell_layer_call_and_return_conditional_losses while saving (showing 5 of 5). These functions will not be directly callable after loading.\n"
     ]
    },
    {
     "name": "stdout",
     "output_type": "stream",
     "text": [
      "INFO:tensorflow:Assets written to: model1/assets\n"
     ]
    },
    {
     "name": "stderr",
     "output_type": "stream",
     "text": [
      "INFO:tensorflow:Assets written to: model1/assets\n"
     ]
    },
    {
     "name": "stdout",
     "output_type": "stream",
     "text": [
      "Epoch 9/10\n",
      "1875/1875 [==============================] - 8s 4ms/step - loss: 0.6467 - root_mean_squared_error: 0.8042 - val_loss: 0.4935 - val_root_mean_squared_error: 0.7025\n",
      "Epoch 10/10\n",
      "1875/1875 [==============================] - 9s 5ms/step - loss: 0.6449 - root_mean_squared_error: 0.8030 - val_loss: 0.4877 - val_root_mean_squared_error: 0.6984\n"
     ]
    },
    {
     "name": "stderr",
     "output_type": "stream",
     "text": [
      "WARNING:absl:Found untraced functions such as lstm_cell_layer_call_and_return_conditional_losses, lstm_cell_layer_call_fn, lstm_cell_layer_call_fn, lstm_cell_layer_call_and_return_conditional_losses, lstm_cell_layer_call_and_return_conditional_losses while saving (showing 5 of 5). These functions will not be directly callable after loading.\n"
     ]
    },
    {
     "name": "stdout",
     "output_type": "stream",
     "text": [
      "INFO:tensorflow:Assets written to: model1/assets\n"
     ]
    },
    {
     "name": "stderr",
     "output_type": "stream",
     "text": [
      "INFO:tensorflow:Assets written to: model1/assets\n"
     ]
    },
    {
     "data": {
      "text/plain": [
       "<keras.callbacks.History at 0x7ff179fcda50>"
      ]
     },
     "metadata": {},
     "output_type": "display_data"
    }
   ],
   "source": [
    "model1.fit(X_train1, y_train1, validation_data=(X_val1, y_val1), epochs=10, callbacks=[cp1])"
   ]
  },
  {
   "cell_type": "code",
   "execution_count": null,
   "metadata": {},
   "outputs": [],
   "source": [
    "from tensorflow.keras.models import load_model\n",
    "model1 = load_model('model1/')"
   ]
  },
  {
   "cell_type": "code",
   "execution_count": null,
   "metadata": {},
   "outputs": [
    {
     "data": {
      "text/html": [
       "<div>\n",
       "<style scoped>\n",
       "    .dataframe tbody tr th:only-of-type {\n",
       "        vertical-align: middle;\n",
       "    }\n",
       "\n",
       "    .dataframe tbody tr th {\n",
       "        vertical-align: top;\n",
       "    }\n",
       "\n",
       "    .dataframe thead th {\n",
       "        text-align: right;\n",
       "    }\n",
       "</style>\n",
       "<table border=\"1\" class=\"dataframe\">\n",
       "  <thead>\n",
       "    <tr style=\"text-align: right;\">\n",
       "      <th></th>\n",
       "      <th>Train Predictions</th>\n",
       "      <th>Actuals</th>\n",
       "    </tr>\n",
       "  </thead>\n",
       "  <tbody>\n",
       "    <tr>\n",
       "      <th>0</th>\n",
       "      <td>-10.079412</td>\n",
       "      <td>-9.67</td>\n",
       "    </tr>\n",
       "    <tr>\n",
       "      <th>1</th>\n",
       "      <td>-9.840733</td>\n",
       "      <td>-9.17</td>\n",
       "    </tr>\n",
       "    <tr>\n",
       "      <th>2</th>\n",
       "      <td>-8.959436</td>\n",
       "      <td>-8.10</td>\n",
       "    </tr>\n",
       "    <tr>\n",
       "      <th>3</th>\n",
       "      <td>-7.493385</td>\n",
       "      <td>-7.66</td>\n",
       "    </tr>\n",
       "    <tr>\n",
       "      <th>4</th>\n",
       "      <td>-7.400350</td>\n",
       "      <td>-7.04</td>\n",
       "    </tr>\n",
       "    <tr>\n",
       "      <th>...</th>\n",
       "      <td>...</td>\n",
       "      <td>...</td>\n",
       "    </tr>\n",
       "    <tr>\n",
       "      <th>59995</th>\n",
       "      <td>6.040023</td>\n",
       "      <td>6.07</td>\n",
       "    </tr>\n",
       "    <tr>\n",
       "      <th>59996</th>\n",
       "      <td>7.159140</td>\n",
       "      <td>9.88</td>\n",
       "    </tr>\n",
       "    <tr>\n",
       "      <th>59997</th>\n",
       "      <td>12.156048</td>\n",
       "      <td>13.53</td>\n",
       "    </tr>\n",
       "    <tr>\n",
       "      <th>59998</th>\n",
       "      <td>15.758695</td>\n",
       "      <td>15.43</td>\n",
       "    </tr>\n",
       "    <tr>\n",
       "      <th>59999</th>\n",
       "      <td>16.273287</td>\n",
       "      <td>15.54</td>\n",
       "    </tr>\n",
       "  </tbody>\n",
       "</table>\n",
       "<p>60000 rows × 2 columns</p>\n",
       "</div>"
      ],
      "text/plain": [
       "       Train Predictions  Actuals\n",
       "0             -10.079412    -9.67\n",
       "1              -9.840733    -9.17\n",
       "2              -8.959436    -8.10\n",
       "3              -7.493385    -7.66\n",
       "4              -7.400350    -7.04\n",
       "...                  ...      ...\n",
       "59995           6.040023     6.07\n",
       "59996           7.159140     9.88\n",
       "59997          12.156048    13.53\n",
       "59998          15.758695    15.43\n",
       "59999          16.273287    15.54\n",
       "\n",
       "[60000 rows x 2 columns]"
      ]
     },
     "metadata": {},
     "output_type": "display_data"
    }
   ],
   "source": [
    "train_predictions = model1.predict(X_train1).flatten()\n",
    "train_results = pd.DataFrame(data={'Train Predictions':train_predictions, 'Actuals':y_train1})\n",
    "train_results"
   ]
  },
  {
   "cell_type": "code",
   "execution_count": null,
   "metadata": {},
   "outputs": [
    {
     "data": {
      "text/plain": [
       "[<matplotlib.lines.Line2D at 0x7ff177a0f910>]"
      ]
     },
     "metadata": {},
     "output_type": "display_data"
    },
    {
     "data": {
      "image/png": "[encoded data removed]",
      "text/plain": [
       "<Figure size 432x288 with 1 Axes>"
      ]
     },
     "metadata": {},
     "output_type": "display_data"
    }
   ],
   "source": [
    "import matplotlib.pyplot as plt\n",
    "plt.plot(train_results['Train Predictions'][50:100])\n",
    "plt.plot(train_results['Actuals'][50:100])"
   ]
  },
  {
   "cell_type": "code",
   "execution_count": null,
   "metadata": {},
   "outputs": [
    {
     "data": {
      "text/html": [
       "<div>\n",
       "<style scoped>\n",
       "    .dataframe tbody tr th:only-of-type {\n",
       "        vertical-align: middle;\n",
       "    }\n",
       "\n",
       "    .dataframe tbody tr th {\n",
       "        vertical-align: top;\n",
       "    }\n",
       "\n",
       "    .dataframe thead th {\n",
       "        text-align: right;\n",
       "    }\n",
       "</style>\n",
       "<table border=\"1\" class=\"dataframe\">\n",
       "  <thead>\n",
       "    <tr style=\"text-align: right;\">\n",
       "      <th></th>\n",
       "      <th>Val Predictions</th>\n",
       "      <th>Actuals</th>\n",
       "    </tr>\n",
       "  </thead>\n",
       "  <tbody>\n",
       "    <tr>\n",
       "      <th>0</th>\n",
       "      <td>15.410512</td>\n",
       "      <td>14.02</td>\n",
       "    </tr>\n",
       "    <tr>\n",
       "      <th>1</th>\n",
       "      <td>13.227476</td>\n",
       "      <td>13.67</td>\n",
       "    </tr>\n",
       "    <tr>\n",
       "      <th>2</th>\n",
       "      <td>13.021247</td>\n",
       "      <td>12.27</td>\n",
       "    </tr>\n",
       "    <tr>\n",
       "      <th>3</th>\n",
       "      <td>11.453429</td>\n",
       "      <td>11.19</td>\n",
       "    </tr>\n",
       "    <tr>\n",
       "      <th>4</th>\n",
       "      <td>10.364747</td>\n",
       "      <td>10.85</td>\n",
       "    </tr>\n",
       "    <tr>\n",
       "      <th>...</th>\n",
       "      <td>...</td>\n",
       "      <td>...</td>\n",
       "    </tr>\n",
       "    <tr>\n",
       "      <th>4995</th>\n",
       "      <td>17.421888</td>\n",
       "      <td>18.27</td>\n",
       "    </tr>\n",
       "    <tr>\n",
       "      <th>4996</th>\n",
       "      <td>17.372950</td>\n",
       "      <td>17.85</td>\n",
       "    </tr>\n",
       "    <tr>\n",
       "      <th>4997</th>\n",
       "      <td>17.177311</td>\n",
       "      <td>16.65</td>\n",
       "    </tr>\n",
       "    <tr>\n",
       "      <th>4998</th>\n",
       "      <td>15.872609</td>\n",
       "      <td>15.85</td>\n",
       "    </tr>\n",
       "    <tr>\n",
       "      <th>4999</th>\n",
       "      <td>15.064206</td>\n",
       "      <td>15.09</td>\n",
       "    </tr>\n",
       "  </tbody>\n",
       "</table>\n",
       "<p>5000 rows × 2 columns</p>\n",
       "</div>"
      ],
      "text/plain": [
       "      Val Predictions  Actuals\n",
       "0           15.410512    14.02\n",
       "1           13.227476    13.67\n",
       "2           13.021247    12.27\n",
       "3           11.453429    11.19\n",
       "4           10.364747    10.85\n",
       "...               ...      ...\n",
       "4995        17.421888    18.27\n",
       "4996        17.372950    17.85\n",
       "4997        17.177311    16.65\n",
       "4998        15.872609    15.85\n",
       "4999        15.064206    15.09\n",
       "\n",
       "[5000 rows x 2 columns]"
      ]
     },
     "metadata": {},
     "output_type": "display_data"
    }
   ],
   "source": [
    "val_predictions = model1.predict(X_val1).flatten()\n",
    "val_results = pd.DataFrame(data={'Val Predictions':val_predictions, 'Actuals':y_val1})\n",
    "val_results"
   ]
  },
  {
   "cell_type": "code",
   "execution_count": null,
   "metadata": {},
   "outputs": [
    {
     "data": {
      "text/plain": [
       "[<matplotlib.lines.Line2D at 0x7ff177eff6d0>]"
      ]
     },
     "metadata": {},
     "output_type": "display_data"
    },
    {
     "data": {
      "image/png": "[encoded data removed]",
      "text/plain": [
       "<Figure size 432x288 with 1 Axes>"
      ]
     },
     "metadata": {},
     "output_type": "display_data"
    }
   ],
   "source": [
    "plt.plot(val_results['Val Predictions'][:100])\n",
    "plt.plot(val_results['Actuals'][:100])"
   ]
  },
  {
   "cell_type": "code",
   "execution_count": null,
   "metadata": {},
   "outputs": [
    {
     "data": {
      "text/html": [
       "<div>\n",
       "<style scoped>\n",
       "    .dataframe tbody tr th:only-of-type {\n",
       "        vertical-align: middle;\n",
       "    }\n",
       "\n",
       "    .dataframe tbody tr th {\n",
       "        vertical-align: top;\n",
       "    }\n",
       "\n",
       "    .dataframe thead th {\n",
       "        text-align: right;\n",
       "    }\n",
       "</style>\n",
       "<table border=\"1\" class=\"dataframe\">\n",
       "  <thead>\n",
       "    <tr style=\"text-align: right;\">\n",
       "      <th></th>\n",
       "      <th>Test Predictions</th>\n",
       "      <th>Actuals</th>\n",
       "    </tr>\n",
       "  </thead>\n",
       "  <tbody>\n",
       "    <tr>\n",
       "      <th>0</th>\n",
       "      <td>14.376885</td>\n",
       "      <td>13.99</td>\n",
       "    </tr>\n",
       "    <tr>\n",
       "      <th>1</th>\n",
       "      <td>13.217015</td>\n",
       "      <td>13.46</td>\n",
       "    </tr>\n",
       "    <tr>\n",
       "      <th>2</th>\n",
       "      <td>12.846068</td>\n",
       "      <td>12.93</td>\n",
       "    </tr>\n",
       "    <tr>\n",
       "      <th>3</th>\n",
       "      <td>12.453094</td>\n",
       "      <td>12.43</td>\n",
       "    </tr>\n",
       "    <tr>\n",
       "      <th>4</th>\n",
       "      <td>12.011730</td>\n",
       "      <td>12.17</td>\n",
       "    </tr>\n",
       "    <tr>\n",
       "      <th>...</th>\n",
       "      <td>...</td>\n",
       "      <td>...</td>\n",
       "    </tr>\n",
       "    <tr>\n",
       "      <th>5081</th>\n",
       "      <td>-1.111033</td>\n",
       "      <td>-0.98</td>\n",
       "    </tr>\n",
       "    <tr>\n",
       "      <th>5082</th>\n",
       "      <td>-1.488785</td>\n",
       "      <td>-1.40</td>\n",
       "    </tr>\n",
       "    <tr>\n",
       "      <th>5083</th>\n",
       "      <td>-1.536503</td>\n",
       "      <td>-2.75</td>\n",
       "    </tr>\n",
       "    <tr>\n",
       "      <th>5084</th>\n",
       "      <td>-3.049625</td>\n",
       "      <td>-2.89</td>\n",
       "    </tr>\n",
       "    <tr>\n",
       "      <th>5085</th>\n",
       "      <td>-3.074169</td>\n",
       "      <td>-3.93</td>\n",
       "    </tr>\n",
       "  </tbody>\n",
       "</table>\n",
       "<p>5086 rows × 2 columns</p>\n",
       "</div>"
      ],
      "text/plain": [
       "      Test Predictions  Actuals\n",
       "0            14.376885    13.99\n",
       "1            13.217015    13.46\n",
       "2            12.846068    12.93\n",
       "3            12.453094    12.43\n",
       "4            12.011730    12.17\n",
       "...                ...      ...\n",
       "5081         -1.111033    -0.98\n",
       "5082         -1.488785    -1.40\n",
       "5083         -1.536503    -2.75\n",
       "5084         -3.049625    -2.89\n",
       "5085         -3.074169    -3.93\n",
       "\n",
       "[5086 rows x 2 columns]"
      ]
     },
     "metadata": {},
     "output_type": "display_data"
    }
   ],
   "source": [
    "test_predictions = model1.predict(X_test1).flatten()\n",
    "test_results = pd.DataFrame(data={'Test Predictions':test_predictions, 'Actuals':y_test1})\n",
    "test_results"
   ]
  },
  {
   "cell_type": "code",
   "execution_count": null,
   "metadata": {},
   "outputs": [
    {
     "data": {
      "text/plain": [
       "[<matplotlib.lines.Line2D at 0x7ff172e8d310>]"
      ]
     },
     "metadata": {},
     "output_type": "display_data"
    },
    {
     "data": {
      "image/png": "[encoded data removed]",
      "text/plain": [
       "<Figure size 432x288 with 1 Axes>"
      ]
     },
     "metadata": {},
     "output_type": "display_data"
    }
   ],
   "source": [
    "plt.plot(test_results['Test Predictions'][:100])\n",
    "plt.plot(test_results['Actuals'][:100])"
   ]
  }
 ],
 "metadata": {
  "kernelspec": {
   "display_name": "base",
   "language": "python",
   "name": "python3"
  },
  "language_info": {
   "codemirror_mode": {
    "name": "ipython",
    "version": 3
   },
   "file_extension": ".py",
   "mimetype": "text/x-python",
   "name": "python",
   "nbconvert_exporter": "python",
   "pygments_lexer": "ipython3",
   "version": "3.9.12"
  },
  "orig_nbformat": 4,
  "vscode": {
   "interpreter": {
    "hash": "337856ca320c77dabe128f9b92c03251c8ba85b6c075b83022e7d94cb82c8777"
   }
  }
 },
 "nbformat": 4,
 "nbformat_minor": 2
}
